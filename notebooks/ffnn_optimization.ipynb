{
 "cells": [
  {
   "cell_type": "code",
   "execution_count": 60,
   "metadata": {},
   "outputs": [
    {
     "name": "stdout",
     "output_type": "stream",
     "text": [
      "Train DF shape: (514, 4097)\n"
     ]
    }
   ],
   "source": [
    "import pandas as pd\n",
    "\n",
    "train_df = pd.read_csv('../data/train_fp.csv', index_col='Unnamed: 0')\n",
    "print(\"Train DF shape: {}\".format(train_df.shape))\n"
   ]
  },
  {
   "cell_type": "markdown",
   "metadata": {},
   "source": [
    "### Test FFNN"
   ]
  },
  {
   "cell_type": "code",
   "execution_count": 61,
   "metadata": {},
   "outputs": [],
   "source": [
    "import torch\n",
    "import torch.nn as nn\n",
    "from torch.utils.data import Dataset, DataLoader\n",
    "import numpy as np\n",
    "from sklearn.model_selection import train_test_split\n",
    "from sklearn.metrics import root_mean_squared_error\n",
    "import random\n"
   ]
  },
  {
   "cell_type": "code",
   "execution_count": 62,
   "metadata": {},
   "outputs": [],
   "source": [
    "X_train, X_test, y_train, y_test = train_test_split(train_df.iloc[:,:-1],\n",
    "                                                    train_df.label.values,\n",
    "                                                    test_size=0.2)\n"
   ]
  },
  {
   "cell_type": "code",
   "execution_count": 63,
   "metadata": {},
   "outputs": [],
   "source": [
    "# Create dataset class\n",
    "class BinaryMoleculeDataset(Dataset):\n",
    "    \n",
    "    def __init__(self, X, y):\n",
    "        self.X = torch.FloatTensor(X.astype(bool).astype(float))\n",
    "        self.y = torch.FloatTensor(y).reshape(-1, 1)\n",
    "\n",
    "    def __len__(self):\n",
    "        return len(self.X)\n",
    "    \n",
    "    def __getitem__(self, index):\n",
    "        return self.X[index], self.y[index]\n"
   ]
  },
  {
   "cell_type": "code",
   "execution_count": 64,
   "metadata": {},
   "outputs": [],
   "source": [
    "\n",
    "# Create FFNN for binary input\n",
    "class BinaryFFNN(nn.Module):\n",
    "\n",
    "    def __init__(self,\n",
    "                 input_size,\n",
    "                 hidden_sizes=[2048, 1024, 512, 256],\n",
    "                 dropout_rate=0.2):\n",
    "        super(BinaryFFNN, self).__init__()\n",
    "\n",
    "        layers = []\n",
    "\n",
    "        # Input layer\n",
    "        layers.append(nn.Linear(input_size, hidden_sizes[0]))\n",
    "        layers.append(nn.ReLU())\n",
    "        layers.append(nn.BatchNorm1d(hidden_sizes[0]))\n",
    "        layers.append(nn.Dropout(dropout_rate))\n",
    "\n",
    "        # Hidden layers\n",
    "        for i in range(len(hidden_sizes)-1):\n",
    "            layers.append(nn.Linear(hidden_sizes[i], hidden_sizes[i+1]))\n",
    "            layers.append(nn.ReLU())\n",
    "            layers.append(nn.BatchNorm1d(hidden_sizes[i+1]))\n",
    "            layers.append(nn.Dropout(dropout_rate))\n",
    "        \n",
    "        # Output layer\n",
    "        layers.append(nn.Linear(hidden_sizes[-1], 1))\n",
    "\n",
    "        self.network = nn.Sequential(*layers)\n",
    "\n",
    "    def forward(self, x):\n",
    "        return self.network(x)\n"
   ]
  },
  {
   "cell_type": "code",
   "execution_count": 65,
   "metadata": {},
   "outputs": [],
   "source": [
    "# Create training function with early stopping and learning rate\n",
    "\n",
    "def train_binary_model(model,\n",
    "                       train_loader,\n",
    "                       val_loader,\n",
    "                       criterion,\n",
    "                       optimizer,\n",
    "                       num_epochs=100,\n",
    "                       patience=20,\n",
    "                       device='cuda'):\n",
    "    \n",
    "    model = model.to(device)\n",
    "    best_val_loss = float('inf')\n",
    "    patience_counter = 0\n",
    "    train_losses = []\n",
    "    val_losses = []\n",
    "\n",
    "    # Add learning rate scheduler\n",
    "    scheduler = torch.optim.lr_scheduler.ReduceLROnPlateau(\n",
    "        optimizer,\n",
    "        mode='min',\n",
    "        factor=0.5,\n",
    "        patience=5\n",
    "    )\n",
    "\n",
    "    for epoch in range(num_epochs):\n",
    "        # Training phase\n",
    "        model.train()\n",
    "        train_loss = 0\n",
    "        \n",
    "        for X_batch, y_batch in train_loader:\n",
    "            \n",
    "            X_batch, y_batch= X_batch.to(device), y_batch.to(device)\n",
    "\n",
    "            optimizer.zero_grad()\n",
    "            ouputs = model(X_batch)\n",
    "            loss = criterion(ouputs, y_batch)\n",
    "            loss.backward()\n",
    "\n",
    "            # Gradient clipping\n",
    "            torch.nn.utils.clip_grad_norm_(model.parameters(),\n",
    "                                          max_norm=1)\n",
    "            \n",
    "            optimizer.step()\n",
    "            train_loss += loss.item()\n",
    "\n",
    "        train_loss /= len(train_loader)\n",
    "        train_losses.append(train_loss)\n",
    "            \n",
    "        # Validation phase\n",
    "        model.eval()\n",
    "        val_loss= 0\n",
    "        with torch.no_grad():\n",
    "            for X_batch, y_batch in val_loader:\n",
    "                X_batch, y_batch = X_batch.to(device), y_batch.to(device)\n",
    "                outputs = model(X_batch)\n",
    "                loss = criterion(outputs, y_batch)\n",
    "                val_loss += loss.item()\n",
    "\n",
    "        val_loss /= len(val_loader)\n",
    "        val_losses.append(val_loss)\n",
    "\n",
    "        # Learning rate scheduling\n",
    "        scheduler.step(val_loss)\n",
    "\n",
    "        # Early stopping\n",
    "        if val_loss < best_val_loss:\n",
    "            best_val_loss = val_loss\n",
    "            patience_counter = 0\n",
    "            # torch.save(model.state_dict(),\n",
    "            #            'best_binary_model.pt')\n",
    "        else:\n",
    "            patience_counter += 1\n",
    "        \n",
    "        if patience_counter >= patience:\n",
    "        #     print(f'Early stopping at epoch {epoch}')\n",
    "            break\n",
    "\n",
    "        # if epoch % 10 == 0:\n",
    "        #     print(f'Epoch {epoch}: Train Loss = {train_loss:.4f}, Val loss = {val_loss:.4f}')\n",
    "\n",
    "    return train_losses, val_losses"
   ]
  },
  {
   "cell_type": "code",
   "execution_count": 66,
   "metadata": {},
   "outputs": [],
   "source": [
    "def main(X,\n",
    "         y,\n",
    "         hidden_sizes=[2048, 1024, 512],\n",
    "         dropout_rate=0.2,\n",
    "         patience=20,\n",
    "         lr=0.001,\n",
    "         test_size=0.2,\n",
    "         batch_size=32):\n",
    "    \n",
    "    X = X.astype(bool).astype(float)\n",
    "    \n",
    "    X_train, X_test, y_train, y_test = train_test_split(X, y, test_size=test_size)\n",
    "\n",
    "    # Create dataloaders\n",
    "    train_dataset = BinaryMoleculeDataset(X_train, y_train)\n",
    "    test_dataset = BinaryMoleculeDataset(X_test, y_test)\n",
    "\n",
    "    train_loader = DataLoader(train_dataset,\n",
    "                              batch_size=batch_size,\n",
    "                              shuffle=True)\n",
    "    test_loader = DataLoader(test_dataset,\n",
    "                             batch_size=batch_size)\n",
    "    \n",
    "    # Initialize model\n",
    "    input_size = X_train.shape[1]\n",
    "    model = BinaryFFNN(input_size,\n",
    "                       hidden_sizes,\n",
    "                       dropout_rate)\n",
    "\n",
    "    # Initialize loss function and optimizer\n",
    "    criterion = nn.MSELoss()\n",
    "    optimizer = torch.optim.Adam(model.parameters(),\n",
    "                                 lr=lr,\n",
    "                                 weight_decay=1e-5)\n",
    "    \n",
    "    # Train model\n",
    "    device = torch.device('cuda' if torch.cuda.is_available() else 'cpu')\n",
    "    train_losses, val_losses = train_binary_model(model,\n",
    "                                                  train_loader,\n",
    "                                                  test_loader,\n",
    "                                                  criterion,\n",
    "                                                  optimizer,\n",
    "                                                  patience=patience,\n",
    "                                                  device=device)\n",
    "    return model, train_losses, val_losses"
   ]
  },
  {
   "cell_type": "code",
   "execution_count": 67,
   "metadata": {},
   "outputs": [],
   "source": [
    "def evaluate_model(model,\n",
    "                   X_test,\n",
    "                   y_test,\n",
    "                   batch_size=32,\n",
    "                   device='cuda',\n",
    "                   print=False):\n",
    "    # Evaluate model and print metrics\n",
    "    model.eval()\n",
    "    test_dataset = BinaryMoleculeDataset(X_test, y_test)\n",
    "    test_loader = DataLoader(test_dataset, batch_size=batch_size)\n",
    "\n",
    "    predictions = []\n",
    "    actuals = []\n",
    "\n",
    "    with torch.no_grad():\n",
    "        for X_batch, y_batch in test_loader:\n",
    "            X_batch = X_batch.to(device)\n",
    "            outputs = model(X_batch)\n",
    "            predictions.extend(outputs.cpu().numpy())\n",
    "            actuals.extend(y_batch.numpy())\n",
    "\n",
    "    predictions = np.array(predictions)\n",
    "    actuals = np.array(actuals)\n",
    "\n",
    "    mse = np.mean((predictions - actuals) ** 2)\n",
    "    rmse = root_mean_squared_error(actuals, predictions)\n",
    "    mae = np.mean(np.abs(predictions - actuals))\n",
    "    r2 = 1 - np.sum((actuals - predictions) ** 2) / np.sum((actuals- np.mean(actuals)) ** 2)\n",
    "\n",
    "    if print:\n",
    "        print(\"Test results:\")\n",
    "        print(f\"MSE: {mse:.3f}\")\n",
    "        print(f\"R²: {r2:.3f}\")\n",
    "\n",
    "    return rmse"
   ]
  },
  {
   "cell_type": "code",
   "execution_count": 68,
   "metadata": {},
   "outputs": [],
   "source": [
    "#Set seeds\n",
    "def set_seeds(seed=42):\n",
    "    \"\"\"Set all random seeds for reproducibility\"\"\"\n",
    "    np.random.seed(seed)\n",
    "    torch.manual_seed(seed)\n",
    "    random.seed(seed)\n",
    "    if torch.cuda.is_available():\n",
    "        torch.cuda.manual_seed(seed)\n",
    "        torch.cuda.manual_seed_all(seed)  # for multi-GPU\n",
    "        torch.backends.cudnn.deterministic = True\n",
    "        torch.backends.cudnn.benchmark = False\n",
    "\n",
    "# Create train_eval function for hyperparameter optimization\n",
    "def train_evaluate(parametrization):\n",
    "    set_seeds()\n",
    "    fnn_model, _, _ = main(X_train.to_numpy(),\n",
    "                           y_train,\n",
    "                           **parametrization)\n",
    "    return evaluate_model(fnn_model, X_test.to_numpy(), y_test)"
   ]
  },
  {
   "cell_type": "code",
   "execution_count": 69,
   "metadata": {},
   "outputs": [],
   "source": [
    "from ax.service.ax_client import AxClient, ObjectiveProperties\n",
    "from ax.service.utils.report_utils import exp_to_df\n",
    "from ax.utils.notebook.plotting import init_notebook_plotting, render"
   ]
  },
  {
   "cell_type": "code",
   "execution_count": 70,
   "metadata": {},
   "outputs": [
    {
     "name": "stderr",
     "output_type": "stream",
     "text": [
      "[INFO 11-01 18:22:36] ax.service.ax_client: Starting optimization with verbose logging. To disable logging, set the `verbose_logging` argument to `False`. Note that float values in the logs are rounded to 6 decimal points.\n"
     ]
    }
   ],
   "source": [
    "ax_client = AxClient()"
   ]
  },
  {
   "cell_type": "code",
   "execution_count": 71,
   "metadata": {},
   "outputs": [
    {
     "name": "stderr",
     "output_type": "stream",
     "text": [
      "[INFO 11-01 18:22:36] ax.service.utils.instantiation: Created search space: SearchSpace(parameters=[RangeParameter(name='lr', parameter_type=FLOAT, range=[1e-05, 1.0], log_scale=True), RangeParameter(name='patience', parameter_type=INT, range=[5, 20]), RangeParameter(name='dropout_rate', parameter_type=FLOAT, range=[0.01, 0.5])], parameter_constraints=[]).\n",
      "[INFO 11-01 18:22:36] ax.modelbridge.dispatch_utils: Using Models.BOTORCH_MODULAR since there is at least one ordered parameter and there are no unordered categorical parameters.\n",
      "[INFO 11-01 18:22:36] ax.modelbridge.dispatch_utils: Calculating the number of remaining initialization trials based on num_initialization_trials=None max_initialization_trials=None num_tunable_parameters=3 num_trials=None use_batch_trials=False\n",
      "[INFO 11-01 18:22:36] ax.modelbridge.dispatch_utils: calculated num_initialization_trials=6\n",
      "[INFO 11-01 18:22:36] ax.modelbridge.dispatch_utils: num_completed_initialization_trials=0 num_remaining_initialization_trials=6\n",
      "[INFO 11-01 18:22:36] ax.modelbridge.dispatch_utils: `verbose`, `disable_progbar`, and `jit_compile` are not yet supported when using `choose_generation_strategy` with ModularBoTorchModel, dropping these arguments.\n",
      "[INFO 11-01 18:22:36] ax.modelbridge.dispatch_utils: Using Bayesian Optimization generation strategy: GenerationStrategy(name='Sobol+BoTorch', steps=[Sobol for 6 trials, BoTorch for subsequent trials]). Iterations after 6 will take longer to generate due to model-fitting.\n"
     ]
    }
   ],
   "source": [
    "# hidden_sizes=[2048, 1024, 512],\n",
    "# dropout_rate=0.2,\n",
    "# patience = 20\n",
    "# lr = 0.001\n",
    "\n",
    "# Create an experiment with required arguments: name, parameters, and objective_name.\n",
    "ax_client.create_experiment(\n",
    "    name=\"ffnn_hyperparameter_search\",  # The name of the experiment.\n",
    "    parameters=[\n",
    "        {\n",
    "            \"name\": \"lr\",  # The name of the parameter.\n",
    "            \"type\": \"range\",  # The type of the parameter (\"range\", \"choice\" or \"fixed\").\n",
    "            \"bounds\": [1e-5, 1],  # The bounds for range parameters. \n",
    "            # \"values\" The possible values for choice parameters .\n",
    "            # \"value\" The fixed value for fixed parameters.\n",
    "            \"value_type\": \"float\",  # Optional, the value type (\"int\", \"float\", \"bool\" or \"str\"). Defaults to inference from type of \"bounds\".\n",
    "            \"log_scale\": True,  # Optional, whether to use a log scale for range parameters. Defaults to False.\n",
    "            # \"is_ordered\" Optional, a flag for choice parameters.\n",
    "        },\n",
    "        {\n",
    "            \"name\": \"patience\",  \n",
    "            \"type\": \"range\",  \n",
    "            \"bounds\": [5, 20],\n",
    "            \"value_type\": \"int\" \n",
    "        },\n",
    "        {\n",
    "            \"name\": \"dropout_rate\",\n",
    "            \"type\": \"range\",\n",
    "            \"bounds\": [1e-2, 0.5],\n",
    "            \"value_type\": \"float\",\n",
    "        },\n",
    "    ],\n",
    "    objectives={\"rmse\": ObjectiveProperties(minimize=True)},  # The objective name and minimization setting.\n",
    "    # parameter_constraints: Optional, a list of strings of form \"p1 >= p2\" or \"p1 + p2 <= some_bound\".\n",
    "    # outcome_constraints: Optional, a list of strings of form \"constrained_metric <= some_bound\".\n",
    "    overwrite_existing_experiment=True,\n",
    ")"
   ]
  },
  {
   "cell_type": "code",
   "execution_count": 72,
   "metadata": {},
   "outputs": [
    {
     "name": "stderr",
     "output_type": "stream",
     "text": [
      "[INFO 11-01 18:22:36] ax.core.experiment: Attached custom parameterizations [{'lr': 0.01, 'patience': 10, 'dropout_rate': 0.2}] as trial 0.\n"
     ]
    },
    {
     "data": {
      "text/plain": [
       "({'lr': 0.01, 'patience': 10, 'dropout_rate': 0.2}, 0)"
      ]
     },
     "execution_count": 72,
     "metadata": {},
     "output_type": "execute_result"
    }
   ],
   "source": [
    "ax_client.attach_trial(\n",
    "    parameters={\"lr\":0.01,\n",
    "                \"patience\": 10,\n",
    "                \"dropout_rate\": 0.2,\n",
    "    }\n",
    ")"
   ]
  },
  {
   "cell_type": "code",
   "execution_count": 73,
   "metadata": {},
   "outputs": [
    {
     "name": "stderr",
     "output_type": "stream",
     "text": [
      "[INFO 11-01 18:22:38] ax.service.ax_client: Completed trial 0 with data: {'rmse': (1.994148, None)}.\n"
     ]
    }
   ],
   "source": [
    "baseline_parameters = ax_client.get_trial_parameters(trial_index=0)\n",
    "ax_client.complete_trial(trial_index=0, raw_data=train_evaluate(baseline_parameters))"
   ]
  },
  {
   "cell_type": "code",
   "execution_count": 74,
   "metadata": {},
   "outputs": [
    {
     "name": "stderr",
     "output_type": "stream",
     "text": [
      "/home/papafrita/projects/solvation_free_energy/.venv/lib/python3.11/site-packages/ax/modelbridge/cross_validation.py:463: UserWarning:\n",
      "\n",
      "Encountered exception in computing model fit quality: RandomModelBridge does not support prediction.\n",
      "\n",
      "[INFO 11-01 18:22:38] ax.service.ax_client: Generated new trial 1 with parameters {'lr': 0.125509, 'patience': 17, 'dropout_rate': 0.294307} using model Sobol.\n"
     ]
    },
    {
     "name": "stderr",
     "output_type": "stream",
     "text": [
      "[INFO 11-01 18:22:41] ax.service.ax_client: Completed trial 1 with data: {'rmse': (2.192219, None)}.\n",
      "/home/papafrita/projects/solvation_free_energy/.venv/lib/python3.11/site-packages/ax/modelbridge/cross_validation.py:463: UserWarning:\n",
      "\n",
      "Encountered exception in computing model fit quality: RandomModelBridge does not support prediction.\n",
      "\n",
      "[INFO 11-01 18:22:41] ax.service.ax_client: Generated new trial 2 with parameters {'lr': 0.002835, 'patience': 6, 'dropout_rate': 0.023438} using model Sobol.\n",
      "[INFO 11-01 18:22:43] ax.service.ax_client: Completed trial 2 with data: {'rmse': (2.269725, None)}.\n",
      "/home/papafrita/projects/solvation_free_energy/.venv/lib/python3.11/site-packages/ax/modelbridge/cross_validation.py:463: UserWarning:\n",
      "\n",
      "Encountered exception in computing model fit quality: RandomModelBridge does not support prediction.\n",
      "\n",
      "[INFO 11-01 18:22:43] ax.service.ax_client: Generated new trial 3 with parameters {'lr': 1.8e-05, 'patience': 16, 'dropout_rate': 0.469583} using model Sobol.\n",
      "[INFO 11-01 18:22:46] ax.service.ax_client: Completed trial 3 with data: {'rmse': (4.541746, None)}.\n",
      "/home/papafrita/projects/solvation_free_energy/.venv/lib/python3.11/site-packages/ax/modelbridge/cross_validation.py:463: UserWarning:\n",
      "\n",
      "Encountered exception in computing model fit quality: RandomModelBridge does not support prediction.\n",
      "\n",
      "[INFO 11-01 18:22:46] ax.service.ax_client: Generated new trial 4 with parameters {'lr': 0.01401, 'patience': 11, 'dropout_rate': 0.200625} using model Sobol.\n",
      "[INFO 11-01 18:22:50] ax.service.ax_client: Completed trial 4 with data: {'rmse': (1.996731, None)}.\n",
      "/home/papafrita/projects/solvation_free_energy/.venv/lib/python3.11/site-packages/ax/modelbridge/cross_validation.py:463: UserWarning:\n",
      "\n",
      "Encountered exception in computing model fit quality: RandomModelBridge does not support prediction.\n",
      "\n",
      "[INFO 11-01 18:22:50] ax.service.ax_client: Generated new trial 5 with parameters {'lr': 0.004602, 'patience': 14, 'dropout_rate': 0.119491} using model Sobol.\n",
      "[INFO 11-01 18:22:55] ax.service.ax_client: Completed trial 5 with data: {'rmse': (2.022304, None)}.\n",
      "/home/papafrita/projects/solvation_free_energy/.venv/lib/python3.11/site-packages/ax/modelbridge/cross_validation.py:463: UserWarning:\n",
      "\n",
      "Encountered exception in computing model fit quality: RandomModelBridge does not support prediction.\n",
      "\n",
      "[INFO 11-01 18:22:55] ax.service.ax_client: Generated new trial 6 with parameters {'lr': 5.1e-05, 'patience': 9, 'dropout_rate': 0.33677} using model Sobol.\n",
      "[INFO 11-01 18:22:56] ax.service.ax_client: Completed trial 6 with data: {'rmse': (4.273731, None)}.\n",
      "[INFO 11-01 18:22:57] ax.service.ax_client: Generated new trial 7 with parameters {'lr': 0.017091, 'patience': 20, 'dropout_rate': 0.01} using model BoTorch.\n",
      "[INFO 11-01 18:23:01] ax.service.ax_client: Completed trial 7 with data: {'rmse': (2.15148, None)}.\n",
      "[INFO 11-01 18:23:02] ax.service.ax_client: Generated new trial 8 with parameters {'lr': 0.012174, 'patience': 20, 'dropout_rate': 0.5} using model BoTorch.\n",
      "[INFO 11-01 18:23:07] ax.service.ax_client: Completed trial 8 with data: {'rmse': (2.085775, None)}.\n",
      "[INFO 11-01 18:23:08] ax.service.ax_client: Generated new trial 9 with parameters {'lr': 0.007774, 'patience': 15, 'dropout_rate': 0.293744} using model BoTorch.\n",
      "[INFO 11-01 18:23:10] ax.service.ax_client: Completed trial 9 with data: {'rmse': (2.260286, None)}.\n",
      "[INFO 11-01 18:23:11] ax.service.ax_client: Generated new trial 10 with parameters {'lr': 0.105075, 'patience': 10, 'dropout_rate': 0.147632} using model BoTorch.\n",
      "[INFO 11-01 18:23:15] ax.service.ax_client: Completed trial 10 with data: {'rmse': (1.868468, None)}.\n",
      "[INFO 11-01 18:23:15] ax.service.ax_client: Generated new trial 11 with parameters {'lr': 1.0, 'patience': 20, 'dropout_rate': 0.110907} using model BoTorch.\n",
      "[INFO 11-01 18:23:20] ax.service.ax_client: Completed trial 11 with data: {'rmse': (1.794639, None)}.\n",
      "[INFO 11-01 18:23:21] ax.service.ax_client: Generated new trial 12 with parameters {'lr': 1.0, 'patience': 5, 'dropout_rate': 0.089878} using model BoTorch.\n",
      "[INFO 11-01 18:23:22] ax.service.ax_client: Completed trial 12 with data: {'rmse': (1990.269531, None)}.\n",
      "[INFO 11-01 18:23:22] ax.service.ax_client: Generated new trial 13 with parameters {'lr': 0.211331, 'patience': 16, 'dropout_rate': 0.114327} using model BoTorch.\n",
      "[INFO 11-01 18:23:29] ax.service.ax_client: Completed trial 13 with data: {'rmse': (1.97489, None)}.\n",
      "[INFO 11-01 18:23:30] ax.service.ax_client: Generated new trial 14 with parameters {'lr': 0.04827, 'patience': 11, 'dropout_rate': 0.029168} using model BoTorch.\n",
      "[INFO 11-01 18:23:33] ax.service.ax_client: Completed trial 14 with data: {'rmse': (2.287439, None)}.\n",
      "[INFO 11-01 18:23:34] ax.service.ax_client: Generated new trial 15 with parameters {'lr': 0.150005, 'patience': 20, 'dropout_rate': 0.146033} using model BoTorch.\n",
      "[INFO 11-01 18:23:38] ax.service.ax_client: Completed trial 15 with data: {'rmse': (1.933375, None)}.\n",
      "[INFO 11-01 18:23:39] ax.service.ax_client: Generated new trial 16 with parameters {'lr': 1.0, 'patience': 20, 'dropout_rate': 0.072197} using model BoTorch.\n",
      "[INFO 11-01 18:23:47] ax.service.ax_client: Completed trial 16 with data: {'rmse': (1.850683, None)}.\n",
      "[INFO 11-01 18:23:48] ax.service.ax_client: Generated new trial 17 with parameters {'lr': 1.0, 'patience': 11, 'dropout_rate': 0.190181} using model BoTorch.\n",
      "[INFO 11-01 18:23:53] ax.service.ax_client: Completed trial 17 with data: {'rmse': (2.893101, None)}.\n",
      "[INFO 11-01 18:23:54] ax.service.ax_client: Generated new trial 18 with parameters {'lr': 0.055365, 'patience': 6, 'dropout_rate': 0.206761} using model BoTorch.\n",
      "[INFO 11-01 18:23:55] ax.service.ax_client: Completed trial 18 with data: {'rmse': (2.476696, None)}.\n",
      "[INFO 11-01 18:23:56] ax.service.ax_client: Generated new trial 19 with parameters {'lr': 0.124382, 'patience': 14, 'dropout_rate': 0.01} using model BoTorch.\n",
      "[INFO 11-01 18:24:00] ax.service.ax_client: Completed trial 19 with data: {'rmse': (2.039206, None)}.\n",
      "[INFO 11-01 18:24:02] ax.service.ax_client: Generated new trial 20 with parameters {'lr': 0.008827, 'patience': 12, 'dropout_rate': 0.014334} using model BoTorch.\n",
      "[INFO 11-01 18:24:04] ax.service.ax_client: Completed trial 20 with data: {'rmse': (2.208591, None)}.\n",
      "[INFO 11-01 18:24:06] ax.service.ax_client: Generated new trial 21 with parameters {'lr': 0.011208, 'patience': 12, 'dropout_rate': 0.159053} using model BoTorch.\n",
      "[INFO 11-01 18:24:08] ax.service.ax_client: Completed trial 21 with data: {'rmse': (2.380584, None)}.\n",
      "[INFO 11-01 18:24:11] ax.service.ax_client: Generated new trial 22 with parameters {'lr': 0.00072, 'patience': 11, 'dropout_rate': 0.01} using model BoTorch.\n",
      "[INFO 11-01 18:24:13] ax.service.ax_client: Completed trial 22 with data: {'rmse': (1.873705, None)}.\n",
      "[INFO 11-01 18:24:16] ax.service.ax_client: Generated new trial 23 with parameters {'lr': 0.015552, 'patience': 8, 'dropout_rate': 0.234348} using model BoTorch.\n",
      "[INFO 11-01 18:24:20] ax.service.ax_client: Completed trial 23 with data: {'rmse': (2.007907, None)}.\n",
      "[INFO 11-01 18:24:23] ax.service.ax_client: Generated new trial 24 with parameters {'lr': 0.425123, 'patience': 20, 'dropout_rate': 0.045173} using model BoTorch.\n",
      "[INFO 11-01 18:24:31] ax.service.ax_client: Completed trial 24 with data: {'rmse': (1.899543, None)}.\n",
      "[INFO 11-01 18:24:35] ax.service.ax_client: Generated new trial 25 with parameters {'lr': 1.0, 'patience': 20, 'dropout_rate': 0.399737} using model BoTorch.\n",
      "[INFO 11-01 18:24:44] ax.service.ax_client: Completed trial 25 with data: {'rmse': (1.885576, None)}.\n"
     ]
    }
   ],
   "source": [
    "for i in range(25):\n",
    "    parameters, trial_index = ax_client.get_next_trial()\n",
    "    # Local evaluation here can be replaced with deployment to external system.\n",
    "    ax_client.complete_trial(trial_index=trial_index, raw_data=train_evaluate(parameters))"
   ]
  },
  {
   "cell_type": "code",
   "execution_count": 75,
   "metadata": {},
   "outputs": [
    {
     "name": "stderr",
     "output_type": "stream",
     "text": [
      "[WARNING 11-01 18:24:44] ax.service.utils.report_utils: Column reason missing for all trials. Not appending column.\n"
     ]
    },
    {
     "data": {
      "text/html": [
       "<div>\n",
       "<style scoped>\n",
       "    .dataframe tbody tr th:only-of-type {\n",
       "        vertical-align: middle;\n",
       "    }\n",
       "\n",
       "    .dataframe tbody tr th {\n",
       "        vertical-align: top;\n",
       "    }\n",
       "\n",
       "    .dataframe thead th {\n",
       "        text-align: right;\n",
       "    }\n",
       "</style>\n",
       "<table border=\"1\" class=\"dataframe\">\n",
       "  <thead>\n",
       "    <tr style=\"text-align: right;\">\n",
       "      <th></th>\n",
       "      <th>trial_index</th>\n",
       "      <th>arm_name</th>\n",
       "      <th>trial_status</th>\n",
       "      <th>generation_method</th>\n",
       "      <th>rmse</th>\n",
       "      <th>lr</th>\n",
       "      <th>patience</th>\n",
       "      <th>dropout_rate</th>\n",
       "    </tr>\n",
       "  </thead>\n",
       "  <tbody>\n",
       "    <tr>\n",
       "      <th>0</th>\n",
       "      <td>0</td>\n",
       "      <td>0_0</td>\n",
       "      <td>COMPLETED</td>\n",
       "      <td>Manual</td>\n",
       "      <td>1.994148</td>\n",
       "      <td>0.010000</td>\n",
       "      <td>10</td>\n",
       "      <td>0.200000</td>\n",
       "    </tr>\n",
       "    <tr>\n",
       "      <th>1</th>\n",
       "      <td>1</td>\n",
       "      <td>1_0</td>\n",
       "      <td>COMPLETED</td>\n",
       "      <td>Sobol</td>\n",
       "      <td>2.192219</td>\n",
       "      <td>0.125509</td>\n",
       "      <td>17</td>\n",
       "      <td>0.294307</td>\n",
       "    </tr>\n",
       "    <tr>\n",
       "      <th>2</th>\n",
       "      <td>2</td>\n",
       "      <td>2_0</td>\n",
       "      <td>COMPLETED</td>\n",
       "      <td>Sobol</td>\n",
       "      <td>2.269725</td>\n",
       "      <td>0.002835</td>\n",
       "      <td>6</td>\n",
       "      <td>0.023438</td>\n",
       "    </tr>\n",
       "    <tr>\n",
       "      <th>3</th>\n",
       "      <td>3</td>\n",
       "      <td>3_0</td>\n",
       "      <td>COMPLETED</td>\n",
       "      <td>Sobol</td>\n",
       "      <td>4.541746</td>\n",
       "      <td>0.000018</td>\n",
       "      <td>16</td>\n",
       "      <td>0.469583</td>\n",
       "    </tr>\n",
       "    <tr>\n",
       "      <th>4</th>\n",
       "      <td>4</td>\n",
       "      <td>4_0</td>\n",
       "      <td>COMPLETED</td>\n",
       "      <td>Sobol</td>\n",
       "      <td>1.996731</td>\n",
       "      <td>0.014010</td>\n",
       "      <td>11</td>\n",
       "      <td>0.200625</td>\n",
       "    </tr>\n",
       "    <tr>\n",
       "      <th>5</th>\n",
       "      <td>5</td>\n",
       "      <td>5_0</td>\n",
       "      <td>COMPLETED</td>\n",
       "      <td>Sobol</td>\n",
       "      <td>2.022304</td>\n",
       "      <td>0.004602</td>\n",
       "      <td>14</td>\n",
       "      <td>0.119491</td>\n",
       "    </tr>\n",
       "    <tr>\n",
       "      <th>6</th>\n",
       "      <td>6</td>\n",
       "      <td>6_0</td>\n",
       "      <td>COMPLETED</td>\n",
       "      <td>Sobol</td>\n",
       "      <td>4.273731</td>\n",
       "      <td>0.000051</td>\n",
       "      <td>9</td>\n",
       "      <td>0.336770</td>\n",
       "    </tr>\n",
       "    <tr>\n",
       "      <th>7</th>\n",
       "      <td>7</td>\n",
       "      <td>7_0</td>\n",
       "      <td>COMPLETED</td>\n",
       "      <td>BoTorch</td>\n",
       "      <td>2.151480</td>\n",
       "      <td>0.017091</td>\n",
       "      <td>20</td>\n",
       "      <td>0.010000</td>\n",
       "    </tr>\n",
       "    <tr>\n",
       "      <th>8</th>\n",
       "      <td>8</td>\n",
       "      <td>8_0</td>\n",
       "      <td>COMPLETED</td>\n",
       "      <td>BoTorch</td>\n",
       "      <td>2.085775</td>\n",
       "      <td>0.012174</td>\n",
       "      <td>20</td>\n",
       "      <td>0.500000</td>\n",
       "    </tr>\n",
       "    <tr>\n",
       "      <th>9</th>\n",
       "      <td>9</td>\n",
       "      <td>9_0</td>\n",
       "      <td>COMPLETED</td>\n",
       "      <td>BoTorch</td>\n",
       "      <td>2.260286</td>\n",
       "      <td>0.007774</td>\n",
       "      <td>15</td>\n",
       "      <td>0.293744</td>\n",
       "    </tr>\n",
       "    <tr>\n",
       "      <th>10</th>\n",
       "      <td>10</td>\n",
       "      <td>10_0</td>\n",
       "      <td>COMPLETED</td>\n",
       "      <td>BoTorch</td>\n",
       "      <td>1.868468</td>\n",
       "      <td>0.105075</td>\n",
       "      <td>10</td>\n",
       "      <td>0.147632</td>\n",
       "    </tr>\n",
       "    <tr>\n",
       "      <th>11</th>\n",
       "      <td>11</td>\n",
       "      <td>11_0</td>\n",
       "      <td>COMPLETED</td>\n",
       "      <td>BoTorch</td>\n",
       "      <td>1.794639</td>\n",
       "      <td>1.000000</td>\n",
       "      <td>20</td>\n",
       "      <td>0.110907</td>\n",
       "    </tr>\n",
       "    <tr>\n",
       "      <th>12</th>\n",
       "      <td>12</td>\n",
       "      <td>12_0</td>\n",
       "      <td>COMPLETED</td>\n",
       "      <td>BoTorch</td>\n",
       "      <td>1990.269531</td>\n",
       "      <td>1.000000</td>\n",
       "      <td>5</td>\n",
       "      <td>0.089878</td>\n",
       "    </tr>\n",
       "    <tr>\n",
       "      <th>13</th>\n",
       "      <td>13</td>\n",
       "      <td>13_0</td>\n",
       "      <td>COMPLETED</td>\n",
       "      <td>BoTorch</td>\n",
       "      <td>1.974890</td>\n",
       "      <td>0.211331</td>\n",
       "      <td>16</td>\n",
       "      <td>0.114327</td>\n",
       "    </tr>\n",
       "    <tr>\n",
       "      <th>14</th>\n",
       "      <td>14</td>\n",
       "      <td>14_0</td>\n",
       "      <td>COMPLETED</td>\n",
       "      <td>BoTorch</td>\n",
       "      <td>2.287439</td>\n",
       "      <td>0.048270</td>\n",
       "      <td>11</td>\n",
       "      <td>0.029168</td>\n",
       "    </tr>\n",
       "    <tr>\n",
       "      <th>15</th>\n",
       "      <td>15</td>\n",
       "      <td>15_0</td>\n",
       "      <td>COMPLETED</td>\n",
       "      <td>BoTorch</td>\n",
       "      <td>1.933375</td>\n",
       "      <td>0.150005</td>\n",
       "      <td>20</td>\n",
       "      <td>0.146033</td>\n",
       "    </tr>\n",
       "    <tr>\n",
       "      <th>16</th>\n",
       "      <td>16</td>\n",
       "      <td>16_0</td>\n",
       "      <td>COMPLETED</td>\n",
       "      <td>BoTorch</td>\n",
       "      <td>1.850683</td>\n",
       "      <td>1.000000</td>\n",
       "      <td>20</td>\n",
       "      <td>0.072197</td>\n",
       "    </tr>\n",
       "    <tr>\n",
       "      <th>17</th>\n",
       "      <td>17</td>\n",
       "      <td>17_0</td>\n",
       "      <td>COMPLETED</td>\n",
       "      <td>BoTorch</td>\n",
       "      <td>2.893101</td>\n",
       "      <td>1.000000</td>\n",
       "      <td>11</td>\n",
       "      <td>0.190181</td>\n",
       "    </tr>\n",
       "    <tr>\n",
       "      <th>18</th>\n",
       "      <td>18</td>\n",
       "      <td>18_0</td>\n",
       "      <td>COMPLETED</td>\n",
       "      <td>BoTorch</td>\n",
       "      <td>2.476696</td>\n",
       "      <td>0.055365</td>\n",
       "      <td>6</td>\n",
       "      <td>0.206761</td>\n",
       "    </tr>\n",
       "    <tr>\n",
       "      <th>19</th>\n",
       "      <td>19</td>\n",
       "      <td>19_0</td>\n",
       "      <td>COMPLETED</td>\n",
       "      <td>BoTorch</td>\n",
       "      <td>2.039206</td>\n",
       "      <td>0.124382</td>\n",
       "      <td>14</td>\n",
       "      <td>0.010000</td>\n",
       "    </tr>\n",
       "    <tr>\n",
       "      <th>20</th>\n",
       "      <td>20</td>\n",
       "      <td>20_0</td>\n",
       "      <td>COMPLETED</td>\n",
       "      <td>BoTorch</td>\n",
       "      <td>2.208591</td>\n",
       "      <td>0.008827</td>\n",
       "      <td>12</td>\n",
       "      <td>0.014334</td>\n",
       "    </tr>\n",
       "    <tr>\n",
       "      <th>21</th>\n",
       "      <td>21</td>\n",
       "      <td>21_0</td>\n",
       "      <td>COMPLETED</td>\n",
       "      <td>BoTorch</td>\n",
       "      <td>2.380584</td>\n",
       "      <td>0.011208</td>\n",
       "      <td>12</td>\n",
       "      <td>0.159053</td>\n",
       "    </tr>\n",
       "    <tr>\n",
       "      <th>22</th>\n",
       "      <td>22</td>\n",
       "      <td>22_0</td>\n",
       "      <td>COMPLETED</td>\n",
       "      <td>BoTorch</td>\n",
       "      <td>1.873705</td>\n",
       "      <td>0.000720</td>\n",
       "      <td>11</td>\n",
       "      <td>0.010000</td>\n",
       "    </tr>\n",
       "    <tr>\n",
       "      <th>23</th>\n",
       "      <td>23</td>\n",
       "      <td>23_0</td>\n",
       "      <td>COMPLETED</td>\n",
       "      <td>BoTorch</td>\n",
       "      <td>2.007907</td>\n",
       "      <td>0.015552</td>\n",
       "      <td>8</td>\n",
       "      <td>0.234348</td>\n",
       "    </tr>\n",
       "    <tr>\n",
       "      <th>24</th>\n",
       "      <td>24</td>\n",
       "      <td>24_0</td>\n",
       "      <td>COMPLETED</td>\n",
       "      <td>BoTorch</td>\n",
       "      <td>1.899543</td>\n",
       "      <td>0.425123</td>\n",
       "      <td>20</td>\n",
       "      <td>0.045173</td>\n",
       "    </tr>\n",
       "    <tr>\n",
       "      <th>25</th>\n",
       "      <td>25</td>\n",
       "      <td>25_0</td>\n",
       "      <td>COMPLETED</td>\n",
       "      <td>BoTorch</td>\n",
       "      <td>1.885576</td>\n",
       "      <td>1.000000</td>\n",
       "      <td>20</td>\n",
       "      <td>0.399737</td>\n",
       "    </tr>\n",
       "  </tbody>\n",
       "</table>\n",
       "</div>"
      ],
      "text/plain": [
       "    trial_index arm_name trial_status generation_method         rmse  \\\n",
       "0             0      0_0    COMPLETED            Manual     1.994148   \n",
       "1             1      1_0    COMPLETED             Sobol     2.192219   \n",
       "2             2      2_0    COMPLETED             Sobol     2.269725   \n",
       "3             3      3_0    COMPLETED             Sobol     4.541746   \n",
       "4             4      4_0    COMPLETED             Sobol     1.996731   \n",
       "5             5      5_0    COMPLETED             Sobol     2.022304   \n",
       "6             6      6_0    COMPLETED             Sobol     4.273731   \n",
       "7             7      7_0    COMPLETED           BoTorch     2.151480   \n",
       "8             8      8_0    COMPLETED           BoTorch     2.085775   \n",
       "9             9      9_0    COMPLETED           BoTorch     2.260286   \n",
       "10           10     10_0    COMPLETED           BoTorch     1.868468   \n",
       "11           11     11_0    COMPLETED           BoTorch     1.794639   \n",
       "12           12     12_0    COMPLETED           BoTorch  1990.269531   \n",
       "13           13     13_0    COMPLETED           BoTorch     1.974890   \n",
       "14           14     14_0    COMPLETED           BoTorch     2.287439   \n",
       "15           15     15_0    COMPLETED           BoTorch     1.933375   \n",
       "16           16     16_0    COMPLETED           BoTorch     1.850683   \n",
       "17           17     17_0    COMPLETED           BoTorch     2.893101   \n",
       "18           18     18_0    COMPLETED           BoTorch     2.476696   \n",
       "19           19     19_0    COMPLETED           BoTorch     2.039206   \n",
       "20           20     20_0    COMPLETED           BoTorch     2.208591   \n",
       "21           21     21_0    COMPLETED           BoTorch     2.380584   \n",
       "22           22     22_0    COMPLETED           BoTorch     1.873705   \n",
       "23           23     23_0    COMPLETED           BoTorch     2.007907   \n",
       "24           24     24_0    COMPLETED           BoTorch     1.899543   \n",
       "25           25     25_0    COMPLETED           BoTorch     1.885576   \n",
       "\n",
       "          lr  patience  dropout_rate  \n",
       "0   0.010000        10      0.200000  \n",
       "1   0.125509        17      0.294307  \n",
       "2   0.002835         6      0.023438  \n",
       "3   0.000018        16      0.469583  \n",
       "4   0.014010        11      0.200625  \n",
       "5   0.004602        14      0.119491  \n",
       "6   0.000051         9      0.336770  \n",
       "7   0.017091        20      0.010000  \n",
       "8   0.012174        20      0.500000  \n",
       "9   0.007774        15      0.293744  \n",
       "10  0.105075        10      0.147632  \n",
       "11  1.000000        20      0.110907  \n",
       "12  1.000000         5      0.089878  \n",
       "13  0.211331        16      0.114327  \n",
       "14  0.048270        11      0.029168  \n",
       "15  0.150005        20      0.146033  \n",
       "16  1.000000        20      0.072197  \n",
       "17  1.000000        11      0.190181  \n",
       "18  0.055365         6      0.206761  \n",
       "19  0.124382        14      0.010000  \n",
       "20  0.008827        12      0.014334  \n",
       "21  0.011208        12      0.159053  \n",
       "22  0.000720        11      0.010000  \n",
       "23  0.015552         8      0.234348  \n",
       "24  0.425123        20      0.045173  \n",
       "25  1.000000        20      0.399737  "
      ]
     },
     "execution_count": 75,
     "metadata": {},
     "output_type": "execute_result"
    }
   ],
   "source": [
    "ax_client.get_trials_data_frame()"
   ]
  },
  {
   "cell_type": "code",
   "execution_count": 76,
   "metadata": {},
   "outputs": [
    {
     "data": {
      "text/plain": [
       "{'lr': 1.0, 'patience': 20, 'dropout_rate': 0.07219747003552322}"
      ]
     },
     "execution_count": 76,
     "metadata": {},
     "output_type": "execute_result"
    }
   ],
   "source": [
    "best_parameters, values = ax_client.get_best_parameters()\n",
    "best_parameters"
   ]
  },
  {
   "cell_type": "code",
   "execution_count": 77,
   "metadata": {},
   "outputs": [
    {
     "data": {
      "text/plain": [
       "{'rmse': 1.8268846256346438}"
      ]
     },
     "execution_count": 77,
     "metadata": {},
     "output_type": "execute_result"
    }
   ],
   "source": [
    "mean, covariance = values\n",
    "mean"
   ]
  },
  {
   "cell_type": "code",
   "execution_count": 78,
   "metadata": {},
   "outputs": [
    {
     "data": {
      "application/vnd.plotly.v1+json": {
       "config": {
        "linkText": "Export to plot.ly",
        "plotlyServerURL": "https://plot.ly",
        "showLink": false
       },
       "data": [
        {
         "legendgroup": "1",
         "marker": {
          "color": "steelblue"
         },
         "name": "Increases metric",
         "opacity": 0.8,
         "orientation": "h",
         "showlegend": false,
         "type": "bar",
         "visible": true,
         "x": [
          0.030108151146851534
         ],
         "y": [
          "dropout_rate"
         ]
        },
        {
         "legendgroup": "1",
         "marker": {
          "color": "steelblue"
         },
         "name": "Increases metric",
         "opacity": 0.8,
         "orientation": "h",
         "showlegend": false,
         "type": "bar",
         "visible": true,
         "x": [
          0.08644593389829433
         ],
         "y": [
          "lr"
         ]
        },
        {
         "legendgroup": "1",
         "marker": {
          "color": "steelblue"
         },
         "name": "Increases metric",
         "opacity": 0.8,
         "orientation": "h",
         "showlegend": false,
         "type": "bar",
         "visible": true,
         "x": [
          0.8834459149548543
         ],
         "y": [
          "patience"
         ]
        }
       ],
       "layout": {
        "height": 260,
        "hovermode": "closest",
        "margin": {
         "l": 96
        },
        "template": {
         "data": {
          "bar": [
           {
            "error_x": {
             "color": "#2a3f5f"
            },
            "error_y": {
             "color": "#2a3f5f"
            },
            "marker": {
             "line": {
              "color": "#E5ECF6",
              "width": 0.5
             },
             "pattern": {
              "fillmode": "overlay",
              "size": 10,
              "solidity": 0.2
             }
            },
            "type": "bar"
           }
          ],
          "barpolar": [
           {
            "marker": {
             "line": {
              "color": "#E5ECF6",
              "width": 0.5
             },
             "pattern": {
              "fillmode": "overlay",
              "size": 10,
              "solidity": 0.2
             }
            },
            "type": "barpolar"
           }
          ],
          "carpet": [
           {
            "aaxis": {
             "endlinecolor": "#2a3f5f",
             "gridcolor": "white",
             "linecolor": "white",
             "minorgridcolor": "white",
             "startlinecolor": "#2a3f5f"
            },
            "baxis": {
             "endlinecolor": "#2a3f5f",
             "gridcolor": "white",
             "linecolor": "white",
             "minorgridcolor": "white",
             "startlinecolor": "#2a3f5f"
            },
            "type": "carpet"
           }
          ],
          "choropleth": [
           {
            "colorbar": {
             "outlinewidth": 0,
             "ticks": ""
            },
            "type": "choropleth"
           }
          ],
          "contour": [
           {
            "colorbar": {
             "outlinewidth": 0,
             "ticks": ""
            },
            "colorscale": [
             [
              0,
              "#0d0887"
             ],
             [
              0.1111111111111111,
              "#46039f"
             ],
             [
              0.2222222222222222,
              "#7201a8"
             ],
             [
              0.3333333333333333,
              "#9c179e"
             ],
             [
              0.4444444444444444,
              "#bd3786"
             ],
             [
              0.5555555555555556,
              "#d8576b"
             ],
             [
              0.6666666666666666,
              "#ed7953"
             ],
             [
              0.7777777777777778,
              "#fb9f3a"
             ],
             [
              0.8888888888888888,
              "#fdca26"
             ],
             [
              1,
              "#f0f921"
             ]
            ],
            "type": "contour"
           }
          ],
          "contourcarpet": [
           {
            "colorbar": {
             "outlinewidth": 0,
             "ticks": ""
            },
            "type": "contourcarpet"
           }
          ],
          "heatmap": [
           {
            "colorbar": {
             "outlinewidth": 0,
             "ticks": ""
            },
            "colorscale": [
             [
              0,
              "#0d0887"
             ],
             [
              0.1111111111111111,
              "#46039f"
             ],
             [
              0.2222222222222222,
              "#7201a8"
             ],
             [
              0.3333333333333333,
              "#9c179e"
             ],
             [
              0.4444444444444444,
              "#bd3786"
             ],
             [
              0.5555555555555556,
              "#d8576b"
             ],
             [
              0.6666666666666666,
              "#ed7953"
             ],
             [
              0.7777777777777778,
              "#fb9f3a"
             ],
             [
              0.8888888888888888,
              "#fdca26"
             ],
             [
              1,
              "#f0f921"
             ]
            ],
            "type": "heatmap"
           }
          ],
          "heatmapgl": [
           {
            "colorbar": {
             "outlinewidth": 0,
             "ticks": ""
            },
            "colorscale": [
             [
              0,
              "#0d0887"
             ],
             [
              0.1111111111111111,
              "#46039f"
             ],
             [
              0.2222222222222222,
              "#7201a8"
             ],
             [
              0.3333333333333333,
              "#9c179e"
             ],
             [
              0.4444444444444444,
              "#bd3786"
             ],
             [
              0.5555555555555556,
              "#d8576b"
             ],
             [
              0.6666666666666666,
              "#ed7953"
             ],
             [
              0.7777777777777778,
              "#fb9f3a"
             ],
             [
              0.8888888888888888,
              "#fdca26"
             ],
             [
              1,
              "#f0f921"
             ]
            ],
            "type": "heatmapgl"
           }
          ],
          "histogram": [
           {
            "marker": {
             "pattern": {
              "fillmode": "overlay",
              "size": 10,
              "solidity": 0.2
             }
            },
            "type": "histogram"
           }
          ],
          "histogram2d": [
           {
            "colorbar": {
             "outlinewidth": 0,
             "ticks": ""
            },
            "colorscale": [
             [
              0,
              "#0d0887"
             ],
             [
              0.1111111111111111,
              "#46039f"
             ],
             [
              0.2222222222222222,
              "#7201a8"
             ],
             [
              0.3333333333333333,
              "#9c179e"
             ],
             [
              0.4444444444444444,
              "#bd3786"
             ],
             [
              0.5555555555555556,
              "#d8576b"
             ],
             [
              0.6666666666666666,
              "#ed7953"
             ],
             [
              0.7777777777777778,
              "#fb9f3a"
             ],
             [
              0.8888888888888888,
              "#fdca26"
             ],
             [
              1,
              "#f0f921"
             ]
            ],
            "type": "histogram2d"
           }
          ],
          "histogram2dcontour": [
           {
            "colorbar": {
             "outlinewidth": 0,
             "ticks": ""
            },
            "colorscale": [
             [
              0,
              "#0d0887"
             ],
             [
              0.1111111111111111,
              "#46039f"
             ],
             [
              0.2222222222222222,
              "#7201a8"
             ],
             [
              0.3333333333333333,
              "#9c179e"
             ],
             [
              0.4444444444444444,
              "#bd3786"
             ],
             [
              0.5555555555555556,
              "#d8576b"
             ],
             [
              0.6666666666666666,
              "#ed7953"
             ],
             [
              0.7777777777777778,
              "#fb9f3a"
             ],
             [
              0.8888888888888888,
              "#fdca26"
             ],
             [
              1,
              "#f0f921"
             ]
            ],
            "type": "histogram2dcontour"
           }
          ],
          "mesh3d": [
           {
            "colorbar": {
             "outlinewidth": 0,
             "ticks": ""
            },
            "type": "mesh3d"
           }
          ],
          "parcoords": [
           {
            "line": {
             "colorbar": {
              "outlinewidth": 0,
              "ticks": ""
             }
            },
            "type": "parcoords"
           }
          ],
          "pie": [
           {
            "automargin": true,
            "type": "pie"
           }
          ],
          "scatter": [
           {
            "fillpattern": {
             "fillmode": "overlay",
             "size": 10,
             "solidity": 0.2
            },
            "type": "scatter"
           }
          ],
          "scatter3d": [
           {
            "line": {
             "colorbar": {
              "outlinewidth": 0,
              "ticks": ""
             }
            },
            "marker": {
             "colorbar": {
              "outlinewidth": 0,
              "ticks": ""
             }
            },
            "type": "scatter3d"
           }
          ],
          "scattercarpet": [
           {
            "marker": {
             "colorbar": {
              "outlinewidth": 0,
              "ticks": ""
             }
            },
            "type": "scattercarpet"
           }
          ],
          "scattergeo": [
           {
            "marker": {
             "colorbar": {
              "outlinewidth": 0,
              "ticks": ""
             }
            },
            "type": "scattergeo"
           }
          ],
          "scattergl": [
           {
            "marker": {
             "colorbar": {
              "outlinewidth": 0,
              "ticks": ""
             }
            },
            "type": "scattergl"
           }
          ],
          "scattermapbox": [
           {
            "marker": {
             "colorbar": {
              "outlinewidth": 0,
              "ticks": ""
             }
            },
            "type": "scattermapbox"
           }
          ],
          "scatterpolar": [
           {
            "marker": {
             "colorbar": {
              "outlinewidth": 0,
              "ticks": ""
             }
            },
            "type": "scatterpolar"
           }
          ],
          "scatterpolargl": [
           {
            "marker": {
             "colorbar": {
              "outlinewidth": 0,
              "ticks": ""
             }
            },
            "type": "scatterpolargl"
           }
          ],
          "scatterternary": [
           {
            "marker": {
             "colorbar": {
              "outlinewidth": 0,
              "ticks": ""
             }
            },
            "type": "scatterternary"
           }
          ],
          "surface": [
           {
            "colorbar": {
             "outlinewidth": 0,
             "ticks": ""
            },
            "colorscale": [
             [
              0,
              "#0d0887"
             ],
             [
              0.1111111111111111,
              "#46039f"
             ],
             [
              0.2222222222222222,
              "#7201a8"
             ],
             [
              0.3333333333333333,
              "#9c179e"
             ],
             [
              0.4444444444444444,
              "#bd3786"
             ],
             [
              0.5555555555555556,
              "#d8576b"
             ],
             [
              0.6666666666666666,
              "#ed7953"
             ],
             [
              0.7777777777777778,
              "#fb9f3a"
             ],
             [
              0.8888888888888888,
              "#fdca26"
             ],
             [
              1,
              "#f0f921"
             ]
            ],
            "type": "surface"
           }
          ],
          "table": [
           {
            "cells": {
             "fill": {
              "color": "#EBF0F8"
             },
             "line": {
              "color": "white"
             }
            },
            "header": {
             "fill": {
              "color": "#C8D4E3"
             },
             "line": {
              "color": "white"
             }
            },
            "type": "table"
           }
          ]
         },
         "layout": {
          "annotationdefaults": {
           "arrowcolor": "#2a3f5f",
           "arrowhead": 0,
           "arrowwidth": 1
          },
          "autotypenumbers": "strict",
          "coloraxis": {
           "colorbar": {
            "outlinewidth": 0,
            "ticks": ""
           }
          },
          "colorscale": {
           "diverging": [
            [
             0,
             "#8e0152"
            ],
            [
             0.1,
             "#c51b7d"
            ],
            [
             0.2,
             "#de77ae"
            ],
            [
             0.3,
             "#f1b6da"
            ],
            [
             0.4,
             "#fde0ef"
            ],
            [
             0.5,
             "#f7f7f7"
            ],
            [
             0.6,
             "#e6f5d0"
            ],
            [
             0.7,
             "#b8e186"
            ],
            [
             0.8,
             "#7fbc41"
            ],
            [
             0.9,
             "#4d9221"
            ],
            [
             1,
             "#276419"
            ]
           ],
           "sequential": [
            [
             0,
             "#0d0887"
            ],
            [
             0.1111111111111111,
             "#46039f"
            ],
            [
             0.2222222222222222,
             "#7201a8"
            ],
            [
             0.3333333333333333,
             "#9c179e"
            ],
            [
             0.4444444444444444,
             "#bd3786"
            ],
            [
             0.5555555555555556,
             "#d8576b"
            ],
            [
             0.6666666666666666,
             "#ed7953"
            ],
            [
             0.7777777777777778,
             "#fb9f3a"
            ],
            [
             0.8888888888888888,
             "#fdca26"
            ],
            [
             1,
             "#f0f921"
            ]
           ],
           "sequentialminus": [
            [
             0,
             "#0d0887"
            ],
            [
             0.1111111111111111,
             "#46039f"
            ],
            [
             0.2222222222222222,
             "#7201a8"
            ],
            [
             0.3333333333333333,
             "#9c179e"
            ],
            [
             0.4444444444444444,
             "#bd3786"
            ],
            [
             0.5555555555555556,
             "#d8576b"
            ],
            [
             0.6666666666666666,
             "#ed7953"
            ],
            [
             0.7777777777777778,
             "#fb9f3a"
            ],
            [
             0.8888888888888888,
             "#fdca26"
            ],
            [
             1,
             "#f0f921"
            ]
           ]
          },
          "colorway": [
           "#636efa",
           "#EF553B",
           "#00cc96",
           "#ab63fa",
           "#FFA15A",
           "#19d3f3",
           "#FF6692",
           "#B6E880",
           "#FF97FF",
           "#FECB52"
          ],
          "font": {
           "color": "#2a3f5f"
          },
          "geo": {
           "bgcolor": "white",
           "lakecolor": "white",
           "landcolor": "#E5ECF6",
           "showlakes": true,
           "showland": true,
           "subunitcolor": "white"
          },
          "hoverlabel": {
           "align": "left"
          },
          "hovermode": "closest",
          "mapbox": {
           "style": "light"
          },
          "paper_bgcolor": "white",
          "plot_bgcolor": "#E5ECF6",
          "polar": {
           "angularaxis": {
            "gridcolor": "white",
            "linecolor": "white",
            "ticks": ""
           },
           "bgcolor": "#E5ECF6",
           "radialaxis": {
            "gridcolor": "white",
            "linecolor": "white",
            "ticks": ""
           }
          },
          "scene": {
           "xaxis": {
            "backgroundcolor": "#E5ECF6",
            "gridcolor": "white",
            "gridwidth": 2,
            "linecolor": "white",
            "showbackground": true,
            "ticks": "",
            "zerolinecolor": "white"
           },
           "yaxis": {
            "backgroundcolor": "#E5ECF6",
            "gridcolor": "white",
            "gridwidth": 2,
            "linecolor": "white",
            "showbackground": true,
            "ticks": "",
            "zerolinecolor": "white"
           },
           "zaxis": {
            "backgroundcolor": "#E5ECF6",
            "gridcolor": "white",
            "gridwidth": 2,
            "linecolor": "white",
            "showbackground": true,
            "ticks": "",
            "zerolinecolor": "white"
           }
          },
          "shapedefaults": {
           "line": {
            "color": "#2a3f5f"
           }
          },
          "ternary": {
           "aaxis": {
            "gridcolor": "white",
            "linecolor": "white",
            "ticks": ""
           },
           "baxis": {
            "gridcolor": "white",
            "linecolor": "white",
            "ticks": ""
           },
           "bgcolor": "#E5ECF6",
           "caxis": {
            "gridcolor": "white",
            "linecolor": "white",
            "ticks": ""
           }
          },
          "title": {
           "x": 0.05
          },
          "xaxis": {
           "automargin": true,
           "gridcolor": "white",
           "linecolor": "white",
           "ticks": "",
           "title": {
            "standoff": 15
           },
           "zerolinecolor": "white",
           "zerolinewidth": 2
          },
          "yaxis": {
           "automargin": true,
           "gridcolor": "white",
           "linecolor": "white",
           "ticks": "",
           "title": {
            "standoff": 15
           },
           "zerolinecolor": "white",
           "zerolinewidth": 2
          }
         }
        },
        "title": {
         "text": "Normalized parameter sensitivity"
        },
        "updatemenus": [
         {
          "buttons": [
           {
            "args": [
             "visible",
             [
              true,
              true,
              true
             ]
            ],
            "label": "rmse",
            "method": "restyle"
           }
          ],
          "pad": {
           "t": -40
          },
          "x": 0,
          "xanchor": "left",
          "y": 1,
          "yanchor": "top"
         }
        ],
        "width": 520,
        "xaxis": {
         "tickformat": ".0%"
        }
       }
      },
      "text/html": [
       "<div>                            <div id=\"c356843e-f3f4-4b0f-abb2-771af01fc5fe\" class=\"plotly-graph-div\" style=\"height:260px; width:520px;\"></div>            <script type=\"text/javascript\">                require([\"plotly\"], function(Plotly) {                    window.PLOTLYENV=window.PLOTLYENV || {};                                    if (document.getElementById(\"c356843e-f3f4-4b0f-abb2-771af01fc5fe\")) {                    Plotly.newPlot(                        \"c356843e-f3f4-4b0f-abb2-771af01fc5fe\",                        [{\"legendgroup\":\"1\",\"marker\":{\"color\":\"steelblue\"},\"name\":\"Increases metric\",\"opacity\":0.8,\"orientation\":\"h\",\"showlegend\":false,\"visible\":true,\"x\":[0.030108151146851534],\"y\":[\"dropout_rate\"],\"type\":\"bar\"},{\"legendgroup\":\"1\",\"marker\":{\"color\":\"steelblue\"},\"name\":\"Increases metric\",\"opacity\":0.8,\"orientation\":\"h\",\"showlegend\":false,\"visible\":true,\"x\":[0.08644593389829433],\"y\":[\"lr\"],\"type\":\"bar\"},{\"legendgroup\":\"1\",\"marker\":{\"color\":\"steelblue\"},\"name\":\"Increases metric\",\"opacity\":0.8,\"orientation\":\"h\",\"showlegend\":false,\"visible\":true,\"x\":[0.8834459149548543],\"y\":[\"patience\"],\"type\":\"bar\"}],                        {\"height\":260,\"hovermode\":\"closest\",\"margin\":{\"l\":96},\"template\":{\"data\":{\"barpolar\":[{\"marker\":{\"line\":{\"color\":\"#E5ECF6\",\"width\":0.5},\"pattern\":{\"fillmode\":\"overlay\",\"size\":10,\"solidity\":0.2}},\"type\":\"barpolar\"}],\"bar\":[{\"error_x\":{\"color\":\"#2a3f5f\"},\"error_y\":{\"color\":\"#2a3f5f\"},\"marker\":{\"line\":{\"color\":\"#E5ECF6\",\"width\":0.5},\"pattern\":{\"fillmode\":\"overlay\",\"size\":10,\"solidity\":0.2}},\"type\":\"bar\"}],\"carpet\":[{\"aaxis\":{\"endlinecolor\":\"#2a3f5f\",\"gridcolor\":\"white\",\"linecolor\":\"white\",\"minorgridcolor\":\"white\",\"startlinecolor\":\"#2a3f5f\"},\"baxis\":{\"endlinecolor\":\"#2a3f5f\",\"gridcolor\":\"white\",\"linecolor\":\"white\",\"minorgridcolor\":\"white\",\"startlinecolor\":\"#2a3f5f\"},\"type\":\"carpet\"}],\"choropleth\":[{\"colorbar\":{\"outlinewidth\":0,\"ticks\":\"\"},\"type\":\"choropleth\"}],\"contourcarpet\":[{\"colorbar\":{\"outlinewidth\":0,\"ticks\":\"\"},\"type\":\"contourcarpet\"}],\"contour\":[{\"colorbar\":{\"outlinewidth\":0,\"ticks\":\"\"},\"colorscale\":[[0.0,\"#0d0887\"],[0.1111111111111111,\"#46039f\"],[0.2222222222222222,\"#7201a8\"],[0.3333333333333333,\"#9c179e\"],[0.4444444444444444,\"#bd3786\"],[0.5555555555555556,\"#d8576b\"],[0.6666666666666666,\"#ed7953\"],[0.7777777777777778,\"#fb9f3a\"],[0.8888888888888888,\"#fdca26\"],[1.0,\"#f0f921\"]],\"type\":\"contour\"}],\"heatmapgl\":[{\"colorbar\":{\"outlinewidth\":0,\"ticks\":\"\"},\"colorscale\":[[0.0,\"#0d0887\"],[0.1111111111111111,\"#46039f\"],[0.2222222222222222,\"#7201a8\"],[0.3333333333333333,\"#9c179e\"],[0.4444444444444444,\"#bd3786\"],[0.5555555555555556,\"#d8576b\"],[0.6666666666666666,\"#ed7953\"],[0.7777777777777778,\"#fb9f3a\"],[0.8888888888888888,\"#fdca26\"],[1.0,\"#f0f921\"]],\"type\":\"heatmapgl\"}],\"heatmap\":[{\"colorbar\":{\"outlinewidth\":0,\"ticks\":\"\"},\"colorscale\":[[0.0,\"#0d0887\"],[0.1111111111111111,\"#46039f\"],[0.2222222222222222,\"#7201a8\"],[0.3333333333333333,\"#9c179e\"],[0.4444444444444444,\"#bd3786\"],[0.5555555555555556,\"#d8576b\"],[0.6666666666666666,\"#ed7953\"],[0.7777777777777778,\"#fb9f3a\"],[0.8888888888888888,\"#fdca26\"],[1.0,\"#f0f921\"]],\"type\":\"heatmap\"}],\"histogram2dcontour\":[{\"colorbar\":{\"outlinewidth\":0,\"ticks\":\"\"},\"colorscale\":[[0.0,\"#0d0887\"],[0.1111111111111111,\"#46039f\"],[0.2222222222222222,\"#7201a8\"],[0.3333333333333333,\"#9c179e\"],[0.4444444444444444,\"#bd3786\"],[0.5555555555555556,\"#d8576b\"],[0.6666666666666666,\"#ed7953\"],[0.7777777777777778,\"#fb9f3a\"],[0.8888888888888888,\"#fdca26\"],[1.0,\"#f0f921\"]],\"type\":\"histogram2dcontour\"}],\"histogram2d\":[{\"colorbar\":{\"outlinewidth\":0,\"ticks\":\"\"},\"colorscale\":[[0.0,\"#0d0887\"],[0.1111111111111111,\"#46039f\"],[0.2222222222222222,\"#7201a8\"],[0.3333333333333333,\"#9c179e\"],[0.4444444444444444,\"#bd3786\"],[0.5555555555555556,\"#d8576b\"],[0.6666666666666666,\"#ed7953\"],[0.7777777777777778,\"#fb9f3a\"],[0.8888888888888888,\"#fdca26\"],[1.0,\"#f0f921\"]],\"type\":\"histogram2d\"}],\"histogram\":[{\"marker\":{\"pattern\":{\"fillmode\":\"overlay\",\"size\":10,\"solidity\":0.2}},\"type\":\"histogram\"}],\"mesh3d\":[{\"colorbar\":{\"outlinewidth\":0,\"ticks\":\"\"},\"type\":\"mesh3d\"}],\"parcoords\":[{\"line\":{\"colorbar\":{\"outlinewidth\":0,\"ticks\":\"\"}},\"type\":\"parcoords\"}],\"pie\":[{\"automargin\":true,\"type\":\"pie\"}],\"scatter3d\":[{\"line\":{\"colorbar\":{\"outlinewidth\":0,\"ticks\":\"\"}},\"marker\":{\"colorbar\":{\"outlinewidth\":0,\"ticks\":\"\"}},\"type\":\"scatter3d\"}],\"scattercarpet\":[{\"marker\":{\"colorbar\":{\"outlinewidth\":0,\"ticks\":\"\"}},\"type\":\"scattercarpet\"}],\"scattergeo\":[{\"marker\":{\"colorbar\":{\"outlinewidth\":0,\"ticks\":\"\"}},\"type\":\"scattergeo\"}],\"scattergl\":[{\"marker\":{\"colorbar\":{\"outlinewidth\":0,\"ticks\":\"\"}},\"type\":\"scattergl\"}],\"scattermapbox\":[{\"marker\":{\"colorbar\":{\"outlinewidth\":0,\"ticks\":\"\"}},\"type\":\"scattermapbox\"}],\"scatterpolargl\":[{\"marker\":{\"colorbar\":{\"outlinewidth\":0,\"ticks\":\"\"}},\"type\":\"scatterpolargl\"}],\"scatterpolar\":[{\"marker\":{\"colorbar\":{\"outlinewidth\":0,\"ticks\":\"\"}},\"type\":\"scatterpolar\"}],\"scatter\":[{\"fillpattern\":{\"fillmode\":\"overlay\",\"size\":10,\"solidity\":0.2},\"type\":\"scatter\"}],\"scatterternary\":[{\"marker\":{\"colorbar\":{\"outlinewidth\":0,\"ticks\":\"\"}},\"type\":\"scatterternary\"}],\"surface\":[{\"colorbar\":{\"outlinewidth\":0,\"ticks\":\"\"},\"colorscale\":[[0.0,\"#0d0887\"],[0.1111111111111111,\"#46039f\"],[0.2222222222222222,\"#7201a8\"],[0.3333333333333333,\"#9c179e\"],[0.4444444444444444,\"#bd3786\"],[0.5555555555555556,\"#d8576b\"],[0.6666666666666666,\"#ed7953\"],[0.7777777777777778,\"#fb9f3a\"],[0.8888888888888888,\"#fdca26\"],[1.0,\"#f0f921\"]],\"type\":\"surface\"}],\"table\":[{\"cells\":{\"fill\":{\"color\":\"#EBF0F8\"},\"line\":{\"color\":\"white\"}},\"header\":{\"fill\":{\"color\":\"#C8D4E3\"},\"line\":{\"color\":\"white\"}},\"type\":\"table\"}]},\"layout\":{\"annotationdefaults\":{\"arrowcolor\":\"#2a3f5f\",\"arrowhead\":0,\"arrowwidth\":1},\"autotypenumbers\":\"strict\",\"coloraxis\":{\"colorbar\":{\"outlinewidth\":0,\"ticks\":\"\"}},\"colorscale\":{\"diverging\":[[0,\"#8e0152\"],[0.1,\"#c51b7d\"],[0.2,\"#de77ae\"],[0.3,\"#f1b6da\"],[0.4,\"#fde0ef\"],[0.5,\"#f7f7f7\"],[0.6,\"#e6f5d0\"],[0.7,\"#b8e186\"],[0.8,\"#7fbc41\"],[0.9,\"#4d9221\"],[1,\"#276419\"]],\"sequential\":[[0.0,\"#0d0887\"],[0.1111111111111111,\"#46039f\"],[0.2222222222222222,\"#7201a8\"],[0.3333333333333333,\"#9c179e\"],[0.4444444444444444,\"#bd3786\"],[0.5555555555555556,\"#d8576b\"],[0.6666666666666666,\"#ed7953\"],[0.7777777777777778,\"#fb9f3a\"],[0.8888888888888888,\"#fdca26\"],[1.0,\"#f0f921\"]],\"sequentialminus\":[[0.0,\"#0d0887\"],[0.1111111111111111,\"#46039f\"],[0.2222222222222222,\"#7201a8\"],[0.3333333333333333,\"#9c179e\"],[0.4444444444444444,\"#bd3786\"],[0.5555555555555556,\"#d8576b\"],[0.6666666666666666,\"#ed7953\"],[0.7777777777777778,\"#fb9f3a\"],[0.8888888888888888,\"#fdca26\"],[1.0,\"#f0f921\"]]},\"colorway\":[\"#636efa\",\"#EF553B\",\"#00cc96\",\"#ab63fa\",\"#FFA15A\",\"#19d3f3\",\"#FF6692\",\"#B6E880\",\"#FF97FF\",\"#FECB52\"],\"font\":{\"color\":\"#2a3f5f\"},\"geo\":{\"bgcolor\":\"white\",\"lakecolor\":\"white\",\"landcolor\":\"#E5ECF6\",\"showlakes\":true,\"showland\":true,\"subunitcolor\":\"white\"},\"hoverlabel\":{\"align\":\"left\"},\"hovermode\":\"closest\",\"mapbox\":{\"style\":\"light\"},\"paper_bgcolor\":\"white\",\"plot_bgcolor\":\"#E5ECF6\",\"polar\":{\"angularaxis\":{\"gridcolor\":\"white\",\"linecolor\":\"white\",\"ticks\":\"\"},\"bgcolor\":\"#E5ECF6\",\"radialaxis\":{\"gridcolor\":\"white\",\"linecolor\":\"white\",\"ticks\":\"\"}},\"scene\":{\"xaxis\":{\"backgroundcolor\":\"#E5ECF6\",\"gridcolor\":\"white\",\"gridwidth\":2,\"linecolor\":\"white\",\"showbackground\":true,\"ticks\":\"\",\"zerolinecolor\":\"white\"},\"yaxis\":{\"backgroundcolor\":\"#E5ECF6\",\"gridcolor\":\"white\",\"gridwidth\":2,\"linecolor\":\"white\",\"showbackground\":true,\"ticks\":\"\",\"zerolinecolor\":\"white\"},\"zaxis\":{\"backgroundcolor\":\"#E5ECF6\",\"gridcolor\":\"white\",\"gridwidth\":2,\"linecolor\":\"white\",\"showbackground\":true,\"ticks\":\"\",\"zerolinecolor\":\"white\"}},\"shapedefaults\":{\"line\":{\"color\":\"#2a3f5f\"}},\"ternary\":{\"aaxis\":{\"gridcolor\":\"white\",\"linecolor\":\"white\",\"ticks\":\"\"},\"baxis\":{\"gridcolor\":\"white\",\"linecolor\":\"white\",\"ticks\":\"\"},\"bgcolor\":\"#E5ECF6\",\"caxis\":{\"gridcolor\":\"white\",\"linecolor\":\"white\",\"ticks\":\"\"}},\"title\":{\"x\":0.05},\"xaxis\":{\"automargin\":true,\"gridcolor\":\"white\",\"linecolor\":\"white\",\"ticks\":\"\",\"title\":{\"standoff\":15},\"zerolinecolor\":\"white\",\"zerolinewidth\":2},\"yaxis\":{\"automargin\":true,\"gridcolor\":\"white\",\"linecolor\":\"white\",\"ticks\":\"\",\"title\":{\"standoff\":15},\"zerolinecolor\":\"white\",\"zerolinewidth\":2}}},\"title\":{\"text\":\"Normalized parameter sensitivity\"},\"updatemenus\":[{\"buttons\":[{\"args\":[\"visible\",[true,true,true]],\"label\":\"rmse\",\"method\":\"restyle\"}],\"pad\":{\"t\":-40},\"x\":0,\"xanchor\":\"left\",\"y\":1,\"yanchor\":\"top\"}],\"width\":520,\"xaxis\":{\"tickformat\":\".0%\"}},                        {\"responsive\": true}                    ).then(function(){\n",
       "                            \n",
       "var gd = document.getElementById('c356843e-f3f4-4b0f-abb2-771af01fc5fe');\n",
       "var x = new MutationObserver(function (mutations, observer) {{\n",
       "        var display = window.getComputedStyle(gd).display;\n",
       "        if (!display || display === 'none') {{\n",
       "            console.log([gd, 'removed!']);\n",
       "            Plotly.purge(gd);\n",
       "            observer.disconnect();\n",
       "        }}\n",
       "}});\n",
       "\n",
       "// Listen for the removal of the full notebook cells\n",
       "var notebookContainer = gd.closest('#notebook-container');\n",
       "if (notebookContainer) {{\n",
       "    x.observe(notebookContainer, {childList: true});\n",
       "}}\n",
       "\n",
       "// Listen for the clearing of the current output cell\n",
       "var outputEl = gd.closest('.output');\n",
       "if (outputEl) {{\n",
       "    x.observe(outputEl, {childList: true});\n",
       "}}\n",
       "\n",
       "                        })                };                });            </script>        </div>"
      ]
     },
     "metadata": {},
     "output_type": "display_data"
    }
   ],
   "source": [
    "render(ax_client.get_feature_importances())"
   ]
  },
  {
   "cell_type": "code",
   "execution_count": 82,
   "metadata": {},
   "outputs": [
    {
     "name": "stderr",
     "output_type": "stream",
     "text": [
      "[INFO 11-01 18:26:23] ax.service.ax_client: Retrieving contour plot with parameter 'patience' on X-axis and 'lr' on Y-axis, for metric 'rmse'. Remaining parameters are affixed to the middle of their range.\n"
     ]
    },
    {
     "data": {
      "application/vnd.plotly.v1+json": {
       "config": {
        "linkText": "Export to plot.ly",
        "plotlyServerURL": "https://plot.ly",
        "showLink": false
       },
       "data": [
        {
         "autocolorscale": false,
         "autocontour": true,
         "colorbar": {
          "tickfont": {
           "size": 8
          },
          "ticksuffix": "",
          "x": 0.45,
          "y": 0.5
         },
         "colorscale": [
          [
           0,
           "rgb(247,252,253)"
          ],
          [
           0.125,
           "rgb(229,245,249)"
          ],
          [
           0.25,
           "rgb(204,236,230)"
          ],
          [
           0.375,
           "rgb(153,216,201)"
          ],
          [
           0.5,
           "rgb(102,194,164)"
          ],
          [
           0.625,
           "rgb(65,174,118)"
          ],
          [
           0.75,
           "rgb(35,139,69)"
          ],
          [
           0.875,
           "rgb(0,109,44)"
          ],
          [
           1,
           "rgb(0,68,27)"
          ]
         ],
         "contours": {
          "coloring": "heatmap"
         },
         "hoverinfo": "x+y+z",
         "ncontours": 25,
         "type": "contour",
         "x": [
          5,
          5.3061224489795915,
          5.612244897959184,
          5.918367346938775,
          6.224489795918368,
          6.530612244897959,
          6.836734693877551,
          7.142857142857142,
          7.448979591836735,
          7.755102040816327,
          8.061224489795919,
          8.36734693877551,
          8.673469387755102,
          8.979591836734695,
          9.285714285714285,
          9.591836734693878,
          9.89795918367347,
          10.204081632653061,
          10.510204081632654,
          10.816326530612244,
          11.122448979591837,
          11.428571428571429,
          11.73469387755102,
          12.040816326530614,
          12.346938775510203,
          12.653061224489797,
          12.959183673469388,
          13.26530612244898,
          13.571428571428571,
          13.877551020408163,
          14.183673469387756,
          14.489795918367347,
          14.795918367346939,
          15.10204081632653,
          15.408163265306122,
          15.714285714285715,
          16.02040816326531,
          16.3265306122449,
          16.632653061224488,
          16.93877551020408,
          17.244897959183675,
          17.551020408163268,
          17.857142857142858,
          18.163265306122447,
          18.46938775510204,
          18.775510204081634,
          19.081632653061227,
          19.387755102040817,
          19.693877551020407,
          20
         ],
         "xaxis": "x",
         "y": [
          0.00001,
          0.000012648552168552958,
          0.000015998587196060572,
          0.000020235896477251556,
          0.00002559547922699533,
          0.00003237457542817647,
          0.00004094915062380427,
          0.000051794746792312125,
          0.0000655128556859551,
          0.00008286427728546843,
          0.00010481131341546853,
          0.00013257113655901095,
          0.00016768329368110083,
          0.00021209508879201905,
          0.0002682695795279727,
          0.000339322177189533,
          0.00042919342601287783,
          0.0005428675439323859,
          0.0006866488450042998,
          0.000868511373751353,
          0.0010985411419875584,
          0.0013894954943731374,
          0.001757510624854793,
          0.0022229964825261957,
          0.002811768697974231,
          0.0035564803062231283,
          0.004498432668969444,
          0.005689866029018299,
          0.0071968567300115215,
          0.009102981779915217,
          0.011513953993264481,
          0.014563484775012445,
          0.018420699693267165,
          0.023299518105153717,
          0.029470517025518096,
          0.037275937203149416,
          0.04714866363457394,
          0.05963623316594643,
          0.07543120063354623,
          0.09540954763499944,
          0.1206792640639329,
          0.15264179671752334,
          0.19306977288832497,
          0.244205309454865,
          0.30888435964774846,
          0.3906939937054621,
          0.49417133613238384,
          0.6250551925273976,
          0.7906043210907702,
          1
         ],
         "yaxis": "y",
         "z": [
          [
           2.265976881956119,
           2.254270191417097,
           2.2369417118519954,
           2.224902289258811,
           2.2280537136968865,
           2.242451400009631,
           2.2549238879111364,
           2.2569453294582473,
           2.2507594395998143,
           2.254069153175743,
           2.3031053789394282,
           2.427025013383809,
           2.589329375365527,
           2.6795193797972767,
           2.625692447572119,
           2.4848535752200345,
           2.3565793659457475,
           2.268089741300619,
           2.1964741664197507,
           2.1425501876285615,
           2.1327696823994398,
           2.1681308437168614,
           2.2146969509684906,
           2.2453549549378624,
           2.259090595976803,
           2.263727657899495,
           2.2619593356027803,
           2.2522159578061727,
           2.235944891639159,
           2.2233914218122286,
           2.2266901245388433,
           2.247065067296821,
           2.282021225191661,
           2.3463149161051327,
           2.4599442225298462,
           2.590998202281901,
           2.645605135901417,
           2.5730154757880483,
           2.4375754427484657,
           2.332520132913946,
           2.2846143008470325,
           2.2709706103289804,
           2.2686815150972115,
           2.268557467372659,
           2.2685397284192668,
           2.2682200352687745,
           2.2671153186378534,
           2.26477877410554,
           2.2618925325795893,
           2.2605122725078903
          ],
          [
           2.266279951811468,
           2.253615618601192,
           2.234817568896853,
           2.221736311421316,
           2.22505048234363,
           2.2404743340478244,
           2.2537506415418447,
           2.2555399030477115,
           2.248050976275102,
           2.2501038901870123,
           2.3000143274553335,
           2.428120451720702,
           2.5961590377629915,
           2.689801798067207,
           2.6350750907433413,
           2.4906103516713394,
           2.3582818167977977,
           2.265193995596116,
           2.187670067275567,
           2.128580312269704,
           2.118130458305368,
           2.1577385192222716,
           2.2097612526515737,
           2.243895029146037,
           2.258898851482616,
           2.2636468709569164,
           2.2613699972647483,
           2.2503680579391587,
           2.2321811570640575,
           2.218168443186124,
           2.2217976267531947,
           2.244142502306339,
           2.281249796587737,
           2.346899627345872,
           2.461237023139476,
           2.5927275590115233,
           2.647406390725248,
           2.574346975916077,
           2.4381676944992545,
           2.33256257559909,
           2.284460692288439,
           2.270841029685153,
           2.268622017138014,
           2.2685386770730305,
           2.2685281372944384,
           2.2681768429387614,
           2.2669580636965008,
           2.264379879665058,
           2.2611951287308854,
           2.2596721147846575
          ],
          [
           2.2667355732558523,
           2.253102978812401,
           2.2328041486755326,
           2.218653199169742,
           2.2221049190294595,
           2.23852451953107,
           2.252559444444892,
           2.254027524311217,
           2.245072762203423,
           2.2456516526207166,
           2.2961976570632263,
           2.4281855234525893,
           2.601593416890597,
           2.698511065551088,
           2.6431116427076455,
           2.4954758014026406,
           2.3594226951442616,
           2.261783280975303,
           2.178168028391418,
           2.1137063651469763,
           2.102622790547146,
           2.146810572031114,
           2.2046921083319146,
           2.2425380581659478,
           2.2588466432899095,
           2.2636415820322586,
           2.2607669317181758,
           2.2483898279572854,
           2.228137442705402,
           2.2125550452319263,
           2.216537101027547,
           2.2409818705180284,
           2.2803149540900476,
           2.3471442572149512,
           2.4616735494222173,
           2.5929590744396767,
           2.6474278077309203,
           2.5742225547223563,
           2.437926713419906,
           2.3322583302847,
           2.284191738906678,
           2.2706759132454115,
           2.2685518955711186,
           2.268517104400243,
           2.268515529831889,
           2.268130952724575,
           2.2667911321154626,
           2.2639564490201423,
           2.2604548276467633,
           2.258780279064304
          ],
          [
           2.2673739420983816,
           2.2527722240495356,
           2.230953047546587,
           2.215711530070111,
           2.2192679683441425,
           2.236633459924653,
           2.2513631118427124,
           2.252409110335955,
           2.241817473744014,
           2.2406957287230758,
           2.2916230614310913,
           2.427160040672848,
           2.6055362038427976,
           2.7055278656300503,
           2.6496873413018887,
           2.4993550452978806,
           2.35992912988127,
           2.2578154796118746,
           2.167969358403861,
           2.097969398630283,
           2.086305454570311,
           2.135403310600195,
           2.199537433614347,
           2.2413230714835892,
           2.258961056951577,
           2.263725938618421,
           2.2601554237113515,
           2.246282764594099,
           2.2238142878601916,
           2.206551655683123,
           2.210908824425475,
           2.2375827922345244,
           2.2792140011637927,
           2.3470393255582005,
           2.4612306829530537,
           2.591653437097952,
           2.6456228769996293,
           2.572603501331677,
           2.436828890066743,
           2.3315957065574437,
           2.283802006073228,
           2.2704728284383053,
           2.268470232644164,
           2.2684924891891782,
           2.2685018413534443,
           2.268082287106641,
           2.2666142640071207,
           2.263507824425967,
           2.25967047943205,
           2.2578353800779714
          ],
          [
           2.2682284870664082,
           2.2526674098285238,
           2.2293209507296656,
           2.2129755359151746,
           2.216595463049609,
           2.2348357471514553,
           2.250176081819659,
           2.2506870539978605,
           2.238280522681035,
           2.2352242853929734,
           2.2862657872024297,
           2.4249951009907837,
           2.607906758610973,
           2.710750065629224,
           2.654700105166798,
           2.5021577989031307,
           2.3597275468797703,
           2.2532497734588466,
           2.1570851012810053,
           2.081428841328202,
           2.0692575924765615,
           2.123588120317253,
           2.1943530372667484,
           2.240292272767252,
           2.259270326024723,
           2.2639146045620553,
           2.259541413010763,
           2.244049962113476,
           2.219215409492932,
           2.20016309758487,
           2.2049171904504994,
           2.233947480073885,
           2.277945852818019,
           2.346578621118481,
           2.4598937516175288,
           2.5887862477427683,
           2.641962815355097,
           2.569465488139764,
           2.4348586042489058,
           2.3305660285217633,
           2.2832868059827494,
           2.2702294470874915,
           2.2683761100857947,
           2.2684645661784675,
           2.268486997651042,
           2.268030723029681,
           2.2664270323523685,
           2.2630329241012315,
           2.2588401928268134,
           2.256835139439537
          ],
          [
           2.2693358584117833,
           2.252836519206605,
           2.227969210128295,
           2.2105145086711593,
           2.2141475718987316,
           2.2331687200913293,
           2.2490143110142,
           2.2488653462504318,
           2.234460453760353,
           2.2292310865935283,
           2.280109662363684,
           2.4216544628655816,
           2.608641891883775,
           2.71409469644348,
           2.658062248736943,
           2.5037995707347243,
           2.358744510257524,
           2.2480474699614557,
           2.1455371299341337,
           2.0641638672440585,
           2.0515799667769445,
           2.111452113407107,
           2.1892025533379225,
           2.2394905742546065,
           2.259803375140658,
           2.264222505839663,
           2.258931436172146,
           2.241696211087568,
           2.2143479502670327,
           2.1933989382990267,
           2.1985710338637348,
           2.230080929771011,
           2.276511094293885,
           2.3457592248334795,
           2.4576566255839762,
           2.5843482299375635,
           2.6364368379379877,
           2.5647988105573836,
           2.4320083881996175,
           2.329163734779399,
           2.2826422573763656,
           2.2699435767881844,
           2.2682686217051287,
           2.268433068181959,
           2.268470912089536,
           2.2679760726188696,
           2.266228771625763,
           2.262530061100208,
           2.2579610185292447,
           2.255776004146714
          ],
          [
           2.2707358481677606,
           2.2533311790813544,
           2.226963262081101,
           2.2084020123394192,
           2.211988074607908,
           2.2316720145199587,
           2.2478951214973644,
           2.2469496777635904,
           2.230359321706041,
           2.222716171114511,
           2.2731480356652676,
           2.4171157388806934,
           2.607697350733136,
           2.715499594405909,
           2.6597019647941473,
           2.5042028247535444,
           2.3569076668230635,
           2.2421729071183636,
           2.1333591562225647,
           2.04627450817857,
           2.033395894208753,
           2.0990985094906254,
           2.1841571861445304,
           2.238965006529583,
           2.260589285544075,
           2.26466453607831,
           2.2583325473132425,
           2.2392280732981753,
           2.209222684947324,
           2.186273781678037,
           2.191883902332379,
           2.225991076868842,
           2.2749120144388226,
           2.344581473383348,
           2.454521659814681,
           2.578345172058708,
           2.629052112224762,
           2.5586083715463626,
           2.4282789522357375,
           2.327386432019795,
           2.281865338779674,
           2.2696131946760407,
           2.268146887804928,
           2.268397729796672,
           2.268453482327225,
           2.2679180611998455,
           2.2660184964291292,
           2.261996736828423,
           2.257028588186404,
           2.254652711675504
          ],
          [
           2.2724712328116956,
           2.254206261416126,
           2.2263718814668976,
           2.206714900157066,
           2.2101834645553153,
           2.230387004800157,
           2.246836997704337,
           2.244947515113449,
           2.225983035981521,
           2.2156864692921454,
           2.26538459930498,
           2.411371372628513,
           2.6050489670976895,
           2.7149246633244397,
           2.659564544256432,
           2.5032980958193836,
           2.3541467936661093,
           2.2355944290697662,
           2.120597621599772,
           2.0278824471580346,
           2.0148517937975208,
           2.08664670299384,
           2.1792952529078273,
           2.238764005907889,
           2.2616566894152115,
           2.2652552257056104,
           2.2577522181672256,
           2.236653929132347,
           2.203854177034088,
           2.178807492072826,
           2.1848742644656136,
           2.2216889135454685,
           2.2731526134341733,
           2.343048867047478,
           2.4504994913004015,
           2.570797612883923,
           2.6198334080508605,
           2.550913421708322,
           2.423679078801506,
           2.3252349043829095,
           2.280953935736838,
           2.269236483620321,
           2.268010071389363,
           2.2683582916464813,
           2.268434586713636,
           2.267856302950784,
           2.265794811343217,
           2.2614294122712266,
           2.256036714418998,
           2.253457808132591
          ],
          [
           2.274587529671103,
           2.255519364210495,
           2.226266273079428,
           2.205532142655305,
           2.208801885395019,
           2.2293561411810843,
           2.245859333766953,
           2.242868146964123,
           2.221341661192495,
           2.208156337907047,
           2.2568340679685845,
           2.404429369002415,
           2.6006934362363596,
           2.7123527246917423,
           2.6576133101657047,
           2.5010250485408285,
           2.350394946014232,
           2.2282854198286,
           2.1073124313505076,
           2.009131432146342,
           1.9961172865173695,
           2.0742319775388145,
           2.174701513193829,
           2.238936585891506,
           2.2630331024599513,
           2.2660083803332487,
           2.257198218436958,
           2.2339839943274287,
           2.1982608781686523,
           2.1710253397472634,
           2.177565644654326,
           2.2171885604303685,
           2.2712385851989167,
           2.341167927690987,
           2.4456087035783884,
           2.5617402904530597,
           2.608822466050327,
           2.5417470727773814,
           2.4182253945876795,
           2.3227130820047757,
           2.2799068826647275,
           2.2688118707832294,
           2.26785739608711,
           2.268314505145441,
           2.2684140804535375,
           2.2677902746931893,
           2.2655558138661793,
           2.2608232616771855,
           2.2549769601707763,
           2.25218112945331
          ],
          [
           2.2771326593384336,
           2.257330169599589,
           2.226719006120863,
           2.2049334786502377,
           2.207911913784626,
           2.228622190350574,
           2.2449821332213697,
           2.240722696101143,
           2.216449661020794,
           2.2001479927045176,
           2.2475226890196875,
           2.396313752783009,
           2.5946487016801467,
           2.707789935182733,
           2.6538302506679554,
           2.4973334713225017,
           2.34558969897521,
           2.220225378994673,
           2.093577495077337,
           1.9901872529875058,
           1.9773847895715786,
           2.062004833180849,
           2.1704662795214578,
           2.2395314036162053,
           2.2647442074276705,
           2.2669366956819514,
           2.256678478244928,
           2.2312303035388084,
           2.192465163807105,
           2.162958058561504,
           2.169986676340615,
           2.2125072890527524,
           2.2691772754158865,
           2.338948014192405,
           2.4398753748777526,
           2.551221380479928,
           2.5960771146922617,
           2.531155608578466,
           2.411942033705785,
           2.3198279731883718,
           2.2787240000168,
           2.2683380683713676,
           2.267688165641979,
           2.2682661377473963,
           2.268391791657353,
           2.2677192885184043,
           2.2652989930108114,
           2.2601719152226307,
           2.2538381887928964,
           2.2508092593911377
          ],
          [
           2.280156507658086,
           2.259699679389973,
           2.227802802900613,
           2.2049979080480915,
           2.2075812066217724,
           2.2282273907967367,
           2.244225664788029,
           2.2385240937753066,
           2.2113260739696377,
           2.1916918188696473,
           2.2374885611503372,
           2.387064736330177,
           2.586953933350564,
           2.701265762291874,
           2.6482163438319875,
           2.4921841984569775,
           2.339674472679574,
           2.211401019421025,
           2.079481036950586,
           1.9712372305574986,
           1.9588685565711776,
           2.0501298998843396,
           2.1666843094429438,
           2.240595736742774,
           2.2668131042615567,
           2.2680513579690045,
           2.2562009352517074,
           2.2284066589414007,
           2.18649329987701,
           2.154641808439376,
           2.1621710668832317,
           2.207665491521198,
           2.266977616694764,
           2.336401103777188,
           2.4333325292665995,
           2.539301555966872,
           2.5816701724587476,
           2.5191976225862627,
           2.4048602075401897,
           2.3165895654104687,
           2.277406127427746,
           2.2678141162649568,
           2.2675017847479184,
           2.268212978629663,
           2.2683675174299402,
           2.2676424641417996,
           2.2650211268528824,
           2.259467199011681,
           2.2526061094696264,
           2.249324981894923
          ],
          [
           2.28371038253388,
           2.2626893315669268,
           2.229589198202654,
           2.2058020521641364,
           2.2078750373448175,
           2.22821253842311,
           2.243610079680941,
           2.236287013591481,
           2.2059946100190566,
           2.182826541378385,
           2.226781742129312,
           2.376738583795897,
           2.5776690961007085,
           2.6928325209048527,
           2.6407915751056663,
           2.485549953716048,
           2.3325999257152144,
           2.2018073629833466,
           2.065125641351175,
           1.9524891755346407,
           1.9408031257274196,
           2.038784419874367,
           2.1634534859193386,
           2.242174390654327,
           2.2692595453590942,
           2.2693616401236874,
           2.255773369763888,
           2.2255285429136573,
           2.1803753365861693,
           2.1461180371162656,
           2.154157469022868,
           2.202686595133145,
           2.2646500428762772,
           2.3335415484849604,
           2.426019512326302,
           2.5260529036144117,
           2.5656881764145547,
           2.50594301495333,
           2.3970176987901963,
           2.3130107008447913,
           2.27595515340435,
           2.267239426049476,
           2.2672977809252264,
           2.2681548447386235,
           2.2683410201805034,
           2.267558702067365,
           2.2647181830278322,
           2.2586988825549694,
           2.2512628357193676,
           2.247706749237874
          ],
          [
           2.2878463628817403,
           2.266360004767664,
           2.2321470911158334,
           2.2074184138158404,
           2.2088547517275257,
           2.2286160215694806,
           2.243154997634253,
           2.234027763116536,
           2.2004836585479666,
           2.1735992394466095,
           2.215464130374186,
           2.3654071663748537,
           2.5668741166151925,
           2.682564485316004,
           2.6315946557550163,
           2.4774161090052362,
           2.324325396740298,
           2.1914488070063785,
           2.0506280029893875,
           1.9341697849905377,
           1.9234411514827712,
           2.0281562923072323,
           2.160873299723289,
           2.2443085599287533,
           2.2720991767771594,
           2.2708745053926664,
           2.255403231835822,
           2.2226129947656434,
           2.1741449272055333,
           2.1374332379241827,
           2.1459892560401133,
           2.1975969208257427,
           2.2622063848762015,
           2.330385816337895,
           2.4179813140643884,
           2.5115577349770097,
           2.548229981290198,
           2.491471884129855,
           2.3884582982794065,
           2.309106932234576,
           2.2743740419383407,
           2.266613825797955,
           2.2670758270527447,
           2.268091587104562,
           2.2683120243644876,
           2.2674666588217804,
           2.2643852268250604,
           2.257854445524707,
           2.249786477597487,
           2.2459281907468926
          ],
          [
           2.292616539513076,
           2.2707709213231286,
           2.2355412162078463,
           2.2099135754777177,
           2.2105761789259404,
           2.229472827953221,
           2.242879070464408,
           2.231764132464114,
           2.194826199572607,
           2.16406519229761,
           2.203609109854606,
           2.3531572105128364,
           2.554667667022853,
           2.6705566022800316,
           2.6206824574938685,
           2.4677813512407902,
           2.3148203689542117,
           2.1803401307132324,
           2.036118355409761,
           1.9165224580223386,
           1.9070506105600105,
           2.0184416858357106,
           2.159043154680267,
           2.247034671663303,
           2.2753428080175704,
           2.2725942307712694,
           2.2550974649532196,
           2.2196784524310775,
           2.167839071453878,
           2.12863860284717,
           2.137714199980556,
           2.192425485670961,
           2.2596597507524114,
           2.3269522266800586,
           2.409267861959951,
           2.495907331019412,
           2.5294052741484854,
           2.47587334890385,
           2.3792312033194896,
           2.3048963647815057,
           2.272666856151707,
           2.265937604767323,
           2.2668357640899925,
           2.2680230973127746,
           2.2682802138918325,
           2.2673647256678384,
           2.264016342086714,
           2.25691887699889,
           2.2481507907017155,
           2.2439576899615723
          ],
          [
           2.2980721505568087,
           2.2759784631308575,
           2.2398305655601503,
           2.213346378996545,
           2.2130880380594355,
           2.2308135488993535,
           2.242799533442789,
           2.229515200313056,
           2.1890596124569806,
           2.1542875471203886,
           2.1913009532081715,
           2.340089248487934,
           2.5411655933901836,
           2.6569228407422,
           2.608129184455186,
           2.456658249722545,
           2.304065926923552,
           2.1685074084829394,
           2.0217395579794517,
           1.8998045266513228,
           1.8919113908707743,
           2.0098422377919576,
           2.158060523561567,
           2.250383241149132,
           2.2789957341480793,
           2.274522063180345,
           2.2548623313377845,
           2.216744561014544,
           2.1614977850152846,
           2.119789572698824,
           2.1293840547275895,
           2.187203750948782,
           2.257024392845262,
           2.3232606886305645,
           2.399933306223538,
           2.4792006577817274,
           2.509333048734678,
           2.4592443358559635,
           2.3693903957824443,
           2.300399489248636,
           2.2708387787578435,
           2.265211556987572,
           2.2665776234471324,
           2.2679493139985762,
           2.2682452304528242,
           2.2672510123205614,
           2.2636045705379955,
           2.2558745214736105,
           2.2463249069448046,
           2.241758060297723
          ],
          [
           2.304262617173558,
           2.282034918227432,
           2.2450667971644824,
           2.2177661344922837,
           2.216430384079482,
           2.23266340841442,
           2.2429317559643125,
           2.227301099095862,
           2.1832253787281823,
           2.144336804323735,
           2.1786339837906814,
           2.3263162881527646,
           2.526499026159163,
           2.6417942225936484,
           2.5940253085009206,
           2.4440737149915654,
           2.2920561703623092,
           2.155988794928457,
           2.0076458289369405,
           1.8842839148571708,
           1.878311290642225,
           2.0025618724905656,
           2.158018989103886,
           2.254377772454088,
           2.2830571343438475,
           2.276655921346669,
           2.254703244201067,
           2.2138319510349365,
           2.1551636986611795,
           2.1109452889520806,
           2.1210540481581543,
           2.1819653186611356,
           2.25431556488884,
           2.3193324506661397,
           2.3900353176047484,
           2.4615430883505143,
           2.4881400808181646,
           2.441688364929087,
           2.3589940166131975,
           2.295639010734418,
           2.2688961287517504,
           2.264437022547657,
           2.2663016483932856,
           2.2678702292162405,
           2.2682066730211496,
           2.267123337253856,
           2.2631418754153874,
           2.2547009865299223,
           2.2442731731213903,
           2.239286350569828
          ],
          [
           2.3112344887279264,
           2.2889871793684247,
           2.251292668320983,
           2.223210908867258,
           2.2206331388779073,
           2.235041346039167,
           2.243288803894699,
           2.2251427424119408,
           2.1773686784172943,
           2.1342901199013045,
           2.1657115035376586,
           2.3119622256661274,
           2.5108122172961953,
           2.6253165858797454,
           2.578476297498062,
           2.4300693386072236,
           2.278799545138296,
           2.14283514603417,
           1.9940011207248007,
           1.8702352564562776,
           1.8665414749400266,
           1.9968032851237858,
           2.159006210681492,
           2.2590337375234784,
           2.2875195703954345,
           2.2789901558978842,
           2.2546246123787794,
           2.2109619900996904,
           2.148881592362637,
           2.1021679544018337,
           2.1127822900399735,
           2.1767455806337193,
           2.2515493719219513,
           2.315189868070254,
           2.379634415498212,
           2.4430451624178593,
           2.4659594414028296,
           2.4233143622111672,
           2.3481037513965775,
           2.2906396766107013,
           2.2668463733521493,
           2.263615925227658,
           2.266008313838973,
           2.267785894516935,
           2.268164098791667,
           2.266979226190017,
           2.262619135277121,
           2.253375127087333,
           2.24195512337559,
           2.2364938118228954
          ],
          [
           2.3190303101899996,
           2.296875419081195,
           2.258540534801737,
           2.2297059456072317,
           2.2257147543266687,
           2.237959182871005,
           2.2438810265039204,
           2.2230615190313148,
           2.171537882366806,
           2.124230429781434,
           2.15264449981233,
           2.2971600315466034,
           2.4942601552038055,
           2.607648137154996,
           2.561601168555037,
           2.414701601624574,
           2.2643200483194876,
           2.129110440991392,
           1.9809771434614758,
           1.8579355210307793,
           1.8568914568462878,
           1.992764151392045,
           2.161101862332989,
           2.264357667336289,
           2.2923686072745846,
           2.2815153792301963,
           2.2546297026769397,
           2.2081565125479905,
           2.1426978716007197,
           2.093522112374291,
           2.1046291046396255,
           2.1715813255517893,
           2.2487426156529504,
           2.3108561934230694,
           2.368793340825772,
           2.4238214096179393,
           2.4429290788758364,
           2.404235524335154,
           2.336784238907189,
           2.285428105989901,
           2.2646981338337584,
           2.2627508050035,
           2.265698343790333,
           2.2676964265592865,
           2.268117025796355,
           2.2668159202991958,
           2.2620261736411496,
           2.251871120569399,
           2.239325610615536,
           2.2333260556466357
          ],
          [
           2.3276874282430735,
           2.3057317684153587,
           2.2668309575107233,
           2.237262267126748,
           2.231681053089141,
           2.241420899593528,
           2.2447156809984126,
           2.221078959108453,
           2.1657839461039483,
           2.114245406287934,
           2.139550150667497,
           2.2820497461609675,
           2.477006013145135,
           2.588956853013789,
           2.543530899332556,
           2.398041938000386,
           2.2486582617785964,
           2.114891971084453,
           1.968751052783083,
           1.8476592156623268,
           1.8496436901841695,
           1.9906331358683023,
           2.164375591898253,
           2.2703463873852034,
           2.297582575469942,
           2.284218375249464,
           2.25472052495003,
           2.2054375322842366,
           2.1366599947497367,
           2.0850738565262312,
           2.096656299130475,
           2.1665103103509273,
           2.2459126376669047,
           2.3063553935403536,
           2.3575764843858202,
           2.4039892568429355,
           2.419190494306008,
           2.384568253378685,
           2.3251025114735566,
           2.2800326218653266,
           2.2624611835364643,
           2.2618448438690995,
           2.2653727257548875,
           2.267602012069097,
           2.2680649374146284,
           2.266630395493646,
           2.2613518295720723,
           2.2501606459779104,
           2.2363351195972596,
           2.229723431345549
          ],
          [
           2.3372367562722633,
           2.3155790288662152,
           2.27617145807691,
           2.2458755086922397,
           2.2385242905222746,
           2.245422053739079,
           2.2457966073173177,
           2.219216379372491,
           2.160159714069562,
           2.1044262621122063,
           2.1265501539566465,
           2.2667763256497775,
           2.459218489936898,
           2.569417792200858,
           2.5244067304967586,
           2.3801766379248,
           2.231872168014791,
           2.100270265108331,
           1.9575028291158532,
           1.8396732481558367,
           1.8450678791162098,
           1.9905857836089254,
           2.1688850537338045,
           2.276986427257825,
           2.303132491534046,
           2.2870820971481716,
           2.2548977444097935,
           2.2028269445592144,
           2.130815861861942,
           2.076889985321648,
           2.0889263807453413,
           2.161570803300787,
           2.2430771625269954,
           2.3017119943918183,
           2.3460493772605364,
           2.383668033180506,
           2.394887526566887,
           2.3644311751021165,
           2.313127472654789,
           2.27448308582999,
           2.2601464360475836,
           2.2609018833908285,
           2.265032721384179,
           2.267502911962726,
           2.2680072889530334,
           2.2664193939774004,
           2.260584073512682,
           2.2482131777767185,
           2.2329302807370563,
           2.225621644925306
          ],
          [
           2.347701521974068,
           2.3264294485837684,
           2.2865554632008402,
           2.255525028923418,
           2.2462224767906642,
           2.249949360735385,
           2.2471239650431616,
           2.2174945150499807,
           2.1547191460983877,
           2.0948664223062154,
           2.1137689112898905,
           2.2514873831491853,
           2.44106910293573,
           2.5492103791665968,
           2.504378391306878,
           2.3612065753890477,
           2.2140377026622384,
           2.085348725388456,
           1.9474123863867012,
           1.8342315540578682,
           1.8434151264181642,
           1.9927803891842184,
           2.1746740686690815,
           2.284253630410716,
           2.3089821491957285,
           2.290085759009837,
           2.2551606249422282,
           2.2003462228250132,
           2.1252131763711417,
           2.0690371169612543,
           2.081501737147038,
           2.156801106850815,
           2.240254142437994,
           2.296950953637464,
           2.334278245672398,
           2.362978079329866,
           2.3701652561470183,
           2.3439442471222374,
           2.30092941434525,
           2.268810734100785,
           2.2577659213498533,
           2.259926432438914,
           2.2646798726701056,
           2.2673994644523248,
           2.267943516414143,
           2.26617946890493,
           2.259710171523712,
           2.2459964026137267,
           2.229054598688961,
           2.2209526368052894
          ],
          [
           2.3590960246236707,
           2.3382835949120135,
           2.297961474623672,
           2.266173336075589,
           2.254738992499084,
           2.2549804595887712,
           2.248694042998691,
           2.215933147063555,
           2.1495164809496554,
           2.0856600895590303,
           2.101331602744609,
           2.2363308728806457,
           2.4227294928955456,
           2.528515717603885,
           2.483602278405478,
           2.3412467443694367,
           2.1952490008136993,
           2.070242954509779,
           1.9386564588727584,
           1.8315696043829361,
           1.8449120560009376,
           1.9973539446326227,
           2.181770964414141,
           2.2921129854282682,
           2.315088388605309,
           2.2932050242993665,
           2.2555070063106126,
           2.19801611697671,
           2.1198987921151806,
           2.061580781813355,
           2.074443795638727,
           2.1522390688309336,
           2.2374616047338023,
           2.292097558612569,
           2.322329628599963,
           2.3420399616957503,
           2.345169028829406,
           2.3232279575112753,
           2.288579572177122,
           2.2630480125321895,
           2.2553327476344704,
           2.25892366363598,
           2.2643160030708076,
           2.267292086960943,
           2.267873047505882,
           2.2659070426151087,
           2.2587168996674087,
           2.243476763286198,
           2.2246494033892366,
           2.215645727535714
          ],
          [
           2.3714244319202296,
           2.351129355452644,
           2.310352497340133,
           2.277765861866755,
           2.264022523854208,
           2.2604838794194113,
           2.2504991503832423,
           2.2145507335944687,
           2.14460535426773,
           2.076900732226746,
           2.089362192321195,
           2.2214527661692407,
           2.404368798187576,
           2.507513988571934,
           2.4622396153189396,
           2.320425589017313,
           2.17561829889907,
           2.055079760263611,
           1.9314053249369842,
           1.831898922887079,
           1.8497550556299542,
           2.004418272427135,
           2.190187147462252,
           2.300518694278412,
           2.3214015459488646,
           2.296412291294001,
           2.2559333170741946,
           2.195856359292543,
           2.114918058622948,
           2.054584510209107,
           2.067812177567396,
           2.147921590903892,
           2.234717503050026,
           2.287177345961738,
           2.3102700527079145,
           2.3209737851692993,
           2.3200435932678936,
           2.302402608654525,
           2.276149715159844,
           2.257228407465133,
           2.2528610465138685,
           2.257899397227982,
           2.263943213029113,
           2.2671812766917583,
           2.2677953148618815,
           2.265598478446726,
           2.2575908085735588,
           2.240620130048379,
           2.2196550237410055,
           2.2096290317278946
          ],
          [
           2.3846796486520034,
           2.364941099154636,
           2.323675753222255,
           2.2902311057349074,
           2.2740073347929606,
           2.26641921762007,
           2.252527596187735,
           2.2133640553665352,
           2.1400378904992836,
           2.068679528068284,
           2.077981407214007,
           2.2069947686740927,
           2.386151152281283,
           2.486381982519395,
           2.4404546172085495,
           2.298884115333107,
           2.1552754604436135,
           2.03999583493371,
           1.9258194353948743,
           1.835401750356748,
           1.8581047921702394,
           2.014056451044273,
           2.1999159536433193,
           2.309414486499273,
           2.327866079980377,
           2.2996770723436075,
           2.2564346238939894,
           2.193885384195743,
           2.1103141778024086,
           2.0481089337946545,
           2.0616638645651753,
           2.1438841432444233,
           2.232039572672197,
           2.2822160377545346,
           2.2981657559072146,
           2.299898593193051,
           2.2949323402205226,
           2.2815876762845035,
           2.263711763038156,
           2.251386268680386,
           2.250365899545564,
           2.256860071317875,
           2.2635638694611364,
           2.2670676097182967,
           2.2677097713529486,
           2.2652501656206825,
           2.2563185363040454,
           2.237392594482051,
           2.214012175582972,
           2.202831130131199
          ],
          [
           2.398842291036446,
           2.3796790273587707,
           2.3378627006990333,
           2.3034811623600326,
           2.284613883934173,
           2.272737534329658,
           2.2547637611806217,
           2.2123878839811506,
           2.1358637899053514,
           2.061083799237622,
           2.0673047359056533,
           2.193092127063152,
           2.368233353459256,
           2.4652908081423037,
           2.4184126822676766,
           2.276774775051845,
           2.1343671025135698,
           2.0251361146441527,
           1.922046021813332,
           1.842225998185409,
           1.8700811535812634,
           2.026319638908313,
           2.2109318189376443,
           2.3187341810995314,
           2.334421366190072,
           2.3029664606427067,
           2.2570047166741865,
           2.1921200675939945,
           2.106127584997636,
           2.04221091846836,
           2.0560523931183905,
           2.140160294276462,
           2.229445190234208,
           2.277239487880629,
           2.2860824482984032,
           2.2789318393388323,
           2.269976626126327,
           2.26090122968039,
           2.251337422998386,
           2.24555662045554,
           2.247863244301884,
           2.2558126977047714,
           2.263180588932841,
           2.2669517384913638,
           2.26761590727228,
           2.264858616108174,
           2.2548871655440292,
           2.2337613758523776,
           2.2076635463229572,
           2.195182978630816
          ],
          [
           2.413879801357517,
           2.395288742258392,
           2.3528293737315296,
           2.317412634392556,
           2.2957497839448138,
           2.2793819614043564,
           2.2571882640576684,
           2.211634682296515,
           2.132129432800345,
           2.0541954756644323,
           2.0574404907838666,
           2.1798715710701093,
           2.350762749694364,
           2.4444038138539943,
           2.3962786280547235,
           2.2542601168915644,
           2.1130553098637166,
           2.010651834789961,
           1.9202157657885797,
           1.8524806340785693,
           1.8857587689583653,
           2.041224397224474,
           2.223189805082055,
           2.3284024904880636,
           2.3410026435831144,
           2.3062456750791105,
           2.2576362277497948,
           2.190575491022316,
           2.10239536686332,
           2.0369427462826084,
           2.051027093362957,
           2.136781263944157,
           2.2269512376998124,
           2.272273631874633,
           2.274085097487995,
           2.2581889115085185,
           2.245315160071929,
           2.2404593962681205,
           2.2390978362033027,
           2.2397749567874863,
           2.2453697586885175,
           2.2547648029349374,
           2.262796214404963,
           2.2668343876928567,
           2.2675132690762316,
           2.264420571814034,
           2.253284618969873,
           2.2296958243446574,
           2.2005555489543185,
           2.1866200213000524
          ],
          [
           2.4297457373202653,
           2.4117010568858808,
           2.3684770452574386,
           2.3319079209706275,
           2.307311090330012,
           2.2862885173651724,
           2.2597782204909134,
           2.2111143451998316,
           2.12887702346332,
           2.048089624420852,
           2.048487980357959,
           2.167449433398561,
           2.333875374689752,
           2.423874750013434,
           2.3742149881729646,
           2.231511205854043,
           2.0915159354587924,
           1.9966983082183853,
           1.920439613858939,
           1.866231638788433,
           1.9051632499965767,
           2.0587506035184657,
           2.236625506083071,
           2.338336053245042,
           2.347542093619951,
           2.3094786708261146,
           2.2583207821305424,
           2.189264735144018,
           2.0991507276557897,
           2.032351362582895,
           2.0466323870020844,
           2.13377550844277,
           2.2245739704077416,
           2.267344433093371,
           2.262237724384991,
           2.237782688135744,
           2.221083431147408,
           2.2203758524024035,
           2.2270632242475883,
           2.2340770172466056,
           2.2429027228173823,
           2.2537243545861765,
           2.2624137856072895,
           2.26671634840606,
           2.2674014792625643,
           2.2639331198139883,
           2.2515000844642192,
           2.225168500046721,
           2.1926402085032075,
           2.1770844629911235
          ],
          [
           2.4463792692712008,
           2.4288320665342726,
           2.3846932118053297,
           2.3468368611911363,
           2.319183896149226,
           2.2933871131535915,
           2.2625075909008086,
           2.2108339881827384,
           2.1261437957625913,
           2.0428330819649005,
           2.0405358341963282,
           2.1559299853884655,
           2.3176943635248466,
           2.403846192257671,
           2.352380382207518,
           2.2087058177813694,
           2.0699364987825954,
           1.9834324634286373,
           1.9228058239125556,
           1.8834986642191476,
           1.928268284351895,
           2.078840035701785,
           2.2511553522423613,
           2.3484446752959,
           2.3539700259972736,
           2.3126288007928433,
           2.2590491746996118,
           2.188198706379213,
           2.096422514392628,
           2.0284777031341585,
           2.0429071578671207,
           2.131168343614844,
           2.2223288889074326,
           2.262477818372697,
           2.2506031956150343,
           2.217823105483568,
           2.1974131528097036,
           2.2007613220094506,
           2.215302526014808,
           2.2284985406637987,
           2.24047985845801,
           2.2526996732612403,
           2.2620365032963123,
           2.2665984706153193,
           2.267280256873693,
           2.2633938128203965,
           2.249524459765448,
           2.2201563012553067,
           2.18387713471218,
           2.16652764581447
          ],
          [
           2.463704916020869,
           2.446583496539975,
           2.401352887371508,
           2.3620587006475477,
           2.331246199135035,
           2.300602727193507,
           2.265347609920908,
           2.2107977899236113,
           2.1239613014041114,
           2.0384832242562023,
           2.033660520443539,
           2.145404020863042,
           2.30232866842011,
           2.3844482385949415,
           2.330927969809919,
           2.1860264236501954,
           2.0485137067282833,
           1.9710101901839305,
           1.9273773275549588,
           1.904252510121939,
           1.9549936937019678,
           2.101395691449997,
           2.266677317993943,
           2.3586327523361876,
           2.360216141839091,
           2.3156595109554847,
           2.2598115692924523,
           2.1873859995619656,
           2.0942348099303345,
           2.0253561141008958,
           2.0398842069451515,
           2.128981613352724,
           2.220230614360304,
           2.2576995969161,
           2.2392429996186825,
           2.1984167162827966,
           2.1744317021386332,
           2.181723065997052,
           2.2038830165557415,
           2.2230749948869857,
           2.2381191469010635,
           2.2516993312433,
           2.261667687849252,
           2.2664816540939445,
           2.2671494380285164,
           2.262800791541245,
           2.2473508042555372,
           2.214641610906177,
           2.174235526411103,
           2.154912463791457
          ],
          [
           2.4816325464172837,
           2.464843335675205,
           2.4183201861936054,
           2.377424338878958,
           2.3433699985399232,
           2.307856722490707,
           2.2682672878379186,
           2.2110068936434026,
           2.122354799876398,
           2.0350869066907324,
           2.027925091281177,
           2.135947714289879,
           2.287872087083354,
           2.365797485587475,
           2.3100039983343206,
           2.1636579858490825,
           2.027450635370579,
           1.959583549142644,
           1.9341894887986182,
           1.9284135191536587,
           1.9852045472637316,
           2.1262818900080105,
           2.2830720290823057,
           2.3688008404466823,
           2.3662108417052874,
           2.3185350510586082,
           2.2605977137893105,
           2.186832798608251,
           2.092606601400641,
           2.0230138755694087,
           2.037589801737181,
           2.1272334083708992,
           2.2182927674270183,
           2.2530353571803285,
           2.2282169952655773,
           2.1796662224465035,
           2.1522615346800236,
           2.163364347803936,
           2.1928699014289394,
           2.2178412821318725,
           2.235838626935559,
           2.2507320392495287,
           2.2613107328450965,
           2.2663668377863906,
           2.267008995817747,
           2.262152905170035,
           2.244974784011663,
           2.208613425921552,
           2.163696146021878,
           2.1422157415275236
          ],
          [
           2.500057669062084,
           2.4834867581447875,
           2.4354501660259853,
           2.3927788064874127,
           2.3554235711311913,
           2.31506827353573,
           2.271233971878453,
           2.211459370382452,
           2.121342766669884,
           2.032679601677023,
           2.0233781860925015,
           2.1276217724989577,
           2.274402608169986,
           2.347996282196826,
           2.2897464524764124,
           2.141785596600235,
           2.0069536240035926,
           1.949297909983534,
           1.9432483326138257,
           1.9558509687157366,
           2.0187113956955423,
           2.1533251837298337,
           2.3002042537311094,
           2.3788473369706833,
           2.3718865437573573,
           2.3212211812759462,
           2.261397164780942,
           2.1865428162407774,
           2.0915515296855247,
           2.0214708369007446,
           2.0360433276539145,
           2.1259378396521367,
           2.2165278507936628,
           2.248510337870997,
           2.2175831243124438,
           2.1616699682659446,
           2.131019559735755,
           2.145783864004363,
           2.182325882341608,
           2.2128314209295694,
           2.233656175531045,
           2.249806523188234,
           2.2609690544720524,
           2.2662549878376175,
           2.2668590588488957,
           2.2614498259266624,
           2.2423950950721947,
           2.202068431287514,
           2.152253197431863,
           2.128430496474317
          ],
          [
           2.5188620266874695,
           2.5023773304913233,
           2.452590896191147,
           2.4079639131272095,
           2.367273869418552,
           2.3221558668195654,
           2.274213953175682,
           2.212150245600658,
           2.120936533272424,
           2.0312847566012233,
           2.0200533155435405,
           2.1204708919019444,
           2.2619820707980285,
           2.331132253843072,
           2.270283813897525,
           2.1205919963836375,
           1.9872289449184977,
           1.9402890886208195,
           1.9545293074269838,
           1.986383513303177,
           2.055271661449085,
           2.18231608532503,
           2.317924751827174,
           2.388670230094259,
           2.3771789765497453,
           2.323685855203083,
           2.2621995150363787,
           2.1865172728955677,
           2.0910777237557276,
           2.0207391696587242,
           2.0352570468710827,
           2.125104869761473,
           2.214947135792591,
           2.244149270773138,
           2.2073970821168434,
           2.144521385118909,
           2.1108164662244127,
           2.1290751332911357,
           2.17231069276502,
           2.2080782072653475,
           2.2315892746869994,
           2.24893139326087,
           2.2606460377727933,
           2.2661470844674154,
           2.2666999277023354,
           2.2606921533857203,
           2.239613849186406,
           2.1950119789449154,
           2.1399160374477395,
           2.1135680007071387
          ],
          [
           2.5379145048217993,
           2.5213684927475106,
           2.469585708291491,
           2.4228210018507776,
           2.378788980700171,
           2.329038835992442,
           2.2771731036681384,
           2.213071588695072,
           2.1211400688877884,
           2.0309133890659807,
           2.0179684425059015,
           2.1145235256606867,
           2.2506561279984183,
           2.3152780840574407,
           2.251733938739486,
           2.1002550173090024,
           1.9684793229373523,
           1.9326805581269086,
           1.967976633762357,
           2.019780703803198,
           2.0945921906371017,
           2.213011594600268,
           2.3360724461323246,
           2.398168873318713,
           2.3820284112911723,
           2.3258998600399616,
           2.262994616929649,
           2.186754914058535,
           2.091187721804929,
           2.020823241246876,
           2.0352359677217864,
           2.12474020409156,
           2.2135605539250305,
           2.239976194933937,
           2.197711944517861,
           2.128308384032014,
           2.091755995285849,
           2.11332584217052,
           2.1628806053121226,
           2.2036128591248785,
           2.229654768722471,
           2.2481150081331527,
           2.260344980886743,
           2.266044107928716,
           2.266532088562424,
           2.259881504298664,
           2.236636906202653,
           2.187458931286378,
           2.1267106505329636,
           2.0976595575316974
          ],
          [
           2.557072356614973,
           2.540305296114729,
           2.4862755822294305,
           2.4371937416349563,
           2.3898405830437794,
           2.33563889121686,
           2.2800775261256536,
           2.2142126632231265,
           2.1219499099121832,
           2.0315639298370405,
           2.017125867954809,
           2.109791957773711,
           2.2404544976142122,
           2.3004915368515304,
           2.2342030611243864,
           2.080945002472106,
           1.950900387196364,
           1.926580809622304,
           1.9835032771912178,
           2.0557655811431372,
           2.136332939351294,
           2.2451384861816854,
           2.354476870473823,
           2.407245740228156,
           2.3863808000405338,
           2.327837395997952,
           2.2637727951720206,
           2.1872520644739466,
           2.0918784792367244,
           2.0217196097865187,
           2.0359778253658503,
           2.1248452429790694,
           2.2123765944666864,
           2.2360142435940924,
           2.188577752516478,
           2.113112698129118,
           2.073934162286381,
           2.0986171510252802,
           2.154087915878856,
           2.199464650228907,
           2.227868616988717,
           2.247365337211027,
           2.2600690385653417,
           2.265947023824923,
           2.2663562233198156,
           2.2590205837542308,
           2.2334741377545146,
           2.179434330332387,
           2.1126808187701935,
           2.080757910930566
          ],
          [
           2.5761827372680557,
           2.559026372486395,
           2.502501616268158,
           2.4509308884556624,
           2.400306333990377,
           2.3418816021550546,
           2.2828942000085912,
           2.215560133882607,
           2.1233552390740034,
           2.0332223171146007,
           2.017512421934897,
           2.106272673799367,
           2.231391478616995,
           2.2868156996054174,
           2.2177849310377664,
           2.0628222570642163,
           1.9346771436359564,
           1.9220809384614008,
           2.0009915679674104,
           2.094018311842088,
           2.1801117351764607,
           2.278397298033433,
           2.372960842056555,
           2.415808115657411,
           2.3901887891090277,
           2.3294765787927347,
           2.264525042638704,
           2.1880027169515692,
           2.0931414617550397,
           2.023417138246138,
           2.037473172207198,
           2.125417094538757,
           2.211402209706394,
           2.232285407132851,
           2.1800410601294438,
           2.0990091827469937,
           2.057438437427433,
           2.085022969531983,
           2.14598041268217,
           2.1956605401575264,
           2.2262456475581978,
           2.2466898242812676,
           2.2598211663160015,
           2.265856768090565,
           2.2661732155038825,
           2.2581132338346497,
           2.230139608055443,
           2.170973856580086,
           2.0978889240970284,
           2.0629382120113635
          ],
          [
           2.5950845326550063,
           2.5773661044754634,
           2.5181075273943363,
           2.463888946082452,
           2.410072129603839,
           2.3476977953023628,
           2.28559160596794,
           2.217098324694716,
           2.1253381119416903,
           2.035862338804091,
           2.0190999516650154,
           2.103947011117382,
           2.2234667061793716,
           2.274279423870341,
           2.2025600952542224,
           2.04603459006122,
           1.919980559750702,
           1.9192525274485122,
           2.020294472662014,
           2.134180803372558,
           2.225510023506336,
           2.3124669402924627,
           2.3913432987447774,
           2.4237696815172756,
           2.393412580824863,
           2.3307998514900232,
           2.2652431937533035,
           2.188998652891078,
           2.0949628201156862,
           2.0258972234523847,
           2.039705574384421,
           2.126448647019565,
           2.2106427297024687,
           2.2288102770529283,
           2.1721444543485924,
           2.0860650864850374,
           2.042346900397863,
           2.072609215452291,
           2.138600841197889,
           2.1922248092596583,
           2.224799317841912,
           2.246095255900043,
           2.2596040665685284,
           2.2657742319608616,
           2.265984151497264,
           2.2571644564132214,
           2.2266516594086925,
           2.16212404607594,
           2.082416327830716,
           2.044298476217938
          ],
          [
           2.613610457714851,
           2.59515695845344,
           2.5329421272863937,
           2.475934660794515,
           2.4190341754223423,
           2.3530248289851485,
           2.2881403124822604,
           2.218809521422607,
           2.127873824385527,
           2.0394462126391306,
           2.021846091118889,
           2.102782065434189,
           2.2166661151879348,
           2.262897939933484,
           2.1885953300237984,
           2.030715006452835,
           1.9069643531385942,
           1.918145892581868,
           2.0412375053004785,
           2.1758622088063593,
           2.2720794792623966,
           2.34700982572389,
           2.409442237580739,
           2.431051959036526,
           2.39602062162357,
           2.3317942948603134,
           2.265920070768466,
           2.19022959115076,
           2.0973236415554535,
           2.0291341334294555,
           2.0426519086836117,
           2.127928698511979,
           2.2101017887139838,
           2.225607777594146,
           2.164926059321765,
           2.074339311373341,
           2.0287273900876786,
           2.0614330752690644,
           2.1319863784449886,
           2.189178707640069,
           2.223541488287269,
           2.2455876379264037,
           2.259420138251182,
           2.2657002472680188,
           2.2657903166062128,
           2.256180407392965,
           2.223032892448484,
           2.1529422403764196,
           2.0663632831861007,
           2.024959477941485
          ],
          [
           2.631589391333587,
           2.612231937664386,
           2.546861719766675,
           2.4869472893511437,
           2.427100816746429,
           2.3578077131860713,
           2.290513509375793,
           2.2206743100846817,
           2.1309314106888175,
           2.0439253875484464,
           2.0256952892297195,
           2.1027318248283873,
           2.2109630792281463,
           2.252673620220166,
           2.1759432339533573,
           2.0169796090149994,
           1.8957620721558464,
           1.9187887480804113,
           2.0636212475390345,
           2.218645203998988,
           2.319349338777064,
           2.3816774076031777,
           2.4270776880818077,
           2.437585573879077,
           2.3979900999607473,
           2.332451828654729,
           2.2665495993170417,
           2.191683361516971,
           2.1002002715556176,
           2.0330954445698035,
           2.046282752453719,
           2.1298421409400476,
           2.2097812656496685,
           2.222694892847971,
           2.158419039511377,
           2.0638816844206858,
           2.0166366749846407,
           2.0515422887533874,
           2.1261681319359202,
           2.186540128057375,
           2.222482215292563,
           2.24517208349662,
           2.259271431110802,
           2.2656355724045434,
           2.265593185707313,
           2.255168360489309,
           2.2193100340881964,
           2.1434962515711713,
           2.0498483496210382,
           2.00506404498621
          ],
          [
           2.6488489060481517,
           2.628427107934085,
           2.5597323676866064,
           2.4968205865784654,
           2.4341940832904103,
           2.362000046288753,
           2.2926874747192634,
           2.222671942530154,
           2.134474258480824,
           2.0492415437853317,
           2.030580067459478,
           2.1037384981493927,
           2.2063196904162776,
           2.24359686651121,
           2.1646419887736306,
           2.004925765507751,
           1.8864845505584378,
           1.9211853364491867,
           2.087224429904001,
           2.2620928974900107,
           2.3668342848530886,
           2.4161159985963128,
           2.4440746530598125,
           2.4433113162906595,
           2.3993072435808847,
           2.3327692997047933,
           2.2671268907578335,
           2.193346098780044,
           2.1035646984413097,
           2.0377425684681505,
           2.0505628575715145,
           2.132170194463828,
           2.209681240954684,
           2.2200863981828873,
           2.152651118541331,
           2.054732265814916,
           2.006119673245495,
           2.0429744821197917,
           2.1211706798015855,
           2.1843233127106605,
           2.221629569232969,
           2.244852715519251,
           2.2591596060131915,
           2.2655808792862,
           2.26539440835872,
           2.2541366395870877,
           2.215513689568905,
           2.1338637332150063,
           2.033007293005264,
           1.9847757336102232
          ],
          [
           2.6652179433136154,
           2.6435841450247404,
           2.571431980677235,
           2.5054644675799933,
           2.440250912230322,
           2.3655647466532423,
           2.2946419638102133,
           2.224780719461945,
           2.138460823629597,
           2.0553277642528016,
           2.0364224720542254,
           2.105734001132785,
           2.202688144761799,
           2.2356470964187927,
           2.154715294398358,
           1.9946305919251544,
           1.8792178085660842,
           1.9253160564393506,
           2.111807509670001,
           2.305756214192852,
           2.4140427011350827,
           2.4499727356682035,
           2.460265950840691,
           2.448180974886151,
           2.399967411973097,
           2.3327484563340573,
           2.267648290052511,
           2.195202453285793,
           2.10738499238094,
           2.0430313568748844,
           2.0554516982250126,
           2.134890687704389,
           2.209799972310179,
           2.217794605333977,
           2.1476441316075836,
           2.046920720824021,
           1.9972087533766347,
           2.035756575801505,
           2.1170116690254583,
           2.182538603617404,
           2.2209894830281485,
           2.24463258644462,
           2.2590859023185117,
           2.2655367416293846,
           2.2651957884463925,
           2.253094519721153,
           2.2116779787587237,
           2.1241312575481976,
           2.015991472276434,
           1.9642768849404764
          ],
          [
           2.680529578595123,
           2.65755285044021,
           2.58185217996299,
           2.5128063095059034,
           2.4452240237475316,
           2.3684745634145297,
           2.2963605114738552,
           2.2269783810344608,
           2.142845425789138,
           2.062109845328622,
           2.0431356820410307,
           2.108641561251531,
           2.200012197959582,
           2.2287938054783396,
           2.1461724828175717,
           1.9861497951648217,
           1.8740214606245258,
           1.9311376074061353,
           2.137116666158923,
           2.349181579506785,
           2.4604851005379262,
           2.4829015515022386,
           2.475494895766884,
           2.4521579296463867,
           2.399974986152827,
           2.3323958121065593,
           2.2681113891327493,
           2.197235813799822,
           2.1116257896377006,
           2.0489127721565796,
           2.0609040812717763,
           2.1379783785874316,
           2.2101338913437822,
           2.2158291306303313,
           2.143413629638371,
           2.0404657828833153,
           1.9899231468568692,
           2.0299042929657984,
           2.113701488344729,
           2.181192245589569,
           2.2205656360046104,
           2.244513617635369,
           2.2590511132461555,
           2.265503624830086,
           2.2649992586259673,
           2.2520520978025003,
           2.2078400608082855,
           2.114393109420263,
           1.9989657307922928,
           1.943766084698547
          ],
          [
           2.6946238154668465,
           2.6701935815829394,
           2.5908999023158286,
           2.518791868641674,
           2.4490824339022503,
           2.3707123577841136,
           2.297830641717465,
           2.229242495222892,
           2.1475791035174763,
           2.0695077124482544,
           2.050625731031216,
           2.112377401118929,
           2.1982286575583765,
           2.2229976824665543,
           2.139008812927441,
           1.9795169094516776,
           1.8709276756993698,
           1.9385836532842748,
           2.16288812164059,
           2.3919187212330577,
           2.505682526980724,
           2.5145690125163034,
           2.489617758614026,
           2.4552174968803246,
           2.399343063983665,
           2.331722405288398,
           2.2685150068973816,
           2.199428538582348,
           2.1162488124380765,
           2.055333609893661,
           2.066870807185282,
           2.141405310085052,
           2.2106776232400875,
           2.2141966955232446,
           2.1399685528264247,
           2.0353748344179343,
           1.9842685028496485,
           2.0254217936681007,
           2.111243031198098,
           2.180286249716633,
           2.220359376938109,
           2.244496560150976,
           2.2590555699302977,
           2.2654818776949295,
           2.264806850011334,
           2.251020135295302,
           2.2040395552640657,
           2.1047498174729236,
           1.982105828317855,
           1.9234550695322947
          ],
          [
           2.707350344474489,
           2.6813795426844087,
           2.5984987120200933,
           2.5233857998968023,
           2.4518116006635102,
           2.372271153165524,
           2.2990439817004393,
           2.231550834545387,
           2.152610506818749,
           2.077436903823906,
           2.0587932992489466,
           2.1168524601933743,
           2.1972688792371287,
           2.2182117570455304,
           2.1332059454343604,
           1.9747429503614307,
           1.869940719745514,
           1.947565993757473,
           2.188852686076663,
           2.43352840295282,
           2.549174730269976,
           2.5446598873199977,
           2.50250595486595,
           2.4573470260548382,
           2.3980929748678457,
           2.3307434634381052,
           2.2688591380701366,
           2.2017621907100646,
           2.121213414554755,
           2.0622372597936014,
           2.0732993691254338,
           2.1451411947191765,
           2.2114240307051327,
           2.212900967849769,
           2.1373109897408917,
           2.0316436296757976,
           1.9802366124266833,
           2.022301457056106,
           2.109631562161563,
           2.1798183238022095,
           2.220369689132732,
           2.244580978176312,
           2.259099134628452,
           2.2654717262301816,
           2.2646206577436483,
           2.250009876099737,
           2.200317871612906,
           2.095306452961973,
           1.9655954667620386,
           1.903565143940045
          ],
          [
           2.7185712009449405,
           2.6909988849136184,
           2.604589797203391,
           2.526571777172368,
           2.4534132097620103,
           2.3731539593020194,
           2.2999962799360123,
           2.233881732395778,
           2.1578868046310373,
           2.0858100849981653,
           2.0675355319219295,
           2.1219741155676197,
           2.1970602373390076,
           2.214382560472282,
           2.128732593572606,
           1.9718164987347613,
           1.8710370926767665,
           1.9579762147943875,
           2.2147404170474174,
           2.4735899044625835,
           2.590527920633251,
           2.5728823172331468,
           2.514047916438874,
           2.45854575524366,
           2.3962536325866233,
           2.3294779851594676,
           2.2691448741071265,
           2.2042177738840025,
           2.126477142643026,
           2.069564490941143,
           2.0801346774500784,
           2.1491538213753714,
           2.212364283191699,
           2.2119424511535897,
           2.135436036026005,
           2.0292561803361515,
           1.977805325579432,
           2.02052383038842,
           2.10885469769419,
           2.1797818744307222,
           2.220593199241541,
           2.244765255693388,
           2.2591812032894256,
           2.2654732696434268,
           2.2644428032414305,
           2.2490328438656424,
           2.1967174628110024,
           2.0861707356824177,
           1.9496229786614183,
           1.884323190908417
          ],
          [
           2.728163256343225,
           2.6989565675071354,
           2.609132634827045,
           2.528352224161167,
           2.453904617323839,
           2.373373382206547,
           2.3006873315073566,
           2.2362144111782065,
           2.1633545851720237,
           2.094538557438926,
           2.0767478412192926,
           2.1276478646812085,
           2.1975275427514136,
           2.211451281830242,
           2.1255453416710064,
           1.9707042145979137,
           1.8741662543795274,
           1.9696877761527023,
           2.2402852826044044,
           2.5117080723912437,
           2.6293419218759895,
           2.5989724719944824,
           2.5241506111599996,
           2.4588244382670448,
           2.393860749197035,
           2.327948253159319,
           2.2693743001350786,
           2.2067759652138403,
           2.131996303506898,
           2.077254247528473,
           2.0873197970107222,
           2.15340947776269,
           2.213487951653361,
           2.21131842793968,
           2.134331763809503,
           2.0281848200749613,
           1.9769386789191117,
           2.020057758989984,
           2.108892508827892,
           2.180166083333016,
           2.221024230302037,
           2.245046626339546,
           2.2593007174232724,
           2.265486478656522,
           2.2642753940760434,
           2.2481006238096524,
           2.1932810214797476,
           2.0774509944006403,
           1.9343777612897044,
           1.8659573761072172
          ],
          [
           2.736020480248655,
           2.7051759366032986,
           2.612105316780855,
           2.5287476755077565,
           2.4533179756293837,
           2.372951037548871,
           2.301120815756811,
           2.238529275581869,
           2.168960728126826,
           2.1035337260186404,
           2.086325651217441,
           2.13377893576826,
           2.198594384561775,
           2.2093549039790585,
           2.1235896197503967,
           1.9713517688866526,
           1.8792519167599968,
           1.9825584802802851,
           2.265229714646332,
           2.5475197769652103,
           2.6652565599601084,
           2.6226985886196377,
           2.5327406837945188,
           2.4582047621863152,
           2.3909559360652497,
           2.326179294289618,
           2.2695503725009876,
           2.209417341756116,
           2.13772652778732,
           2.085244441587649,
           2.0947966848321413,
           2.1578733817447686,
           2.2147831283905544,
           2.2110229610272745,
           2.133979309510425,
           2.028390458823528,
           1.9775872456079364,
           2.020860705839752,
           2.109717749818025,
           2.1809560585567773,
           2.2216548981954576,
           2.245421225738636,
           2.259456184953838,
           2.265511196169305,
           2.264120482530383,
           2.2472246347943874,
           2.1900506399840767,
           2.0692540356264213,
           1.920046550512016,
           1.8486926590257553
          ],
          [
           2.7420559145337293,
           2.7095999845979506,
           2.6135045376490154,
           2.5277957975966108,
           2.4516990765104283,
           2.3719167902957135,
           2.3013040542988286,
           2.2408081656440157,
           2.1746532293524115,
           2.1127084928851443,
           2.0961660487921394,
           2.140273795611756,
           2.2001843755456267,
           2.208027305142806,
           2.1228008185039537,
           1.9736851687932138,
           1.8861938621626382,
           1.9964332557757376,
           2.289328943739045,
           2.58069962857709,
           2.6979571463352583,
           2.643864308995984,
           2.539765202369551,
           2.4567185785248737,
           2.387585720260408,
           2.3241983031820674,
           2.2696767819061003,
           2.2121225978944516,
           2.1436233210420452,
           2.0934727298616806,
           2.1025069162447823,
           2.162510114760507,
           2.2162365708117187,
           2.21104695526531,
           2.134353083911571,
           2.0298230314022403,
           1.979688712016895,
           2.022879263521703,
           2.111296212884087,
           2.182133058718287,
           2.2224752494905333,
           2.2458841649585697,
           2.259645709483782,
           2.2655471402532443,
           2.263980023976485,
           2.2464158979197126,
           2.1870669574259014,
           2.061682979167892,
           1.9068096365631175,
           1.8327462341452887
          ],
          [
           2.746203307788881,
           2.7121922601185746,
           2.6133452525813543,
           2.525550106264026,
           2.449105953602871,
           2.370307847557881,
           2.3012476992376834,
           2.24303456566705,
           2.180381960994163,
           2.121978548785947,
           2.1061693077097896,
           2.1470415285662052,
           2.202222285340034,
           2.2074003137404774,
           2.1231055253881417,
           1.9776124413903653,
           1.8948702333797405,
           2.0111471796372244,
           2.3123550129806887,
           2.6109648297086685,
           2.7271789417815606,
           2.6623112516149026,
           2.545192003651939,
           2.4544069752970192,
           2.383800505615266,
           2.3220340463961677,
           2.2697578072767737,
           2.2148727509742616,
           2.149642593805713,
           2.101877262774503,
           2.110392388201668,
           2.167284050650391,
           2.217833867189557,
           2.211378279870849,
           2.135421104320496,
           2.032422138824466,
           1.9831686781907831,
           2.0260498550379196,
           2.113587205182605,
           2.18367478640812,
           2.223473437447724,
           2.246429623162181,
           2.259867027171593,
           2.2655939093948327,
           2.263855836245778,
           2.2456848081480363,
           2.184368317593319,
           2.054835121470892,
           1.894837128402167,
           1.818323030631493
          ],
          [
           2.7484183662673916,
           2.712937406941298,
           2.61166002110252,
           2.5220784252296813,
           2.445607289730585,
           2.3681677346822685,
           2.3009653630797238,
           2.245193766524691,
           2.186099352559525,
           2.131263537187884,
           2.1162402583305537,
           2.153995065665915,
           2.204635049011876,
           2.2074047056950272,
           2.1244228593099694,
           1.983025630264145,
           1.90514022744628,
           2.026528656255837,
           2.3341003783118226,
           2.6380790630762423,
           2.7527105159086203,
           2.677920774161258,
           2.5490096415942363,
           2.4513192195727336,
           2.3796535077961196,
           2.3197162637161615,
           2.269798165496819,
           2.217649332934829,
           2.1557411629602683,
           2.110397394467349,
           2.1183959893479156,
           2.172159773407359,
           2.2195596217801334,
           2.212001949632273,
           2.1371454445650433,
           2.036117874133596,
           1.9879416717529192,
           2.0302996137603273,
           2.1165441402401757,
           2.185555744734968,
           2.2246359318840137,
           2.247050956999808,
           2.260117550218189,
           2.265650989851919,
           2.263749561161453,
           2.2450409155227518,
           2.181989962048677,
           2.0487998881061538,
           1.8842853739288503,
           1.8056113997916843
          ],
          [
           2.748679587381244,
           2.7118413191176014,
           2.608498059436648,
           2.5174611338707846,
           2.441280679004678,
           2.365545186571528,
           2.3004732029774657,
           2.2472729803568092,
           2.191760981455713,
           2.140488071353153,
           2.1262894810274484,
           2.1610522477802565,
           2.207352642544476,
           2.2079711350363858,
           2.126665878699162,
           1.989803051580466,
           1.9168471149414026,
           2.0424026677100082,
           2.354381015233061,
           2.661855344708844,
           2.7743959487728014,
           2.690614905788658,
           2.5512269520822404,
           2.4475116018718093,
           2.3751996917726457,
           2.3172750823916064,
           2.2698028619045014,
           2.2204345660125138,
           2.161877217590244,
           2.118974344032899,
           2.126462227399988,
           2.17710247767894,
           2.221397656023549,
           2.2129003612720397,
           2.1394827946335053,
           2.040831818443793,
           1.9939123577301152,
           2.0355474268590017,
           2.1201152324011474,
           2.187747649102738,
           2.225947757670817,
           2.247740823859467,
           2.260394415794104,
           2.2657177649342333,
           2.2636626293552577,
           2.2444927223358975,
           2.1799632817955277,
           2.043656934882396,
           1.875293640049952,
           1.794779115572644
          ]
         ],
         "zauto": true,
         "zmax": 2.7743959487728014,
         "zmin": -2.7743959487728014
        },
        {
         "autocolorscale": false,
         "autocontour": true,
         "colorbar": {
          "tickfont": {
           "size": 8
          },
          "ticksuffix": "",
          "x": 1,
          "y": 0.5
         },
         "colorscale": [
          [
           0,
           "rgb(255,247,251)"
          ],
          [
           0.14285714285714285,
           "rgb(236,231,242)"
          ],
          [
           0.2857142857142857,
           "rgb(208,209,230)"
          ],
          [
           0.42857142857142855,
           "rgb(166,189,219)"
          ],
          [
           0.5714285714285714,
           "rgb(116,169,207)"
          ],
          [
           0.7142857142857143,
           "rgb(54,144,192)"
          ],
          [
           0.8571428571428571,
           "rgb(5,112,176)"
          ],
          [
           1,
           "rgb(3,78,123)"
          ]
         ],
         "contours": {
          "coloring": "heatmap"
         },
         "hoverinfo": "x+y+z",
         "ncontours": 25,
         "type": "contour",
         "x": [
          5,
          5.3061224489795915,
          5.612244897959184,
          5.918367346938775,
          6.224489795918368,
          6.530612244897959,
          6.836734693877551,
          7.142857142857142,
          7.448979591836735,
          7.755102040816327,
          8.061224489795919,
          8.36734693877551,
          8.673469387755102,
          8.979591836734695,
          9.285714285714285,
          9.591836734693878,
          9.89795918367347,
          10.204081632653061,
          10.510204081632654,
          10.816326530612244,
          11.122448979591837,
          11.428571428571429,
          11.73469387755102,
          12.040816326530614,
          12.346938775510203,
          12.653061224489797,
          12.959183673469388,
          13.26530612244898,
          13.571428571428571,
          13.877551020408163,
          14.183673469387756,
          14.489795918367347,
          14.795918367346939,
          15.10204081632653,
          15.408163265306122,
          15.714285714285715,
          16.02040816326531,
          16.3265306122449,
          16.632653061224488,
          16.93877551020408,
          17.244897959183675,
          17.551020408163268,
          17.857142857142858,
          18.163265306122447,
          18.46938775510204,
          18.775510204081634,
          19.081632653061227,
          19.387755102040817,
          19.693877551020407,
          20
         ],
         "xaxis": "x2",
         "y": [
          0.00001,
          0.000012648552168552958,
          0.000015998587196060572,
          0.000020235896477251556,
          0.00002559547922699533,
          0.00003237457542817647,
          0.00004094915062380427,
          0.000051794746792312125,
          0.0000655128556859551,
          0.00008286427728546843,
          0.00010481131341546853,
          0.00013257113655901095,
          0.00016768329368110083,
          0.00021209508879201905,
          0.0002682695795279727,
          0.000339322177189533,
          0.00042919342601287783,
          0.0005428675439323859,
          0.0006866488450042998,
          0.000868511373751353,
          0.0010985411419875584,
          0.0013894954943731374,
          0.001757510624854793,
          0.0022229964825261957,
          0.002811768697974231,
          0.0035564803062231283,
          0.004498432668969444,
          0.005689866029018299,
          0.0071968567300115215,
          0.009102981779915217,
          0.011513953993264481,
          0.014563484775012445,
          0.018420699693267165,
          0.023299518105153717,
          0.029470517025518096,
          0.037275937203149416,
          0.04714866363457394,
          0.05963623316594643,
          0.07543120063354623,
          0.09540954763499944,
          0.1206792640639329,
          0.15264179671752334,
          0.19306977288832497,
          0.244205309454865,
          0.30888435964774846,
          0.3906939937054621,
          0.49417133613238384,
          0.6250551925273976,
          0.7906043210907702,
          1
         ],
         "yaxis": "y2",
         "z": [
          [
           0.3068386580488863,
           0.3045141910874695,
           0.2971315570970835,
           0.2891578701082796,
           0.29211060267820127,
           0.30126115777955925,
           0.3060602738694716,
           0.3069356020325475,
           0.3063396162204511,
           0.30479078759038036,
           0.3013328124191714,
           0.2829513396755545,
           0.22526902277052724,
           0.1675124083949854,
           0.2148710115220364,
           0.27541603848377,
           0.2947505016006713,
           0.29641269317117,
           0.28646238959871606,
           0.26342338502992996,
           0.2598924034654684,
           0.283137843408584,
           0.298545805760282,
           0.301997731706255,
           0.3042291806445657,
           0.30630498917927335,
           0.30687751774928645,
           0.3055558859180324,
           0.30046161392429743,
           0.2939651519959551,
           0.29489041683143524,
           0.30047737973133326,
           0.30158905919961937,
           0.29832106926952295,
           0.28059429947113346,
           0.22984599045188203,
           0.19310279784296372,
           0.23856004551194374,
           0.28747943433669054,
           0.30417788500282106,
           0.3068321155874977,
           0.3071197536680651,
           0.30717592250398834,
           0.30718605567995727,
           0.3071863314790708,
           0.3071687761380225,
           0.3069396943458954,
           0.30559124467277,
           0.30228268409475884,
           0.3000431790104891
          ],
          [
           0.3067683134358283,
           0.3039902009952658,
           0.2951372168143541,
           0.2855224668553706,
           0.2890899355789603,
           0.30009610813686716,
           0.30583969918832543,
           0.3068731704144866,
           0.3061001310120532,
           0.30415391510964035,
           0.3003923672745676,
           0.2812432018624559,
           0.21996786321778605,
           0.15663503103644544,
           0.20863685803773405,
           0.272800298423016,
           0.29249116266200875,
           0.29419349830471675,
           0.28328215147184993,
           0.2569341575794349,
           0.25283994212907557,
           0.27961585592244703,
           0.29694818930530004,
           0.30071357967489587,
           0.303462987434408,
           0.3060770317561365,
           0.30680493394475244,
           0.30519790334809016,
           0.2989718915996088,
           0.29099737345068705,
           0.29213069491111177,
           0.2989385924985827,
           0.3002514106203492,
           0.2969278717951994,
           0.2794651490402576,
           0.22816430704973667,
           0.19059594322377768,
           0.23722617908969104,
           0.28709588432528915,
           0.30405650490865344,
           0.3067685305992739,
           0.30709656310656247,
           0.30717174894020555,
           0.3071856956546432,
           0.3071861573295203,
           0.3071642164971617,
           0.30687781573931144,
           0.3051908768371548,
           0.30104373751538654,
           0.29822992523786107
          ],
          [
           0.30668738809427415,
           0.30339543530966817,
           0.292864429826046,
           0.28135319198033293,
           0.28563423930456083,
           0.29877263024378126,
           0.305589588164552,
           0.30679798520137974,
           0.3058037630194299,
           0.3033674275530888,
           0.29928246306460876,
           0.2795602839461001,
           0.2151237325817204,
           0.1463363995459047,
           0.2028776041813433,
           0.27013107069985404,
           0.28985450260071316,
           0.2916072629545095,
           0.27980658668570685,
           0.2499016133833214,
           0.24518218104730702,
           0.27581231296077136,
           0.2951179962565064,
           0.29916381394028063,
           0.3025333830843394,
           0.3058009708940529,
           0.3067191027283366,
           0.30478193648691265,
           0.2972342499953656,
           0.28751637554738974,
           0.28889477277753944,
           0.2971263399110937,
           0.2986455468867006,
           0.2952832937595017,
           0.2783820964792688,
           0.22715421539800026,
           0.18925806627886765,
           0.23651301894748714,
           0.28685935769563875,
           0.3039324983495469,
           0.3066860081570717,
           0.30706558754869184,
           0.30716616065845614,
           0.30718521388830383,
           0.307185947264356,
           0.3071587715580663,
           0.30680390821011816,
           0.3047120959349807,
           0.299557559842895,
           0.2960501134409421
          ],
          [
           0.30659492782836884,
           0.3027274231967266,
           0.2903004323474776,
           0.2766145736515745,
           0.28171815556593655,
           0.2972850646466814,
           0.30530906035765015,
           0.30670816970369524,
           0.3054402710509744,
           0.3024035581298765,
           0.29797057509542385,
           0.27790682826152585,
           0.21086874932174515,
           0.13699918432803487,
           0.1977521224059865,
           0.2674122807245298,
           0.2867919107071475,
           0.28861459783390747,
           0.2760413813567842,
           0.24235473243851172,
           0.23694558564283147,
           0.2717450222114282,
           0.29303187371075845,
           0.29730712758558986,
           0.30141498979908243,
           0.3054696220106726,
           0.30661856838655976,
           0.3043036815673649,
           0.2952274103224184,
           0.2834691982471714,
           0.28513421950695084,
           0.2950115376041082,
           0.29673316349304496,
           0.29334565277642644,
           0.27732803974320785,
           0.22683255432692967,
           0.18913712107793154,
           0.23643771955496856,
           0.286769194458246,
           0.30379891582853225,
           0.3065785513143505,
           0.3070245288058961,
           0.3071587427973111,
           0.30718457479782363,
           0.3071856962741265,
           0.30715233939832504,
           0.30671658001223684,
           0.3041455521289658,
           0.2977924170665207,
           0.2934542922169104
          ],
          [
           0.3064899196736515,
           0.30198510313680177,
           0.2874375438252726,
           0.2712772768389121,
           0.2773225878040875,
           0.29563107670475003,
           0.3049978903016192,
           0.3066017480155619,
           0.3049984544510393,
           0.30123152449021506,
           0.29641970840451165,
           0.2762817209766655,
           0.20732627434174555,
           0.12906445094517607,
           0.19341391090867507,
           0.2646451080927439,
           0.2832534323084808,
           0.28517658288348197,
           0.2719980209660156,
           0.23433722865451648,
           0.22817187641190034,
           0.26743868168335483,
           0.2906655817357294,
           0.29509892535749205,
           0.3000807725009017,
           0.3050754665377317,
           0.3065019399043463,
           0.30375971349106323,
           0.29293283918806085,
           0.27880483004282036,
           0.2808027867951542,
           0.29256635090577465,
           0.2944742187914994,
           0.2910700757559537,
           0.2762797954258654,
           0.2271903936092988,
           0.1902260453543805,
           0.2369951120000603,
           0.2868191179133773,
           0.30364643025893556,
           0.30643868193250234,
           0.3069705409720624,
           0.30714898213554825,
           0.307183734387314,
           0.30718539921480204,
           0.3071448239987827,
           0.3066145166829526,
           0.30348227847283055,
           0.29571672741408866,
           0.2903920154446232
          ],
          [
           0.3063712426276613,
           0.3011690399801172,
           0.2842743003336984,
           0.2653198873503173,
           0.27243635855297543,
           0.2938122951263924,
           0.30465661653433473,
           0.3064766836563641,
           0.30446629098036515,
           0.29981772709661414,
           0.2945884719838078,
           0.2746778160725476,
           0.20460247544098828,
           0.12300100055586125,
           0.19000069404817074,
           0.261828118816007,
           0.27918905710501474,
           0.2812559489143653,
           0.26769400680699923,
           0.22590823373037633,
           0.21891885573540093,
           0.262924568957958,
           0.28799419541269583,
           0.29249171320212874,
           0.29850246357973903,
           0.3046108244989133,
           0.3063679511513794,
           0.30314779023490557,
           0.29033596577837617,
           0.2734759306327355,
           0.2758581233482659,
           0.28976531454955434,
           0.29182769423888644,
           0.28840920652661967,
           0.2752086689509745,
           0.22819305249944838,
           0.19246255164112064,
           0.2381574980557796,
           0.2869970284728861,
           0.30346303893110926,
           0.3062572031987305,
           0.30690014218130474,
           0.3071362513757294,
           0.3071826389088266,
           0.3071850509313433,
           0.30713614032804837,
           0.306496549691835,
           0.3027141179327292,
           0.29330017054670904,
           0.2868131306170072
          ],
          [
           0.3062375911974202,
           0.3002815812641566,
           0.2808165181274415,
           0.2587307099593538,
           0.26705786317828806,
           0.29183487236165495,
           0.3042866295169286,
           0.30633092949340235,
           0.3038311439417897,
           0.2981260931092541,
           0.29243133184239534,
           0.2730815619658124,
           0.20277790603514312,
           0.11924170122003545,
           0.18762319604990296,
           0.258957736632479,
           0.2745502560888003,
           0.2768184427917943,
           0.2631528928288368,
           0.21714252740396106,
           0.20926083308791169,
           0.25823986819693434,
           0.2849923790850846,
           0.2894356326262453,
           0.29665112293072765,
           0.30406807362786514,
           0.30621552747535774,
           0.3024671605372405,
           0.2874274867515935,
           0.26744072293328025,
           0.2702636684472375,
           0.28658658449577196,
           0.2887525296622307,
           0.28531411975086834,
           0.2740813672631196,
           0.22978196955233404,
           0.1957350132501047,
           0.23987592212980774,
           0.2872849948642153,
           0.3032337784947517,
           0.3060229560889424,
           0.30680912482280975,
           0.30711979326110866,
           0.3071812235110651,
           0.3071846463982882,
           0.30712621992817535,
           0.3063617320738916,
           0.30183420161115004,
           0.29051497002699933,
           0.28266927463014035
          ],
          [
           0.306087365753294,
           0.2993269279015301,
           0.2770782160232931,
           0.2515095226163824,
           0.2611966531365754,
           0.2897099181452874,
           0.30389022925064463,
           0.3061624892208651,
           0.30308004523491505,
           0.29611858107894934,
           0.2898990594788609,
           0.2714729924728038,
           0.20190031901583516,
           0.11809248502541114,
           0.18635474565262605,
           0.25602906346193127,
           0.26929174227046687,
           0.2718343620397422,
           0.2584041268430124,
           0.2081301988187167,
           0.19928855588379024,
           0.2534266202089549,
           0.28163475059506354,
           0.28587914190830455,
           0.29449783943517205,
           0.3034399150425648,
           0.3060438564469523,
           0.30171885733647014,
           0.2842047157312863,
           0.2606650231386581,
           0.2639906974505001,
           0.2830132978870191,
           0.2852087315736202,
           0.2817354361792812,
           0.27286122012159447,
           0.23187813402399304,
           0.19989293206976386,
           0.24208272274132717,
           0.28765943600721017,
           0.302940462676083,
           0.30572257931254887,
           0.30669246849759674,
           0.3070987053537168,
           0.30717941094775275,
           0.30718418087124616,
           0.30711501674423275,
           0.3062094176564064,
           0.3008374602953722,
           0.2873373217791193,
           0.2779155450701219
          ],
          [
           0.3059185240303209,
           0.2983110948378725,
           0.2730823154640969,
           0.24366922368435542,
           0.2548748707994297,
           0.2874537549047013,
           0.3034706439083756,
           0.3059694901197467,
           0.3022000585304519,
           0.29375585790717895,
           0.2869393850163548,
           0.26982612242226056,
           0.20197998038233508,
           0.11964781460151444,
           0.18622370569419935,
           0.2530370272398487,
           0.26337341900696565,
           0.26628023722711414,
           0.25348268740493624,
           0.19897560232026626,
           0.1891085336082793,
           0.248530307396507,
           0.2778963545923817,
           0.28176984074986905,
           0.2920145763148996,
           0.3027196830419714,
           0.3058524598202499,
           0.30090595656473534,
           0.2806729219561342,
           0.25312437537673294,
           0.2570204896019066,
           0.27903500962100175,
           0.2811586484505786,
           0.2776246284798933,
           0.27150965787601083,
           0.23438658920954675,
           0.20475961803912157,
           0.24469501071868968,
           0.2880914755036924,
           0.30256145404280604,
           0.30534028483800174,
           0.3065442612148677,
           0.3070719265372093,
           0.3071771104377178,
           0.3071836500413428,
           0.3071025128638886,
           0.3060393394518381,
           0.29972114505477765,
           0.28374892900577364,
           0.2725123030259878
          ],
          [
           0.305728389006682,
           0.29724173987408764,
           0.26886102900196823,
           0.23523730450269256,
           0.2481284452569634,
           0.28508794431272944,
           0.3030320021299389,
           0.30575026616704243,
           0.301178723543475,
           0.2909981551842277,
           0.2834978562459971,
           0.26810976262869435,
           0.2029884244171992,
           0.12376065032772067,
           0.18721044802014156,
           0.24997780128350963,
           0.25676247003051417,
           0.2601406332869042,
           0.248428516088737,
           0.1897954466528636,
           0.17884161334647633,
           0.24359811912596838,
           0.2737532645605057,
           0.27705542938140615,
           0.28917515888866796,
           0.30190169378735265,
           0.30564126317065093,
           0.30003377890070876,
           0.27684658929198536,
           0.24480625906219605,
           0.24934658901672793,
           0.274649166369096,
           0.27656840389399184,
           0.2729355026862478,
           0.2699878806664002,
           0.23720143712704805,
           0.21014473917438053,
           0.2476186475884594,
           0.28854744228923807,
           0.30207148274352863,
           0.30485766357795757,
           0.306357635531304,
           0.3070382265433285,
           0.30717421678918316,
           0.3071830501832523,
           0.30708872376917334,
           0.3058516819033203,
           0.29848532659041443,
           0.2797385915918657,
           0.26642705252599913
          ],
          [
           0.30551340989299636,
           0.29612784387925056,
           0.26445584298850316,
           0.22625707446337245,
           0.24100794356065436,
           0.2826390390123238,
           0.30257925383481965,
           0.30550344981983224,
           0.30000457851246043,
           0.28780630753884945,
           0.2795188967709993,
           0.26628874213291454,
           0.20486094906993085,
           0.13008704396245466,
           0.18924965946896083,
           0.2468504057889451,
           0.24943553805995702,
           0.25341003424768166,
           0.24328575405576613,
           0.1807158362563742,
           0.16862062509936357,
           0.23867698261406473,
           0.2691833330425004,
           0.27168478776205507,
           0.28595639938405076,
           0.30098162456644073,
           0.3054106592114625,
           0.2991100113369657,
           0.27275051244882537,
           0.23571234349054124,
           0.24097713359225795,
           0.2698625708756302,
           0.27140947721522307,
           0.267625838423739,
           0.26825864689339074,
           0.24021081079503404,
           0.21585507643849167,
           0.2507523084344688,
           0.2889894863939384,
           0.3014415266319889,
           0.30425353801178023,
           0.3061247274412012,
           0.30699620001619754,
           0.3071706099192701,
           0.3071823782867489,
           0.3070737026604508,
           0.3056471410580703,
           0.29713333797718394,
           0.27530378566494484,
           0.2596363324284098
          ],
          [
           0.30526887512951656,
           0.2949792332741322,
           0.2599170007264601,
           0.21678855873223646,
           0.23357895399440717,
           0.28013802353940687,
           0.302118037458843,
           0.30522807000110874,
           0.29866775354815056,
           0.2841429714731092,
           0.2749470490272182,
           0.2643255006868255,
           0.20750239552396915,
           0.1381763187793691,
           0.19223748625484055,
           0.2436583716041309,
           0.24138093475473954,
           0.24609476973576253,
           0.23810180139086046,
           0.17186808279403562,
           0.15858687111981085,
           0.23381148653326805,
           0.2641671088264746,
           0.2656091557034969,
           0.28233934976445724,
           0.2999569121313552,
           0.305161560532016,
           0.2981447262969784,
           0.26842063212656275,
           0.225860777054901,
           0.2319372340287623,
           0.26469278059572204,
           0.2656604218209067,
           0.26165917224137497,
           0.2662881071868823,
           0.2433013997061172,
           0.22170269393634415,
           0.25399128899422163,
           0.289376278168906,
           0.30063876835792586,
           0.30350388022887154,
           0.30583666671906923,
           0.30694426680037384,
           0.3071661549147807,
           0.3071816321619307,
           0.3070575434014639,
           0.30542696652967755,
           0.2956721219924352,
           0.27045215686259577,
           0.2521275494899082
          ],
          [
           0.30498857910613,
           0.29380594589521164,
           0.2553024014108055,
           0.20690897761392552,
           0.2259218573874536,
           0.2776194246526069,
           0.301654495303616,
           0.30492365299923435,
           0.29716062261717974,
           0.2799740197961112,
           0.26972838186378095,
           0.26218199397917,
           0.21079516020236563,
           0.1475586339767765,
           0.196041937635845,
           0.24041132122049147,
           0.23260082426478118,
           0.23821493567655574,
           0.2329262271603704,
           0.16338315190884894,
           0.14888520335591257,
           0.22904186370492943,
           0.2586889388881174,
           0.2587833908892314,
           0.27831067008098626,
           0.2988271553913778,
           0.3048954374988682,
           0.2971502788864815,
           0.2639044957610498,
           0.21528851965814363,
           0.22227139571983479,
           0.2591693744911739,
           0.2593087152707889,
           0.2550067134696488,
           0.26404761290411144,
           0.24636226787934876,
           0.22751045904432476,
           0.25723082563081656,
           0.2896637623991553,
           0.2996266456724775,
           0.3025818148870278,
           0.3054836079806994,
           0.30688068024005416,
           0.3071607027886423,
           0.307180810509599,
           0.30704038166185016,
           0.30519297940181067,
           0.29411244310568824,
           0.2652028390722238,
           0.24390067677629276
          ],
          [
           0.3046644477255467,
           0.2926174537944027,
           0.25067585191831915,
           0.19671269841837927,
           0.21813082130751604,
           0.2751200941523196,
           0.30119504297792615,
           0.3045903222108698,
           0.29547849669869014,
           0.27527010469908897,
           0.26381203829165517,
           0.2598218396525058,
           0.21460813611623186,
           0.15780180396693408,
           0.2005144943074394,
           0.2371263037657103,
           0.22311332613933457,
           0.22980625490226578,
           0.22780956693575233,
           0.15538474399002225,
           0.13965745694884216,
           0.22440222795138443,
           0.25273827214970734,
           0.2511672792795988,
           0.27386409656036004,
           0.2975945046906523,
           0.3046143373597277,
           0.29614106794035827,
           0.2592612174066452,
           0.2040537588705956,
           0.21204598813942768,
           0.25333500924626834,
           0.252352741524749,
           0.2476493921726155,
           0.26151543394336735,
           0.24928785083404761,
           0.233115279008417,
           0.2603688091952054,
           0.28980594462486176,
           0.29836501117671593,
           0.3014577267286867,
           0.30505481184535377,
           0.3068035452792893,
           0.30715409208632694,
           0.3071799129507784,
           0.3070223939047906,
           0.30494756110137505,
           0.2924689261343881,
           0.2595874990785036,
           0.23496973984773667
          ],
          [
           0.304286131785409,
           0.2914217704481168,
           0.24610464726499454,
           0.18631052206340298,
           0.21031183588006078,
           0.2726776965299532,
           0.3007461033840796,
           0.3042288919655456,
           0.2936203352340424,
           0.2700083821951913,
           0.2571518976889168,
           0.25721262411564455,
           0.21880538917413528,
           0.1685362291389777,
           0.20550106696543505,
           0.23382871146700066,
           0.21295449112876805,
           0.22092181387754772,
           0.2228020519270127,
           0.14798126856015745,
           0.1310341529622376,
           0.21991926993699326,
           0.2463111821568225,
           0.2427268718108031,
           0.26900199016439974,
           0.2962640171915959,
           0.30432088121072415,
           0.29513315393702266,
           0.2545608025374075,
           0.1922384957622793,
           0.20135177466350823,
           0.2472461704191058,
           0.2448039159274117,
           0.23958005551184702,
           0.25867832778561467,
           0.2519801335167777,
           0.23836958666132232,
           0.26330786918444515,
           0.2897556946466452,
           0.29681041690064336,
           0.30009949147735515,
           0.30453878514287114,
           0.30671084802963794,
           0.3071461514852237,
           0.30717894001297347,
           0.3070037939836252,
           0.30469360975963355,
           0.29075988921322327,
           0.2536509970075495,
           0.22536401439674075
          ],
          [
           0.30384058124910623,
           0.2902244840946038,
           0.24165651476652128,
           0.17582812447618823,
           0.2025796103748691,
           0.2703289678751821,
           0.3003138199467987,
           0.3038409501304247,
           0.29158944752340216,
           0.2641743924731951,
           0.2497083290872867,
           0.2543282876784358,
           0.22325371825137552,
           0.17945908472510771,
           0.21085107531925334,
           0.23055260695888616,
           0.20218011537599606,
           0.21163359595861556,
           0.21795231911926397,
           0.14125737135957583,
           0.12312473372403462,
           0.21561160015860803,
           0.23941212713097032,
           0.23343582333383084,
           0.2637369420269979,
           0.2948439557238199,
           0.304018236430853,
           0.2941437364826855,
           0.24988270680781152,
           0.17995144657610407,
           0.190306509507727,
           0.240973504616007,
           0.2366889767037721,
           0.2308058543612801,
           0.25553290870219286,
           0.2543500880428953,
           0.2431416025634486,
           0.2659568737280698,
           0.2894655604442576,
           0.2949165373676371,
           0.29847284712001754,
           0.3039234880285261,
           0.3066004981981674,
           0.30713670350480066,
           0.3071778930752607,
           0.30698482726865595,
           0.3044344626541655,
           0.2890069485796337,
           0.24745154355648089,
           0.21512886324863434
          ],
          [
           0.3033116175298287,
           0.28902777199293167,
           0.2373960369994572,
           0.16540341704238998,
           0.19505318550262843,
           0.2681078482334686,
           0.29990376732892826,
           0.30342892387068143,
           0.2893941503679494,
           0.2577640949263393,
           0.24145001941521854,
           0.25115150681405457,
           0.22782865548955816,
           0.19032869941418315,
           0.2164241252956066,
           0.2273403074211296,
           0.19086737386273817,
           0.20203370374194327,
           0.21330615416199153,
           0.13526614914094065,
           0.11600719958809538,
           0.21148988012679834,
           0.23205596882284,
           0.223276715524198,
           0.2580934058196513,
           0.29334600707956826,
           0.3037100634239337,
           0.29319050550703013,
           0.2453135200713352,
           0.1673314776645998,
           0.1790575647122402,
           0.23460159628436056,
           0.22805248191956928,
           0.22135089928169524,
           0.25208677177504474,
           0.25631849193177897,
           0.2473148152394199,
           0.26823193335693984,
           0.28888859354610985,
           0.2926347421976275,
           0.2965419198358642,
           0.3031966140892589,
           0.30647038532847753,
           0.3071255694057314,
           0.3071767742793196,
           0.3069657624148977,
           0.3041737858787944,
           0.2872343869361482,
           0.2410602296192912,
           0.20432614768491303
          ],
          [
           0.30267952460044145,
           0.2878294605989665,
           0.23338076428606214,
           0.15518252918461042,
           0.18785021339230573,
           0.2660436222433361,
           0.299520680250496,
           0.30299612289560224,
           0.28704834321199396,
           0.25078606314634716,
           0.23235587471948582,
           0.2476759948908783,
           0.23241880687989386,
           0.20095586479694366,
           0.22209431342697938,
           0.22424110760471058,
           0.17911627030738952,
           0.19223511449087724,
           0.20890531763928244,
           0.13002356933101525,
           0.10971879646188562,
           0.20755780678619878,
           0.2242702758041297,
           0.21224235696796914,
           0.2521093168674349,
           0.2917853954041696,
           0.3034004369788825,
           0.29229089279763415,
           0.2409437177660346,
           0.1545518529408278,
           0.16778442459689644,
           0.22822803010266687,
           0.21895956453212417,
           0.21125931777079096,
           0.24835932987468956,
           0.2578162632847292,
           0.25078701580928986,
           0.270057016792937,
           0.28797919343122286,
           0.28991482595674606,
           0.29426991532139385,
           0.3023459470283231,
           0.3063184491933909,
           0.30711257530067615,
           0.3071755864184889,
           0.3069468810888604,
           0.30391543524219866,
           0.2854682955126371,
           0.23455980558383366,
           0.19303415753185016
          ],
          [
           0.3019206827144682,
           0.28662220232229957,
           0.22965732545251732,
           0.1453140757111256,
           0.18108004175696746,
           0.26415922637551525,
           0.29916822180319247,
           0.302546754807716,
           0.28457195758342585,
           0.24326385332249728,
           0.2224170167616754,
           0.24390864362014067,
           0.23692865722870485,
           0.2111952357387798,
           0.2277525038640221,
           0.2213090846458086,
           0.167050911861586,
           0.18237173189817918,
           0.20478650049582478,
           0.12550665152328186,
           0.10425005384880016,
           0.20381391829819784,
           0.2160979404986565,
           0.20033707437788426,
           0.24583764102253752,
           0.2901808673366198,
           0.30309374417445833,
           0.2914612629078239,
           0.2368635097546161,
           0.14182556018661643,
           0.15670060026054253,
           0.22196156414848953,
           0.20949900233440283,
           0.20059891699534102,
           0.24438232251110353,
           0.25878444853597193,
           0.2534691284706847,
           0.27136429137401546,
           0.2866939832964067,
           0.28670589910854893,
           0.29161998224092783,
           0.30135979432215637,
           0.3061427638964215,
           0.3070975594290659,
           0.3071743328212583,
           0.30692846617867087,
           0.30366329529772285,
           0.283735521445956,
           0.22804260205747914,
           0.18134701569309325
          ],
          [
           0.30100727044760234,
           0.28539283935357374,
           0.22625792486694832,
           0.1359414079602276,
           0.17483602179803492,
           0.26246988926394965,
           0.298848811530049,
           0.3020859078329843,
           0.2819912341759709,
           0.23523856732237242,
           0.21163893781204685,
           0.2398714236911053,
           0.24128007177453883,
           0.22093792078119792,
           0.2333070390883612,
           0.2186000170208717,
           0.15482060883994497,
           0.1725973727804573,
           0.20098044606100907,
           0.12165646970729278,
           0.09954450509113774,
           0.20025408449123772,
           0.2076001377116226,
           0.18757804589504018,
           0.23934776923748544,
           0.2885545282116379,
           0.3027945624000052,
           0.2907160933708084,
           0.233157944794579,
           0.1294117208196619,
           0.14605395730728624,
           0.2159192427556325,
           0.1997866376029055,
           0.18946574948631628,
           0.24019995344382747,
           0.2591739885941034,
           0.2552840040185102,
           0.27209429500706966,
           0.28499273224855365,
           0.28295743991031863,
           0.2885562503271886,
           0.30022749441251917,
           0.3059416343107998,
           0.3070803804650494,
           0.30717301724859414,
           0.3069107891951459,
           0.30342110605276373,
           0.28206247493586883,
           0.2216075193382816,
           0.16937352474114353
          ],
          [
           0.29990706136772444,
           0.2841220183882143,
           0.2231976487196758,
           0.1271927540005327,
           0.16918781240940955,
           0.26098225967005517,
           0.298563530401161,
           0.3016194972668403,
           0.2793387790734423,
           0.22677163494918248,
           0.2000439433714432,
           0.23560295165557518,
           0.2454127515065181,
           0.23010541515452568,
           0.23868333508453057,
           0.2161675670019547,
           0.1426007421104043,
           0.16308315500751047,
           0.19751126517829012,
           0.11838603393959633,
           0.09550545977337638,
           0.19687444761726386,
           0.198859635660561,
           0.17399679494808276,
           0.2327266320781778,
           0.28693151324123245,
           0.3025075226059345,
           0.2900672019511372,
           0.22990158790946918,
           0.11762217273671918,
           0.13612350285148148,
           0.2102223203894689,
           0.18996910089917984,
           0.17798998481839165,
           0.23586860964891757,
           0.2589453754836993,
           0.2561652895135183,
           0.2721960352170376,
           0.28283933971918246,
           0.27862050338836275,
           0.2850450416441532,
           0.298939989620954,
           0.3057137024478451,
           0.30706092663560514,
           0.3071716438255269,
           0.3068940977092692,
           0.30319228896837414,
           0.2804738722140553,
           0.21535607943201301,
           0.15723543427274336
          ],
          [
           0.2985833407320454,
           0.28278410716745633,
           0.22047297215077352,
           0.11916963964413789,
           0.1641747868522863,
           0.25969414280341124,
           0.2983121147666177,
           0.3011541734205661,
           0.2766533512536309,
           0.21794782980059774,
           0.18767412500338612,
           0.23115960861264592,
           0.24928387725352205,
           0.2386446831647974,
           0.24382274346089872,
           0.21405901047205503,
           0.13059317309354543,
           0.15401255705172706,
           0.19439595888898045,
           0.11559194246947328,
           0.09200939497027376,
           0.193674501856487,
           0.18998441911642397,
           0.15964109179668415,
           0.22607934797154886,
           0.28533948439262924,
           0.30223716419625446,
           0.2895230818446779,
           0.22715325145901574,
           0.1068249712900391,
           0.12720940072238948,
           0.20499097195833133,
           0.1802275978005176,
           0.16634356869167707,
           0.23145610911713904,
           0.2580682969189836,
           0.256056449023256,
           0.27162709701470833,
           0.28020289688516564,
           0.27364908069649263,
           0.28105625009565166,
           0.29749045216921816,
           0.3054580602544625,
           0.3070391253298448,
           0.30717021702599895,
           0.3068786037433817,
           0.30297978502688916,
           0.2789915074292661,
           0.20938764029516121,
           0.1450651158483872
          ],
          [
           0.29699496513447005,
           0.28134744581814325,
           0.21806175262307287,
           0.11193480024055863,
           0.15980181754515266,
           0.2585949124547203,
           0.2980930447500342,
           0.3006971906608181,
           0.27397933777952493,
           0.20887849353585314,
           0.17459529887106942,
           0.2266160634824333,
           0.2528671372891936,
           0.2465241219395763,
           0.24868098087669327,
           0.2123109280912431,
           0.11902558391271925,
           0.14557328645700074,
           0.19164415181140917,
           0.11316783247532762,
           0.08892366402285765,
           0.19065995217181209,
           0.18111146372195525,
           0.1445777691248287,
           0.21952913848180247,
           0.2838079527774883,
           0.301987788896331,
           0.28908840314522105,
           0.22495138474364337,
           0.09743682485685023,
           0.11961201120881022,
           0.20033794880456962,
           0.17078111815518623,
           0.15475008312222932,
           0.22704042168528726,
           0.256521351995455,
           0.25490998324208564,
           0.2703538268760344,
           0.27705883748083243,
           0.2680016009287446,
           0.27656488178711935,
           0.29587494559383887,
           0.30517436426199795,
           0.3070149527876969,
           0.30716874172582986,
           0.30686447402366185,
           0.3027859176679398,
           0.27763315566456703,
           0.2037940186031248,
           0.13300263476695934
          ],
          [
           0.2950965840648128,
           0.27977494502308314,
           0.21592482612909367,
           0.1055017977209099,
           0.156038574192087,
           0.25766660031958705,
           0.29790372491782,
           0.30025623923355055,
           0.27136588236994613,
           0.1997048458315869,
           0.16090268647465944,
           0.2220650113918402,
           0.25615129199131564,
           0.2537301668079687,
           0.2532263517390709,
           0.21094536527267546,
           0.10814836499935986,
           0.13794521285941205,
           0.18925803066431104,
           0.11101741285421876,
           0.08612520184215075,
           0.18784497864407293,
           0.1724102561099326,
           0.12889751538108568,
           0.2132161497814688,
           0.28236743763949573,
           0.301763321359994,
           0.2887637300250198,
           0.22331076047104198,
           0.08988998554373666,
           0.1135968059104794,
           0.1963616002241256,
           0.1618877204419503,
           0.14349670673264853,
           0.22270780998321935,
           0.2542919078880667,
           0.2526868758474231,
           0.2683516462801266,
           0.27339018699850204,
           0.26164256872292413,
           0.2715527476198831,
           0.2940930986027785,
           0.3048629465270362,
           0.3069884433742883,
           0.30716722333185364,
           0.3068518229021472,
           0.30261229212879165,
           0.27641170750301974,
           0.19865394104504036,
           0.12119220175409838
          ],
          [
           0.29283903710919734,
           0.2780250216058684,
           0.21400912406458159,
           0.09982929669297519,
           0.15282296642922355,
           0.2568855945861978,
           0.2977407471318923,
           0.2998392438450605,
           0.2688656487639982,
           0.19060105707184075,
           0.14672972692842,
           0.21761589314721172,
           0.2591383954885721,
           0.2602643553437706,
           0.25743793024729716,
           0.2099669903274777,
           0.09822638119768332,
           0.1312842775374698,
           0.18723247766580137,
           0.10906520960635814,
           0.08351709413102072,
           0.18525355243460429,
           0.16408521480790395,
           0.1127239982871147,
           0.20729473373589563,
           0.2810484860100139,
           0.3015671841456825,
           0.288545488281022,
           0.22222100151798532,
           0.08455788190492712,
           0.10934752011149064,
           0.1931389747798281,
           0.15384149200752212,
           0.13294656484022893,
           0.21855035259532207,
           0.25137615520371775,
           0.24935627905012023,
           0.26560553570103684,
           0.26918891521220045,
           0.25454433593416914,
           0.2660102996648744,
           0.29214876319775385,
           0.3045249155085243,
           0.30695969788391275,
           0.30716566798621814,
           0.30684070856929047,
           0.30245974017498206,
           0.275334621154668,
           0.19402790967642514,
           0.1097779710457096
          ],
          [
           0.29016993434677496,
           0.27605284271780534,
           0.21225204325787048,
           0.09482279185859772,
           0.15006860456501034,
           0.2562248175848478,
           0.29760021805049885,
           0.2994541352964482,
           0.26653322354694736,
           0.18177639833876708,
           0.13226251835449176,
           0.21339233098684093,
           0.2618417708617769,
           0.2661407231388495,
           0.26130382166478605,
           0.20936170639099005,
           0.08952139187821012,
           0.12570372316835654,
           0.18555538820053852,
           0.10726380505890157,
           0.08104087434794542,
           0.182919505450823,
           0.15637547900879697,
           0.09623290222090831,
           0.20192871124224052,
           0.27988059090555556,
           0.30140219396560436,
           0.2884261984412552,
           0.2216472659957636,
           0.08164394582932286,
           0.10691999552601171,
           0.19071995253077087,
           0.14696164450469582,
           0.12354598186714216,
           0.21466284566345267,
           0.24777940842982524,
           0.24489543854017676,
           0.262110719140174,
           0.26445739231888066,
           0.2466890158873101,
           0.2599386043035691,
           0.2900506238602368,
           0.30416224000672665,
           0.30692889028273584,
           0.3071640828342923,
           0.30683113291516234,
           0.30232831553703565,
           0.27440375140706347,
           0.18995416840319337,
           0.09889912696346151
          ],
          [
           0.28703442079100666,
           0.27381183461697395,
           0.21058666854479724,
           0.0903451651138296,
           0.14767539144352004,
           0.25565620551207546,
           0.2974781275398861,
           0.2991086036624227,
           0.264423194081593,
           0.17347520765358418,
           0.11776433386826214,
           0.20952802637518067,
           0.2642838217560506,
           0.2713834503720565,
           0.2648195866513446,
           0.2090970037537798,
           0.08226050367306527,
           0.12125602437021012,
           0.1842081654237255,
           0.10559698707402565,
           0.07868347450426272,
           0.18088515173774317,
           0.14954966744793063,
           0.07969530323890724,
           0.1972842392247785,
           0.2788910592246546,
           0.30127048482628455,
           0.28839496753952176,
           0.22153309683872605,
           0.08108395155204066,
           0.10621721001707987,
           0.18912341932221188,
           0.141569887391313,
           0.11581443292213159,
           0.21113913838962342,
           0.24351668769362245,
           0.23928984850841786,
           0.25787357048043547,
           0.25920994346780846,
           0.23807056652737996,
           0.25335144723885444,
           0.2878127200011712,
           0.30377780913536756,
           0.30689627229986854,
           0.30716247633367905,
           0.30682304508156794,
           0.30221734090473956,
           0.2736155780895995,
           0.18644643381976672,
           0.08868418315070417
          ],
          [
           0.283376118935015,
           0.2712554024402656,
           0.20894738744338573,
           0.08623522731390953,
           0.14554185837722736,
           0.255153286816303,
           0.2973707299387463,
           0.2988098433828115,
           0.26258797449008264,
           0.1659726552749536,
           0.10361767540607177,
           0.206160955339923,
           0.2664937571042331,
           0.2760247127258458,
           0.2679868829315428,
           0.209124105563755,
           0.07659007464596591,
           0.11792059738594604,
           0.18316638956412137,
           0.10407867476104135,
           0.07647835158647473,
           0.17919840056053216,
           0.14389257224564875,
           0.06358601328229732,
           0.19352021752349274,
           0.278103891546011,
           0.30117346192354977,
           0.28843821043722395,
           0.22180512265348243,
           0.08253615534911735,
           0.10700122682526853,
           0.18833628625359536,
           0.13795444119982894,
           0.11029807047359666,
           0.20806804367411139,
           0.23861360863004685,
           0.23253362105951259,
           0.252912756146603,
           0.25347448908964154,
           0.22869709754337922,
           0.24627756682990298,
           0.28545484001350674,
           0.30337546158412476,
           0.3068621753174616,
           0.30716085857179076,
           0.30681634840974265,
           0.3021255025308252,
           0.2729618149289911,
           0.1834938659186402,
           0.07924444514793252
          ],
          [
           0.27913823704810053,
           0.2683388039137682,
           0.2072754480980267,
           0.08233152849615914,
           0.1435777483863508,
           0.25469365050827847,
           0.2972749081296557,
           0.29856430200639394,
           0.2610754926625664,
           0.1595636262391697,
           0.09039387932498193,
           0.2034259032673931,
           0.2685053043807325,
           0.2801027143903945,
           0.2708123528554267,
           0.20938171444413867,
           0.07252586970806114,
           0.11560223620578572,
           0.18240066424012472,
           0.10274777365208515,
           0.07450037451618119,
           0.17790849140695497,
           0.13968128984979192,
           0.048875974743840325,
           0.19077675042298817,
           0.2775387429463924,
           0.30111178807266936,
           0.28854055171825604,
           0.22237905144812586,
           0.08547778340270555,
           0.10893923429008254,
           0.18831568541310412,
           0.136325213700767,
           0.10747236362099521,
           0.20552906978668464,
           0.23310759801035216,
           0.2246300523181377,
           0.2472606233157944,
           0.2472942473073702,
           0.21859350123115984,
           0.23876300991117522,
           0.28300274258074404,
           0.3029599782091328,
           0.3068270090952306,
           0.3071592415516996,
           0.30681091016552187,
           0.3020509839002819,
           0.2724303384853529,
           0.1810634166754959,
           0.07066673316727883
          ],
          [
           0.2742648252791755,
           0.26502112230800934,
           0.2055240745504427,
           0.07849826040830161,
           0.14171557082159786,
           0.25426110878966995,
           0.29718849093772376,
           0.2983774450222945,
           0.2599268880608926,
           0.154542166979878,
           0.07895174004031079,
           0.20144571750395557,
           0.27035448761181474,
           0.28365989663504226,
           0.27330676213823984,
           0.20980096643615476,
           0.06992391387138903,
           0.1141424409135974,
           0.18187764385156022,
           0.10165937707052172,
           0.0728539598001607,
           0.17706070877092553,
           0.1371512620167697,
           0.037772158164535316,
           0.18916294601094144,
           0.2772100350260879,
           0.30108540222682956,
           0.28868584384315293,
           0.22316628019494086,
           0.08934271307047646,
           0.11166369219619317,
           0.18899406389014717,
           0.13677299567407922,
           0.10761221424327028,
           0.20358832227379092,
           0.2270494425198208,
           0.21559237202366288,
           0.2409648379272008,
           0.24072945646916474,
           0.2078045747917076,
           0.23087359301824073,
           0.28048816000105653,
           0.3025370332901443,
           0.30679125699291426,
           0.3071576394018076,
           0.3068065731536549,
           0.3019916260815303,
           0.27200634230974646,
           0.17910428339348183,
           0.06300583674360939
          ],
          [
           0.2687021572836071,
           0.26126729114700764,
           0.20366283913924563,
           0.07465116177347084,
           0.13992021519023393,
           0.25384738547987956,
           0.2971104974746174,
           0.2982535491069875,
           0.25917439590460917,
           0.15117094143660956,
           0.07050781203453045,
           0.20032207892077497,
           0.2720775466257285,
           0.28674132450354445,
           0.2754843739783555,
           0.21031108024441708,
           0.06849588632009108,
           0.11334147400812279,
           0.18156124350449493,
           0.10087312383812572,
           0.07165435428350889,
           0.1766906658709959,
           0.13645835658269634,
           0.03434301235651747,
           0.1887460374362103,
           0.2771262834120979,
           0.30109356746574245,
           0.2888582278665656,
           0.22408045644503113,
           0.09362566818008705,
           0.11482504266530213,
           0.1902863536041,
           0.13924940937467148,
           0.11069654806686646,
           0.2022949954483204,
           0.22050516367650436,
           0.20544467812051292,
           0.2340902691547022,
           0.23385904528095017,
           0.1963989030880986,
           0.22269742262834072,
           0.2779485400209437,
           0.3021131016034511,
           0.30675546752144767,
           0.30715606846531257,
           0.3068031681492857,
           0.30194509978011524,
           0.2716735985346991,
           0.17755382335450584,
           0.05627785591434783
          ],
          [
           0.2624002124486399,
           0.25705013383299496,
           0.20168107400952567,
           0.07078312275853381,
           0.13819601783054153,
           0.2534531980958135,
           0.29704128742683367,
           0.29819553514107255,
           0.25883960027812475,
           0.14964463627154206,
           0.06646011240883153,
           0.2001269807833042,
           0.27370907145649,
           0.28939325814320727,
           0.277362524372633,
           0.21084516330474953,
           0.06786901039975421,
           0.11298564956797272,
           0.18141402548434343,
           0.10044009419838176,
           0.0710035298402908,
           0.17681892352127462,
           0.1376487552628481,
           0.040656945647427216,
           0.18954405528429988,
           0.27728969192478325,
           0.30113494391919193,
           0.28904316021169274,
           0.2250434391925342,
           0.09793035015742334,
           0.11812632960977262,
           0.19209808887931618,
           0.14357739905431616,
           0.11641591029839445,
           0.2016788748825636,
           0.21355818754630468,
           0.19422308945815975,
           0.2267211013990926,
           0.22678212780818394,
           0.18447391785999656,
           0.21434736591867157,
           0.2754264880873119,
           0.3016953207250125,
           0.30672024225247335,
           0.3071545472310258,
           0.30680052600311664,
           0.30190907312072063,
           0.2714157008529397,
           0.17634406077862425,
           0.05045645933335424
          ],
          [
           0.25531423337427966,
           0.2523523938553769,
           0.19959016450731545,
           0.06699027632434497,
           0.13659079649387956,
           0.25308864351026233,
           0.2969826035074155,
           0.2982048505242192,
           0.2589322211025013,
           0.1500567907734659,
           0.0677130888189941,
           0.20089627686483563,
           0.275280418729425,
           0.29166191541410486,
           0.2789613497260099,
           0.2113456841299159,
           0.06766346982024965,
           0.11287384260254528,
           0.18139874459307617,
           0.10039023299711482,
           0.07096484167036868,
           0.17744676544624877,
           0.1406487752541367,
           0.053258617069684634,
           0.1915237702817077,
           0.2776960453407565,
           0.30120768059983416,
           0.28922833258062874,
           0.22599026308977943,
           0.10197799143363219,
           0.1213402147168899,
           0.1943333388788565,
           0.14948735830152932,
           0.12427737400998504,
           0.20174918350421583,
           0.20631173344473097,
           0.18197721099883782,
           0.2189631216480072,
           0.21961912185499372,
           0.17216275067646714,
           0.20596324710838282,
           0.2729688822121679,
           0.30129131059631453,
           0.30668622033445103,
           0.30715309607782726,
           0.3067984883305587,
           0.3018813599592301,
           0.2712171699906942,
           0.17540788576756913,
           0.04547464844491715
          ],
          [
           0.2474063357929464,
           0.24716874391147234,
           0.19742459981874128,
           0.0634978306255996,
           0.13519628755201,
           0.2527728428779547,
           0.2969375007566851,
           0.2982814077387749,
           0.2594495567127951,
           0.1523819619010284,
           0.07397926777913562,
           0.20262646980193894,
           0.27681846439029417,
           0.2935924298682457,
           0.28030360782257924,
           0.2117692106487149,
           0.0675573807796797,
           0.11283913906384281,
           0.18148002002838812,
           0.10072260627591115,
           0.0715429873549526,
           0.17855383660610258,
           0.14527914050139668,
           0.0685749925124079,
           0.1946044177051531,
           0.27833490939284816,
           0.30130951918199295,
           0.2894044212693891,
           0.22687286622113534,
           0.10559831210722029,
           0.12431385977722956,
           0.1969015566314715,
           0.1566631727746731,
           0.13373362410873796,
           0.2024949287773997,
           0.1988912649343838,
           0.1687721228451628,
           0.21094606357444087,
           0.21251217398781805,
           0.1596437363430829,
           0.1977133470277551,
           0.27062564892279634,
           0.30090895520592936,
           0.306654060087775,
           0.3071517368202549,
           0.3067969158723677,
           0.30186003602725825,
           0.27106432387803175,
           0.17468418950850417,
           0.041234030144749065
          ],
          [
           0.23864715470288472,
           0.24150777320405195,
           0.19524166456293895,
           0.060677744362423826,
           0.1341442371928388,
           0.25253285030647626,
           0.29691016639615747,
           0.298423582964341,
           0.2603766399002612,
           0.15648071467412336,
           0.08402524524246058,
           0.20527533951438887,
           0.27834472943205146,
           0.2952280039287464,
           0.28141452873808936,
           0.21209011468594438,
           0.0673270899745138,
           0.1127641763763393,
           0.1816260854812481,
           0.10140049006338864,
           0.0726755645249999,
           0.18009807022566907,
           0.15128725835159654,
           0.0849015705922413,
           0.1986662842135588,
           0.2791901222354227,
           0.30143790244550583,
           0.2895656157794951,
           0.22766246830274572,
           0.10871616343339933,
           0.12696708237884938,
           0.1997227929689493,
           0.16478279869732657,
           0.14427412723650518,
           0.20388668440138052,
           0.191446706098288,
           0.15469133255854764,
           0.20282576677220907,
           0.2056244224511523,
           0.1471535952845104,
           0.18979448378221367,
           0.26844821173980593,
           0.3005561540688076,
           0.30662441836444115,
           0.30715049206115735,
           0.3067956938973218,
           0.3018435141735513,
           0.2709458465914061,
           0.17412143565085259,
           0.037621400021911826
          ],
          [
           0.22901752302294784,
           0.23539395906949118,
           0.1931196530380711,
           0.05903528296640534,
           0.13359732998913285,
           0.2524018813682892,
           0.2969056427631696,
           0.298628275071716,
           0.26168709108810473,
           0.16212527107864272,
           0.09648814251144407,
           0.20876622920269772,
           0.27987489350316525,
           0.2966092520095861,
           0.28232163380571323,
           0.21230303114828028,
           0.06686717708590119,
           0.11259057357145986,
           0.181810553146768,
           0.10235229079944821,
           0.0742386958121512,
           0.18201794834030546,
           0.1583849096248053,
           0.10147423388477492,
           0.2035622041575356,
           0.28024053921338055,
           0.3015900804075231,
           0.2897098933467428,
           0.22835057464510133,
           0.11133900584645492,
           0.12928723635410855,
           0.2027310617223272,
           0.1735457679884559,
           0.15546580461016196,
           0.20587952598035514,
           0.18415390024943032,
           0.13984159531253165,
           0.1947857009156577,
           0.1991374608952705,
           0.13500505900267176,
           0.1824295631551054,
           0.2664876530532695,
           0.300240553796639,
           0.30659792854287815,
           0.307149384377192,
           0.30679473437459265,
           0.3018305749355994,
           0.2708530285569564,
           0.17367945913238655,
           0.034529382182300596
          ],
          [
           0.21851020083430076,
           0.22886962861445012,
           0.19115449838031298,
           0.05912829825685532,
           0.13373450031431725,
           0.2524169710932612,
           0.29692947373669487,
           0.29889102180939575,
           0.26334458105797515,
           0.16903556671625555,
           0.1103169833430096,
           0.21299509584918264,
           0.28141868750811505,
           0.2977737231524564,
           0.283054468298514,
           0.21242392835359641,
           0.06619949254819041,
           0.11232346948467141,
           0.18201411231932713,
           0.10347794870785809,
           0.07606390451046371,
           0.18423676567062933,
           0.16628053138568616,
           0.117899707783756,
           0.2091297406667816,
           0.2814609751445978,
           0.30176320802911943,
           0.28983902451813154,
           0.22894863751490888,
           0.11354593115498693,
           0.1313223477294149,
           0.2058759016309588,
           0.18268756057167623,
           0.16695965262134904,
           0.20841669313309774,
           0.17721446290231613,
           0.12436150836681345,
           0.18703708633198007,
           0.19324624225434947,
           0.1236079836777385,
           0.1758611132255734,
           0.26479266443056043,
           0.2999692722046964,
           0.30657517816925517,
           0.307148435382095,
           0.3067939750320516,
           0.3018203540575645,
           0.2707796907610772,
           0.17332955311141138,
           0.031875731276382824
          ],
          [
           0.20713171020364984,
           0.22199690307909312,
           0.18945476192657962,
           0.06140895268229082,
           0.1347312459738258,
           0.25261622377583476,
           0.29698730131693746,
           0.2992061667280528,
           0.26530475974928813,
           0.17691413966183542,
           0.12479766473647227,
           0.21783903506529761,
           0.2829801331120594,
           0.29875558813618197,
           0.28364420655008876,
           0.2124896972310017,
           0.06547693197972657,
           0.11203185021908366,
           0.182226069684023,
           0.10465935257968316,
           0.07796022027999759,
           0.18666829680626182,
           0.17470122820752212,
           0.1339425995423107,
           0.2152022474498609,
           0.28282327728033346,
           0.301954429692902,
           0.2899583139580139,
           0.22948644434995452,
           0.11547703125168333,
           0.13317273530638324,
           0.20912234368701207,
           0.19198442652697414,
           0.1784819667437712,
           0.21143350224978183,
           0.1708527907749217,
           0.10843808191218861,
           0.1798164269565195,
           0.18815070298349248,
           0.11348759150840275,
           0.17033922971462234,
           0.26340739565803617,
           0.2997486288609127,
           0.3065566873392824,
           0.3071476647288715,
           0.3067933757887441,
           0.30181229370634777,
           0.27072184314777337,
           0.17305312105763887,
           0.029615869343960266
          ],
          [
           0.1949043937781572,
           0.21485958423958057,
           0.18813505410166878,
           0.0660638030399237,
           0.13673730912069038,
           0.2530358634712976,
           0.29708444306917975,
           0.29956706762948326,
           0.26751747532895986,
           0.18547262050650523,
           0.13945532811199574,
           0.22316498421433678,
           0.28455807704618924,
           0.29958547239229266,
           0.28412310578136923,
           0.21255621471982866,
           0.0649803268196268,
           0.11184453054324818,
           0.18244562668344547,
           0.10577281921348405,
           0.07973586143934375,
           0.18922315330263653,
           0.1834048081448652,
           0.1494450246441528,
           0.2216177644664002,
           0.2842974582931187,
           0.30216094724979964,
           0.29007609910301796,
           0.2300093369181941,
           0.11732125859714361,
           0.13498066031643166,
           0.21244957679736443,
           0.20125261148808868,
           0.18982146350759138,
           0.2148610815606888,
           0.1653086817643085,
           0.09234108006371126,
           0.17337887090064671,
           0.18404376209210366,
           0.1052813721458353,
           0.16610301314139994,
           0.26236934365939096,
           0.29958389655474665,
           0.30654288892914056,
           0.30714708912330907,
           0.3067929133577388,
           0.3018060683798119,
           0.27067715772981593,
           0.1728393240498433,
           0.027744836748214173
          ],
          [
           0.1818689261763293,
           0.20756487656376235,
           0.18730817461992186,
           0.07297364007541884,
           0.13985584912782686,
           0.25370732686708114,
           0.29722548258984516,
           0.2999663352812151,
           0.26992910124458597,
           0.19444805949153096,
           0.1539676296670695,
           0.2288375997182379,
           0.28614695341983193,
           0.30029041371431014,
           0.28452380545392497,
           0.21269489796070926,
           0.06509847742104848,
           0.11194082343988841,
           0.18268278012954745,
           0.10670189242123378,
           0.08121639184849297,
           0.19181515124699172,
           0.1921845154024595,
           0.1642935378455076,
           0.22822542970785625,
           0.2858528215663331,
           0.302380070155995,
           0.29020304602157615,
           0.2305744095496567,
           0.11930097289492676,
           0.1369173945340933,
           0.21584863729874068,
           0.21034490774205702,
           0.2008171819876771,
           0.21862961301160697,
           0.16082412399552226,
           0.07649916624223348,
           0.1679857226104021,
           0.18109619637781882,
           0.09967958244515661,
           0.16335641481182042,
           0.26170744211284974,
           0.29947908771559234,
           0.30653411172599493,
           0.3071467214259171,
           0.3067925750191955,
           0.30180149930180766,
           0.27064435669150605,
           0.17268224178811026,
           0.026287010958354104
          ],
          [
           0.1680877082091555,
           0.20024472562299822,
           0.18707655074973822,
           0.08181041187315853,
           0.14412885158718547,
           0.254654650926111,
           0.2974139038362656,
           0.3003960899339036,
           0.2724848050099155,
           0.20361078492551263,
           0.16810905026275758,
           0.2347257197348481,
           0.28773769917801617,
           0.30089392277175436,
           0.2848784906489931,
           0.21298785729027048,
           0.06627666067006054,
           0.11253459554982764,
           0.18295872715903397,
           0.10734930888631165,
           0.08225882907114983,
           0.19436713984679968,
           0.2008693335985809,
           0.17840425950193692,
           0.23488958926957595,
           0.28745901937470264,
           0.3026092478929008,
           0.29035129581028035,
           0.23124589471703796,
           0.12165211599739546,
           0.13916744595732747,
           0.21931945255673568,
           0.21914627773668294,
           0.21134858792886918,
           0.22267090304915654,
           0.1576237950776303,
           0.0616769958838602,
           0.16388514644537985,
           0.17944015536966293,
           0.09727678997598427,
           0.16224229846119814,
           0.2614405146582408,
           0.2994367883001365,
           0.30653056737867085,
           0.3071465699166349,
           0.30679235263526444,
           0.3017984720830176,
           0.2706226224997772,
           0.1725780897505198,
           0.025274875121848787
          ],
          [
           0.1536499526613469,
           0.19305637683357335,
           0.18752385108640285,
           0.09217043969326234,
           0.14953215598085376,
           0.2558923896738726,
           0.2976517961867313,
           0.30084822285866886,
           0.275130624068875,
           0.21276656262927485,
           0.18171804952506057,
           0.24070720804346074,
           0.2893187466864856,
           0.30141612475799645,
           0.2852179586086784,
           0.21352188654167398,
           0.06892853266395517,
           0.11385115192669906,
           0.18330565773670546,
           0.10764760962700076,
           0.08276269393583621,
           0.1968159055748147,
           0.20932200680279314,
           0.19171558919591822,
           0.24149203014591628,
           0.28908699644353597,
           0.30284608633086657,
           0.2905335250608498,
           0.23209001890882622,
           0.12460052290053826,
           0.14191050822327095,
           0.22286755937201963,
           0.22756943645765998,
           0.22132787781009058,
           0.2269202320212721,
           0.1558909809298771,
           0.049367278556577125,
           0.16128709663597665,
           0.1791543314855686,
           0.09836675609201366,
           0.16282118621568803,
           0.2615762348828795,
           0.299458049157526,
           0.3065323418943108,
           0.3071466377863447,
           0.30679223790767984,
           0.3017968714491456,
           0.2706111297954274,
           0.1725229937320236,
           0.02472296489806503
          ],
          [
           0.13868001223200746,
           0.1861815143424967,
           0.18870784506959948,
           0.10366215339229817,
           0.15598053910359475,
           0.25742424567703354,
           0.29793965084750745,
           0.30131465064554747,
           0.2778152531608137,
           0.22175550273598138,
           0.19467789326377918,
           0.246672247533095,
           0.290877022518063,
           0.30187396190364996,
           0.28557064488235395,
           0.21438169237094143,
           0.07333587059960439,
           0.11609859232478932,
           0.18376583185446582,
           0.10756831092979202,
           0.08267947761074948,
           0.19911591646205842,
           0.21743609270634368,
           0.20418428209368072,
           0.24793281145370785,
           0.29070978499042155,
           0.3030883508404531,
           0.2907619894548147,
           0.23316968967864402,
           0.12833702821664753,
           0.14530281868323547,
           0.2265007987152188,
           0.23555076679467227,
           0.2306940481603556,
           0.2313175288457048,
           0.15574351471458736,
           0.04229587613399062,
           0.1603366163719514,
           0.18025430108374474,
           0.10281384962583653,
           0.16506146446595776,
           0.26211069479035254,
           0.299542341539384,
           0.3065393921600529,
           0.30714692290215856,
           0.30679221967374976,
           0.30179654400907385,
           0.2706087783416966,
           0.17251171898292192,
           0.024608519420298295
          ],
          [
           0.12335200608831194,
           0.17982305886136787,
           0.19065554559434003,
           0.11594054611022013,
           0.16334032444704277,
           0.2592425266216037,
           0.29827626132900853,
           0.30178755126329404,
           0.2804914870579555,
           0.23044939981399165,
           0.2069052058014924,
           0.2525252997810925,
           0.2923988914888986,
           0.3022814387749836,
           0.28596167733036243,
           0.21564293275623253,
           0.07958597621156753,
           0.11943840309969789,
           0.18438987016488143,
           0.1071296928188676,
           0.0820218785177303,
           0.2012417833454705,
           0.22513273712398013,
           0.2157830626259196,
           0.25413011643406763,
           0.2923031310630579,
           0.303333959695904,
           0.29104761972279997,
           0.23453943599442045,
           0.1329958619073119,
           0.1494605751235538,
           0.2302262581726803,
           0.24304667795540774,
           0.23940825864325252,
           0.23580797760647307,
           0.15721634530732206,
           0.043347033050713434,
           0.16109242786672223,
           0.18269068815875789,
           0.11011482548643144,
           0.16884456317299637,
           0.2630286251986802,
           0.2996875795118468,
           0.30655154768694204,
           0.3071474178712244,
           0.30679228372300793,
           0.3017972957140687,
           0.27061417506977153,
           0.17253759425769016,
           0.024870397469159634
          ],
          [
           0.1079169271755314,
           0.17419849223683415,
           0.19336135654806327,
           0.12871182299992132,
           0.17144549837636971,
           0.26132844693808177,
           0.29865873198325915,
           0.30225957271473713,
           0.2831172974064257,
           0.23874849757860733,
           0.2183428302269147,
           0.258185997860424,
           0.29387099811519435,
           0.30264989491409455,
           0.28641203081373223,
           0.2173657607888269,
           0.08757859714810551,
           0.12396226340492231,
           0.18523424147568135,
           0.1064030946642641,
           0.08087367339409958,
           0.20318938673071874,
           0.23235747482756627,
           0.22649893293494952,
           0.2600194561900621,
           0.29384594457823227,
           0.30358097162338,
           0.2913992337734712,
           0.23624104440886587,
           0.138641080272467,
           0.15444829052523687,
           0.23404768956558936,
           0.2500303996120224,
           0.24745010421550387,
           0.24034218945568214,
           0.16025651543543615,
           0.0520384605406217,
           0.16351787215693153,
           0.18635569241563435,
           0.11959391349943505,
           0.17398322171619265,
           0.2643042457894059,
           0.2998902078787754,
           0.306568517477361,
           0.3071481104026488,
           0.3067924152359704,
           0.30179892540851927,
           0.27062587532978116,
           0.17259368104057302,
           0.025428913894637063
          ],
          [
           0.09275479186794477,
           0.1695286554882907,
           0.1967884094356795,
           0.1417275167495301,
           0.18011363340077233,
           0.2636532037537824,
           0.2990825899158146,
           0.30272400734330634,
           0.2856565500888891,
           0.24657818722218156,
           0.228955091908314,
           0.26358923038320825,
           0.2952809721598082,
           0.3029882921421685,
           0.2869378517719681,
           0.21958959825378335,
           0.09708466242543934,
           0.1296812181594403,
           0.1863580106620482,
           0.1055171131168741,
           0.07940010980844557,
           0.20497566039211673,
           0.23907715763023926,
           0.2363317694135985,
           0.26555246508382124,
           0.2953205761788311,
           0.30382757123748744,
           0.29182291802828003,
           0.2383002930004873,
           0.14526383606648427,
           0.16027411639305844,
           0.23796357049439407,
           0.25648916358923934,
           0.2548145168526555,
           0.24487607492599495,
           0.16473227737949905,
           0.06525590980008823,
           0.16748755983854607,
           0.19109613995509558,
           0.13058257237067383,
           0.18024672316855314,
           0.2659026606548356,
           0.3001453501976549,
           0.30658990162803407,
           0.307148983941668,
           0.30679260354853916,
           0.30180129038692394,
           0.27064285388399206,
           0.17267504195379693,
           0.026218281775268852
          ],
          [
           0.07847560209420208,
           0.16602164428309785,
           0.20087268187538665,
           0.15477710084643978,
           0.1891592956111365,
           0.26617968077757287,
           0.29954198780715025,
           0.3031749272602508,
           0.2880793894176751,
           0.25388586202196345,
           0.23872440460276004,
           0.26868463767495926,
           0.29661797926490197,
           0.303303506470933,
           0.2875500101297677,
           0.22232975510838346,
           0.10781418730217195,
           0.1365292241899459,
           0.1878190118309779,
           0.10465827861448536,
           0.07785673307294737,
           0.20663705267078092,
           0.24527701853983008,
           0.24529300844817362,
           0.2706954534206789,
           0.2967129324999644,
           0.3040720556401349,
           0.29232161578653254,
           0.24072507676786925,
           0.1527900043733284,
           0.1668924830378788,
           0.24196590781326452,
           0.26242171943825243,
           0.26150910720304765,
           0.24937053748996404,
           0.1704529931312583,
           0.08058908043051766,
           0.1728073046145259,
           0.19672973326415344,
           0.14251081549102368,
           0.18738617791903175,
           0.2677816674401665,
           0.30044700790638057,
           0.30661520702026823,
           0.3071500185271002,
           0.3067928485832592,
           0.30180439488004884,
           0.27066514026140925,
           0.17278178744772885,
           0.027219770030109666
          ],
          [
           0.06609914768776837,
           0.16385291517066516,
           0.20552904117564702,
           0.1676819767154087,
           0.19840407602513746,
           0.268864584235743,
           0.30002997900495526,
           0.3036072787848519,
           0.29036232822639985,
           0.2606380005282275,
           0.2476486251187638,
           0.2734356966480508,
           0.2978731106461058,
           0.30360061686208356,
           0.28825391731055483,
           0.22557626673021527,
           0.11946566539041995,
           0.14437803296614932,
           0.18966972011591135,
           0.10406578145265703,
           0.07659096138196056,
           0.20822672079291618,
           0.25095785072489835,
           0.2534043282593651,
           0.27542782891068107,
           0.29801244762073054,
           0.30431282471331256,
           0.292894942270281,
           0.24350505497028868,
           0.16109486248413143,
           0.17421265031637734,
           0.24603980488735533,
           0.26783613847574333,
           0.26755182448477033,
           0.2537910865244407,
           0.17719345188618432,
           0.09677462629618652,
           0.1792406468348442,
           0.2030611235916203,
           0.15492694306673876,
           0.1951550846322664,
           0.26989382112621324,
           0.30078829876919694,
           0.30664386623514583,
           0.3071511918047946,
           0.3067931680106624,
           0.30180848856030495,
           0.27069452555693363,
           0.17292244746709584,
           0.028486615193465636
          ],
          [
           0.05726204036250182,
           0.16314477577067127,
           0.21065817170776058,
           0.18029119933188723,
           0.20768338216575252,
           0.2716607963169455,
           0.30053884215421367,
           0.3040169360635423,
           0.2924880898514157,
           0.2668174818994615,
           0.25573882380578616,
           0.27781853026761866,
           0.29903961670043455,
           0.30388318494094096,
           0.2890496258660735,
           0.2292949910235778,
           0.13175287438483174,
           0.15305749739840163,
           0.19195318775763504,
           0.10401714552696421,
           0.07602592820549044,
           0.20981056627143094,
           0.25613328094843446,
           0.26069629081336554,
           0.2797404618806831,
           0.29921193252557265,
           0.30454837672843205,
           0.2935392267604197,
           0.2466127636906839,
           0.17002049526321864,
           0.1821106997783951,
           0.2501637419361232,
           0.2727478722968427,
           0.2729688611927428,
           0.258107442283918,
           0.18471656715656815,
           0.11315946467223345,
           0.18653476945993677,
           0.20989544967560467,
           0.16748435575213838,
           0.20332341327664286,
           0.2721885887488126,
           0.3011617209958712,
           0.3066752586787083,
           0.3071524801181283,
           0.3067936040465555,
           0.3018141599903819,
           0.2707352320948689,
           0.17311713579997162,
           0.030153942107759398
          ],
          [
           0.053990947713672244,
           0.16395009357838927,
           0.21615342780343866,
           0.19247855570559025,
           0.21685058320249367,
           0.27451974161159515,
           0.30106043082043527,
           0.3044007160327424,
           0.29444525052162257,
           0.27242111233870825,
           0.26301728760205917,
           0.2818205446030352,
           0.3001129977872275,
           0.3041535211933936,
           0.289932201375084,
           0.23343067640264892,
           0.14441609996744728,
           0.16237569914973143,
           0.1946994578345327,
           0.10480249172825623,
           0.07661423059892068,
           0.21146229798545768,
           0.26082713134906943,
           0.2672069400298692,
           0.2836340459411408,
           0.3003073265697064,
           0.3047773099316194,
           0.2942477639856341,
           0.250005965160428,
           0.17939233111828204,
           0.19044240949438151,
           0.2543104587933512,
           0.27717804185760064,
           0.27779276191168567,
           0.262293180676672,
           0.19279091165494922,
           0.12937145094499314,
           0.19444109886258815,
           0.21704832119581816,
           0.17992030776943282,
           0.211685686089007,
           0.27461444592262196,
           0.3015594285878041,
           0.30670873281957756,
           0.3071538595926956,
           0.3067942287765706,
           0.3018224097285279,
           0.2707944354489903,
           0.17339995138096012,
           0.03242663910432872
          ]
         ]
        },
        {
         "hoverinfo": "text",
         "legendgroup": "In-sample",
         "marker": {
          "color": "black",
          "opacity": 0.5,
          "symbol": 1
         },
         "mode": "markers",
         "name": "In-sample",
         "text": [
          "Arm 0_0<br>rmse: 1.99415 (SEM: None)<br>lr: 0.01<br>patience: 10<br>dropout_rate: 0.2",
          "Arm 1_0<br>rmse: 2.19222 (SEM: None)<br>lr: 0.125509<br>patience: 17<br>dropout_rate: 0.294307",
          "Arm 2_0<br>rmse: 2.26972 (SEM: None)<br>lr: 0.00283491<br>patience: 6<br>dropout_rate: 0.0234379",
          "Arm 3_0<br>rmse: 4.54175 (SEM: None)<br>lr: 1.82066e-05<br>patience: 16<br>dropout_rate: 0.469583",
          "Arm 4_0<br>rmse: 1.99673 (SEM: None)<br>lr: 0.0140103<br>patience: 11<br>dropout_rate: 0.200625",
          "Arm 5_0<br>rmse: 2.0223 (SEM: None)<br>lr: 0.00460178<br>patience: 14<br>dropout_rate: 0.119491",
          "Arm 6_0<br>rmse: 4.27373 (SEM: None)<br>lr: 5.07361e-05<br>patience: 9<br>dropout_rate: 0.33677",
          "Arm 7_0<br>rmse: 2.15148 (SEM: None)<br>lr: 0.0170906<br>patience: 20<br>dropout_rate: 0.01",
          "Arm 8_0<br>rmse: 2.08577 (SEM: None)<br>lr: 0.0121741<br>patience: 20<br>dropout_rate: 0.5",
          "Arm 9_0<br>rmse: 2.26029 (SEM: None)<br>lr: 0.00777355<br>patience: 15<br>dropout_rate: 0.293744",
          "Arm 10_0<br>rmse: 1.86847 (SEM: None)<br>lr: 0.105075<br>patience: 10<br>dropout_rate: 0.147632",
          "Arm 11_0<br>rmse: 1.79464 (SEM: None)<br>lr: 1<br>patience: 20<br>dropout_rate: 0.110907",
          "Arm 12_0<br>rmse: 1990.27 (SEM: None)<br>lr: 1<br>patience: 5<br>dropout_rate: 0.0898784",
          "Arm 13_0<br>rmse: 1.97489 (SEM: None)<br>lr: 0.211331<br>patience: 16<br>dropout_rate: 0.114327",
          "Arm 14_0<br>rmse: 2.28744 (SEM: None)<br>lr: 0.0482702<br>patience: 11<br>dropout_rate: 0.0291684",
          "Arm 15_0<br>rmse: 1.93338 (SEM: None)<br>lr: 0.150005<br>patience: 20<br>dropout_rate: 0.146033",
          "Arm 16_0<br>rmse: 1.85068 (SEM: None)<br>lr: 1<br>patience: 20<br>dropout_rate: 0.0721975",
          "Arm 17_0<br>rmse: 2.8931 (SEM: None)<br>lr: 1<br>patience: 11<br>dropout_rate: 0.190181",
          "Arm 18_0<br>rmse: 2.4767 (SEM: None)<br>lr: 0.0553646<br>patience: 6<br>dropout_rate: 0.206761",
          "Arm 19_0<br>rmse: 2.03921 (SEM: None)<br>lr: 0.124382<br>patience: 14<br>dropout_rate: 0.01",
          "Arm 20_0<br>rmse: 2.20859 (SEM: None)<br>lr: 0.0088271<br>patience: 12<br>dropout_rate: 0.0143339",
          "Arm 21_0<br>rmse: 2.38058 (SEM: None)<br>lr: 0.0112081<br>patience: 12<br>dropout_rate: 0.159053",
          "Arm 22_0<br>rmse: 1.87371 (SEM: None)<br>lr: 0.000719783<br>patience: 11<br>dropout_rate: 0.01",
          "Arm 23_0<br>rmse: 2.00791 (SEM: None)<br>lr: 0.0155516<br>patience: 8<br>dropout_rate: 0.234348",
          "Arm 24_0<br>rmse: 1.89954 (SEM: None)<br>lr: 0.425123<br>patience: 20<br>dropout_rate: 0.0451729"
         ],
         "type": "scatter",
         "x": [
          10,
          17,
          6,
          16,
          11,
          14,
          9,
          20,
          20,
          15,
          10,
          20,
          5,
          16,
          11,
          20,
          20,
          11,
          6,
          14,
          12,
          12,
          11,
          8,
          20
         ],
         "xaxis": "x",
         "y": [
          0.01,
          0.125509454814287,
          0.0028349137660267096,
          0.00001820659742472154,
          0.014010277532224474,
          0.00460177638051502,
          0.00005073608382150976,
          0.01709057632258156,
          0.012174093529520723,
          0.007773550570352637,
          0.10507513521711269,
          1,
          1,
          0.21133051603679814,
          0.04827019629491918,
          0.15000463499583722,
          1,
          1,
          0.05536456924906378,
          0.12438175272954682,
          0.008827096665125841,
          0.011208090608178135,
          0.0007197832224611624,
          0.015551634803797626,
          0.4251229240310686
         ],
         "yaxis": "y"
        },
        {
         "hoverinfo": "text",
         "legendgroup": "In-sample",
         "marker": {
          "color": "black",
          "opacity": 0.5,
          "symbol": 1
         },
         "mode": "markers",
         "name": "In-sample",
         "showlegend": false,
         "text": [
          "Arm 0_0<br>rmse: 1.99415 (SEM: None)<br>lr: 0.01<br>patience: 10<br>dropout_rate: 0.2",
          "Arm 1_0<br>rmse: 2.19222 (SEM: None)<br>lr: 0.125509<br>patience: 17<br>dropout_rate: 0.294307",
          "Arm 2_0<br>rmse: 2.26972 (SEM: None)<br>lr: 0.00283491<br>patience: 6<br>dropout_rate: 0.0234379",
          "Arm 3_0<br>rmse: 4.54175 (SEM: None)<br>lr: 1.82066e-05<br>patience: 16<br>dropout_rate: 0.469583",
          "Arm 4_0<br>rmse: 1.99673 (SEM: None)<br>lr: 0.0140103<br>patience: 11<br>dropout_rate: 0.200625",
          "Arm 5_0<br>rmse: 2.0223 (SEM: None)<br>lr: 0.00460178<br>patience: 14<br>dropout_rate: 0.119491",
          "Arm 6_0<br>rmse: 4.27373 (SEM: None)<br>lr: 5.07361e-05<br>patience: 9<br>dropout_rate: 0.33677",
          "Arm 7_0<br>rmse: 2.15148 (SEM: None)<br>lr: 0.0170906<br>patience: 20<br>dropout_rate: 0.01",
          "Arm 8_0<br>rmse: 2.08577 (SEM: None)<br>lr: 0.0121741<br>patience: 20<br>dropout_rate: 0.5",
          "Arm 9_0<br>rmse: 2.26029 (SEM: None)<br>lr: 0.00777355<br>patience: 15<br>dropout_rate: 0.293744",
          "Arm 10_0<br>rmse: 1.86847 (SEM: None)<br>lr: 0.105075<br>patience: 10<br>dropout_rate: 0.147632",
          "Arm 11_0<br>rmse: 1.79464 (SEM: None)<br>lr: 1<br>patience: 20<br>dropout_rate: 0.110907",
          "Arm 12_0<br>rmse: 1990.27 (SEM: None)<br>lr: 1<br>patience: 5<br>dropout_rate: 0.0898784",
          "Arm 13_0<br>rmse: 1.97489 (SEM: None)<br>lr: 0.211331<br>patience: 16<br>dropout_rate: 0.114327",
          "Arm 14_0<br>rmse: 2.28744 (SEM: None)<br>lr: 0.0482702<br>patience: 11<br>dropout_rate: 0.0291684",
          "Arm 15_0<br>rmse: 1.93338 (SEM: None)<br>lr: 0.150005<br>patience: 20<br>dropout_rate: 0.146033",
          "Arm 16_0<br>rmse: 1.85068 (SEM: None)<br>lr: 1<br>patience: 20<br>dropout_rate: 0.0721975",
          "Arm 17_0<br>rmse: 2.8931 (SEM: None)<br>lr: 1<br>patience: 11<br>dropout_rate: 0.190181",
          "Arm 18_0<br>rmse: 2.4767 (SEM: None)<br>lr: 0.0553646<br>patience: 6<br>dropout_rate: 0.206761",
          "Arm 19_0<br>rmse: 2.03921 (SEM: None)<br>lr: 0.124382<br>patience: 14<br>dropout_rate: 0.01",
          "Arm 20_0<br>rmse: 2.20859 (SEM: None)<br>lr: 0.0088271<br>patience: 12<br>dropout_rate: 0.0143339",
          "Arm 21_0<br>rmse: 2.38058 (SEM: None)<br>lr: 0.0112081<br>patience: 12<br>dropout_rate: 0.159053",
          "Arm 22_0<br>rmse: 1.87371 (SEM: None)<br>lr: 0.000719783<br>patience: 11<br>dropout_rate: 0.01",
          "Arm 23_0<br>rmse: 2.00791 (SEM: None)<br>lr: 0.0155516<br>patience: 8<br>dropout_rate: 0.234348",
          "Arm 24_0<br>rmse: 1.89954 (SEM: None)<br>lr: 0.425123<br>patience: 20<br>dropout_rate: 0.0451729"
         ],
         "type": "scatter",
         "x": [
          10,
          17,
          6,
          16,
          11,
          14,
          9,
          20,
          20,
          15,
          10,
          20,
          5,
          16,
          11,
          20,
          20,
          11,
          6,
          14,
          12,
          12,
          11,
          8,
          20
         ],
         "xaxis": "x2",
         "y": [
          0.01,
          0.125509454814287,
          0.0028349137660267096,
          0.00001820659742472154,
          0.014010277532224474,
          0.00460177638051502,
          0.00005073608382150976,
          0.01709057632258156,
          0.012174093529520723,
          0.007773550570352637,
          0.10507513521711269,
          1,
          1,
          0.21133051603679814,
          0.04827019629491918,
          0.15000463499583722,
          1,
          1,
          0.05536456924906378,
          0.12438175272954682,
          0.008827096665125841,
          0.011208090608178135,
          0.0007197832224611624,
          0.015551634803797626,
          0.4251229240310686
         ],
         "yaxis": "y2"
        }
       ],
       "layout": {
        "annotations": [
         {
          "font": {
           "size": 14
          },
          "showarrow": false,
          "text": "Mean",
          "x": 0.25,
          "xanchor": "center",
          "xref": "paper",
          "y": 1,
          "yanchor": "bottom",
          "yref": "paper"
         },
         {
          "font": {
           "size": 14
          },
          "showarrow": false,
          "text": "Standard Error",
          "x": 0.8,
          "xanchor": "center",
          "xref": "paper",
          "y": 1,
          "yanchor": "bottom",
          "yref": "paper"
         }
        ],
        "autosize": false,
        "height": 450,
        "hovermode": "closest",
        "legend": {
         "orientation": "h",
         "x": 0,
         "y": -0.25
        },
        "margin": {
         "b": 100,
         "l": 35,
         "pad": 0,
         "r": 35,
         "t": 35
        },
        "template": {
         "data": {
          "bar": [
           {
            "error_x": {
             "color": "#2a3f5f"
            },
            "error_y": {
             "color": "#2a3f5f"
            },
            "marker": {
             "line": {
              "color": "#E5ECF6",
              "width": 0.5
             },
             "pattern": {
              "fillmode": "overlay",
              "size": 10,
              "solidity": 0.2
             }
            },
            "type": "bar"
           }
          ],
          "barpolar": [
           {
            "marker": {
             "line": {
              "color": "#E5ECF6",
              "width": 0.5
             },
             "pattern": {
              "fillmode": "overlay",
              "size": 10,
              "solidity": 0.2
             }
            },
            "type": "barpolar"
           }
          ],
          "carpet": [
           {
            "aaxis": {
             "endlinecolor": "#2a3f5f",
             "gridcolor": "white",
             "linecolor": "white",
             "minorgridcolor": "white",
             "startlinecolor": "#2a3f5f"
            },
            "baxis": {
             "endlinecolor": "#2a3f5f",
             "gridcolor": "white",
             "linecolor": "white",
             "minorgridcolor": "white",
             "startlinecolor": "#2a3f5f"
            },
            "type": "carpet"
           }
          ],
          "choropleth": [
           {
            "colorbar": {
             "outlinewidth": 0,
             "ticks": ""
            },
            "type": "choropleth"
           }
          ],
          "contour": [
           {
            "colorbar": {
             "outlinewidth": 0,
             "ticks": ""
            },
            "colorscale": [
             [
              0,
              "#0d0887"
             ],
             [
              0.1111111111111111,
              "#46039f"
             ],
             [
              0.2222222222222222,
              "#7201a8"
             ],
             [
              0.3333333333333333,
              "#9c179e"
             ],
             [
              0.4444444444444444,
              "#bd3786"
             ],
             [
              0.5555555555555556,
              "#d8576b"
             ],
             [
              0.6666666666666666,
              "#ed7953"
             ],
             [
              0.7777777777777778,
              "#fb9f3a"
             ],
             [
              0.8888888888888888,
              "#fdca26"
             ],
             [
              1,
              "#f0f921"
             ]
            ],
            "type": "contour"
           }
          ],
          "contourcarpet": [
           {
            "colorbar": {
             "outlinewidth": 0,
             "ticks": ""
            },
            "type": "contourcarpet"
           }
          ],
          "heatmap": [
           {
            "colorbar": {
             "outlinewidth": 0,
             "ticks": ""
            },
            "colorscale": [
             [
              0,
              "#0d0887"
             ],
             [
              0.1111111111111111,
              "#46039f"
             ],
             [
              0.2222222222222222,
              "#7201a8"
             ],
             [
              0.3333333333333333,
              "#9c179e"
             ],
             [
              0.4444444444444444,
              "#bd3786"
             ],
             [
              0.5555555555555556,
              "#d8576b"
             ],
             [
              0.6666666666666666,
              "#ed7953"
             ],
             [
              0.7777777777777778,
              "#fb9f3a"
             ],
             [
              0.8888888888888888,
              "#fdca26"
             ],
             [
              1,
              "#f0f921"
             ]
            ],
            "type": "heatmap"
           }
          ],
          "heatmapgl": [
           {
            "colorbar": {
             "outlinewidth": 0,
             "ticks": ""
            },
            "colorscale": [
             [
              0,
              "#0d0887"
             ],
             [
              0.1111111111111111,
              "#46039f"
             ],
             [
              0.2222222222222222,
              "#7201a8"
             ],
             [
              0.3333333333333333,
              "#9c179e"
             ],
             [
              0.4444444444444444,
              "#bd3786"
             ],
             [
              0.5555555555555556,
              "#d8576b"
             ],
             [
              0.6666666666666666,
              "#ed7953"
             ],
             [
              0.7777777777777778,
              "#fb9f3a"
             ],
             [
              0.8888888888888888,
              "#fdca26"
             ],
             [
              1,
              "#f0f921"
             ]
            ],
            "type": "heatmapgl"
           }
          ],
          "histogram": [
           {
            "marker": {
             "pattern": {
              "fillmode": "overlay",
              "size": 10,
              "solidity": 0.2
             }
            },
            "type": "histogram"
           }
          ],
          "histogram2d": [
           {
            "colorbar": {
             "outlinewidth": 0,
             "ticks": ""
            },
            "colorscale": [
             [
              0,
              "#0d0887"
             ],
             [
              0.1111111111111111,
              "#46039f"
             ],
             [
              0.2222222222222222,
              "#7201a8"
             ],
             [
              0.3333333333333333,
              "#9c179e"
             ],
             [
              0.4444444444444444,
              "#bd3786"
             ],
             [
              0.5555555555555556,
              "#d8576b"
             ],
             [
              0.6666666666666666,
              "#ed7953"
             ],
             [
              0.7777777777777778,
              "#fb9f3a"
             ],
             [
              0.8888888888888888,
              "#fdca26"
             ],
             [
              1,
              "#f0f921"
             ]
            ],
            "type": "histogram2d"
           }
          ],
          "histogram2dcontour": [
           {
            "colorbar": {
             "outlinewidth": 0,
             "ticks": ""
            },
            "colorscale": [
             [
              0,
              "#0d0887"
             ],
             [
              0.1111111111111111,
              "#46039f"
             ],
             [
              0.2222222222222222,
              "#7201a8"
             ],
             [
              0.3333333333333333,
              "#9c179e"
             ],
             [
              0.4444444444444444,
              "#bd3786"
             ],
             [
              0.5555555555555556,
              "#d8576b"
             ],
             [
              0.6666666666666666,
              "#ed7953"
             ],
             [
              0.7777777777777778,
              "#fb9f3a"
             ],
             [
              0.8888888888888888,
              "#fdca26"
             ],
             [
              1,
              "#f0f921"
             ]
            ],
            "type": "histogram2dcontour"
           }
          ],
          "mesh3d": [
           {
            "colorbar": {
             "outlinewidth": 0,
             "ticks": ""
            },
            "type": "mesh3d"
           }
          ],
          "parcoords": [
           {
            "line": {
             "colorbar": {
              "outlinewidth": 0,
              "ticks": ""
             }
            },
            "type": "parcoords"
           }
          ],
          "pie": [
           {
            "automargin": true,
            "type": "pie"
           }
          ],
          "scatter": [
           {
            "fillpattern": {
             "fillmode": "overlay",
             "size": 10,
             "solidity": 0.2
            },
            "type": "scatter"
           }
          ],
          "scatter3d": [
           {
            "line": {
             "colorbar": {
              "outlinewidth": 0,
              "ticks": ""
             }
            },
            "marker": {
             "colorbar": {
              "outlinewidth": 0,
              "ticks": ""
             }
            },
            "type": "scatter3d"
           }
          ],
          "scattercarpet": [
           {
            "marker": {
             "colorbar": {
              "outlinewidth": 0,
              "ticks": ""
             }
            },
            "type": "scattercarpet"
           }
          ],
          "scattergeo": [
           {
            "marker": {
             "colorbar": {
              "outlinewidth": 0,
              "ticks": ""
             }
            },
            "type": "scattergeo"
           }
          ],
          "scattergl": [
           {
            "marker": {
             "colorbar": {
              "outlinewidth": 0,
              "ticks": ""
             }
            },
            "type": "scattergl"
           }
          ],
          "scattermapbox": [
           {
            "marker": {
             "colorbar": {
              "outlinewidth": 0,
              "ticks": ""
             }
            },
            "type": "scattermapbox"
           }
          ],
          "scatterpolar": [
           {
            "marker": {
             "colorbar": {
              "outlinewidth": 0,
              "ticks": ""
             }
            },
            "type": "scatterpolar"
           }
          ],
          "scatterpolargl": [
           {
            "marker": {
             "colorbar": {
              "outlinewidth": 0,
              "ticks": ""
             }
            },
            "type": "scatterpolargl"
           }
          ],
          "scatterternary": [
           {
            "marker": {
             "colorbar": {
              "outlinewidth": 0,
              "ticks": ""
             }
            },
            "type": "scatterternary"
           }
          ],
          "surface": [
           {
            "colorbar": {
             "outlinewidth": 0,
             "ticks": ""
            },
            "colorscale": [
             [
              0,
              "#0d0887"
             ],
             [
              0.1111111111111111,
              "#46039f"
             ],
             [
              0.2222222222222222,
              "#7201a8"
             ],
             [
              0.3333333333333333,
              "#9c179e"
             ],
             [
              0.4444444444444444,
              "#bd3786"
             ],
             [
              0.5555555555555556,
              "#d8576b"
             ],
             [
              0.6666666666666666,
              "#ed7953"
             ],
             [
              0.7777777777777778,
              "#fb9f3a"
             ],
             [
              0.8888888888888888,
              "#fdca26"
             ],
             [
              1,
              "#f0f921"
             ]
            ],
            "type": "surface"
           }
          ],
          "table": [
           {
            "cells": {
             "fill": {
              "color": "#EBF0F8"
             },
             "line": {
              "color": "white"
             }
            },
            "header": {
             "fill": {
              "color": "#C8D4E3"
             },
             "line": {
              "color": "white"
             }
            },
            "type": "table"
           }
          ]
         },
         "layout": {
          "annotationdefaults": {
           "arrowcolor": "#2a3f5f",
           "arrowhead": 0,
           "arrowwidth": 1
          },
          "autotypenumbers": "strict",
          "coloraxis": {
           "colorbar": {
            "outlinewidth": 0,
            "ticks": ""
           }
          },
          "colorscale": {
           "diverging": [
            [
             0,
             "#8e0152"
            ],
            [
             0.1,
             "#c51b7d"
            ],
            [
             0.2,
             "#de77ae"
            ],
            [
             0.3,
             "#f1b6da"
            ],
            [
             0.4,
             "#fde0ef"
            ],
            [
             0.5,
             "#f7f7f7"
            ],
            [
             0.6,
             "#e6f5d0"
            ],
            [
             0.7,
             "#b8e186"
            ],
            [
             0.8,
             "#7fbc41"
            ],
            [
             0.9,
             "#4d9221"
            ],
            [
             1,
             "#276419"
            ]
           ],
           "sequential": [
            [
             0,
             "#0d0887"
            ],
            [
             0.1111111111111111,
             "#46039f"
            ],
            [
             0.2222222222222222,
             "#7201a8"
            ],
            [
             0.3333333333333333,
             "#9c179e"
            ],
            [
             0.4444444444444444,
             "#bd3786"
            ],
            [
             0.5555555555555556,
             "#d8576b"
            ],
            [
             0.6666666666666666,
             "#ed7953"
            ],
            [
             0.7777777777777778,
             "#fb9f3a"
            ],
            [
             0.8888888888888888,
             "#fdca26"
            ],
            [
             1,
             "#f0f921"
            ]
           ],
           "sequentialminus": [
            [
             0,
             "#0d0887"
            ],
            [
             0.1111111111111111,
             "#46039f"
            ],
            [
             0.2222222222222222,
             "#7201a8"
            ],
            [
             0.3333333333333333,
             "#9c179e"
            ],
            [
             0.4444444444444444,
             "#bd3786"
            ],
            [
             0.5555555555555556,
             "#d8576b"
            ],
            [
             0.6666666666666666,
             "#ed7953"
            ],
            [
             0.7777777777777778,
             "#fb9f3a"
            ],
            [
             0.8888888888888888,
             "#fdca26"
            ],
            [
             1,
             "#f0f921"
            ]
           ]
          },
          "colorway": [
           "#636efa",
           "#EF553B",
           "#00cc96",
           "#ab63fa",
           "#FFA15A",
           "#19d3f3",
           "#FF6692",
           "#B6E880",
           "#FF97FF",
           "#FECB52"
          ],
          "font": {
           "color": "#2a3f5f"
          },
          "geo": {
           "bgcolor": "white",
           "lakecolor": "white",
           "landcolor": "#E5ECF6",
           "showlakes": true,
           "showland": true,
           "subunitcolor": "white"
          },
          "hoverlabel": {
           "align": "left"
          },
          "hovermode": "closest",
          "mapbox": {
           "style": "light"
          },
          "paper_bgcolor": "white",
          "plot_bgcolor": "#E5ECF6",
          "polar": {
           "angularaxis": {
            "gridcolor": "white",
            "linecolor": "white",
            "ticks": ""
           },
           "bgcolor": "#E5ECF6",
           "radialaxis": {
            "gridcolor": "white",
            "linecolor": "white",
            "ticks": ""
           }
          },
          "scene": {
           "xaxis": {
            "backgroundcolor": "#E5ECF6",
            "gridcolor": "white",
            "gridwidth": 2,
            "linecolor": "white",
            "showbackground": true,
            "ticks": "",
            "zerolinecolor": "white"
           },
           "yaxis": {
            "backgroundcolor": "#E5ECF6",
            "gridcolor": "white",
            "gridwidth": 2,
            "linecolor": "white",
            "showbackground": true,
            "ticks": "",
            "zerolinecolor": "white"
           },
           "zaxis": {
            "backgroundcolor": "#E5ECF6",
            "gridcolor": "white",
            "gridwidth": 2,
            "linecolor": "white",
            "showbackground": true,
            "ticks": "",
            "zerolinecolor": "white"
           }
          },
          "shapedefaults": {
           "line": {
            "color": "#2a3f5f"
           }
          },
          "ternary": {
           "aaxis": {
            "gridcolor": "white",
            "linecolor": "white",
            "ticks": ""
           },
           "baxis": {
            "gridcolor": "white",
            "linecolor": "white",
            "ticks": ""
           },
           "bgcolor": "#E5ECF6",
           "caxis": {
            "gridcolor": "white",
            "linecolor": "white",
            "ticks": ""
           }
          },
          "title": {
           "x": 0.05
          },
          "xaxis": {
           "automargin": true,
           "gridcolor": "white",
           "linecolor": "white",
           "ticks": "",
           "title": {
            "standoff": 15
           },
           "zerolinecolor": "white",
           "zerolinewidth": 2
          },
          "yaxis": {
           "automargin": true,
           "gridcolor": "white",
           "linecolor": "white",
           "ticks": "",
           "title": {
            "standoff": 15
           },
           "zerolinecolor": "white",
           "zerolinewidth": 2
          }
         }
        },
        "title": {
         "text": "rmse"
        },
        "width": 950,
        "xaxis": {
         "anchor": "y",
         "autorange": false,
         "domain": [
          0.05,
          0.45
         ],
         "exponentformat": "e",
         "range": [
          5,
          20
         ],
         "tickfont": {
          "size": 11
         },
         "tickmode": "auto",
         "title": {
          "text": "patience"
         },
         "type": "linear"
        },
        "xaxis2": {
         "anchor": "y2",
         "autorange": false,
         "domain": [
          0.6,
          1
         ],
         "exponentformat": "e",
         "range": [
          5,
          20
         ],
         "tickfont": {
          "size": 11
         },
         "tickmode": "auto",
         "title": {
          "text": "patience"
         },
         "type": "linear"
        },
        "yaxis": {
         "anchor": "x",
         "autorange": false,
         "domain": [
          0,
          1
         ],
         "exponentformat": "e",
         "range": [
          -5,
          0
         ],
         "tickfont": {
          "size": 11
         },
         "tickmode": "auto",
         "title": {
          "text": "lr"
         },
         "type": "log"
        },
        "yaxis2": {
         "anchor": "x2",
         "autorange": false,
         "domain": [
          0,
          1
         ],
         "exponentformat": "e",
         "range": [
          -5,
          0
         ],
         "tickfont": {
          "size": 11
         },
         "tickmode": "auto",
         "type": "log"
        }
       }
      },
      "text/html": [
       "<div>                            <div id=\"eb1806cf-2991-46b5-b5be-ca3a8701f14d\" class=\"plotly-graph-div\" style=\"height:450px; width:950px;\"></div>            <script type=\"text/javascript\">                require([\"plotly\"], function(Plotly) {                    window.PLOTLYENV=window.PLOTLYENV || {};                                    if (document.getElementById(\"eb1806cf-2991-46b5-b5be-ca3a8701f14d\")) {                    Plotly.newPlot(                        \"eb1806cf-2991-46b5-b5be-ca3a8701f14d\",                        [{\"autocolorscale\":false,\"autocontour\":true,\"colorbar\":{\"tickfont\":{\"size\":8},\"ticksuffix\":\"\",\"x\":0.45,\"y\":0.5},\"colorscale\":[[0.0,\"rgb(247,252,253)\"],[0.125,\"rgb(229,245,249)\"],[0.25,\"rgb(204,236,230)\"],[0.375,\"rgb(153,216,201)\"],[0.5,\"rgb(102,194,164)\"],[0.625,\"rgb(65,174,118)\"],[0.75,\"rgb(35,139,69)\"],[0.875,\"rgb(0,109,44)\"],[1.0,\"rgb(0,68,27)\"]],\"contours\":{\"coloring\":\"heatmap\"},\"hoverinfo\":\"x+y+z\",\"ncontours\":25,\"x\":[5.0,5.3061224489795915,5.612244897959184,5.918367346938775,6.224489795918368,6.530612244897959,6.836734693877551,7.142857142857142,7.448979591836735,7.755102040816327,8.061224489795919,8.36734693877551,8.673469387755102,8.979591836734695,9.285714285714285,9.591836734693878,9.89795918367347,10.204081632653061,10.510204081632654,10.816326530612244,11.122448979591837,11.428571428571429,11.73469387755102,12.040816326530614,12.346938775510203,12.653061224489797,12.959183673469388,13.26530612244898,13.571428571428571,13.877551020408163,14.183673469387756,14.489795918367347,14.795918367346939,15.10204081632653,15.408163265306122,15.714285714285715,16.02040816326531,16.3265306122449,16.632653061224488,16.93877551020408,17.244897959183675,17.551020408163268,17.857142857142858,18.163265306122447,18.46938775510204,18.775510204081634,19.081632653061227,19.387755102040817,19.693877551020407,20.0],\"xaxis\":\"x\",\"y\":[1e-05,1.2648552168552958e-05,1.5998587196060572e-05,2.0235896477251556e-05,2.559547922699533e-05,3.237457542817647e-05,4.094915062380427e-05,5.1794746792312125e-05,6.55128556859551e-05,8.286427728546843e-05,0.00010481131341546853,0.00013257113655901095,0.00016768329368110083,0.00021209508879201905,0.0002682695795279727,0.000339322177189533,0.00042919342601287783,0.0005428675439323859,0.0006866488450042998,0.000868511373751353,0.0010985411419875584,0.0013894954943731374,0.001757510624854793,0.0022229964825261957,0.002811768697974231,0.0035564803062231283,0.004498432668969444,0.005689866029018299,0.0071968567300115215,0.009102981779915217,0.011513953993264481,0.014563484775012445,0.018420699693267165,0.023299518105153717,0.029470517025518096,0.037275937203149416,0.04714866363457394,0.05963623316594643,0.07543120063354623,0.09540954763499944,0.1206792640639329,0.15264179671752334,0.19306977288832497,0.244205309454865,0.30888435964774846,0.3906939937054621,0.49417133613238384,0.6250551925273976,0.7906043210907702,1.0],\"yaxis\":\"y\",\"z\":[[2.265976881956119,2.254270191417097,2.2369417118519954,2.224902289258811,2.2280537136968865,2.242451400009631,2.2549238879111364,2.2569453294582473,2.2507594395998143,2.254069153175743,2.3031053789394282,2.427025013383809,2.589329375365527,2.6795193797972767,2.625692447572119,2.4848535752200345,2.3565793659457475,2.268089741300619,2.1964741664197507,2.1425501876285615,2.1327696823994398,2.1681308437168614,2.2146969509684906,2.2453549549378624,2.259090595976803,2.263727657899495,2.2619593356027803,2.2522159578061727,2.235944891639159,2.2233914218122286,2.2266901245388433,2.247065067296821,2.282021225191661,2.3463149161051327,2.4599442225298462,2.590998202281901,2.645605135901417,2.5730154757880483,2.4375754427484657,2.332520132913946,2.2846143008470325,2.2709706103289804,2.2686815150972115,2.268557467372659,2.2685397284192668,2.2682200352687745,2.2671153186378534,2.26477877410554,2.2618925325795893,2.2605122725078903],[2.266279951811468,2.253615618601192,2.234817568896853,2.221736311421316,2.22505048234363,2.2404743340478244,2.2537506415418447,2.2555399030477115,2.248050976275102,2.2501038901870123,2.3000143274553335,2.428120451720702,2.5961590377629915,2.689801798067207,2.6350750907433413,2.4906103516713394,2.3582818167977977,2.265193995596116,2.187670067275567,2.128580312269704,2.118130458305368,2.1577385192222716,2.2097612526515737,2.243895029146037,2.258898851482616,2.2636468709569164,2.2613699972647483,2.2503680579391587,2.2321811570640575,2.218168443186124,2.2217976267531947,2.244142502306339,2.281249796587737,2.346899627345872,2.461237023139476,2.5927275590115233,2.647406390725248,2.574346975916077,2.4381676944992545,2.33256257559909,2.284460692288439,2.270841029685153,2.268622017138014,2.2685386770730305,2.2685281372944384,2.2681768429387614,2.2669580636965008,2.264379879665058,2.2611951287308854,2.2596721147846575],[2.2667355732558523,2.253102978812401,2.2328041486755326,2.218653199169742,2.2221049190294595,2.23852451953107,2.252559444444892,2.254027524311217,2.245072762203423,2.2456516526207166,2.2961976570632263,2.4281855234525893,2.601593416890597,2.698511065551088,2.6431116427076455,2.4954758014026406,2.3594226951442616,2.261783280975303,2.178168028391418,2.1137063651469763,2.102622790547146,2.146810572031114,2.2046921083319146,2.2425380581659478,2.2588466432899095,2.2636415820322586,2.2607669317181758,2.2483898279572854,2.228137442705402,2.2125550452319263,2.216537101027547,2.2409818705180284,2.2803149540900476,2.3471442572149512,2.4616735494222173,2.5929590744396767,2.6474278077309203,2.5742225547223563,2.437926713419906,2.3322583302847,2.284191738906678,2.2706759132454115,2.2685518955711186,2.268517104400243,2.268515529831889,2.268130952724575,2.2667911321154626,2.2639564490201423,2.2604548276467633,2.258780279064304],[2.2673739420983816,2.2527722240495356,2.230953047546587,2.215711530070111,2.2192679683441425,2.236633459924653,2.2513631118427124,2.252409110335955,2.241817473744014,2.2406957287230758,2.2916230614310913,2.427160040672848,2.6055362038427976,2.7055278656300503,2.6496873413018887,2.4993550452978806,2.35992912988127,2.2578154796118746,2.167969358403861,2.097969398630283,2.086305454570311,2.135403310600195,2.199537433614347,2.2413230714835892,2.258961056951577,2.263725938618421,2.2601554237113515,2.246282764594099,2.2238142878601916,2.206551655683123,2.210908824425475,2.2375827922345244,2.2792140011637927,2.3470393255582005,2.4612306829530537,2.591653437097952,2.6456228769996293,2.572603501331677,2.436828890066743,2.3315957065574437,2.283802006073228,2.2704728284383053,2.268470232644164,2.2684924891891782,2.2685018413534443,2.268082287106641,2.2666142640071207,2.263507824425967,2.25967047943205,2.2578353800779714],[2.2682284870664082,2.2526674098285238,2.2293209507296656,2.2129755359151746,2.216595463049609,2.2348357471514553,2.250176081819659,2.2506870539978605,2.238280522681035,2.2352242853929734,2.2862657872024297,2.4249951009907837,2.607906758610973,2.710750065629224,2.654700105166798,2.5021577989031307,2.3597275468797703,2.2532497734588466,2.1570851012810053,2.081428841328202,2.0692575924765615,2.123588120317253,2.1943530372667484,2.240292272767252,2.259270326024723,2.2639146045620553,2.259541413010763,2.244049962113476,2.219215409492932,2.20016309758487,2.2049171904504994,2.233947480073885,2.277945852818019,2.346578621118481,2.4598937516175288,2.5887862477427683,2.641962815355097,2.569465488139764,2.4348586042489058,2.3305660285217633,2.2832868059827494,2.2702294470874915,2.2683761100857947,2.2684645661784675,2.268486997651042,2.268030723029681,2.2664270323523685,2.2630329241012315,2.2588401928268134,2.256835139439537],[2.2693358584117833,2.252836519206605,2.227969210128295,2.2105145086711593,2.2141475718987316,2.2331687200913293,2.2490143110142,2.2488653462504318,2.234460453760353,2.2292310865935283,2.280109662363684,2.4216544628655816,2.608641891883775,2.71409469644348,2.658062248736943,2.5037995707347243,2.358744510257524,2.2480474699614557,2.1455371299341337,2.0641638672440585,2.0515799667769445,2.111452113407107,2.1892025533379225,2.2394905742546065,2.259803375140658,2.264222505839663,2.258931436172146,2.241696211087568,2.2143479502670327,2.1933989382990267,2.1985710338637348,2.230080929771011,2.276511094293885,2.3457592248334795,2.4576566255839762,2.5843482299375635,2.6364368379379877,2.5647988105573836,2.4320083881996175,2.329163734779399,2.2826422573763656,2.2699435767881844,2.2682686217051287,2.268433068181959,2.268470912089536,2.2679760726188696,2.266228771625763,2.262530061100208,2.2579610185292447,2.255776004146714],[2.2707358481677606,2.2533311790813544,2.226963262081101,2.2084020123394192,2.211988074607908,2.2316720145199587,2.2478951214973644,2.2469496777635904,2.230359321706041,2.222716171114511,2.2731480356652676,2.4171157388806934,2.607697350733136,2.715499594405909,2.6597019647941473,2.5042028247535444,2.3569076668230635,2.2421729071183636,2.1333591562225647,2.04627450817857,2.033395894208753,2.0990985094906254,2.1841571861445304,2.238965006529583,2.260589285544075,2.26466453607831,2.2583325473132425,2.2392280732981753,2.209222684947324,2.186273781678037,2.191883902332379,2.225991076868842,2.2749120144388226,2.344581473383348,2.454521659814681,2.578345172058708,2.629052112224762,2.5586083715463626,2.4282789522357375,2.327386432019795,2.281865338779674,2.2696131946760407,2.268146887804928,2.268397729796672,2.268453482327225,2.2679180611998455,2.2660184964291292,2.261996736828423,2.257028588186404,2.254652711675504],[2.2724712328116956,2.254206261416126,2.2263718814668976,2.206714900157066,2.2101834645553153,2.230387004800157,2.246836997704337,2.244947515113449,2.225983035981521,2.2156864692921454,2.26538459930498,2.411371372628513,2.6050489670976895,2.7149246633244397,2.659564544256432,2.5032980958193836,2.3541467936661093,2.2355944290697662,2.120597621599772,2.0278824471580346,2.0148517937975208,2.08664670299384,2.1792952529078273,2.238764005907889,2.2616566894152115,2.2652552257056104,2.2577522181672256,2.236653929132347,2.203854177034088,2.178807492072826,2.1848742644656136,2.2216889135454685,2.2731526134341733,2.343048867047478,2.4504994913004015,2.570797612883923,2.6198334080508605,2.550913421708322,2.423679078801506,2.3252349043829095,2.280953935736838,2.269236483620321,2.268010071389363,2.2683582916464813,2.268434586713636,2.267856302950784,2.265794811343217,2.2614294122712266,2.256036714418998,2.253457808132591],[2.274587529671103,2.255519364210495,2.226266273079428,2.205532142655305,2.208801885395019,2.2293561411810843,2.245859333766953,2.242868146964123,2.221341661192495,2.208156337907047,2.2568340679685845,2.404429369002415,2.6006934362363596,2.7123527246917423,2.6576133101657047,2.5010250485408285,2.350394946014232,2.2282854198286,2.1073124313505076,2.009131432146342,1.9961172865173695,2.0742319775388145,2.174701513193829,2.238936585891506,2.2630331024599513,2.2660083803332487,2.257198218436958,2.2339839943274287,2.1982608781686523,2.1710253397472634,2.177565644654326,2.2171885604303685,2.2712385851989167,2.341167927690987,2.4456087035783884,2.5617402904530597,2.608822466050327,2.5417470727773814,2.4182253945876795,2.3227130820047757,2.2799068826647275,2.2688118707832294,2.26785739608711,2.268314505145441,2.2684140804535375,2.2677902746931893,2.2655558138661793,2.2608232616771855,2.2549769601707763,2.25218112945331],[2.2771326593384336,2.257330169599589,2.226719006120863,2.2049334786502377,2.207911913784626,2.228622190350574,2.2449821332213697,2.240722696101143,2.216449661020794,2.2001479927045176,2.2475226890196875,2.396313752783009,2.5946487016801467,2.707789935182733,2.6538302506679554,2.4973334713225017,2.34558969897521,2.220225378994673,2.093577495077337,1.9901872529875058,1.9773847895715786,2.062004833180849,2.1704662795214578,2.2395314036162053,2.2647442074276705,2.2669366956819514,2.256678478244928,2.2312303035388084,2.192465163807105,2.162958058561504,2.169986676340615,2.2125072890527524,2.2691772754158865,2.338948014192405,2.4398753748777526,2.551221380479928,2.5960771146922617,2.531155608578466,2.411942033705785,2.3198279731883718,2.2787240000168,2.2683380683713676,2.267688165641979,2.2682661377473963,2.268391791657353,2.2677192885184043,2.2652989930108114,2.2601719152226307,2.2538381887928964,2.2508092593911377],[2.280156507658086,2.259699679389973,2.227802802900613,2.2049979080480915,2.2075812066217724,2.2282273907967367,2.244225664788029,2.2385240937753066,2.2113260739696377,2.1916918188696473,2.2374885611503372,2.387064736330177,2.586953933350564,2.701265762291874,2.6482163438319875,2.4921841984569775,2.339674472679574,2.211401019421025,2.079481036950586,1.9712372305574986,1.9588685565711776,2.0501298998843396,2.1666843094429438,2.240595736742774,2.2668131042615567,2.2680513579690045,2.2562009352517074,2.2284066589414007,2.18649329987701,2.154641808439376,2.1621710668832317,2.207665491521198,2.266977616694764,2.336401103777188,2.4333325292665995,2.539301555966872,2.5816701724587476,2.5191976225862627,2.4048602075401897,2.3165895654104687,2.277406127427746,2.2678141162649568,2.2675017847479184,2.268212978629663,2.2683675174299402,2.2676424641417996,2.2650211268528824,2.259467199011681,2.2526061094696264,2.249324981894923],[2.28371038253388,2.2626893315669268,2.229589198202654,2.2058020521641364,2.2078750373448175,2.22821253842311,2.243610079680941,2.236287013591481,2.2059946100190566,2.182826541378385,2.226781742129312,2.376738583795897,2.5776690961007085,2.6928325209048527,2.6407915751056663,2.485549953716048,2.3325999257152144,2.2018073629833466,2.065125641351175,1.9524891755346407,1.9408031257274196,2.038784419874367,2.1634534859193386,2.242174390654327,2.2692595453590942,2.2693616401236874,2.255773369763888,2.2255285429136573,2.1803753365861693,2.1461180371162656,2.154157469022868,2.202686595133145,2.2646500428762772,2.3335415484849604,2.426019512326302,2.5260529036144117,2.5656881764145547,2.50594301495333,2.3970176987901963,2.3130107008447913,2.27595515340435,2.267239426049476,2.2672977809252264,2.2681548447386235,2.2683410201805034,2.267558702067365,2.2647181830278322,2.2586988825549694,2.2512628357193676,2.247706749237874],[2.2878463628817403,2.266360004767664,2.2321470911158334,2.2074184138158404,2.2088547517275257,2.2286160215694806,2.243154997634253,2.234027763116536,2.2004836585479666,2.1735992394466095,2.215464130374186,2.3654071663748537,2.5668741166151925,2.682564485316004,2.6315946557550163,2.4774161090052362,2.324325396740298,2.1914488070063785,2.0506280029893875,1.9341697849905377,1.9234411514827712,2.0281562923072323,2.160873299723289,2.2443085599287533,2.2720991767771594,2.2708745053926664,2.255403231835822,2.2226129947656434,2.1741449272055333,2.1374332379241827,2.1459892560401133,2.1975969208257427,2.2622063848762015,2.330385816337895,2.4179813140643884,2.5115577349770097,2.548229981290198,2.491471884129855,2.3884582982794065,2.309106932234576,2.2743740419383407,2.266613825797955,2.2670758270527447,2.268091587104562,2.2683120243644876,2.2674666588217804,2.2643852268250604,2.257854445524707,2.249786477597487,2.2459281907468926],[2.292616539513076,2.2707709213231286,2.2355412162078463,2.2099135754777177,2.2105761789259404,2.229472827953221,2.242879070464408,2.231764132464114,2.194826199572607,2.16406519229761,2.203609109854606,2.3531572105128364,2.554667667022853,2.6705566022800316,2.6206824574938685,2.4677813512407902,2.3148203689542117,2.1803401307132324,2.036118355409761,1.9165224580223386,1.9070506105600105,2.0184416858357106,2.159043154680267,2.247034671663303,2.2753428080175704,2.2725942307712694,2.2550974649532196,2.2196784524310775,2.167839071453878,2.12863860284717,2.137714199980556,2.192425485670961,2.2596597507524114,2.3269522266800586,2.409267861959951,2.495907331019412,2.5294052741484854,2.47587334890385,2.3792312033194896,2.3048963647815057,2.272666856151707,2.265937604767323,2.2668357640899925,2.2680230973127746,2.2682802138918325,2.2673647256678384,2.264016342086714,2.25691887699889,2.2481507907017155,2.2439576899615723],[2.2980721505568087,2.2759784631308575,2.2398305655601503,2.213346378996545,2.2130880380594355,2.2308135488993535,2.242799533442789,2.229515200313056,2.1890596124569806,2.1542875471203886,2.1913009532081715,2.340089248487934,2.5411655933901836,2.6569228407422,2.608129184455186,2.456658249722545,2.304065926923552,2.1685074084829394,2.0217395579794517,1.8998045266513228,1.8919113908707743,2.0098422377919576,2.158060523561567,2.250383241149132,2.2789957341480793,2.274522063180345,2.2548623313377845,2.216744561014544,2.1614977850152846,2.119789572698824,2.1293840547275895,2.187203750948782,2.257024392845262,2.3232606886305645,2.399933306223538,2.4792006577817274,2.509333048734678,2.4592443358559635,2.3693903957824443,2.300399489248636,2.2708387787578435,2.265211556987572,2.2665776234471324,2.2679493139985762,2.2682452304528242,2.2672510123205614,2.2636045705379955,2.2558745214736105,2.2463249069448046,2.241758060297723],[2.304262617173558,2.282034918227432,2.2450667971644824,2.2177661344922837,2.216430384079482,2.23266340841442,2.2429317559643125,2.227301099095862,2.1832253787281823,2.144336804323735,2.1786339837906814,2.3263162881527646,2.526499026159163,2.6417942225936484,2.5940253085009206,2.4440737149915654,2.2920561703623092,2.155988794928457,2.0076458289369405,1.8842839148571708,1.878311290642225,2.0025618724905656,2.158018989103886,2.254377772454088,2.2830571343438475,2.276655921346669,2.254703244201067,2.2138319510349365,2.1551636986611795,2.1109452889520806,2.1210540481581543,2.1819653186611356,2.25431556488884,2.3193324506661397,2.3900353176047484,2.4615430883505143,2.4881400808181646,2.441688364929087,2.3589940166131975,2.295639010734418,2.2688961287517504,2.264437022547657,2.2663016483932856,2.2678702292162405,2.2682066730211496,2.267123337253856,2.2631418754153874,2.2547009865299223,2.2442731731213903,2.239286350569828],[2.3112344887279264,2.2889871793684247,2.251292668320983,2.223210908867258,2.2206331388779073,2.235041346039167,2.243288803894699,2.2251427424119408,2.1773686784172943,2.1342901199013045,2.1657115035376586,2.3119622256661274,2.5108122172961953,2.6253165858797454,2.578476297498062,2.4300693386072236,2.278799545138296,2.14283514603417,1.9940011207248007,1.8702352564562776,1.8665414749400266,1.9968032851237858,2.159006210681492,2.2590337375234784,2.2875195703954345,2.2789901558978842,2.2546246123787794,2.2109619900996904,2.148881592362637,2.1021679544018337,2.1127822900399735,2.1767455806337193,2.2515493719219513,2.315189868070254,2.379634415498212,2.4430451624178593,2.4659594414028296,2.4233143622111672,2.3481037513965775,2.2906396766107013,2.2668463733521493,2.263615925227658,2.266008313838973,2.267785894516935,2.268164098791667,2.266979226190017,2.262619135277121,2.253375127087333,2.24195512337559,2.2364938118228954],[2.3190303101899996,2.296875419081195,2.258540534801737,2.2297059456072317,2.2257147543266687,2.237959182871005,2.2438810265039204,2.2230615190313148,2.171537882366806,2.124230429781434,2.15264449981233,2.2971600315466034,2.4942601552038055,2.607648137154996,2.561601168555037,2.414701601624574,2.2643200483194876,2.129110440991392,1.9809771434614758,1.8579355210307793,1.8568914568462878,1.992764151392045,2.161101862332989,2.264357667336289,2.2923686072745846,2.2815153792301963,2.2546297026769397,2.2081565125479905,2.1426978716007197,2.093522112374291,2.1046291046396255,2.1715813255517893,2.2487426156529504,2.3108561934230694,2.368793340825772,2.4238214096179393,2.4429290788758364,2.404235524335154,2.336784238907189,2.285428105989901,2.2646981338337584,2.2627508050035,2.265698343790333,2.2676964265592865,2.268117025796355,2.2668159202991958,2.2620261736411496,2.251871120569399,2.239325610615536,2.2333260556466357],[2.3276874282430735,2.3057317684153587,2.2668309575107233,2.237262267126748,2.231681053089141,2.241420899593528,2.2447156809984126,2.221078959108453,2.1657839461039483,2.114245406287934,2.139550150667497,2.2820497461609675,2.477006013145135,2.588956853013789,2.543530899332556,2.398041938000386,2.2486582617785964,2.114891971084453,1.968751052783083,1.8476592156623268,1.8496436901841695,1.9906331358683023,2.164375591898253,2.2703463873852034,2.297582575469942,2.284218375249464,2.25472052495003,2.2054375322842366,2.1366599947497367,2.0850738565262312,2.096656299130475,2.1665103103509273,2.2459126376669047,2.3063553935403536,2.3575764843858202,2.4039892568429355,2.419190494306008,2.384568253378685,2.3251025114735566,2.2800326218653266,2.2624611835364643,2.2618448438690995,2.2653727257548875,2.267602012069097,2.2680649374146284,2.266630395493646,2.2613518295720723,2.2501606459779104,2.2363351195972596,2.229723431345549],[2.3372367562722633,2.3155790288662152,2.27617145807691,2.2458755086922397,2.2385242905222746,2.245422053739079,2.2457966073173177,2.219216379372491,2.160159714069562,2.1044262621122063,2.1265501539566465,2.2667763256497775,2.459218489936898,2.569417792200858,2.5244067304967586,2.3801766379248,2.231872168014791,2.100270265108331,1.9575028291158532,1.8396732481558367,1.8450678791162098,1.9905857836089254,2.1688850537338045,2.276986427257825,2.303132491534046,2.2870820971481716,2.2548977444097935,2.2028269445592144,2.130815861861942,2.076889985321648,2.0889263807453413,2.161570803300787,2.2430771625269954,2.3017119943918183,2.3460493772605364,2.383668033180506,2.394887526566887,2.3644311751021165,2.313127472654789,2.27448308582999,2.2601464360475836,2.2609018833908285,2.265032721384179,2.267502911962726,2.2680072889530334,2.2664193939774004,2.260584073512682,2.2482131777767185,2.2329302807370563,2.225621644925306],[2.347701521974068,2.3264294485837684,2.2865554632008402,2.255525028923418,2.2462224767906642,2.249949360735385,2.2471239650431616,2.2174945150499807,2.1547191460983877,2.0948664223062154,2.1137689112898905,2.2514873831491853,2.44106910293573,2.5492103791665968,2.504378391306878,2.3612065753890477,2.2140377026622384,2.085348725388456,1.9474123863867012,1.8342315540578682,1.8434151264181642,1.9927803891842184,2.1746740686690815,2.284253630410716,2.3089821491957285,2.290085759009837,2.2551606249422282,2.2003462228250132,2.1252131763711417,2.0690371169612543,2.081501737147038,2.156801106850815,2.240254142437994,2.296950953637464,2.334278245672398,2.362978079329866,2.3701652561470183,2.3439442471222374,2.30092941434525,2.268810734100785,2.2577659213498533,2.259926432438914,2.2646798726701056,2.2673994644523248,2.267943516414143,2.26617946890493,2.259710171523712,2.2459964026137267,2.229054598688961,2.2209526368052894],[2.3590960246236707,2.3382835949120135,2.297961474623672,2.266173336075589,2.254738992499084,2.2549804595887712,2.248694042998691,2.215933147063555,2.1495164809496554,2.0856600895590303,2.101331602744609,2.2363308728806457,2.4227294928955456,2.528515717603885,2.483602278405478,2.3412467443694367,2.1952490008136993,2.070242954509779,1.9386564588727584,1.8315696043829361,1.8449120560009376,1.9973539446326227,2.181770964414141,2.2921129854282682,2.315088388605309,2.2932050242993665,2.2555070063106126,2.19801611697671,2.1198987921151806,2.061580781813355,2.074443795638727,2.1522390688309336,2.2374616047338023,2.292097558612569,2.322329628599963,2.3420399616957503,2.345169028829406,2.3232279575112753,2.288579572177122,2.2630480125321895,2.2553327476344704,2.25892366363598,2.2643160030708076,2.267292086960943,2.267873047505882,2.2659070426151087,2.2587168996674087,2.243476763286198,2.2246494033892366,2.215645727535714],[2.3714244319202296,2.351129355452644,2.310352497340133,2.277765861866755,2.264022523854208,2.2604838794194113,2.2504991503832423,2.2145507335944687,2.14460535426773,2.076900732226746,2.089362192321195,2.2214527661692407,2.404368798187576,2.507513988571934,2.4622396153189396,2.320425589017313,2.17561829889907,2.055079760263611,1.9314053249369842,1.831898922887079,1.8497550556299542,2.004418272427135,2.190187147462252,2.300518694278412,2.3214015459488646,2.296412291294001,2.2559333170741946,2.195856359292543,2.114918058622948,2.054584510209107,2.067812177567396,2.147921590903892,2.234717503050026,2.287177345961738,2.3102700527079145,2.3209737851692993,2.3200435932678936,2.302402608654525,2.276149715159844,2.257228407465133,2.2528610465138685,2.257899397227982,2.263943213029113,2.2671812766917583,2.2677953148618815,2.265598478446726,2.2575908085735588,2.240620130048379,2.2196550237410055,2.2096290317278946],[2.3846796486520034,2.364941099154636,2.323675753222255,2.2902311057349074,2.2740073347929606,2.26641921762007,2.252527596187735,2.2133640553665352,2.1400378904992836,2.068679528068284,2.077981407214007,2.2069947686740927,2.386151152281283,2.486381982519395,2.4404546172085495,2.298884115333107,2.1552754604436135,2.03999583493371,1.9258194353948743,1.835401750356748,1.8581047921702394,2.014056451044273,2.1999159536433193,2.309414486499273,2.327866079980377,2.2996770723436075,2.2564346238939894,2.193885384195743,2.1103141778024086,2.0481089337946545,2.0616638645651753,2.1438841432444233,2.232039572672197,2.2822160377545346,2.2981657559072146,2.299898593193051,2.2949323402205226,2.2815876762845035,2.263711763038156,2.251386268680386,2.250365899545564,2.256860071317875,2.2635638694611364,2.2670676097182967,2.2677097713529486,2.2652501656206825,2.2563185363040454,2.237392594482051,2.214012175582972,2.202831130131199],[2.398842291036446,2.3796790273587707,2.3378627006990333,2.3034811623600326,2.284613883934173,2.272737534329658,2.2547637611806217,2.2123878839811506,2.1358637899053514,2.061083799237622,2.0673047359056533,2.193092127063152,2.368233353459256,2.4652908081423037,2.4184126822676766,2.276774775051845,2.1343671025135698,2.0251361146441527,1.922046021813332,1.842225998185409,1.8700811535812634,2.026319638908313,2.2109318189376443,2.3187341810995314,2.334421366190072,2.3029664606427067,2.2570047166741865,2.1921200675939945,2.106127584997636,2.04221091846836,2.0560523931183905,2.140160294276462,2.229445190234208,2.277239487880629,2.2860824482984032,2.2789318393388323,2.269976626126327,2.26090122968039,2.251337422998386,2.24555662045554,2.247863244301884,2.2558126977047714,2.263180588932841,2.2669517384913638,2.26761590727228,2.264858616108174,2.2548871655440292,2.2337613758523776,2.2076635463229572,2.195182978630816],[2.413879801357517,2.395288742258392,2.3528293737315296,2.317412634392556,2.2957497839448138,2.2793819614043564,2.2571882640576684,2.211634682296515,2.132129432800345,2.0541954756644323,2.0574404907838666,2.1798715710701093,2.350762749694364,2.4444038138539943,2.3962786280547235,2.2542601168915644,2.1130553098637166,2.010651834789961,1.9202157657885797,1.8524806340785693,1.8857587689583653,2.041224397224474,2.223189805082055,2.3284024904880636,2.3410026435831144,2.3062456750791105,2.2576362277497948,2.190575491022316,2.10239536686332,2.0369427462826084,2.051027093362957,2.136781263944157,2.2269512376998124,2.272273631874633,2.274085097487995,2.2581889115085185,2.245315160071929,2.2404593962681205,2.2390978362033027,2.2397749567874863,2.2453697586885175,2.2547648029349374,2.262796214404963,2.2668343876928567,2.2675132690762316,2.264420571814034,2.253284618969873,2.2296958243446574,2.2005555489543185,2.1866200213000524],[2.4297457373202653,2.4117010568858808,2.3684770452574386,2.3319079209706275,2.307311090330012,2.2862885173651724,2.2597782204909134,2.2111143451998316,2.12887702346332,2.048089624420852,2.048487980357959,2.167449433398561,2.333875374689752,2.423874750013434,2.3742149881729646,2.231511205854043,2.0915159354587924,1.9966983082183853,1.920439613858939,1.866231638788433,1.9051632499965767,2.0587506035184657,2.236625506083071,2.338336053245042,2.347542093619951,2.3094786708261146,2.2583207821305424,2.189264735144018,2.0991507276557897,2.032351362582895,2.0466323870020844,2.13377550844277,2.2245739704077416,2.267344433093371,2.262237724384991,2.237782688135744,2.221083431147408,2.2203758524024035,2.2270632242475883,2.2340770172466056,2.2429027228173823,2.2537243545861765,2.2624137856072895,2.26671634840606,2.2674014792625643,2.2639331198139883,2.2515000844642192,2.225168500046721,2.1926402085032075,2.1770844629911235],[2.4463792692712008,2.4288320665342726,2.3846932118053297,2.3468368611911363,2.319183896149226,2.2933871131535915,2.2625075909008086,2.2108339881827384,2.1261437957625913,2.0428330819649005,2.0405358341963282,2.1559299853884655,2.3176943635248466,2.403846192257671,2.352380382207518,2.2087058177813694,2.0699364987825954,1.9834324634286373,1.9228058239125556,1.8834986642191476,1.928268284351895,2.078840035701785,2.2511553522423613,2.3484446752959,2.3539700259972736,2.3126288007928433,2.2590491746996118,2.188198706379213,2.096422514392628,2.0284777031341585,2.0429071578671207,2.131168343614844,2.2223288889074326,2.262477818372697,2.2506031956150343,2.217823105483568,2.1974131528097036,2.2007613220094506,2.215302526014808,2.2284985406637987,2.24047985845801,2.2526996732612403,2.2620365032963123,2.2665984706153193,2.267280256873693,2.2633938128203965,2.249524459765448,2.2201563012553067,2.18387713471218,2.16652764581447],[2.463704916020869,2.446583496539975,2.401352887371508,2.3620587006475477,2.331246199135035,2.300602727193507,2.265347609920908,2.2107977899236113,2.1239613014041114,2.0384832242562023,2.033660520443539,2.145404020863042,2.30232866842011,2.3844482385949415,2.330927969809919,2.1860264236501954,2.0485137067282833,1.9710101901839305,1.9273773275549588,1.904252510121939,1.9549936937019678,2.101395691449997,2.266677317993943,2.3586327523361876,2.360216141839091,2.3156595109554847,2.2598115692924523,2.1873859995619656,2.0942348099303345,2.0253561141008958,2.0398842069451515,2.128981613352724,2.220230614360304,2.2576995969161,2.2392429996186825,2.1984167162827966,2.1744317021386332,2.181723065997052,2.2038830165557415,2.2230749948869857,2.2381191469010635,2.2516993312433,2.261667687849252,2.2664816540939445,2.2671494380285164,2.262800791541245,2.2473508042555372,2.214641610906177,2.174235526411103,2.154912463791457],[2.4816325464172837,2.464843335675205,2.4183201861936054,2.377424338878958,2.3433699985399232,2.307856722490707,2.2682672878379186,2.2110068936434026,2.122354799876398,2.0350869066907324,2.027925091281177,2.135947714289879,2.287872087083354,2.365797485587475,2.3100039983343206,2.1636579858490825,2.027450635370579,1.959583549142644,1.9341894887986182,1.9284135191536587,1.9852045472637316,2.1262818900080105,2.2830720290823057,2.3688008404466823,2.3662108417052874,2.3185350510586082,2.2605977137893105,2.186832798608251,2.092606601400641,2.0230138755694087,2.037589801737181,2.1272334083708992,2.2182927674270183,2.2530353571803285,2.2282169952655773,2.1796662224465035,2.1522615346800236,2.163364347803936,2.1928699014289394,2.2178412821318725,2.235838626935559,2.2507320392495287,2.2613107328450965,2.2663668377863906,2.267008995817747,2.262152905170035,2.244974784011663,2.208613425921552,2.163696146021878,2.1422157415275236],[2.500057669062084,2.4834867581447875,2.4354501660259853,2.3927788064874127,2.3554235711311913,2.31506827353573,2.271233971878453,2.211459370382452,2.121342766669884,2.032679601677023,2.0233781860925015,2.1276217724989577,2.274402608169986,2.347996282196826,2.2897464524764124,2.141785596600235,2.0069536240035926,1.949297909983534,1.9432483326138257,1.9558509687157366,2.0187113956955423,2.1533251837298337,2.3002042537311094,2.3788473369706833,2.3718865437573573,2.3212211812759462,2.261397164780942,2.1865428162407774,2.0915515296855247,2.0214708369007446,2.0360433276539145,2.1259378396521367,2.2165278507936628,2.248510337870997,2.2175831243124438,2.1616699682659446,2.131019559735755,2.145783864004363,2.182325882341608,2.2128314209295694,2.233656175531045,2.249806523188234,2.2609690544720524,2.2662549878376175,2.2668590588488957,2.2614498259266624,2.2423950950721947,2.202068431287514,2.152253197431863,2.128430496474317],[2.5188620266874695,2.5023773304913233,2.452590896191147,2.4079639131272095,2.367273869418552,2.3221558668195654,2.274213953175682,2.212150245600658,2.120936533272424,2.0312847566012233,2.0200533155435405,2.1204708919019444,2.2619820707980285,2.331132253843072,2.270283813897525,2.1205919963836375,1.9872289449184977,1.9402890886208195,1.9545293074269838,1.986383513303177,2.055271661449085,2.18231608532503,2.317924751827174,2.388670230094259,2.3771789765497453,2.323685855203083,2.2621995150363787,2.1865172728955677,2.0910777237557276,2.0207391696587242,2.0352570468710827,2.125104869761473,2.214947135792591,2.244149270773138,2.2073970821168434,2.144521385118909,2.1108164662244127,2.1290751332911357,2.17231069276502,2.2080782072653475,2.2315892746869994,2.24893139326087,2.2606460377727933,2.2661470844674154,2.2666999277023354,2.2606921533857203,2.239613849186406,2.1950119789449154,2.1399160374477395,2.1135680007071387],[2.5379145048217993,2.5213684927475106,2.469585708291491,2.4228210018507776,2.378788980700171,2.329038835992442,2.2771731036681384,2.213071588695072,2.1211400688877884,2.0309133890659807,2.0179684425059015,2.1145235256606867,2.2506561279984183,2.3152780840574407,2.251733938739486,2.1002550173090024,1.9684793229373523,1.9326805581269086,1.967976633762357,2.019780703803198,2.0945921906371017,2.213011594600268,2.3360724461323246,2.398168873318713,2.3820284112911723,2.3258998600399616,2.262994616929649,2.186754914058535,2.091187721804929,2.020823241246876,2.0352359677217864,2.12474020409156,2.2135605539250305,2.239976194933937,2.197711944517861,2.128308384032014,2.091755995285849,2.11332584217052,2.1628806053121226,2.2036128591248785,2.229654768722471,2.2481150081331527,2.260344980886743,2.266044107928716,2.266532088562424,2.259881504298664,2.236636906202653,2.187458931286378,2.1267106505329636,2.0976595575316974],[2.557072356614973,2.540305296114729,2.4862755822294305,2.4371937416349563,2.3898405830437794,2.33563889121686,2.2800775261256536,2.2142126632231265,2.1219499099121832,2.0315639298370405,2.017125867954809,2.109791957773711,2.2404544976142122,2.3004915368515304,2.2342030611243864,2.080945002472106,1.950900387196364,1.926580809622304,1.9835032771912178,2.0557655811431372,2.136332939351294,2.2451384861816854,2.354476870473823,2.407245740228156,2.3863808000405338,2.327837395997952,2.2637727951720206,2.1872520644739466,2.0918784792367244,2.0217196097865187,2.0359778253658503,2.1248452429790694,2.2123765944666864,2.2360142435940924,2.188577752516478,2.113112698129118,2.073934162286381,2.0986171510252802,2.154087915878856,2.199464650228907,2.227868616988717,2.247365337211027,2.2600690385653417,2.265947023824923,2.2663562233198156,2.2590205837542308,2.2334741377545146,2.179434330332387,2.1126808187701935,2.080757910930566],[2.5761827372680557,2.559026372486395,2.502501616268158,2.4509308884556624,2.400306333990377,2.3418816021550546,2.2828942000085912,2.215560133882607,2.1233552390740034,2.0332223171146007,2.017512421934897,2.106272673799367,2.231391478616995,2.2868156996054174,2.2177849310377664,2.0628222570642163,1.9346771436359564,1.9220809384614008,2.0009915679674104,2.094018311842088,2.1801117351764607,2.278397298033433,2.372960842056555,2.415808115657411,2.3901887891090277,2.3294765787927347,2.264525042638704,2.1880027169515692,2.0931414617550397,2.023417138246138,2.037473172207198,2.125417094538757,2.211402209706394,2.232285407132851,2.1800410601294438,2.0990091827469937,2.057438437427433,2.085022969531983,2.14598041268217,2.1956605401575264,2.2262456475581978,2.2466898242812676,2.2598211663160015,2.265856768090565,2.2661732155038825,2.2581132338346497,2.230139608055443,2.170973856580086,2.0978889240970284,2.0629382120113635],[2.5950845326550063,2.5773661044754634,2.5181075273943363,2.463888946082452,2.410072129603839,2.3476977953023628,2.28559160596794,2.217098324694716,2.1253381119416903,2.035862338804091,2.0190999516650154,2.103947011117382,2.2234667061793716,2.274279423870341,2.2025600952542224,2.04603459006122,1.919980559750702,1.9192525274485122,2.020294472662014,2.134180803372558,2.225510023506336,2.3124669402924627,2.3913432987447774,2.4237696815172756,2.393412580824863,2.3307998514900232,2.2652431937533035,2.188998652891078,2.0949628201156862,2.0258972234523847,2.039705574384421,2.126448647019565,2.2106427297024687,2.2288102770529283,2.1721444543485924,2.0860650864850374,2.042346900397863,2.072609215452291,2.138600841197889,2.1922248092596583,2.224799317841912,2.246095255900043,2.2596040665685284,2.2657742319608616,2.265984151497264,2.2571644564132214,2.2266516594086925,2.16212404607594,2.082416327830716,2.044298476217938],[2.613610457714851,2.59515695845344,2.5329421272863937,2.475934660794515,2.4190341754223423,2.3530248289851485,2.2881403124822604,2.218809521422607,2.127873824385527,2.0394462126391306,2.021846091118889,2.102782065434189,2.2166661151879348,2.262897939933484,2.1885953300237984,2.030715006452835,1.9069643531385942,1.918145892581868,2.0412375053004785,2.1758622088063593,2.2720794792623966,2.34700982572389,2.409442237580739,2.431051959036526,2.39602062162357,2.3317942948603134,2.265920070768466,2.19022959115076,2.0973236415554535,2.0291341334294555,2.0426519086836117,2.127928698511979,2.2101017887139838,2.225607777594146,2.164926059321765,2.074339311373341,2.0287273900876786,2.0614330752690644,2.1319863784449886,2.189178707640069,2.223541488287269,2.2455876379264037,2.259420138251182,2.2657002472680188,2.2657903166062128,2.256180407392965,2.223032892448484,2.1529422403764196,2.0663632831861007,2.024959477941485],[2.631589391333587,2.612231937664386,2.546861719766675,2.4869472893511437,2.427100816746429,2.3578077131860713,2.290513509375793,2.2206743100846817,2.1309314106888175,2.0439253875484464,2.0256952892297195,2.1027318248283873,2.2109630792281463,2.252673620220166,2.1759432339533573,2.0169796090149994,1.8957620721558464,1.9187887480804113,2.0636212475390345,2.218645203998988,2.319349338777064,2.3816774076031777,2.4270776880818077,2.437585573879077,2.3979900999607473,2.332451828654729,2.2665495993170417,2.191683361516971,2.1002002715556176,2.0330954445698035,2.046282752453719,2.1298421409400476,2.2097812656496685,2.222694892847971,2.158419039511377,2.0638816844206858,2.0166366749846407,2.0515422887533874,2.1261681319359202,2.186540128057375,2.222482215292563,2.24517208349662,2.259271431110802,2.2656355724045434,2.265593185707313,2.255168360489309,2.2193100340881964,2.1434962515711713,2.0498483496210382,2.00506404498621],[2.6488489060481517,2.628427107934085,2.5597323676866064,2.4968205865784654,2.4341940832904103,2.362000046288753,2.2926874747192634,2.222671942530154,2.134474258480824,2.0492415437853317,2.030580067459478,2.1037384981493927,2.2063196904162776,2.24359686651121,2.1646419887736306,2.004925765507751,1.8864845505584378,1.9211853364491867,2.087224429904001,2.2620928974900107,2.3668342848530886,2.4161159985963128,2.4440746530598125,2.4433113162906595,2.3993072435808847,2.3327692997047933,2.2671268907578335,2.193346098780044,2.1035646984413097,2.0377425684681505,2.0505628575715145,2.132170194463828,2.209681240954684,2.2200863981828873,2.152651118541331,2.054732265814916,2.006119673245495,2.0429744821197917,2.1211706798015855,2.1843233127106605,2.221629569232969,2.244852715519251,2.2591596060131915,2.2655808792862,2.26539440835872,2.2541366395870877,2.215513689568905,2.1338637332150063,2.033007293005264,1.9847757336102232],[2.6652179433136154,2.6435841450247404,2.571431980677235,2.5054644675799933,2.440250912230322,2.3655647466532423,2.2946419638102133,2.224780719461945,2.138460823629597,2.0553277642528016,2.0364224720542254,2.105734001132785,2.202688144761799,2.2356470964187927,2.154715294398358,1.9946305919251544,1.8792178085660842,1.9253160564393506,2.111807509670001,2.305756214192852,2.4140427011350827,2.4499727356682035,2.460265950840691,2.448180974886151,2.399967411973097,2.3327484563340573,2.267648290052511,2.195202453285793,2.10738499238094,2.0430313568748844,2.0554516982250126,2.134890687704389,2.209799972310179,2.217794605333977,2.1476441316075836,2.046920720824021,1.9972087533766347,2.035756575801505,2.1170116690254583,2.182538603617404,2.2209894830281485,2.24463258644462,2.2590859023185117,2.2655367416293846,2.2651957884463925,2.253094519721153,2.2116779787587237,2.1241312575481976,2.015991472276434,1.9642768849404764],[2.680529578595123,2.65755285044021,2.58185217996299,2.5128063095059034,2.4452240237475316,2.3684745634145297,2.2963605114738552,2.2269783810344608,2.142845425789138,2.062109845328622,2.0431356820410307,2.108641561251531,2.200012197959582,2.2287938054783396,2.1461724828175717,1.9861497951648217,1.8740214606245258,1.9311376074061353,2.137116666158923,2.349181579506785,2.4604851005379262,2.4829015515022386,2.475494895766884,2.4521579296463867,2.399974986152827,2.3323958121065593,2.2681113891327493,2.197235813799822,2.1116257896377006,2.0489127721565796,2.0609040812717763,2.1379783785874316,2.2101338913437822,2.2158291306303313,2.143413629638371,2.0404657828833153,1.9899231468568692,2.0299042929657984,2.113701488344729,2.181192245589569,2.2205656360046104,2.244513617635369,2.2590511132461555,2.265503624830086,2.2649992586259673,2.2520520978025003,2.2078400608082855,2.114393109420263,1.9989657307922928,1.943766084698547],[2.6946238154668465,2.6701935815829394,2.5908999023158286,2.518791868641674,2.4490824339022503,2.3707123577841136,2.297830641717465,2.229242495222892,2.1475791035174763,2.0695077124482544,2.050625731031216,2.112377401118929,2.1982286575583765,2.2229976824665543,2.139008812927441,1.9795169094516776,1.8709276756993698,1.9385836532842748,2.16288812164059,2.3919187212330577,2.505682526980724,2.5145690125163034,2.489617758614026,2.4552174968803246,2.399343063983665,2.331722405288398,2.2685150068973816,2.199428538582348,2.1162488124380765,2.055333609893661,2.066870807185282,2.141405310085052,2.2106776232400875,2.2141966955232446,2.1399685528264247,2.0353748344179343,1.9842685028496485,2.0254217936681007,2.111243031198098,2.180286249716633,2.220359376938109,2.244496560150976,2.2590555699302977,2.2654818776949295,2.264806850011334,2.251020135295302,2.2040395552640657,2.1047498174729236,1.982105828317855,1.9234550695322947],[2.707350344474489,2.6813795426844087,2.5984987120200933,2.5233857998968023,2.4518116006635102,2.372271153165524,2.2990439817004393,2.231550834545387,2.152610506818749,2.077436903823906,2.0587932992489466,2.1168524601933743,2.1972688792371287,2.2182117570455304,2.1332059454343604,1.9747429503614307,1.869940719745514,1.947565993757473,2.188852686076663,2.43352840295282,2.549174730269976,2.5446598873199977,2.50250595486595,2.4573470260548382,2.3980929748678457,2.3307434634381052,2.2688591380701366,2.2017621907100646,2.121213414554755,2.0622372597936014,2.0732993691254338,2.1451411947191765,2.2114240307051327,2.212900967849769,2.1373109897408917,2.0316436296757976,1.9802366124266833,2.022301457056106,2.109631562161563,2.1798183238022095,2.220369689132732,2.244580978176312,2.259099134628452,2.2654717262301816,2.2646206577436483,2.250009876099737,2.200317871612906,2.095306452961973,1.9655954667620386,1.903565143940045],[2.7185712009449405,2.6909988849136184,2.604589797203391,2.526571777172368,2.4534132097620103,2.3731539593020194,2.2999962799360123,2.233881732395778,2.1578868046310373,2.0858100849981653,2.0675355319219295,2.1219741155676197,2.1970602373390076,2.214382560472282,2.128732593572606,1.9718164987347613,1.8710370926767665,1.9579762147943875,2.2147404170474174,2.4735899044625835,2.590527920633251,2.5728823172331468,2.514047916438874,2.45854575524366,2.3962536325866233,2.3294779851594676,2.2691448741071265,2.2042177738840025,2.126477142643026,2.069564490941143,2.0801346774500784,2.1491538213753714,2.212364283191699,2.2119424511535897,2.135436036026005,2.0292561803361515,1.977805325579432,2.02052383038842,2.10885469769419,2.1797818744307222,2.220593199241541,2.244765255693388,2.2591812032894256,2.2654732696434268,2.2644428032414305,2.2490328438656424,2.1967174628110024,2.0861707356824177,1.9496229786614183,1.884323190908417],[2.728163256343225,2.6989565675071354,2.609132634827045,2.528352224161167,2.453904617323839,2.373373382206547,2.3006873315073566,2.2362144111782065,2.1633545851720237,2.094538557438926,2.0767478412192926,2.1276478646812085,2.1975275427514136,2.211451281830242,2.1255453416710064,1.9707042145979137,1.8741662543795274,1.9696877761527023,2.2402852826044044,2.5117080723912437,2.6293419218759895,2.5989724719944824,2.5241506111599996,2.4588244382670448,2.393860749197035,2.327948253159319,2.2693743001350786,2.2067759652138403,2.131996303506898,2.077254247528473,2.0873197970107222,2.15340947776269,2.213487951653361,2.21131842793968,2.134331763809503,2.0281848200749613,1.9769386789191117,2.020057758989984,2.108892508827892,2.180166083333016,2.221024230302037,2.245046626339546,2.2593007174232724,2.265486478656522,2.2642753940760434,2.2481006238096524,2.1932810214797476,2.0774509944006403,1.9343777612897044,1.8659573761072172],[2.736020480248655,2.7051759366032986,2.612105316780855,2.5287476755077565,2.4533179756293837,2.372951037548871,2.301120815756811,2.238529275581869,2.168960728126826,2.1035337260186404,2.086325651217441,2.13377893576826,2.198594384561775,2.2093549039790585,2.1235896197503967,1.9713517688866526,1.8792519167599968,1.9825584802802851,2.265229714646332,2.5475197769652103,2.6652565599601084,2.6226985886196377,2.5327406837945188,2.4582047621863152,2.3909559360652497,2.326179294289618,2.2695503725009876,2.209417341756116,2.13772652778732,2.085244441587649,2.0947966848321413,2.1578733817447686,2.2147831283905544,2.2110229610272745,2.133979309510425,2.028390458823528,1.9775872456079364,2.020860705839752,2.109717749818025,2.1809560585567773,2.2216548981954576,2.245421225738636,2.259456184953838,2.265511196169305,2.264120482530383,2.2472246347943874,2.1900506399840767,2.0692540356264213,1.920046550512016,1.8486926590257553],[2.7420559145337293,2.7095999845979506,2.6135045376490154,2.5277957975966108,2.4516990765104283,2.3719167902957135,2.3013040542988286,2.2408081656440157,2.1746532293524115,2.1127084928851443,2.0961660487921394,2.140273795611756,2.2001843755456267,2.208027305142806,2.1228008185039537,1.9736851687932138,1.8861938621626382,1.9964332557757376,2.289328943739045,2.58069962857709,2.6979571463352583,2.643864308995984,2.539765202369551,2.4567185785248737,2.387585720260408,2.3241983031820674,2.2696767819061003,2.2121225978944516,2.1436233210420452,2.0934727298616806,2.1025069162447823,2.162510114760507,2.2162365708117187,2.21104695526531,2.134353083911571,2.0298230314022403,1.979688712016895,2.022879263521703,2.111296212884087,2.182133058718287,2.2224752494905333,2.2458841649585697,2.259645709483782,2.2655471402532443,2.263980023976485,2.2464158979197126,2.1870669574259014,2.061682979167892,1.9068096365631175,1.8327462341452887],[2.746203307788881,2.7121922601185746,2.6133452525813543,2.525550106264026,2.449105953602871,2.370307847557881,2.3012476992376834,2.24303456566705,2.180381960994163,2.121978548785947,2.1061693077097896,2.1470415285662052,2.202222285340034,2.2074003137404774,2.1231055253881417,1.9776124413903653,1.8948702333797405,2.0111471796372244,2.3123550129806887,2.6109648297086685,2.7271789417815606,2.6623112516149026,2.545192003651939,2.4544069752970192,2.383800505615266,2.3220340463961677,2.2697578072767737,2.2148727509742616,2.149642593805713,2.101877262774503,2.110392388201668,2.167284050650391,2.217833867189557,2.211378279870849,2.135421104320496,2.032422138824466,1.9831686781907831,2.0260498550379196,2.113587205182605,2.18367478640812,2.223473437447724,2.246429623162181,2.259867027171593,2.2655939093948327,2.263855836245778,2.2456848081480363,2.184368317593319,2.054835121470892,1.894837128402167,1.818323030631493],[2.7484183662673916,2.712937406941298,2.61166002110252,2.5220784252296813,2.445607289730585,2.3681677346822685,2.3009653630797238,2.245193766524691,2.186099352559525,2.131263537187884,2.1162402583305537,2.153995065665915,2.204635049011876,2.2074047056950272,2.1244228593099694,1.983025630264145,1.90514022744628,2.026528656255837,2.3341003783118226,2.6380790630762423,2.7527105159086203,2.677920774161258,2.5490096415942363,2.4513192195727336,2.3796535077961196,2.3197162637161615,2.269798165496819,2.217649332934829,2.1557411629602683,2.110397394467349,2.1183959893479156,2.172159773407359,2.2195596217801334,2.212001949632273,2.1371454445650433,2.036117874133596,1.9879416717529192,2.0302996137603273,2.1165441402401757,2.185555744734968,2.2246359318840137,2.247050956999808,2.260117550218189,2.265650989851919,2.263749561161453,2.2450409155227518,2.181989962048677,2.0487998881061538,1.8842853739288503,1.8056113997916843],[2.748679587381244,2.7118413191176014,2.608498059436648,2.5174611338707846,2.441280679004678,2.365545186571528,2.3004732029774657,2.2472729803568092,2.191760981455713,2.140488071353153,2.1262894810274484,2.1610522477802565,2.207352642544476,2.2079711350363858,2.126665878699162,1.989803051580466,1.9168471149414026,2.0424026677100082,2.354381015233061,2.661855344708844,2.7743959487728014,2.690614905788658,2.5512269520822404,2.4475116018718093,2.3751996917726457,2.3172750823916064,2.2698028619045014,2.2204345660125138,2.161877217590244,2.118974344032899,2.126462227399988,2.17710247767894,2.221397656023549,2.2129003612720397,2.1394827946335053,2.040831818443793,1.9939123577301152,2.0355474268590017,2.1201152324011474,2.187747649102738,2.225947757670817,2.247740823859467,2.260394415794104,2.2657177649342333,2.2636626293552577,2.2444927223358975,2.1799632817955277,2.043656934882396,1.875293640049952,1.794779115572644]],\"zauto\":true,\"zmax\":2.7743959487728014,\"zmin\":-2.7743959487728014,\"type\":\"contour\"},{\"autocolorscale\":false,\"autocontour\":true,\"colorbar\":{\"tickfont\":{\"size\":8},\"ticksuffix\":\"\",\"x\":1,\"y\":0.5},\"colorscale\":[[0.0,\"rgb(255,247,251)\"],[0.14285714285714285,\"rgb(236,231,242)\"],[0.2857142857142857,\"rgb(208,209,230)\"],[0.42857142857142855,\"rgb(166,189,219)\"],[0.5714285714285714,\"rgb(116,169,207)\"],[0.7142857142857143,\"rgb(54,144,192)\"],[0.8571428571428571,\"rgb(5,112,176)\"],[1.0,\"rgb(3,78,123)\"]],\"contours\":{\"coloring\":\"heatmap\"},\"hoverinfo\":\"x+y+z\",\"ncontours\":25,\"x\":[5.0,5.3061224489795915,5.612244897959184,5.918367346938775,6.224489795918368,6.530612244897959,6.836734693877551,7.142857142857142,7.448979591836735,7.755102040816327,8.061224489795919,8.36734693877551,8.673469387755102,8.979591836734695,9.285714285714285,9.591836734693878,9.89795918367347,10.204081632653061,10.510204081632654,10.816326530612244,11.122448979591837,11.428571428571429,11.73469387755102,12.040816326530614,12.346938775510203,12.653061224489797,12.959183673469388,13.26530612244898,13.571428571428571,13.877551020408163,14.183673469387756,14.489795918367347,14.795918367346939,15.10204081632653,15.408163265306122,15.714285714285715,16.02040816326531,16.3265306122449,16.632653061224488,16.93877551020408,17.244897959183675,17.551020408163268,17.857142857142858,18.163265306122447,18.46938775510204,18.775510204081634,19.081632653061227,19.387755102040817,19.693877551020407,20.0],\"xaxis\":\"x2\",\"y\":[1e-05,1.2648552168552958e-05,1.5998587196060572e-05,2.0235896477251556e-05,2.559547922699533e-05,3.237457542817647e-05,4.094915062380427e-05,5.1794746792312125e-05,6.55128556859551e-05,8.286427728546843e-05,0.00010481131341546853,0.00013257113655901095,0.00016768329368110083,0.00021209508879201905,0.0002682695795279727,0.000339322177189533,0.00042919342601287783,0.0005428675439323859,0.0006866488450042998,0.000868511373751353,0.0010985411419875584,0.0013894954943731374,0.001757510624854793,0.0022229964825261957,0.002811768697974231,0.0035564803062231283,0.004498432668969444,0.005689866029018299,0.0071968567300115215,0.009102981779915217,0.011513953993264481,0.014563484775012445,0.018420699693267165,0.023299518105153717,0.029470517025518096,0.037275937203149416,0.04714866363457394,0.05963623316594643,0.07543120063354623,0.09540954763499944,0.1206792640639329,0.15264179671752334,0.19306977288832497,0.244205309454865,0.30888435964774846,0.3906939937054621,0.49417133613238384,0.6250551925273976,0.7906043210907702,1.0],\"yaxis\":\"y2\",\"z\":[[0.3068386580488863,0.3045141910874695,0.2971315570970835,0.2891578701082796,0.29211060267820127,0.30126115777955925,0.3060602738694716,0.3069356020325475,0.3063396162204511,0.30479078759038036,0.3013328124191714,0.2829513396755545,0.22526902277052724,0.1675124083949854,0.2148710115220364,0.27541603848377,0.2947505016006713,0.29641269317117,0.28646238959871606,0.26342338502992996,0.2598924034654684,0.283137843408584,0.298545805760282,0.301997731706255,0.3042291806445657,0.30630498917927335,0.30687751774928645,0.3055558859180324,0.30046161392429743,0.2939651519959551,0.29489041683143524,0.30047737973133326,0.30158905919961937,0.29832106926952295,0.28059429947113346,0.22984599045188203,0.19310279784296372,0.23856004551194374,0.28747943433669054,0.30417788500282106,0.3068321155874977,0.3071197536680651,0.30717592250398834,0.30718605567995727,0.3071863314790708,0.3071687761380225,0.3069396943458954,0.30559124467277,0.30228268409475884,0.3000431790104891],[0.3067683134358283,0.3039902009952658,0.2951372168143541,0.2855224668553706,0.2890899355789603,0.30009610813686716,0.30583969918832543,0.3068731704144866,0.3061001310120532,0.30415391510964035,0.3003923672745676,0.2812432018624559,0.21996786321778605,0.15663503103644544,0.20863685803773405,0.272800298423016,0.29249116266200875,0.29419349830471675,0.28328215147184993,0.2569341575794349,0.25283994212907557,0.27961585592244703,0.29694818930530004,0.30071357967489587,0.303462987434408,0.3060770317561365,0.30680493394475244,0.30519790334809016,0.2989718915996088,0.29099737345068705,0.29213069491111177,0.2989385924985827,0.3002514106203492,0.2969278717951994,0.2794651490402576,0.22816430704973667,0.19059594322377768,0.23722617908969104,0.28709588432528915,0.30405650490865344,0.3067685305992739,0.30709656310656247,0.30717174894020555,0.3071856956546432,0.3071861573295203,0.3071642164971617,0.30687781573931144,0.3051908768371548,0.30104373751538654,0.29822992523786107],[0.30668738809427415,0.30339543530966817,0.292864429826046,0.28135319198033293,0.28563423930456083,0.29877263024378126,0.305589588164552,0.30679798520137974,0.3058037630194299,0.3033674275530888,0.29928246306460876,0.2795602839461001,0.2151237325817204,0.1463363995459047,0.2028776041813433,0.27013107069985404,0.28985450260071316,0.2916072629545095,0.27980658668570685,0.2499016133833214,0.24518218104730702,0.27581231296077136,0.2951179962565064,0.29916381394028063,0.3025333830843394,0.3058009708940529,0.3067191027283366,0.30478193648691265,0.2972342499953656,0.28751637554738974,0.28889477277753944,0.2971263399110937,0.2986455468867006,0.2952832937595017,0.2783820964792688,0.22715421539800026,0.18925806627886765,0.23651301894748714,0.28685935769563875,0.3039324983495469,0.3066860081570717,0.30706558754869184,0.30716616065845614,0.30718521388830383,0.307185947264356,0.3071587715580663,0.30680390821011816,0.3047120959349807,0.299557559842895,0.2960501134409421],[0.30659492782836884,0.3027274231967266,0.2903004323474776,0.2766145736515745,0.28171815556593655,0.2972850646466814,0.30530906035765015,0.30670816970369524,0.3054402710509744,0.3024035581298765,0.29797057509542385,0.27790682826152585,0.21086874932174515,0.13699918432803487,0.1977521224059865,0.2674122807245298,0.2867919107071475,0.28861459783390747,0.2760413813567842,0.24235473243851172,0.23694558564283147,0.2717450222114282,0.29303187371075845,0.29730712758558986,0.30141498979908243,0.3054696220106726,0.30661856838655976,0.3043036815673649,0.2952274103224184,0.2834691982471714,0.28513421950695084,0.2950115376041082,0.29673316349304496,0.29334565277642644,0.27732803974320785,0.22683255432692967,0.18913712107793154,0.23643771955496856,0.286769194458246,0.30379891582853225,0.3065785513143505,0.3070245288058961,0.3071587427973111,0.30718457479782363,0.3071856962741265,0.30715233939832504,0.30671658001223684,0.3041455521289658,0.2977924170665207,0.2934542922169104],[0.3064899196736515,0.30198510313680177,0.2874375438252726,0.2712772768389121,0.2773225878040875,0.29563107670475003,0.3049978903016192,0.3066017480155619,0.3049984544510393,0.30123152449021506,0.29641970840451165,0.2762817209766655,0.20732627434174555,0.12906445094517607,0.19341391090867507,0.2646451080927439,0.2832534323084808,0.28517658288348197,0.2719980209660156,0.23433722865451648,0.22817187641190034,0.26743868168335483,0.2906655817357294,0.29509892535749205,0.3000807725009017,0.3050754665377317,0.3065019399043463,0.30375971349106323,0.29293283918806085,0.27880483004282036,0.2808027867951542,0.29256635090577465,0.2944742187914994,0.2910700757559537,0.2762797954258654,0.2271903936092988,0.1902260453543805,0.2369951120000603,0.2868191179133773,0.30364643025893556,0.30643868193250234,0.3069705409720624,0.30714898213554825,0.307183734387314,0.30718539921480204,0.3071448239987827,0.3066145166829526,0.30348227847283055,0.29571672741408866,0.2903920154446232],[0.3063712426276613,0.3011690399801172,0.2842743003336984,0.2653198873503173,0.27243635855297543,0.2938122951263924,0.30465661653433473,0.3064766836563641,0.30446629098036515,0.29981772709661414,0.2945884719838078,0.2746778160725476,0.20460247544098828,0.12300100055586125,0.19000069404817074,0.261828118816007,0.27918905710501474,0.2812559489143653,0.26769400680699923,0.22590823373037633,0.21891885573540093,0.262924568957958,0.28799419541269583,0.29249171320212874,0.29850246357973903,0.3046108244989133,0.3063679511513794,0.30314779023490557,0.29033596577837617,0.2734759306327355,0.2758581233482659,0.28976531454955434,0.29182769423888644,0.28840920652661967,0.2752086689509745,0.22819305249944838,0.19246255164112064,0.2381574980557796,0.2869970284728861,0.30346303893110926,0.3062572031987305,0.30690014218130474,0.3071362513757294,0.3071826389088266,0.3071850509313433,0.30713614032804837,0.306496549691835,0.3027141179327292,0.29330017054670904,0.2868131306170072],[0.3062375911974202,0.3002815812641566,0.2808165181274415,0.2587307099593538,0.26705786317828806,0.29183487236165495,0.3042866295169286,0.30633092949340235,0.3038311439417897,0.2981260931092541,0.29243133184239534,0.2730815619658124,0.20277790603514312,0.11924170122003545,0.18762319604990296,0.258957736632479,0.2745502560888003,0.2768184427917943,0.2631528928288368,0.21714252740396106,0.20926083308791169,0.25823986819693434,0.2849923790850846,0.2894356326262453,0.29665112293072765,0.30406807362786514,0.30621552747535774,0.3024671605372405,0.2874274867515935,0.26744072293328025,0.2702636684472375,0.28658658449577196,0.2887525296622307,0.28531411975086834,0.2740813672631196,0.22978196955233404,0.1957350132501047,0.23987592212980774,0.2872849948642153,0.3032337784947517,0.3060229560889424,0.30680912482280975,0.30711979326110866,0.3071812235110651,0.3071846463982882,0.30712621992817535,0.3063617320738916,0.30183420161115004,0.29051497002699933,0.28266927463014035],[0.306087365753294,0.2993269279015301,0.2770782160232931,0.2515095226163824,0.2611966531365754,0.2897099181452874,0.30389022925064463,0.3061624892208651,0.30308004523491505,0.29611858107894934,0.2898990594788609,0.2714729924728038,0.20190031901583516,0.11809248502541114,0.18635474565262605,0.25602906346193127,0.26929174227046687,0.2718343620397422,0.2584041268430124,0.2081301988187167,0.19928855588379024,0.2534266202089549,0.28163475059506354,0.28587914190830455,0.29449783943517205,0.3034399150425648,0.3060438564469523,0.30171885733647014,0.2842047157312863,0.2606650231386581,0.2639906974505001,0.2830132978870191,0.2852087315736202,0.2817354361792812,0.27286122012159447,0.23187813402399304,0.19989293206976386,0.24208272274132717,0.28765943600721017,0.302940462676083,0.30572257931254887,0.30669246849759674,0.3070987053537168,0.30717941094775275,0.30718418087124616,0.30711501674423275,0.3062094176564064,0.3008374602953722,0.2873373217791193,0.2779155450701219],[0.3059185240303209,0.2983110948378725,0.2730823154640969,0.24366922368435542,0.2548748707994297,0.2874537549047013,0.3034706439083756,0.3059694901197467,0.3022000585304519,0.29375585790717895,0.2869393850163548,0.26982612242226056,0.20197998038233508,0.11964781460151444,0.18622370569419935,0.2530370272398487,0.26337341900696565,0.26628023722711414,0.25348268740493624,0.19897560232026626,0.1891085336082793,0.248530307396507,0.2778963545923817,0.28176984074986905,0.2920145763148996,0.3027196830419714,0.3058524598202499,0.30090595656473534,0.2806729219561342,0.25312437537673294,0.2570204896019066,0.27903500962100175,0.2811586484505786,0.2776246284798933,0.27150965787601083,0.23438658920954675,0.20475961803912157,0.24469501071868968,0.2880914755036924,0.30256145404280604,0.30534028483800174,0.3065442612148677,0.3070719265372093,0.3071771104377178,0.3071836500413428,0.3071025128638886,0.3060393394518381,0.29972114505477765,0.28374892900577364,0.2725123030259878],[0.305728389006682,0.29724173987408764,0.26886102900196823,0.23523730450269256,0.2481284452569634,0.28508794431272944,0.3030320021299389,0.30575026616704243,0.301178723543475,0.2909981551842277,0.2834978562459971,0.26810976262869435,0.2029884244171992,0.12376065032772067,0.18721044802014156,0.24997780128350963,0.25676247003051417,0.2601406332869042,0.248428516088737,0.1897954466528636,0.17884161334647633,0.24359811912596838,0.2737532645605057,0.27705542938140615,0.28917515888866796,0.30190169378735265,0.30564126317065093,0.30003377890070876,0.27684658929198536,0.24480625906219605,0.24934658901672793,0.274649166369096,0.27656840389399184,0.2729355026862478,0.2699878806664002,0.23720143712704805,0.21014473917438053,0.2476186475884594,0.28854744228923807,0.30207148274352863,0.30485766357795757,0.306357635531304,0.3070382265433285,0.30717421678918316,0.3071830501832523,0.30708872376917334,0.3058516819033203,0.29848532659041443,0.2797385915918657,0.26642705252599913],[0.30551340989299636,0.29612784387925056,0.26445584298850316,0.22625707446337245,0.24100794356065436,0.2826390390123238,0.30257925383481965,0.30550344981983224,0.30000457851246043,0.28780630753884945,0.2795188967709993,0.26628874213291454,0.20486094906993085,0.13008704396245466,0.18924965946896083,0.2468504057889451,0.24943553805995702,0.25341003424768166,0.24328575405576613,0.1807158362563742,0.16862062509936357,0.23867698261406473,0.2691833330425004,0.27168478776205507,0.28595639938405076,0.30098162456644073,0.3054106592114625,0.2991100113369657,0.27275051244882537,0.23571234349054124,0.24097713359225795,0.2698625708756302,0.27140947721522307,0.267625838423739,0.26825864689339074,0.24021081079503404,0.21585507643849167,0.2507523084344688,0.2889894863939384,0.3014415266319889,0.30425353801178023,0.3061247274412012,0.30699620001619754,0.3071706099192701,0.3071823782867489,0.3070737026604508,0.3056471410580703,0.29713333797718394,0.27530378566494484,0.2596363324284098],[0.30526887512951656,0.2949792332741322,0.2599170007264601,0.21678855873223646,0.23357895399440717,0.28013802353940687,0.302118037458843,0.30522807000110874,0.29866775354815056,0.2841429714731092,0.2749470490272182,0.2643255006868255,0.20750239552396915,0.1381763187793691,0.19223748625484055,0.2436583716041309,0.24138093475473954,0.24609476973576253,0.23810180139086046,0.17186808279403562,0.15858687111981085,0.23381148653326805,0.2641671088264746,0.2656091557034969,0.28233934976445724,0.2999569121313552,0.305161560532016,0.2981447262969784,0.26842063212656275,0.225860777054901,0.2319372340287623,0.26469278059572204,0.2656604218209067,0.26165917224137497,0.2662881071868823,0.2433013997061172,0.22170269393634415,0.25399128899422163,0.289376278168906,0.30063876835792586,0.30350388022887154,0.30583666671906923,0.30694426680037384,0.3071661549147807,0.3071816321619307,0.3070575434014639,0.30542696652967755,0.2956721219924352,0.27045215686259577,0.2521275494899082],[0.30498857910613,0.29380594589521164,0.2553024014108055,0.20690897761392552,0.2259218573874536,0.2776194246526069,0.301654495303616,0.30492365299923435,0.29716062261717974,0.2799740197961112,0.26972838186378095,0.26218199397917,0.21079516020236563,0.1475586339767765,0.196041937635845,0.24041132122049147,0.23260082426478118,0.23821493567655574,0.2329262271603704,0.16338315190884894,0.14888520335591257,0.22904186370492943,0.2586889388881174,0.2587833908892314,0.27831067008098626,0.2988271553913778,0.3048954374988682,0.2971502788864815,0.2639044957610498,0.21528851965814363,0.22227139571983479,0.2591693744911739,0.2593087152707889,0.2550067134696488,0.26404761290411144,0.24636226787934876,0.22751045904432476,0.25723082563081656,0.2896637623991553,0.2996266456724775,0.3025818148870278,0.3054836079806994,0.30688068024005416,0.3071607027886423,0.307180810509599,0.30704038166185016,0.30519297940181067,0.29411244310568824,0.2652028390722238,0.24390067677629276],[0.3046644477255467,0.2926174537944027,0.25067585191831915,0.19671269841837927,0.21813082130751604,0.2751200941523196,0.30119504297792615,0.3045903222108698,0.29547849669869014,0.27527010469908897,0.26381203829165517,0.2598218396525058,0.21460813611623186,0.15780180396693408,0.2005144943074394,0.2371263037657103,0.22311332613933457,0.22980625490226578,0.22780956693575233,0.15538474399002225,0.13965745694884216,0.22440222795138443,0.25273827214970734,0.2511672792795988,0.27386409656036004,0.2975945046906523,0.3046143373597277,0.29614106794035827,0.2592612174066452,0.2040537588705956,0.21204598813942768,0.25333500924626834,0.252352741524749,0.2476493921726155,0.26151543394336735,0.24928785083404761,0.233115279008417,0.2603688091952054,0.28980594462486176,0.29836501117671593,0.3014577267286867,0.30505481184535377,0.3068035452792893,0.30715409208632694,0.3071799129507784,0.3070223939047906,0.30494756110137505,0.2924689261343881,0.2595874990785036,0.23496973984773667],[0.304286131785409,0.2914217704481168,0.24610464726499454,0.18631052206340298,0.21031183588006078,0.2726776965299532,0.3007461033840796,0.3042288919655456,0.2936203352340424,0.2700083821951913,0.2571518976889168,0.25721262411564455,0.21880538917413528,0.1685362291389777,0.20550106696543505,0.23382871146700066,0.21295449112876805,0.22092181387754772,0.2228020519270127,0.14798126856015745,0.1310341529622376,0.21991926993699326,0.2463111821568225,0.2427268718108031,0.26900199016439974,0.2962640171915959,0.30432088121072415,0.29513315393702266,0.2545608025374075,0.1922384957622793,0.20135177466350823,0.2472461704191058,0.2448039159274117,0.23958005551184702,0.25867832778561467,0.2519801335167777,0.23836958666132232,0.26330786918444515,0.2897556946466452,0.29681041690064336,0.30009949147735515,0.30453878514287114,0.30671084802963794,0.3071461514852237,0.30717894001297347,0.3070037939836252,0.30469360975963355,0.29075988921322327,0.2536509970075495,0.22536401439674075],[0.30384058124910623,0.2902244840946038,0.24165651476652128,0.17582812447618823,0.2025796103748691,0.2703289678751821,0.3003138199467987,0.3038409501304247,0.29158944752340216,0.2641743924731951,0.2497083290872867,0.2543282876784358,0.22325371825137552,0.17945908472510771,0.21085107531925334,0.23055260695888616,0.20218011537599606,0.21163359595861556,0.21795231911926397,0.14125737135957583,0.12312473372403462,0.21561160015860803,0.23941212713097032,0.23343582333383084,0.2637369420269979,0.2948439557238199,0.304018236430853,0.2941437364826855,0.24988270680781152,0.17995144657610407,0.190306509507727,0.240973504616007,0.2366889767037721,0.2308058543612801,0.25553290870219286,0.2543500880428953,0.2431416025634486,0.2659568737280698,0.2894655604442576,0.2949165373676371,0.29847284712001754,0.3039234880285261,0.3066004981981674,0.30713670350480066,0.3071778930752607,0.30698482726865595,0.3044344626541655,0.2890069485796337,0.24745154355648089,0.21512886324863434],[0.3033116175298287,0.28902777199293167,0.2373960369994572,0.16540341704238998,0.19505318550262843,0.2681078482334686,0.29990376732892826,0.30342892387068143,0.2893941503679494,0.2577640949263393,0.24145001941521854,0.25115150681405457,0.22782865548955816,0.19032869941418315,0.2164241252956066,0.2273403074211296,0.19086737386273817,0.20203370374194327,0.21330615416199153,0.13526614914094065,0.11600719958809538,0.21148988012679834,0.23205596882284,0.223276715524198,0.2580934058196513,0.29334600707956826,0.3037100634239337,0.29319050550703013,0.2453135200713352,0.1673314776645998,0.1790575647122402,0.23460159628436056,0.22805248191956928,0.22135089928169524,0.25208677177504474,0.25631849193177897,0.2473148152394199,0.26823193335693984,0.28888859354610985,0.2926347421976275,0.2965419198358642,0.3031966140892589,0.30647038532847753,0.3071255694057314,0.3071767742793196,0.3069657624148977,0.3041737858787944,0.2872343869361482,0.2410602296192912,0.20432614768491303],[0.30267952460044145,0.2878294605989665,0.23338076428606214,0.15518252918461042,0.18785021339230573,0.2660436222433361,0.299520680250496,0.30299612289560224,0.28704834321199396,0.25078606314634716,0.23235587471948582,0.2476759948908783,0.23241880687989386,0.20095586479694366,0.22209431342697938,0.22424110760471058,0.17911627030738952,0.19223511449087724,0.20890531763928244,0.13002356933101525,0.10971879646188562,0.20755780678619878,0.2242702758041297,0.21224235696796914,0.2521093168674349,0.2917853954041696,0.3034004369788825,0.29229089279763415,0.2409437177660346,0.1545518529408278,0.16778442459689644,0.22822803010266687,0.21895956453212417,0.21125931777079096,0.24835932987468956,0.2578162632847292,0.25078701580928986,0.270057016792937,0.28797919343122286,0.28991482595674606,0.29426991532139385,0.3023459470283231,0.3063184491933909,0.30711257530067615,0.3071755864184889,0.3069468810888604,0.30391543524219866,0.2854682955126371,0.23455980558383366,0.19303415753185016],[0.3019206827144682,0.28662220232229957,0.22965732545251732,0.1453140757111256,0.18108004175696746,0.26415922637551525,0.29916822180319247,0.302546754807716,0.28457195758342585,0.24326385332249728,0.2224170167616754,0.24390864362014067,0.23692865722870485,0.2111952357387798,0.2277525038640221,0.2213090846458086,0.167050911861586,0.18237173189817918,0.20478650049582478,0.12550665152328186,0.10425005384880016,0.20381391829819784,0.2160979404986565,0.20033707437788426,0.24583764102253752,0.2901808673366198,0.30309374417445833,0.2914612629078239,0.2368635097546161,0.14182556018661643,0.15670060026054253,0.22196156414848953,0.20949900233440283,0.20059891699534102,0.24438232251110353,0.25878444853597193,0.2534691284706847,0.27136429137401546,0.2866939832964067,0.28670589910854893,0.29161998224092783,0.30135979432215637,0.3061427638964215,0.3070975594290659,0.3071743328212583,0.30692846617867087,0.30366329529772285,0.283735521445956,0.22804260205747914,0.18134701569309325],[0.30100727044760234,0.28539283935357374,0.22625792486694832,0.1359414079602276,0.17483602179803492,0.26246988926394965,0.298848811530049,0.3020859078329843,0.2819912341759709,0.23523856732237242,0.21163893781204685,0.2398714236911053,0.24128007177453883,0.22093792078119792,0.2333070390883612,0.2186000170208717,0.15482060883994497,0.1725973727804573,0.20098044606100907,0.12165646970729278,0.09954450509113774,0.20025408449123772,0.2076001377116226,0.18757804589504018,0.23934776923748544,0.2885545282116379,0.3027945624000052,0.2907160933708084,0.233157944794579,0.1294117208196619,0.14605395730728624,0.2159192427556325,0.1997866376029055,0.18946574948631628,0.24019995344382747,0.2591739885941034,0.2552840040185102,0.27209429500706966,0.28499273224855365,0.28295743991031863,0.2885562503271886,0.30022749441251917,0.3059416343107998,0.3070803804650494,0.30717301724859414,0.3069107891951459,0.30342110605276373,0.28206247493586883,0.2216075193382816,0.16937352474114353],[0.29990706136772444,0.2841220183882143,0.2231976487196758,0.1271927540005327,0.16918781240940955,0.26098225967005517,0.298563530401161,0.3016194972668403,0.2793387790734423,0.22677163494918248,0.2000439433714432,0.23560295165557518,0.2454127515065181,0.23010541515452568,0.23868333508453057,0.2161675670019547,0.1426007421104043,0.16308315500751047,0.19751126517829012,0.11838603393959633,0.09550545977337638,0.19687444761726386,0.198859635660561,0.17399679494808276,0.2327266320781778,0.28693151324123245,0.3025075226059345,0.2900672019511372,0.22990158790946918,0.11762217273671918,0.13612350285148148,0.2102223203894689,0.18996910089917984,0.17798998481839165,0.23586860964891757,0.2589453754836993,0.2561652895135183,0.2721960352170376,0.28283933971918246,0.27862050338836275,0.2850450416441532,0.298939989620954,0.3057137024478451,0.30706092663560514,0.3071716438255269,0.3068940977092692,0.30319228896837414,0.2804738722140553,0.21535607943201301,0.15723543427274336],[0.2985833407320454,0.28278410716745633,0.22047297215077352,0.11916963964413789,0.1641747868522863,0.25969414280341124,0.2983121147666177,0.3011541734205661,0.2766533512536309,0.21794782980059774,0.18767412500338612,0.23115960861264592,0.24928387725352205,0.2386446831647974,0.24382274346089872,0.21405901047205503,0.13059317309354543,0.15401255705172706,0.19439595888898045,0.11559194246947328,0.09200939497027376,0.193674501856487,0.18998441911642397,0.15964109179668415,0.22607934797154886,0.28533948439262924,0.30223716419625446,0.2895230818446779,0.22715325145901574,0.1068249712900391,0.12720940072238948,0.20499097195833133,0.1802275978005176,0.16634356869167707,0.23145610911713904,0.2580682969189836,0.256056449023256,0.27162709701470833,0.28020289688516564,0.27364908069649263,0.28105625009565166,0.29749045216921816,0.3054580602544625,0.3070391253298448,0.30717021702599895,0.3068786037433817,0.30297978502688916,0.2789915074292661,0.20938764029516121,0.1450651158483872],[0.29699496513447005,0.28134744581814325,0.21806175262307287,0.11193480024055863,0.15980181754515266,0.2585949124547203,0.2980930447500342,0.3006971906608181,0.27397933777952493,0.20887849353585314,0.17459529887106942,0.2266160634824333,0.2528671372891936,0.2465241219395763,0.24868098087669327,0.2123109280912431,0.11902558391271925,0.14557328645700074,0.19164415181140917,0.11316783247532762,0.08892366402285765,0.19065995217181209,0.18111146372195525,0.1445777691248287,0.21952913848180247,0.2838079527774883,0.301987788896331,0.28908840314522105,0.22495138474364337,0.09743682485685023,0.11961201120881022,0.20033794880456962,0.17078111815518623,0.15475008312222932,0.22704042168528726,0.256521351995455,0.25490998324208564,0.2703538268760344,0.27705883748083243,0.2680016009287446,0.27656488178711935,0.29587494559383887,0.30517436426199795,0.3070149527876969,0.30716874172582986,0.30686447402366185,0.3027859176679398,0.27763315566456703,0.2037940186031248,0.13300263476695934],[0.2950965840648128,0.27977494502308314,0.21592482612909367,0.1055017977209099,0.156038574192087,0.25766660031958705,0.29790372491782,0.30025623923355055,0.27136588236994613,0.1997048458315869,0.16090268647465944,0.2220650113918402,0.25615129199131564,0.2537301668079687,0.2532263517390709,0.21094536527267546,0.10814836499935986,0.13794521285941205,0.18925803066431104,0.11101741285421876,0.08612520184215075,0.18784497864407293,0.1724102561099326,0.12889751538108568,0.2132161497814688,0.28236743763949573,0.301763321359994,0.2887637300250198,0.22331076047104198,0.08988998554373666,0.1135968059104794,0.1963616002241256,0.1618877204419503,0.14349670673264853,0.22270780998321935,0.2542919078880667,0.2526868758474231,0.2683516462801266,0.27339018699850204,0.26164256872292413,0.2715527476198831,0.2940930986027785,0.3048629465270362,0.3069884433742883,0.30716722333185364,0.3068518229021472,0.30261229212879165,0.27641170750301974,0.19865394104504036,0.12119220175409838],[0.29283903710919734,0.2780250216058684,0.21400912406458159,0.09982929669297519,0.15282296642922355,0.2568855945861978,0.2977407471318923,0.2998392438450605,0.2688656487639982,0.19060105707184075,0.14672972692842,0.21761589314721172,0.2591383954885721,0.2602643553437706,0.25743793024729716,0.2099669903274777,0.09822638119768332,0.1312842775374698,0.18723247766580137,0.10906520960635814,0.08351709413102072,0.18525355243460429,0.16408521480790395,0.1127239982871147,0.20729473373589563,0.2810484860100139,0.3015671841456825,0.288545488281022,0.22222100151798532,0.08455788190492712,0.10934752011149064,0.1931389747798281,0.15384149200752212,0.13294656484022893,0.21855035259532207,0.25137615520371775,0.24935627905012023,0.26560553570103684,0.26918891521220045,0.25454433593416914,0.2660102996648744,0.29214876319775385,0.3045249155085243,0.30695969788391275,0.30716566798621814,0.30684070856929047,0.30245974017498206,0.275334621154668,0.19402790967642514,0.1097779710457096],[0.29016993434677496,0.27605284271780534,0.21225204325787048,0.09482279185859772,0.15006860456501034,0.2562248175848478,0.29760021805049885,0.2994541352964482,0.26653322354694736,0.18177639833876708,0.13226251835449176,0.21339233098684093,0.2618417708617769,0.2661407231388495,0.26130382166478605,0.20936170639099005,0.08952139187821012,0.12570372316835654,0.18555538820053852,0.10726380505890157,0.08104087434794542,0.182919505450823,0.15637547900879697,0.09623290222090831,0.20192871124224052,0.27988059090555556,0.30140219396560436,0.2884261984412552,0.2216472659957636,0.08164394582932286,0.10691999552601171,0.19071995253077087,0.14696164450469582,0.12354598186714216,0.21466284566345267,0.24777940842982524,0.24489543854017676,0.262110719140174,0.26445739231888066,0.2466890158873101,0.2599386043035691,0.2900506238602368,0.30416224000672665,0.30692889028273584,0.3071640828342923,0.30683113291516234,0.30232831553703565,0.27440375140706347,0.18995416840319337,0.09889912696346151],[0.28703442079100666,0.27381183461697395,0.21058666854479724,0.0903451651138296,0.14767539144352004,0.25565620551207546,0.2974781275398861,0.2991086036624227,0.264423194081593,0.17347520765358418,0.11776433386826214,0.20952802637518067,0.2642838217560506,0.2713834503720565,0.2648195866513446,0.2090970037537798,0.08226050367306527,0.12125602437021012,0.1842081654237255,0.10559698707402565,0.07868347450426272,0.18088515173774317,0.14954966744793063,0.07969530323890724,0.1972842392247785,0.2788910592246546,0.30127048482628455,0.28839496753952176,0.22153309683872605,0.08108395155204066,0.10621721001707987,0.18912341932221188,0.141569887391313,0.11581443292213159,0.21113913838962342,0.24351668769362245,0.23928984850841786,0.25787357048043547,0.25920994346780846,0.23807056652737996,0.25335144723885444,0.2878127200011712,0.30377780913536756,0.30689627229986854,0.30716247633367905,0.30682304508156794,0.30221734090473956,0.2736155780895995,0.18644643381976672,0.08868418315070417],[0.283376118935015,0.2712554024402656,0.20894738744338573,0.08623522731390953,0.14554185837722736,0.255153286816303,0.2973707299387463,0.2988098433828115,0.26258797449008264,0.1659726552749536,0.10361767540607177,0.206160955339923,0.2664937571042331,0.2760247127258458,0.2679868829315428,0.209124105563755,0.07659007464596591,0.11792059738594604,0.18316638956412137,0.10407867476104135,0.07647835158647473,0.17919840056053216,0.14389257224564875,0.06358601328229732,0.19352021752349274,0.278103891546011,0.30117346192354977,0.28843821043722395,0.22180512265348243,0.08253615534911735,0.10700122682526853,0.18833628625359536,0.13795444119982894,0.11029807047359666,0.20806804367411139,0.23861360863004685,0.23253362105951259,0.252912756146603,0.25347448908964154,0.22869709754337922,0.24627756682990298,0.28545484001350674,0.30337546158412476,0.3068621753174616,0.30716085857179076,0.30681634840974265,0.3021255025308252,0.2729618149289911,0.1834938659186402,0.07924444514793252],[0.27913823704810053,0.2683388039137682,0.2072754480980267,0.08233152849615914,0.1435777483863508,0.25469365050827847,0.2972749081296557,0.29856430200639394,0.2610754926625664,0.1595636262391697,0.09039387932498193,0.2034259032673931,0.2685053043807325,0.2801027143903945,0.2708123528554267,0.20938171444413867,0.07252586970806114,0.11560223620578572,0.18240066424012472,0.10274777365208515,0.07450037451618119,0.17790849140695497,0.13968128984979192,0.048875974743840325,0.19077675042298817,0.2775387429463924,0.30111178807266936,0.28854055171825604,0.22237905144812586,0.08547778340270555,0.10893923429008254,0.18831568541310412,0.136325213700767,0.10747236362099521,0.20552906978668464,0.23310759801035216,0.2246300523181377,0.2472606233157944,0.2472942473073702,0.21859350123115984,0.23876300991117522,0.28300274258074404,0.3029599782091328,0.3068270090952306,0.3071592415516996,0.30681091016552187,0.3020509839002819,0.2724303384853529,0.1810634166754959,0.07066673316727883],[0.2742648252791755,0.26502112230800934,0.2055240745504427,0.07849826040830161,0.14171557082159786,0.25426110878966995,0.29718849093772376,0.2983774450222945,0.2599268880608926,0.154542166979878,0.07895174004031079,0.20144571750395557,0.27035448761181474,0.28365989663504226,0.27330676213823984,0.20980096643615476,0.06992391387138903,0.1141424409135974,0.18187764385156022,0.10165937707052172,0.0728539598001607,0.17706070877092553,0.1371512620167697,0.037772158164535316,0.18916294601094144,0.2772100350260879,0.30108540222682956,0.28868584384315293,0.22316628019494086,0.08934271307047646,0.11166369219619317,0.18899406389014717,0.13677299567407922,0.10761221424327028,0.20358832227379092,0.2270494425198208,0.21559237202366288,0.2409648379272008,0.24072945646916474,0.2078045747917076,0.23087359301824073,0.28048816000105653,0.3025370332901443,0.30679125699291426,0.3071576394018076,0.3068065731536549,0.3019916260815303,0.27200634230974646,0.17910428339348183,0.06300583674360939],[0.2687021572836071,0.26126729114700764,0.20366283913924563,0.07465116177347084,0.13992021519023393,0.25384738547987956,0.2971104974746174,0.2982535491069875,0.25917439590460917,0.15117094143660956,0.07050781203453045,0.20032207892077497,0.2720775466257285,0.28674132450354445,0.2754843739783555,0.21031108024441708,0.06849588632009108,0.11334147400812279,0.18156124350449493,0.10087312383812572,0.07165435428350889,0.1766906658709959,0.13645835658269634,0.03434301235651747,0.1887460374362103,0.2771262834120979,0.30109356746574245,0.2888582278665656,0.22408045644503113,0.09362566818008705,0.11482504266530213,0.1902863536041,0.13924940937467148,0.11069654806686646,0.2022949954483204,0.22050516367650436,0.20544467812051292,0.2340902691547022,0.23385904528095017,0.1963989030880986,0.22269742262834072,0.2779485400209437,0.3021131016034511,0.30675546752144767,0.30715606846531257,0.3068031681492857,0.30194509978011524,0.2716735985346991,0.17755382335450584,0.05627785591434783],[0.2624002124486399,0.25705013383299496,0.20168107400952567,0.07078312275853381,0.13819601783054153,0.2534531980958135,0.29704128742683367,0.29819553514107255,0.25883960027812475,0.14964463627154206,0.06646011240883153,0.2001269807833042,0.27370907145649,0.28939325814320727,0.277362524372633,0.21084516330474953,0.06786901039975421,0.11298564956797272,0.18141402548434343,0.10044009419838176,0.0710035298402908,0.17681892352127462,0.1376487552628481,0.040656945647427216,0.18954405528429988,0.27728969192478325,0.30113494391919193,0.28904316021169274,0.2250434391925342,0.09793035015742334,0.11812632960977262,0.19209808887931618,0.14357739905431616,0.11641591029839445,0.2016788748825636,0.21355818754630468,0.19422308945815975,0.2267211013990926,0.22678212780818394,0.18447391785999656,0.21434736591867157,0.2754264880873119,0.3016953207250125,0.30672024225247335,0.3071545472310258,0.30680052600311664,0.30190907312072063,0.2714157008529397,0.17634406077862425,0.05045645933335424],[0.25531423337427966,0.2523523938553769,0.19959016450731545,0.06699027632434497,0.13659079649387956,0.25308864351026233,0.2969826035074155,0.2982048505242192,0.2589322211025013,0.1500567907734659,0.0677130888189941,0.20089627686483563,0.275280418729425,0.29166191541410486,0.2789613497260099,0.2113456841299159,0.06766346982024965,0.11287384260254528,0.18139874459307617,0.10039023299711482,0.07096484167036868,0.17744676544624877,0.1406487752541367,0.053258617069684634,0.1915237702817077,0.2776960453407565,0.30120768059983416,0.28922833258062874,0.22599026308977943,0.10197799143363219,0.1213402147168899,0.1943333388788565,0.14948735830152932,0.12427737400998504,0.20174918350421583,0.20631173344473097,0.18197721099883782,0.2189631216480072,0.21961912185499372,0.17216275067646714,0.20596324710838282,0.2729688822121679,0.30129131059631453,0.30668622033445103,0.30715309607782726,0.3067984883305587,0.3018813599592301,0.2712171699906942,0.17540788576756913,0.04547464844491715],[0.2474063357929464,0.24716874391147234,0.19742459981874128,0.0634978306255996,0.13519628755201,0.2527728428779547,0.2969375007566851,0.2982814077387749,0.2594495567127951,0.1523819619010284,0.07397926777913562,0.20262646980193894,0.27681846439029417,0.2935924298682457,0.28030360782257924,0.2117692106487149,0.0675573807796797,0.11283913906384281,0.18148002002838812,0.10072260627591115,0.0715429873549526,0.17855383660610258,0.14527914050139668,0.0685749925124079,0.1946044177051531,0.27833490939284816,0.30130951918199295,0.2894044212693891,0.22687286622113534,0.10559831210722029,0.12431385977722956,0.1969015566314715,0.1566631727746731,0.13373362410873796,0.2024949287773997,0.1988912649343838,0.1687721228451628,0.21094606357444087,0.21251217398781805,0.1596437363430829,0.1977133470277551,0.27062564892279634,0.30090895520592936,0.306654060087775,0.3071517368202549,0.3067969158723677,0.30186003602725825,0.27106432387803175,0.17468418950850417,0.041234030144749065],[0.23864715470288472,0.24150777320405195,0.19524166456293895,0.060677744362423826,0.1341442371928388,0.25253285030647626,0.29691016639615747,0.298423582964341,0.2603766399002612,0.15648071467412336,0.08402524524246058,0.20527533951438887,0.27834472943205146,0.2952280039287464,0.28141452873808936,0.21209011468594438,0.0673270899745138,0.1127641763763393,0.1816260854812481,0.10140049006338864,0.0726755645249999,0.18009807022566907,0.15128725835159654,0.0849015705922413,0.1986662842135588,0.2791901222354227,0.30143790244550583,0.2895656157794951,0.22766246830274572,0.10871616343339933,0.12696708237884938,0.1997227929689493,0.16478279869732657,0.14427412723650518,0.20388668440138052,0.191446706098288,0.15469133255854764,0.20282576677220907,0.2056244224511523,0.1471535952845104,0.18979448378221367,0.26844821173980593,0.3005561540688076,0.30662441836444115,0.30715049206115735,0.3067956938973218,0.3018435141735513,0.2709458465914061,0.17412143565085259,0.037621400021911826],[0.22901752302294784,0.23539395906949118,0.1931196530380711,0.05903528296640534,0.13359732998913285,0.2524018813682892,0.2969056427631696,0.298628275071716,0.26168709108810473,0.16212527107864272,0.09648814251144407,0.20876622920269772,0.27987489350316525,0.2966092520095861,0.28232163380571323,0.21230303114828028,0.06686717708590119,0.11259057357145986,0.181810553146768,0.10235229079944821,0.0742386958121512,0.18201794834030546,0.1583849096248053,0.10147423388477492,0.2035622041575356,0.28024053921338055,0.3015900804075231,0.2897098933467428,0.22835057464510133,0.11133900584645492,0.12928723635410855,0.2027310617223272,0.1735457679884559,0.15546580461016196,0.20587952598035514,0.18415390024943032,0.13984159531253165,0.1947857009156577,0.1991374608952705,0.13500505900267176,0.1824295631551054,0.2664876530532695,0.300240553796639,0.30659792854287815,0.307149384377192,0.30679473437459265,0.3018305749355994,0.2708530285569564,0.17367945913238655,0.034529382182300596],[0.21851020083430076,0.22886962861445012,0.19115449838031298,0.05912829825685532,0.13373450031431725,0.2524169710932612,0.29692947373669487,0.29889102180939575,0.26334458105797515,0.16903556671625555,0.1103169833430096,0.21299509584918264,0.28141868750811505,0.2977737231524564,0.283054468298514,0.21242392835359641,0.06619949254819041,0.11232346948467141,0.18201411231932713,0.10347794870785809,0.07606390451046371,0.18423676567062933,0.16628053138568616,0.117899707783756,0.2091297406667816,0.2814609751445978,0.30176320802911943,0.28983902451813154,0.22894863751490888,0.11354593115498693,0.1313223477294149,0.2058759016309588,0.18268756057167623,0.16695965262134904,0.20841669313309774,0.17721446290231613,0.12436150836681345,0.18703708633198007,0.19324624225434947,0.1236079836777385,0.1758611132255734,0.26479266443056043,0.2999692722046964,0.30657517816925517,0.307148435382095,0.3067939750320516,0.3018203540575645,0.2707796907610772,0.17332955311141138,0.031875731276382824],[0.20713171020364984,0.22199690307909312,0.18945476192657962,0.06140895268229082,0.1347312459738258,0.25261622377583476,0.29698730131693746,0.2992061667280528,0.26530475974928813,0.17691413966183542,0.12479766473647227,0.21783903506529761,0.2829801331120594,0.29875558813618197,0.28364420655008876,0.2124896972310017,0.06547693197972657,0.11203185021908366,0.182226069684023,0.10465935257968316,0.07796022027999759,0.18666829680626182,0.17470122820752212,0.1339425995423107,0.2152022474498609,0.28282327728033346,0.301954429692902,0.2899583139580139,0.22948644434995452,0.11547703125168333,0.13317273530638324,0.20912234368701207,0.19198442652697414,0.1784819667437712,0.21143350224978183,0.1708527907749217,0.10843808191218861,0.1798164269565195,0.18815070298349248,0.11348759150840275,0.17033922971462234,0.26340739565803617,0.2997486288609127,0.3065566873392824,0.3071476647288715,0.3067933757887441,0.30181229370634777,0.27072184314777337,0.17305312105763887,0.029615869343960266],[0.1949043937781572,0.21485958423958057,0.18813505410166878,0.0660638030399237,0.13673730912069038,0.2530358634712976,0.29708444306917975,0.29956706762948326,0.26751747532895986,0.18547262050650523,0.13945532811199574,0.22316498421433678,0.28455807704618924,0.29958547239229266,0.28412310578136923,0.21255621471982866,0.0649803268196268,0.11184453054324818,0.18244562668344547,0.10577281921348405,0.07973586143934375,0.18922315330263653,0.1834048081448652,0.1494450246441528,0.2216177644664002,0.2842974582931187,0.30216094724979964,0.29007609910301796,0.2300093369181941,0.11732125859714361,0.13498066031643166,0.21244957679736443,0.20125261148808868,0.18982146350759138,0.2148610815606888,0.1653086817643085,0.09234108006371126,0.17337887090064671,0.18404376209210366,0.1052813721458353,0.16610301314139994,0.26236934365939096,0.29958389655474665,0.30654288892914056,0.30714708912330907,0.3067929133577388,0.3018060683798119,0.27067715772981593,0.1728393240498433,0.027744836748214173],[0.1818689261763293,0.20756487656376235,0.18730817461992186,0.07297364007541884,0.13985584912782686,0.25370732686708114,0.29722548258984516,0.2999663352812151,0.26992910124458597,0.19444805949153096,0.1539676296670695,0.2288375997182379,0.28614695341983193,0.30029041371431014,0.28452380545392497,0.21269489796070926,0.06509847742104848,0.11194082343988841,0.18268278012954745,0.10670189242123378,0.08121639184849297,0.19181515124699172,0.1921845154024595,0.1642935378455076,0.22822542970785625,0.2858528215663331,0.302380070155995,0.29020304602157615,0.2305744095496567,0.11930097289492676,0.1369173945340933,0.21584863729874068,0.21034490774205702,0.2008171819876771,0.21862961301160697,0.16082412399552226,0.07649916624223348,0.1679857226104021,0.18109619637781882,0.09967958244515661,0.16335641481182042,0.26170744211284974,0.29947908771559234,0.30653411172599493,0.3071467214259171,0.3067925750191955,0.30180149930180766,0.27064435669150605,0.17268224178811026,0.026287010958354104],[0.1680877082091555,0.20024472562299822,0.18707655074973822,0.08181041187315853,0.14412885158718547,0.254654650926111,0.2974139038362656,0.3003960899339036,0.2724848050099155,0.20361078492551263,0.16810905026275758,0.2347257197348481,0.28773769917801617,0.30089392277175436,0.2848784906489931,0.21298785729027048,0.06627666067006054,0.11253459554982764,0.18295872715903397,0.10734930888631165,0.08225882907114983,0.19436713984679968,0.2008693335985809,0.17840425950193692,0.23488958926957595,0.28745901937470264,0.3026092478929008,0.29035129581028035,0.23124589471703796,0.12165211599739546,0.13916744595732747,0.21931945255673568,0.21914627773668294,0.21134858792886918,0.22267090304915654,0.1576237950776303,0.0616769958838602,0.16388514644537985,0.17944015536966293,0.09727678997598427,0.16224229846119814,0.2614405146582408,0.2994367883001365,0.30653056737867085,0.3071465699166349,0.30679235263526444,0.3017984720830176,0.2706226224997772,0.1725780897505198,0.025274875121848787],[0.1536499526613469,0.19305637683357335,0.18752385108640285,0.09217043969326234,0.14953215598085376,0.2558923896738726,0.2976517961867313,0.30084822285866886,0.275130624068875,0.21276656262927485,0.18171804952506057,0.24070720804346074,0.2893187466864856,0.30141612475799645,0.2852179586086784,0.21352188654167398,0.06892853266395517,0.11385115192669906,0.18330565773670546,0.10764760962700076,0.08276269393583621,0.1968159055748147,0.20932200680279314,0.19171558919591822,0.24149203014591628,0.28908699644353597,0.30284608633086657,0.2905335250608498,0.23209001890882622,0.12460052290053826,0.14191050822327095,0.22286755937201963,0.22756943645765998,0.22132787781009058,0.2269202320212721,0.1558909809298771,0.049367278556577125,0.16128709663597665,0.1791543314855686,0.09836675609201366,0.16282118621568803,0.2615762348828795,0.299458049157526,0.3065323418943108,0.3071466377863447,0.30679223790767984,0.3017968714491456,0.2706111297954274,0.1725229937320236,0.02472296489806503],[0.13868001223200746,0.1861815143424967,0.18870784506959948,0.10366215339229817,0.15598053910359475,0.25742424567703354,0.29793965084750745,0.30131465064554747,0.2778152531608137,0.22175550273598138,0.19467789326377918,0.246672247533095,0.290877022518063,0.30187396190364996,0.28557064488235395,0.21438169237094143,0.07333587059960439,0.11609859232478932,0.18376583185446582,0.10756831092979202,0.08267947761074948,0.19911591646205842,0.21743609270634368,0.20418428209368072,0.24793281145370785,0.29070978499042155,0.3030883508404531,0.2907619894548147,0.23316968967864402,0.12833702821664753,0.14530281868323547,0.2265007987152188,0.23555076679467227,0.2306940481603556,0.2313175288457048,0.15574351471458736,0.04229587613399062,0.1603366163719514,0.18025430108374474,0.10281384962583653,0.16506146446595776,0.26211069479035254,0.299542341539384,0.3065393921600529,0.30714692290215856,0.30679221967374976,0.30179654400907385,0.2706087783416966,0.17251171898292192,0.024608519420298295],[0.12335200608831194,0.17982305886136787,0.19065554559434003,0.11594054611022013,0.16334032444704277,0.2592425266216037,0.29827626132900853,0.30178755126329404,0.2804914870579555,0.23044939981399165,0.2069052058014924,0.2525252997810925,0.2923988914888986,0.3022814387749836,0.28596167733036243,0.21564293275623253,0.07958597621156753,0.11943840309969789,0.18438987016488143,0.1071296928188676,0.0820218785177303,0.2012417833454705,0.22513273712398013,0.2157830626259196,0.25413011643406763,0.2923031310630579,0.303333959695904,0.29104761972279997,0.23453943599442045,0.1329958619073119,0.1494605751235538,0.2302262581726803,0.24304667795540774,0.23940825864325252,0.23580797760647307,0.15721634530732206,0.043347033050713434,0.16109242786672223,0.18269068815875789,0.11011482548643144,0.16884456317299637,0.2630286251986802,0.2996875795118468,0.30655154768694204,0.3071474178712244,0.30679228372300793,0.3017972957140687,0.27061417506977153,0.17253759425769016,0.024870397469159634],[0.1079169271755314,0.17419849223683415,0.19336135654806327,0.12871182299992132,0.17144549837636971,0.26132844693808177,0.29865873198325915,0.30225957271473713,0.2831172974064257,0.23874849757860733,0.2183428302269147,0.258185997860424,0.29387099811519435,0.30264989491409455,0.28641203081373223,0.2173657607888269,0.08757859714810551,0.12396226340492231,0.18523424147568135,0.1064030946642641,0.08087367339409958,0.20318938673071874,0.23235747482756627,0.22649893293494952,0.2600194561900621,0.29384594457823227,0.30358097162338,0.2913992337734712,0.23624104440886587,0.138641080272467,0.15444829052523687,0.23404768956558936,0.2500303996120224,0.24745010421550387,0.24034218945568214,0.16025651543543615,0.0520384605406217,0.16351787215693153,0.18635569241563435,0.11959391349943505,0.17398322171619265,0.2643042457894059,0.2998902078787754,0.306568517477361,0.3071481104026488,0.3067924152359704,0.30179892540851927,0.27062587532978116,0.17259368104057302,0.025428913894637063],[0.09275479186794477,0.1695286554882907,0.1967884094356795,0.1417275167495301,0.18011363340077233,0.2636532037537824,0.2990825899158146,0.30272400734330634,0.2856565500888891,0.24657818722218156,0.228955091908314,0.26358923038320825,0.2952809721598082,0.3029882921421685,0.2869378517719681,0.21958959825378335,0.09708466242543934,0.1296812181594403,0.1863580106620482,0.1055171131168741,0.07940010980844557,0.20497566039211673,0.23907715763023926,0.2363317694135985,0.26555246508382124,0.2953205761788311,0.30382757123748744,0.29182291802828003,0.2383002930004873,0.14526383606648427,0.16027411639305844,0.23796357049439407,0.25648916358923934,0.2548145168526555,0.24487607492599495,0.16473227737949905,0.06525590980008823,0.16748755983854607,0.19109613995509558,0.13058257237067383,0.18024672316855314,0.2659026606548356,0.3001453501976549,0.30658990162803407,0.307148983941668,0.30679260354853916,0.30180129038692394,0.27064285388399206,0.17267504195379693,0.026218281775268852],[0.07847560209420208,0.16602164428309785,0.20087268187538665,0.15477710084643978,0.1891592956111365,0.26617968077757287,0.29954198780715025,0.3031749272602508,0.2880793894176751,0.25388586202196345,0.23872440460276004,0.26868463767495926,0.29661797926490197,0.303303506470933,0.2875500101297677,0.22232975510838346,0.10781418730217195,0.1365292241899459,0.1878190118309779,0.10465827861448536,0.07785673307294737,0.20663705267078092,0.24527701853983008,0.24529300844817362,0.2706954534206789,0.2967129324999644,0.3040720556401349,0.29232161578653254,0.24072507676786925,0.1527900043733284,0.1668924830378788,0.24196590781326452,0.26242171943825243,0.26150910720304765,0.24937053748996404,0.1704529931312583,0.08058908043051766,0.1728073046145259,0.19672973326415344,0.14251081549102368,0.18738617791903175,0.2677816674401665,0.30044700790638057,0.30661520702026823,0.3071500185271002,0.3067928485832592,0.30180439488004884,0.27066514026140925,0.17278178744772885,0.027219770030109666],[0.06609914768776837,0.16385291517066516,0.20552904117564702,0.1676819767154087,0.19840407602513746,0.268864584235743,0.30002997900495526,0.3036072787848519,0.29036232822639985,0.2606380005282275,0.2476486251187638,0.2734356966480508,0.2978731106461058,0.30360061686208356,0.28825391731055483,0.22557626673021527,0.11946566539041995,0.14437803296614932,0.18966972011591135,0.10406578145265703,0.07659096138196056,0.20822672079291618,0.25095785072489835,0.2534043282593651,0.27542782891068107,0.29801244762073054,0.30431282471331256,0.292894942270281,0.24350505497028868,0.16109486248413143,0.17421265031637734,0.24603980488735533,0.26783613847574333,0.26755182448477033,0.2537910865244407,0.17719345188618432,0.09677462629618652,0.1792406468348442,0.2030611235916203,0.15492694306673876,0.1951550846322664,0.26989382112621324,0.30078829876919694,0.30664386623514583,0.3071511918047946,0.3067931680106624,0.30180848856030495,0.27069452555693363,0.17292244746709584,0.028486615193465636],[0.05726204036250182,0.16314477577067127,0.21065817170776058,0.18029119933188723,0.20768338216575252,0.2716607963169455,0.30053884215421367,0.3040169360635423,0.2924880898514157,0.2668174818994615,0.25573882380578616,0.27781853026761866,0.29903961670043455,0.30388318494094096,0.2890496258660735,0.2292949910235778,0.13175287438483174,0.15305749739840163,0.19195318775763504,0.10401714552696421,0.07602592820549044,0.20981056627143094,0.25613328094843446,0.26069629081336554,0.2797404618806831,0.29921193252557265,0.30454837672843205,0.2935392267604197,0.2466127636906839,0.17002049526321864,0.1821106997783951,0.2501637419361232,0.2727478722968427,0.2729688611927428,0.258107442283918,0.18471656715656815,0.11315946467223345,0.18653476945993677,0.20989544967560467,0.16748435575213838,0.20332341327664286,0.2721885887488126,0.3011617209958712,0.3066752586787083,0.3071524801181283,0.3067936040465555,0.3018141599903819,0.2707352320948689,0.17311713579997162,0.030153942107759398],[0.053990947713672244,0.16395009357838927,0.21615342780343866,0.19247855570559025,0.21685058320249367,0.27451974161159515,0.30106043082043527,0.3044007160327424,0.29444525052162257,0.27242111233870825,0.26301728760205917,0.2818205446030352,0.3001129977872275,0.3041535211933936,0.289932201375084,0.23343067640264892,0.14441609996744728,0.16237569914973143,0.1946994578345327,0.10480249172825623,0.07661423059892068,0.21146229798545768,0.26082713134906943,0.2672069400298692,0.2836340459411408,0.3003073265697064,0.3047773099316194,0.2942477639856341,0.250005965160428,0.17939233111828204,0.19044240949438151,0.2543104587933512,0.27717804185760064,0.27779276191168567,0.262293180676672,0.19279091165494922,0.12937145094499314,0.19444109886258815,0.21704832119581816,0.17992030776943282,0.211685686089007,0.27461444592262196,0.3015594285878041,0.30670873281957756,0.3071538595926956,0.3067942287765706,0.3018224097285279,0.2707944354489903,0.17339995138096012,0.03242663910432872]],\"type\":\"contour\"},{\"hoverinfo\":\"text\",\"legendgroup\":\"In-sample\",\"marker\":{\"color\":\"black\",\"opacity\":0.5,\"symbol\":1},\"mode\":\"markers\",\"name\":\"In-sample\",\"text\":[\"Arm 0_0\\u003cbr\\u003ermse: 1.99415 (SEM: None)\\u003cbr\\u003elr: 0.01\\u003cbr\\u003epatience: 10\\u003cbr\\u003edropout_rate: 0.2\",\"Arm 1_0\\u003cbr\\u003ermse: 2.19222 (SEM: None)\\u003cbr\\u003elr: 0.125509\\u003cbr\\u003epatience: 17\\u003cbr\\u003edropout_rate: 0.294307\",\"Arm 2_0\\u003cbr\\u003ermse: 2.26972 (SEM: None)\\u003cbr\\u003elr: 0.00283491\\u003cbr\\u003epatience: 6\\u003cbr\\u003edropout_rate: 0.0234379\",\"Arm 3_0\\u003cbr\\u003ermse: 4.54175 (SEM: None)\\u003cbr\\u003elr: 1.82066e-05\\u003cbr\\u003epatience: 16\\u003cbr\\u003edropout_rate: 0.469583\",\"Arm 4_0\\u003cbr\\u003ermse: 1.99673 (SEM: None)\\u003cbr\\u003elr: 0.0140103\\u003cbr\\u003epatience: 11\\u003cbr\\u003edropout_rate: 0.200625\",\"Arm 5_0\\u003cbr\\u003ermse: 2.0223 (SEM: None)\\u003cbr\\u003elr: 0.00460178\\u003cbr\\u003epatience: 14\\u003cbr\\u003edropout_rate: 0.119491\",\"Arm 6_0\\u003cbr\\u003ermse: 4.27373 (SEM: None)\\u003cbr\\u003elr: 5.07361e-05\\u003cbr\\u003epatience: 9\\u003cbr\\u003edropout_rate: 0.33677\",\"Arm 7_0\\u003cbr\\u003ermse: 2.15148 (SEM: None)\\u003cbr\\u003elr: 0.0170906\\u003cbr\\u003epatience: 20\\u003cbr\\u003edropout_rate: 0.01\",\"Arm 8_0\\u003cbr\\u003ermse: 2.08577 (SEM: None)\\u003cbr\\u003elr: 0.0121741\\u003cbr\\u003epatience: 20\\u003cbr\\u003edropout_rate: 0.5\",\"Arm 9_0\\u003cbr\\u003ermse: 2.26029 (SEM: None)\\u003cbr\\u003elr: 0.00777355\\u003cbr\\u003epatience: 15\\u003cbr\\u003edropout_rate: 0.293744\",\"Arm 10_0\\u003cbr\\u003ermse: 1.86847 (SEM: None)\\u003cbr\\u003elr: 0.105075\\u003cbr\\u003epatience: 10\\u003cbr\\u003edropout_rate: 0.147632\",\"Arm 11_0\\u003cbr\\u003ermse: 1.79464 (SEM: None)\\u003cbr\\u003elr: 1\\u003cbr\\u003epatience: 20\\u003cbr\\u003edropout_rate: 0.110907\",\"Arm 12_0\\u003cbr\\u003ermse: 1990.27 (SEM: None)\\u003cbr\\u003elr: 1\\u003cbr\\u003epatience: 5\\u003cbr\\u003edropout_rate: 0.0898784\",\"Arm 13_0\\u003cbr\\u003ermse: 1.97489 (SEM: None)\\u003cbr\\u003elr: 0.211331\\u003cbr\\u003epatience: 16\\u003cbr\\u003edropout_rate: 0.114327\",\"Arm 14_0\\u003cbr\\u003ermse: 2.28744 (SEM: None)\\u003cbr\\u003elr: 0.0482702\\u003cbr\\u003epatience: 11\\u003cbr\\u003edropout_rate: 0.0291684\",\"Arm 15_0\\u003cbr\\u003ermse: 1.93338 (SEM: None)\\u003cbr\\u003elr: 0.150005\\u003cbr\\u003epatience: 20\\u003cbr\\u003edropout_rate: 0.146033\",\"Arm 16_0\\u003cbr\\u003ermse: 1.85068 (SEM: None)\\u003cbr\\u003elr: 1\\u003cbr\\u003epatience: 20\\u003cbr\\u003edropout_rate: 0.0721975\",\"Arm 17_0\\u003cbr\\u003ermse: 2.8931 (SEM: None)\\u003cbr\\u003elr: 1\\u003cbr\\u003epatience: 11\\u003cbr\\u003edropout_rate: 0.190181\",\"Arm 18_0\\u003cbr\\u003ermse: 2.4767 (SEM: None)\\u003cbr\\u003elr: 0.0553646\\u003cbr\\u003epatience: 6\\u003cbr\\u003edropout_rate: 0.206761\",\"Arm 19_0\\u003cbr\\u003ermse: 2.03921 (SEM: None)\\u003cbr\\u003elr: 0.124382\\u003cbr\\u003epatience: 14\\u003cbr\\u003edropout_rate: 0.01\",\"Arm 20_0\\u003cbr\\u003ermse: 2.20859 (SEM: None)\\u003cbr\\u003elr: 0.0088271\\u003cbr\\u003epatience: 12\\u003cbr\\u003edropout_rate: 0.0143339\",\"Arm 21_0\\u003cbr\\u003ermse: 2.38058 (SEM: None)\\u003cbr\\u003elr: 0.0112081\\u003cbr\\u003epatience: 12\\u003cbr\\u003edropout_rate: 0.159053\",\"Arm 22_0\\u003cbr\\u003ermse: 1.87371 (SEM: None)\\u003cbr\\u003elr: 0.000719783\\u003cbr\\u003epatience: 11\\u003cbr\\u003edropout_rate: 0.01\",\"Arm 23_0\\u003cbr\\u003ermse: 2.00791 (SEM: None)\\u003cbr\\u003elr: 0.0155516\\u003cbr\\u003epatience: 8\\u003cbr\\u003edropout_rate: 0.234348\",\"Arm 24_0\\u003cbr\\u003ermse: 1.89954 (SEM: None)\\u003cbr\\u003elr: 0.425123\\u003cbr\\u003epatience: 20\\u003cbr\\u003edropout_rate: 0.0451729\"],\"x\":[10,17,6,16,11,14,9,20,20,15,10,20,5,16,11,20,20,11,6,14,12,12,11,8,20],\"xaxis\":\"x\",\"y\":[0.01,0.125509454814287,0.0028349137660267096,1.820659742472154e-05,0.014010277532224474,0.00460177638051502,5.073608382150976e-05,0.01709057632258156,0.012174093529520723,0.007773550570352637,0.10507513521711269,1.0,1.0,0.21133051603679814,0.04827019629491918,0.15000463499583722,1.0,1.0,0.05536456924906378,0.12438175272954682,0.008827096665125841,0.011208090608178135,0.0007197832224611624,0.015551634803797626,0.4251229240310686],\"yaxis\":\"y\",\"type\":\"scatter\"},{\"hoverinfo\":\"text\",\"legendgroup\":\"In-sample\",\"marker\":{\"color\":\"black\",\"opacity\":0.5,\"symbol\":1},\"mode\":\"markers\",\"name\":\"In-sample\",\"showlegend\":false,\"text\":[\"Arm 0_0\\u003cbr\\u003ermse: 1.99415 (SEM: None)\\u003cbr\\u003elr: 0.01\\u003cbr\\u003epatience: 10\\u003cbr\\u003edropout_rate: 0.2\",\"Arm 1_0\\u003cbr\\u003ermse: 2.19222 (SEM: None)\\u003cbr\\u003elr: 0.125509\\u003cbr\\u003epatience: 17\\u003cbr\\u003edropout_rate: 0.294307\",\"Arm 2_0\\u003cbr\\u003ermse: 2.26972 (SEM: None)\\u003cbr\\u003elr: 0.00283491\\u003cbr\\u003epatience: 6\\u003cbr\\u003edropout_rate: 0.0234379\",\"Arm 3_0\\u003cbr\\u003ermse: 4.54175 (SEM: None)\\u003cbr\\u003elr: 1.82066e-05\\u003cbr\\u003epatience: 16\\u003cbr\\u003edropout_rate: 0.469583\",\"Arm 4_0\\u003cbr\\u003ermse: 1.99673 (SEM: None)\\u003cbr\\u003elr: 0.0140103\\u003cbr\\u003epatience: 11\\u003cbr\\u003edropout_rate: 0.200625\",\"Arm 5_0\\u003cbr\\u003ermse: 2.0223 (SEM: None)\\u003cbr\\u003elr: 0.00460178\\u003cbr\\u003epatience: 14\\u003cbr\\u003edropout_rate: 0.119491\",\"Arm 6_0\\u003cbr\\u003ermse: 4.27373 (SEM: None)\\u003cbr\\u003elr: 5.07361e-05\\u003cbr\\u003epatience: 9\\u003cbr\\u003edropout_rate: 0.33677\",\"Arm 7_0\\u003cbr\\u003ermse: 2.15148 (SEM: None)\\u003cbr\\u003elr: 0.0170906\\u003cbr\\u003epatience: 20\\u003cbr\\u003edropout_rate: 0.01\",\"Arm 8_0\\u003cbr\\u003ermse: 2.08577 (SEM: None)\\u003cbr\\u003elr: 0.0121741\\u003cbr\\u003epatience: 20\\u003cbr\\u003edropout_rate: 0.5\",\"Arm 9_0\\u003cbr\\u003ermse: 2.26029 (SEM: None)\\u003cbr\\u003elr: 0.00777355\\u003cbr\\u003epatience: 15\\u003cbr\\u003edropout_rate: 0.293744\",\"Arm 10_0\\u003cbr\\u003ermse: 1.86847 (SEM: None)\\u003cbr\\u003elr: 0.105075\\u003cbr\\u003epatience: 10\\u003cbr\\u003edropout_rate: 0.147632\",\"Arm 11_0\\u003cbr\\u003ermse: 1.79464 (SEM: None)\\u003cbr\\u003elr: 1\\u003cbr\\u003epatience: 20\\u003cbr\\u003edropout_rate: 0.110907\",\"Arm 12_0\\u003cbr\\u003ermse: 1990.27 (SEM: None)\\u003cbr\\u003elr: 1\\u003cbr\\u003epatience: 5\\u003cbr\\u003edropout_rate: 0.0898784\",\"Arm 13_0\\u003cbr\\u003ermse: 1.97489 (SEM: None)\\u003cbr\\u003elr: 0.211331\\u003cbr\\u003epatience: 16\\u003cbr\\u003edropout_rate: 0.114327\",\"Arm 14_0\\u003cbr\\u003ermse: 2.28744 (SEM: None)\\u003cbr\\u003elr: 0.0482702\\u003cbr\\u003epatience: 11\\u003cbr\\u003edropout_rate: 0.0291684\",\"Arm 15_0\\u003cbr\\u003ermse: 1.93338 (SEM: None)\\u003cbr\\u003elr: 0.150005\\u003cbr\\u003epatience: 20\\u003cbr\\u003edropout_rate: 0.146033\",\"Arm 16_0\\u003cbr\\u003ermse: 1.85068 (SEM: None)\\u003cbr\\u003elr: 1\\u003cbr\\u003epatience: 20\\u003cbr\\u003edropout_rate: 0.0721975\",\"Arm 17_0\\u003cbr\\u003ermse: 2.8931 (SEM: None)\\u003cbr\\u003elr: 1\\u003cbr\\u003epatience: 11\\u003cbr\\u003edropout_rate: 0.190181\",\"Arm 18_0\\u003cbr\\u003ermse: 2.4767 (SEM: None)\\u003cbr\\u003elr: 0.0553646\\u003cbr\\u003epatience: 6\\u003cbr\\u003edropout_rate: 0.206761\",\"Arm 19_0\\u003cbr\\u003ermse: 2.03921 (SEM: None)\\u003cbr\\u003elr: 0.124382\\u003cbr\\u003epatience: 14\\u003cbr\\u003edropout_rate: 0.01\",\"Arm 20_0\\u003cbr\\u003ermse: 2.20859 (SEM: None)\\u003cbr\\u003elr: 0.0088271\\u003cbr\\u003epatience: 12\\u003cbr\\u003edropout_rate: 0.0143339\",\"Arm 21_0\\u003cbr\\u003ermse: 2.38058 (SEM: None)\\u003cbr\\u003elr: 0.0112081\\u003cbr\\u003epatience: 12\\u003cbr\\u003edropout_rate: 0.159053\",\"Arm 22_0\\u003cbr\\u003ermse: 1.87371 (SEM: None)\\u003cbr\\u003elr: 0.000719783\\u003cbr\\u003epatience: 11\\u003cbr\\u003edropout_rate: 0.01\",\"Arm 23_0\\u003cbr\\u003ermse: 2.00791 (SEM: None)\\u003cbr\\u003elr: 0.0155516\\u003cbr\\u003epatience: 8\\u003cbr\\u003edropout_rate: 0.234348\",\"Arm 24_0\\u003cbr\\u003ermse: 1.89954 (SEM: None)\\u003cbr\\u003elr: 0.425123\\u003cbr\\u003epatience: 20\\u003cbr\\u003edropout_rate: 0.0451729\"],\"x\":[10,17,6,16,11,14,9,20,20,15,10,20,5,16,11,20,20,11,6,14,12,12,11,8,20],\"xaxis\":\"x2\",\"y\":[0.01,0.125509454814287,0.0028349137660267096,1.820659742472154e-05,0.014010277532224474,0.00460177638051502,5.073608382150976e-05,0.01709057632258156,0.012174093529520723,0.007773550570352637,0.10507513521711269,1.0,1.0,0.21133051603679814,0.04827019629491918,0.15000463499583722,1.0,1.0,0.05536456924906378,0.12438175272954682,0.008827096665125841,0.011208090608178135,0.0007197832224611624,0.015551634803797626,0.4251229240310686],\"yaxis\":\"y2\",\"type\":\"scatter\"}],                        {\"annotations\":[{\"font\":{\"size\":14},\"showarrow\":false,\"text\":\"Mean\",\"x\":0.25,\"xanchor\":\"center\",\"xref\":\"paper\",\"y\":1,\"yanchor\":\"bottom\",\"yref\":\"paper\"},{\"font\":{\"size\":14},\"showarrow\":false,\"text\":\"Standard Error\",\"x\":0.8,\"xanchor\":\"center\",\"xref\":\"paper\",\"y\":1,\"yanchor\":\"bottom\",\"yref\":\"paper\"}],\"autosize\":false,\"height\":450,\"hovermode\":\"closest\",\"legend\":{\"orientation\":\"h\",\"x\":0,\"y\":-0.25},\"margin\":{\"b\":100,\"l\":35,\"pad\":0,\"r\":35,\"t\":35},\"template\":{\"data\":{\"barpolar\":[{\"marker\":{\"line\":{\"color\":\"#E5ECF6\",\"width\":0.5},\"pattern\":{\"fillmode\":\"overlay\",\"size\":10,\"solidity\":0.2}},\"type\":\"barpolar\"}],\"bar\":[{\"error_x\":{\"color\":\"#2a3f5f\"},\"error_y\":{\"color\":\"#2a3f5f\"},\"marker\":{\"line\":{\"color\":\"#E5ECF6\",\"width\":0.5},\"pattern\":{\"fillmode\":\"overlay\",\"size\":10,\"solidity\":0.2}},\"type\":\"bar\"}],\"carpet\":[{\"aaxis\":{\"endlinecolor\":\"#2a3f5f\",\"gridcolor\":\"white\",\"linecolor\":\"white\",\"minorgridcolor\":\"white\",\"startlinecolor\":\"#2a3f5f\"},\"baxis\":{\"endlinecolor\":\"#2a3f5f\",\"gridcolor\":\"white\",\"linecolor\":\"white\",\"minorgridcolor\":\"white\",\"startlinecolor\":\"#2a3f5f\"},\"type\":\"carpet\"}],\"choropleth\":[{\"colorbar\":{\"outlinewidth\":0,\"ticks\":\"\"},\"type\":\"choropleth\"}],\"contourcarpet\":[{\"colorbar\":{\"outlinewidth\":0,\"ticks\":\"\"},\"type\":\"contourcarpet\"}],\"contour\":[{\"colorbar\":{\"outlinewidth\":0,\"ticks\":\"\"},\"colorscale\":[[0.0,\"#0d0887\"],[0.1111111111111111,\"#46039f\"],[0.2222222222222222,\"#7201a8\"],[0.3333333333333333,\"#9c179e\"],[0.4444444444444444,\"#bd3786\"],[0.5555555555555556,\"#d8576b\"],[0.6666666666666666,\"#ed7953\"],[0.7777777777777778,\"#fb9f3a\"],[0.8888888888888888,\"#fdca26\"],[1.0,\"#f0f921\"]],\"type\":\"contour\"}],\"heatmapgl\":[{\"colorbar\":{\"outlinewidth\":0,\"ticks\":\"\"},\"colorscale\":[[0.0,\"#0d0887\"],[0.1111111111111111,\"#46039f\"],[0.2222222222222222,\"#7201a8\"],[0.3333333333333333,\"#9c179e\"],[0.4444444444444444,\"#bd3786\"],[0.5555555555555556,\"#d8576b\"],[0.6666666666666666,\"#ed7953\"],[0.7777777777777778,\"#fb9f3a\"],[0.8888888888888888,\"#fdca26\"],[1.0,\"#f0f921\"]],\"type\":\"heatmapgl\"}],\"heatmap\":[{\"colorbar\":{\"outlinewidth\":0,\"ticks\":\"\"},\"colorscale\":[[0.0,\"#0d0887\"],[0.1111111111111111,\"#46039f\"],[0.2222222222222222,\"#7201a8\"],[0.3333333333333333,\"#9c179e\"],[0.4444444444444444,\"#bd3786\"],[0.5555555555555556,\"#d8576b\"],[0.6666666666666666,\"#ed7953\"],[0.7777777777777778,\"#fb9f3a\"],[0.8888888888888888,\"#fdca26\"],[1.0,\"#f0f921\"]],\"type\":\"heatmap\"}],\"histogram2dcontour\":[{\"colorbar\":{\"outlinewidth\":0,\"ticks\":\"\"},\"colorscale\":[[0.0,\"#0d0887\"],[0.1111111111111111,\"#46039f\"],[0.2222222222222222,\"#7201a8\"],[0.3333333333333333,\"#9c179e\"],[0.4444444444444444,\"#bd3786\"],[0.5555555555555556,\"#d8576b\"],[0.6666666666666666,\"#ed7953\"],[0.7777777777777778,\"#fb9f3a\"],[0.8888888888888888,\"#fdca26\"],[1.0,\"#f0f921\"]],\"type\":\"histogram2dcontour\"}],\"histogram2d\":[{\"colorbar\":{\"outlinewidth\":0,\"ticks\":\"\"},\"colorscale\":[[0.0,\"#0d0887\"],[0.1111111111111111,\"#46039f\"],[0.2222222222222222,\"#7201a8\"],[0.3333333333333333,\"#9c179e\"],[0.4444444444444444,\"#bd3786\"],[0.5555555555555556,\"#d8576b\"],[0.6666666666666666,\"#ed7953\"],[0.7777777777777778,\"#fb9f3a\"],[0.8888888888888888,\"#fdca26\"],[1.0,\"#f0f921\"]],\"type\":\"histogram2d\"}],\"histogram\":[{\"marker\":{\"pattern\":{\"fillmode\":\"overlay\",\"size\":10,\"solidity\":0.2}},\"type\":\"histogram\"}],\"mesh3d\":[{\"colorbar\":{\"outlinewidth\":0,\"ticks\":\"\"},\"type\":\"mesh3d\"}],\"parcoords\":[{\"line\":{\"colorbar\":{\"outlinewidth\":0,\"ticks\":\"\"}},\"type\":\"parcoords\"}],\"pie\":[{\"automargin\":true,\"type\":\"pie\"}],\"scatter3d\":[{\"line\":{\"colorbar\":{\"outlinewidth\":0,\"ticks\":\"\"}},\"marker\":{\"colorbar\":{\"outlinewidth\":0,\"ticks\":\"\"}},\"type\":\"scatter3d\"}],\"scattercarpet\":[{\"marker\":{\"colorbar\":{\"outlinewidth\":0,\"ticks\":\"\"}},\"type\":\"scattercarpet\"}],\"scattergeo\":[{\"marker\":{\"colorbar\":{\"outlinewidth\":0,\"ticks\":\"\"}},\"type\":\"scattergeo\"}],\"scattergl\":[{\"marker\":{\"colorbar\":{\"outlinewidth\":0,\"ticks\":\"\"}},\"type\":\"scattergl\"}],\"scattermapbox\":[{\"marker\":{\"colorbar\":{\"outlinewidth\":0,\"ticks\":\"\"}},\"type\":\"scattermapbox\"}],\"scatterpolargl\":[{\"marker\":{\"colorbar\":{\"outlinewidth\":0,\"ticks\":\"\"}},\"type\":\"scatterpolargl\"}],\"scatterpolar\":[{\"marker\":{\"colorbar\":{\"outlinewidth\":0,\"ticks\":\"\"}},\"type\":\"scatterpolar\"}],\"scatter\":[{\"fillpattern\":{\"fillmode\":\"overlay\",\"size\":10,\"solidity\":0.2},\"type\":\"scatter\"}],\"scatterternary\":[{\"marker\":{\"colorbar\":{\"outlinewidth\":0,\"ticks\":\"\"}},\"type\":\"scatterternary\"}],\"surface\":[{\"colorbar\":{\"outlinewidth\":0,\"ticks\":\"\"},\"colorscale\":[[0.0,\"#0d0887\"],[0.1111111111111111,\"#46039f\"],[0.2222222222222222,\"#7201a8\"],[0.3333333333333333,\"#9c179e\"],[0.4444444444444444,\"#bd3786\"],[0.5555555555555556,\"#d8576b\"],[0.6666666666666666,\"#ed7953\"],[0.7777777777777778,\"#fb9f3a\"],[0.8888888888888888,\"#fdca26\"],[1.0,\"#f0f921\"]],\"type\":\"surface\"}],\"table\":[{\"cells\":{\"fill\":{\"color\":\"#EBF0F8\"},\"line\":{\"color\":\"white\"}},\"header\":{\"fill\":{\"color\":\"#C8D4E3\"},\"line\":{\"color\":\"white\"}},\"type\":\"table\"}]},\"layout\":{\"annotationdefaults\":{\"arrowcolor\":\"#2a3f5f\",\"arrowhead\":0,\"arrowwidth\":1},\"autotypenumbers\":\"strict\",\"coloraxis\":{\"colorbar\":{\"outlinewidth\":0,\"ticks\":\"\"}},\"colorscale\":{\"diverging\":[[0,\"#8e0152\"],[0.1,\"#c51b7d\"],[0.2,\"#de77ae\"],[0.3,\"#f1b6da\"],[0.4,\"#fde0ef\"],[0.5,\"#f7f7f7\"],[0.6,\"#e6f5d0\"],[0.7,\"#b8e186\"],[0.8,\"#7fbc41\"],[0.9,\"#4d9221\"],[1,\"#276419\"]],\"sequential\":[[0.0,\"#0d0887\"],[0.1111111111111111,\"#46039f\"],[0.2222222222222222,\"#7201a8\"],[0.3333333333333333,\"#9c179e\"],[0.4444444444444444,\"#bd3786\"],[0.5555555555555556,\"#d8576b\"],[0.6666666666666666,\"#ed7953\"],[0.7777777777777778,\"#fb9f3a\"],[0.8888888888888888,\"#fdca26\"],[1.0,\"#f0f921\"]],\"sequentialminus\":[[0.0,\"#0d0887\"],[0.1111111111111111,\"#46039f\"],[0.2222222222222222,\"#7201a8\"],[0.3333333333333333,\"#9c179e\"],[0.4444444444444444,\"#bd3786\"],[0.5555555555555556,\"#d8576b\"],[0.6666666666666666,\"#ed7953\"],[0.7777777777777778,\"#fb9f3a\"],[0.8888888888888888,\"#fdca26\"],[1.0,\"#f0f921\"]]},\"colorway\":[\"#636efa\",\"#EF553B\",\"#00cc96\",\"#ab63fa\",\"#FFA15A\",\"#19d3f3\",\"#FF6692\",\"#B6E880\",\"#FF97FF\",\"#FECB52\"],\"font\":{\"color\":\"#2a3f5f\"},\"geo\":{\"bgcolor\":\"white\",\"lakecolor\":\"white\",\"landcolor\":\"#E5ECF6\",\"showlakes\":true,\"showland\":true,\"subunitcolor\":\"white\"},\"hoverlabel\":{\"align\":\"left\"},\"hovermode\":\"closest\",\"mapbox\":{\"style\":\"light\"},\"paper_bgcolor\":\"white\",\"plot_bgcolor\":\"#E5ECF6\",\"polar\":{\"angularaxis\":{\"gridcolor\":\"white\",\"linecolor\":\"white\",\"ticks\":\"\"},\"bgcolor\":\"#E5ECF6\",\"radialaxis\":{\"gridcolor\":\"white\",\"linecolor\":\"white\",\"ticks\":\"\"}},\"scene\":{\"xaxis\":{\"backgroundcolor\":\"#E5ECF6\",\"gridcolor\":\"white\",\"gridwidth\":2,\"linecolor\":\"white\",\"showbackground\":true,\"ticks\":\"\",\"zerolinecolor\":\"white\"},\"yaxis\":{\"backgroundcolor\":\"#E5ECF6\",\"gridcolor\":\"white\",\"gridwidth\":2,\"linecolor\":\"white\",\"showbackground\":true,\"ticks\":\"\",\"zerolinecolor\":\"white\"},\"zaxis\":{\"backgroundcolor\":\"#E5ECF6\",\"gridcolor\":\"white\",\"gridwidth\":2,\"linecolor\":\"white\",\"showbackground\":true,\"ticks\":\"\",\"zerolinecolor\":\"white\"}},\"shapedefaults\":{\"line\":{\"color\":\"#2a3f5f\"}},\"ternary\":{\"aaxis\":{\"gridcolor\":\"white\",\"linecolor\":\"white\",\"ticks\":\"\"},\"baxis\":{\"gridcolor\":\"white\",\"linecolor\":\"white\",\"ticks\":\"\"},\"bgcolor\":\"#E5ECF6\",\"caxis\":{\"gridcolor\":\"white\",\"linecolor\":\"white\",\"ticks\":\"\"}},\"title\":{\"x\":0.05},\"xaxis\":{\"automargin\":true,\"gridcolor\":\"white\",\"linecolor\":\"white\",\"ticks\":\"\",\"title\":{\"standoff\":15},\"zerolinecolor\":\"white\",\"zerolinewidth\":2},\"yaxis\":{\"automargin\":true,\"gridcolor\":\"white\",\"linecolor\":\"white\",\"ticks\":\"\",\"title\":{\"standoff\":15},\"zerolinecolor\":\"white\",\"zerolinewidth\":2}}},\"title\":{\"text\":\"rmse\"},\"width\":950,\"xaxis\":{\"anchor\":\"y\",\"autorange\":false,\"domain\":[0.05,0.45],\"exponentformat\":\"e\",\"range\":[5.0,20.0],\"tickfont\":{\"size\":11},\"tickmode\":\"auto\",\"title\":{\"text\":\"patience\"},\"type\":\"linear\"},\"yaxis\":{\"anchor\":\"x\",\"autorange\":false,\"domain\":[0,1],\"exponentformat\":\"e\",\"range\":[-5.0,0.0],\"tickfont\":{\"size\":11},\"tickmode\":\"auto\",\"title\":{\"text\":\"lr\"},\"type\":\"log\"},\"xaxis2\":{\"anchor\":\"y2\",\"autorange\":false,\"domain\":[0.6,1],\"exponentformat\":\"e\",\"range\":[5.0,20.0],\"tickfont\":{\"size\":11},\"tickmode\":\"auto\",\"title\":{\"text\":\"patience\"},\"type\":\"linear\"},\"yaxis2\":{\"anchor\":\"x2\",\"autorange\":false,\"domain\":[0,1],\"exponentformat\":\"e\",\"range\":[-5.0,0.0],\"tickfont\":{\"size\":11},\"tickmode\":\"auto\",\"type\":\"log\"}},                        {\"responsive\": true}                    ).then(function(){\n",
       "                            \n",
       "var gd = document.getElementById('eb1806cf-2991-46b5-b5be-ca3a8701f14d');\n",
       "var x = new MutationObserver(function (mutations, observer) {{\n",
       "        var display = window.getComputedStyle(gd).display;\n",
       "        if (!display || display === 'none') {{\n",
       "            console.log([gd, 'removed!']);\n",
       "            Plotly.purge(gd);\n",
       "            observer.disconnect();\n",
       "        }}\n",
       "}});\n",
       "\n",
       "// Listen for the removal of the full notebook cells\n",
       "var notebookContainer = gd.closest('#notebook-container');\n",
       "if (notebookContainer) {{\n",
       "    x.observe(notebookContainer, {childList: true});\n",
       "}}\n",
       "\n",
       "// Listen for the clearing of the current output cell\n",
       "var outputEl = gd.closest('.output');\n",
       "if (outputEl) {{\n",
       "    x.observe(outputEl, {childList: true});\n",
       "}}\n",
       "\n",
       "                        })                };                });            </script>        </div>"
      ]
     },
     "metadata": {},
     "output_type": "display_data"
    }
   ],
   "source": [
    "render(ax_client.get_contour_plot(param_x=\"patience\", param_y=\"lr\", metric_name=\"rmse\"))"
   ]
  },
  {
   "cell_type": "code",
   "execution_count": 80,
   "metadata": {},
   "outputs": [
    {
     "data": {
      "application/vnd.plotly.v1+json": {
       "config": {
        "linkText": "Export to plot.ly",
        "plotlyServerURL": "https://plot.ly",
        "showLink": false
       },
       "data": [
        {
         "hoverinfo": "none",
         "legendgroup": "",
         "line": {
          "width": 0
         },
         "mode": "lines",
         "showlegend": false,
         "type": "scatter",
         "x": [
          1,
          2,
          3,
          4,
          5,
          6,
          7,
          8,
          9,
          10,
          11,
          12,
          13,
          14,
          15,
          16,
          17,
          18,
          19,
          20,
          21,
          22,
          23,
          24,
          25,
          26
         ],
         "y": [
          1.9941480159759521,
          1.9941480159759521,
          1.9941480159759521,
          1.9941480159759521,
          1.9941480159759521,
          1.9941480159759521,
          1.9941480159759521,
          1.9941480159759521,
          1.9941480159759521,
          1.9941480159759521,
          1.8684684038162231,
          1.7946385145187378,
          1.7946385145187378,
          1.7946385145187378,
          1.7946385145187378,
          1.7946385145187378,
          1.7946385145187378,
          1.7946385145187378,
          1.7946385145187378,
          1.7946385145187378,
          1.7946385145187378,
          1.7946385145187378,
          1.7946385145187378,
          1.7946385145187378,
          1.7946385145187378,
          1.7946385145187378
         ]
        },
        {
         "fill": "tonexty",
         "fillcolor": "rgba(128,177,211,0.3)",
         "legendgroup": "objective value",
         "line": {
          "color": "rgba(128,177,211,1)"
         },
         "mode": "lines",
         "name": "objective value",
         "text": [
          "<br><em>Parameterization:</em><br>lr: 0.01<br>patience: 10<br>dropout_rate: 0.2",
          "<br><em>Parameterization:</em><br>lr: 0.125509454814287<br>patience: 17<br>dropout_rate: 0.29430653631687165",
          "<br><em>Parameterization:</em><br>lr: 0.0028349137660267096<br>patience: 6<br>dropout_rate: 0.023437865516170858",
          "<br><em>Parameterization:</em><br>lr: 1.820659742472154e-05<br>patience: 16<br>dropout_rate: 0.4695834680087864",
          "<br><em>Parameterization:</em><br>lr: 0.014010277532224474<br>patience: 11<br>dropout_rate: 0.20062506426125765",
          "<br><em>Parameterization:</em><br>lr: 0.00460177638051502<br>patience: 14<br>dropout_rate: 0.11949109390377997",
          "<br><em>Parameterization:</em><br>lr: 5.073608382150976e-05<br>patience: 9<br>dropout_rate: 0.3367699890397489",
          "<br><em>Parameterization:</em><br>lr: 0.01709057632258156<br>patience: 20<br>dropout_rate: 0.01",
          "<br><em>Parameterization:</em><br>lr: 0.012174093529520723<br>patience: 20<br>dropout_rate: 0.5",
          "<br><em>Parameterization:</em><br>lr: 0.007773550570352637<br>patience: 15<br>dropout_rate: 0.29374371252904624",
          "<br><em>Parameterization:</em><br>lr: 0.10507513521711269<br>patience: 10<br>dropout_rate: 0.1476320100345095",
          "<br><em>Parameterization:</em><br>lr: 1.0<br>patience: 20<br>dropout_rate: 0.11090707972760985",
          "<br><em>Parameterization:</em><br>lr: 1.0<br>patience: 5<br>dropout_rate: 0.08987839552230444",
          "<br><em>Parameterization:</em><br>lr: 0.21133051603679814<br>patience: 16<br>dropout_rate: 0.11432710687815022",
          "<br><em>Parameterization:</em><br>lr: 0.04827019629491918<br>patience: 11<br>dropout_rate: 0.029168444980038087",
          "<br><em>Parameterization:</em><br>lr: 0.15000463499583722<br>patience: 20<br>dropout_rate: 0.14603275317808387",
          "<br><em>Parameterization:</em><br>lr: 1.0<br>patience: 20<br>dropout_rate: 0.07219747003552322",
          "<br><em>Parameterization:</em><br>lr: 1.0<br>patience: 11<br>dropout_rate: 0.19018063423182255",
          "<br><em>Parameterization:</em><br>lr: 0.05536456924906378<br>patience: 6<br>dropout_rate: 0.20676079225466243",
          "<br><em>Parameterization:</em><br>lr: 0.12438175272954682<br>patience: 14<br>dropout_rate: 0.01",
          "<br><em>Parameterization:</em><br>lr: 0.008827096665125841<br>patience: 12<br>dropout_rate: 0.014333914862230833",
          "<br><em>Parameterization:</em><br>lr: 0.011208090608178135<br>patience: 12<br>dropout_rate: 0.15905293155205422",
          "<br><em>Parameterization:</em><br>lr: 0.0007197832224611624<br>patience: 11<br>dropout_rate: 0.01",
          "<br><em>Parameterization:</em><br>lr: 0.015551634803797626<br>patience: 8<br>dropout_rate: 0.23434807802171176",
          "<br><em>Parameterization:</em><br>lr: 0.4251229240310686<br>patience: 20<br>dropout_rate: 0.04517291727824863",
          "<br><em>Parameterization:</em><br>lr: 1.0<br>patience: 20<br>dropout_rate: 0.3997368370808694"
         ],
         "type": "scatter",
         "x": [
          1,
          2,
          3,
          4,
          5,
          6,
          7,
          8,
          9,
          10,
          11,
          12,
          13,
          14,
          15,
          16,
          17,
          18,
          19,
          20,
          21,
          22,
          23,
          24,
          25,
          26
         ],
         "y": [
          1.9941480159759521,
          1.9941480159759521,
          1.9941480159759521,
          1.9941480159759521,
          1.9941480159759521,
          1.9941480159759521,
          1.9941480159759521,
          1.9941480159759521,
          1.9941480159759521,
          1.9941480159759521,
          1.8684684038162231,
          1.7946385145187378,
          1.7946385145187378,
          1.7946385145187378,
          1.7946385145187378,
          1.7946385145187378,
          1.7946385145187378,
          1.7946385145187378,
          1.7946385145187378,
          1.7946385145187378,
          1.7946385145187378,
          1.7946385145187378,
          1.7946385145187378,
          1.7946385145187378,
          1.7946385145187378,
          1.7946385145187378
         ]
        },
        {
         "fill": "tonexty",
         "fillcolor": "rgba(128,177,211,0.3)",
         "hoverinfo": "none",
         "legendgroup": "",
         "line": {
          "width": 0
         },
         "mode": "lines",
         "showlegend": false,
         "type": "scatter",
         "x": [
          1,
          2,
          3,
          4,
          5,
          6,
          7,
          8,
          9,
          10,
          11,
          12,
          13,
          14,
          15,
          16,
          17,
          18,
          19,
          20,
          21,
          22,
          23,
          24,
          25,
          26
         ],
         "y": [
          1.9941480159759521,
          1.9941480159759521,
          1.9941480159759521,
          1.9941480159759521,
          1.9941480159759521,
          1.9941480159759521,
          1.9941480159759521,
          1.9941480159759521,
          1.9941480159759521,
          1.9941480159759521,
          1.8684684038162231,
          1.7946385145187378,
          1.7946385145187378,
          1.7946385145187378,
          1.7946385145187378,
          1.7946385145187378,
          1.7946385145187378,
          1.7946385145187378,
          1.7946385145187378,
          1.7946385145187378,
          1.7946385145187378,
          1.7946385145187378,
          1.7946385145187378,
          1.7946385145187378,
          1.7946385145187378,
          1.7946385145187378
         ]
        }
       ],
       "layout": {
        "showlegend": true,
        "template": {
         "data": {
          "bar": [
           {
            "error_x": {
             "color": "#2a3f5f"
            },
            "error_y": {
             "color": "#2a3f5f"
            },
            "marker": {
             "line": {
              "color": "#E5ECF6",
              "width": 0.5
             },
             "pattern": {
              "fillmode": "overlay",
              "size": 10,
              "solidity": 0.2
             }
            },
            "type": "bar"
           }
          ],
          "barpolar": [
           {
            "marker": {
             "line": {
              "color": "#E5ECF6",
              "width": 0.5
             },
             "pattern": {
              "fillmode": "overlay",
              "size": 10,
              "solidity": 0.2
             }
            },
            "type": "barpolar"
           }
          ],
          "carpet": [
           {
            "aaxis": {
             "endlinecolor": "#2a3f5f",
             "gridcolor": "white",
             "linecolor": "white",
             "minorgridcolor": "white",
             "startlinecolor": "#2a3f5f"
            },
            "baxis": {
             "endlinecolor": "#2a3f5f",
             "gridcolor": "white",
             "linecolor": "white",
             "minorgridcolor": "white",
             "startlinecolor": "#2a3f5f"
            },
            "type": "carpet"
           }
          ],
          "choropleth": [
           {
            "colorbar": {
             "outlinewidth": 0,
             "ticks": ""
            },
            "type": "choropleth"
           }
          ],
          "contour": [
           {
            "colorbar": {
             "outlinewidth": 0,
             "ticks": ""
            },
            "colorscale": [
             [
              0,
              "#0d0887"
             ],
             [
              0.1111111111111111,
              "#46039f"
             ],
             [
              0.2222222222222222,
              "#7201a8"
             ],
             [
              0.3333333333333333,
              "#9c179e"
             ],
             [
              0.4444444444444444,
              "#bd3786"
             ],
             [
              0.5555555555555556,
              "#d8576b"
             ],
             [
              0.6666666666666666,
              "#ed7953"
             ],
             [
              0.7777777777777778,
              "#fb9f3a"
             ],
             [
              0.8888888888888888,
              "#fdca26"
             ],
             [
              1,
              "#f0f921"
             ]
            ],
            "type": "contour"
           }
          ],
          "contourcarpet": [
           {
            "colorbar": {
             "outlinewidth": 0,
             "ticks": ""
            },
            "type": "contourcarpet"
           }
          ],
          "heatmap": [
           {
            "colorbar": {
             "outlinewidth": 0,
             "ticks": ""
            },
            "colorscale": [
             [
              0,
              "#0d0887"
             ],
             [
              0.1111111111111111,
              "#46039f"
             ],
             [
              0.2222222222222222,
              "#7201a8"
             ],
             [
              0.3333333333333333,
              "#9c179e"
             ],
             [
              0.4444444444444444,
              "#bd3786"
             ],
             [
              0.5555555555555556,
              "#d8576b"
             ],
             [
              0.6666666666666666,
              "#ed7953"
             ],
             [
              0.7777777777777778,
              "#fb9f3a"
             ],
             [
              0.8888888888888888,
              "#fdca26"
             ],
             [
              1,
              "#f0f921"
             ]
            ],
            "type": "heatmap"
           }
          ],
          "heatmapgl": [
           {
            "colorbar": {
             "outlinewidth": 0,
             "ticks": ""
            },
            "colorscale": [
             [
              0,
              "#0d0887"
             ],
             [
              0.1111111111111111,
              "#46039f"
             ],
             [
              0.2222222222222222,
              "#7201a8"
             ],
             [
              0.3333333333333333,
              "#9c179e"
             ],
             [
              0.4444444444444444,
              "#bd3786"
             ],
             [
              0.5555555555555556,
              "#d8576b"
             ],
             [
              0.6666666666666666,
              "#ed7953"
             ],
             [
              0.7777777777777778,
              "#fb9f3a"
             ],
             [
              0.8888888888888888,
              "#fdca26"
             ],
             [
              1,
              "#f0f921"
             ]
            ],
            "type": "heatmapgl"
           }
          ],
          "histogram": [
           {
            "marker": {
             "pattern": {
              "fillmode": "overlay",
              "size": 10,
              "solidity": 0.2
             }
            },
            "type": "histogram"
           }
          ],
          "histogram2d": [
           {
            "colorbar": {
             "outlinewidth": 0,
             "ticks": ""
            },
            "colorscale": [
             [
              0,
              "#0d0887"
             ],
             [
              0.1111111111111111,
              "#46039f"
             ],
             [
              0.2222222222222222,
              "#7201a8"
             ],
             [
              0.3333333333333333,
              "#9c179e"
             ],
             [
              0.4444444444444444,
              "#bd3786"
             ],
             [
              0.5555555555555556,
              "#d8576b"
             ],
             [
              0.6666666666666666,
              "#ed7953"
             ],
             [
              0.7777777777777778,
              "#fb9f3a"
             ],
             [
              0.8888888888888888,
              "#fdca26"
             ],
             [
              1,
              "#f0f921"
             ]
            ],
            "type": "histogram2d"
           }
          ],
          "histogram2dcontour": [
           {
            "colorbar": {
             "outlinewidth": 0,
             "ticks": ""
            },
            "colorscale": [
             [
              0,
              "#0d0887"
             ],
             [
              0.1111111111111111,
              "#46039f"
             ],
             [
              0.2222222222222222,
              "#7201a8"
             ],
             [
              0.3333333333333333,
              "#9c179e"
             ],
             [
              0.4444444444444444,
              "#bd3786"
             ],
             [
              0.5555555555555556,
              "#d8576b"
             ],
             [
              0.6666666666666666,
              "#ed7953"
             ],
             [
              0.7777777777777778,
              "#fb9f3a"
             ],
             [
              0.8888888888888888,
              "#fdca26"
             ],
             [
              1,
              "#f0f921"
             ]
            ],
            "type": "histogram2dcontour"
           }
          ],
          "mesh3d": [
           {
            "colorbar": {
             "outlinewidth": 0,
             "ticks": ""
            },
            "type": "mesh3d"
           }
          ],
          "parcoords": [
           {
            "line": {
             "colorbar": {
              "outlinewidth": 0,
              "ticks": ""
             }
            },
            "type": "parcoords"
           }
          ],
          "pie": [
           {
            "automargin": true,
            "type": "pie"
           }
          ],
          "scatter": [
           {
            "fillpattern": {
             "fillmode": "overlay",
             "size": 10,
             "solidity": 0.2
            },
            "type": "scatter"
           }
          ],
          "scatter3d": [
           {
            "line": {
             "colorbar": {
              "outlinewidth": 0,
              "ticks": ""
             }
            },
            "marker": {
             "colorbar": {
              "outlinewidth": 0,
              "ticks": ""
             }
            },
            "type": "scatter3d"
           }
          ],
          "scattercarpet": [
           {
            "marker": {
             "colorbar": {
              "outlinewidth": 0,
              "ticks": ""
             }
            },
            "type": "scattercarpet"
           }
          ],
          "scattergeo": [
           {
            "marker": {
             "colorbar": {
              "outlinewidth": 0,
              "ticks": ""
             }
            },
            "type": "scattergeo"
           }
          ],
          "scattergl": [
           {
            "marker": {
             "colorbar": {
              "outlinewidth": 0,
              "ticks": ""
             }
            },
            "type": "scattergl"
           }
          ],
          "scattermapbox": [
           {
            "marker": {
             "colorbar": {
              "outlinewidth": 0,
              "ticks": ""
             }
            },
            "type": "scattermapbox"
           }
          ],
          "scatterpolar": [
           {
            "marker": {
             "colorbar": {
              "outlinewidth": 0,
              "ticks": ""
             }
            },
            "type": "scatterpolar"
           }
          ],
          "scatterpolargl": [
           {
            "marker": {
             "colorbar": {
              "outlinewidth": 0,
              "ticks": ""
             }
            },
            "type": "scatterpolargl"
           }
          ],
          "scatterternary": [
           {
            "marker": {
             "colorbar": {
              "outlinewidth": 0,
              "ticks": ""
             }
            },
            "type": "scatterternary"
           }
          ],
          "surface": [
           {
            "colorbar": {
             "outlinewidth": 0,
             "ticks": ""
            },
            "colorscale": [
             [
              0,
              "#0d0887"
             ],
             [
              0.1111111111111111,
              "#46039f"
             ],
             [
              0.2222222222222222,
              "#7201a8"
             ],
             [
              0.3333333333333333,
              "#9c179e"
             ],
             [
              0.4444444444444444,
              "#bd3786"
             ],
             [
              0.5555555555555556,
              "#d8576b"
             ],
             [
              0.6666666666666666,
              "#ed7953"
             ],
             [
              0.7777777777777778,
              "#fb9f3a"
             ],
             [
              0.8888888888888888,
              "#fdca26"
             ],
             [
              1,
              "#f0f921"
             ]
            ],
            "type": "surface"
           }
          ],
          "table": [
           {
            "cells": {
             "fill": {
              "color": "#EBF0F8"
             },
             "line": {
              "color": "white"
             }
            },
            "header": {
             "fill": {
              "color": "#C8D4E3"
             },
             "line": {
              "color": "white"
             }
            },
            "type": "table"
           }
          ]
         },
         "layout": {
          "annotationdefaults": {
           "arrowcolor": "#2a3f5f",
           "arrowhead": 0,
           "arrowwidth": 1
          },
          "autotypenumbers": "strict",
          "coloraxis": {
           "colorbar": {
            "outlinewidth": 0,
            "ticks": ""
           }
          },
          "colorscale": {
           "diverging": [
            [
             0,
             "#8e0152"
            ],
            [
             0.1,
             "#c51b7d"
            ],
            [
             0.2,
             "#de77ae"
            ],
            [
             0.3,
             "#f1b6da"
            ],
            [
             0.4,
             "#fde0ef"
            ],
            [
             0.5,
             "#f7f7f7"
            ],
            [
             0.6,
             "#e6f5d0"
            ],
            [
             0.7,
             "#b8e186"
            ],
            [
             0.8,
             "#7fbc41"
            ],
            [
             0.9,
             "#4d9221"
            ],
            [
             1,
             "#276419"
            ]
           ],
           "sequential": [
            [
             0,
             "#0d0887"
            ],
            [
             0.1111111111111111,
             "#46039f"
            ],
            [
             0.2222222222222222,
             "#7201a8"
            ],
            [
             0.3333333333333333,
             "#9c179e"
            ],
            [
             0.4444444444444444,
             "#bd3786"
            ],
            [
             0.5555555555555556,
             "#d8576b"
            ],
            [
             0.6666666666666666,
             "#ed7953"
            ],
            [
             0.7777777777777778,
             "#fb9f3a"
            ],
            [
             0.8888888888888888,
             "#fdca26"
            ],
            [
             1,
             "#f0f921"
            ]
           ],
           "sequentialminus": [
            [
             0,
             "#0d0887"
            ],
            [
             0.1111111111111111,
             "#46039f"
            ],
            [
             0.2222222222222222,
             "#7201a8"
            ],
            [
             0.3333333333333333,
             "#9c179e"
            ],
            [
             0.4444444444444444,
             "#bd3786"
            ],
            [
             0.5555555555555556,
             "#d8576b"
            ],
            [
             0.6666666666666666,
             "#ed7953"
            ],
            [
             0.7777777777777778,
             "#fb9f3a"
            ],
            [
             0.8888888888888888,
             "#fdca26"
            ],
            [
             1,
             "#f0f921"
            ]
           ]
          },
          "colorway": [
           "#636efa",
           "#EF553B",
           "#00cc96",
           "#ab63fa",
           "#FFA15A",
           "#19d3f3",
           "#FF6692",
           "#B6E880",
           "#FF97FF",
           "#FECB52"
          ],
          "font": {
           "color": "#2a3f5f"
          },
          "geo": {
           "bgcolor": "white",
           "lakecolor": "white",
           "landcolor": "#E5ECF6",
           "showlakes": true,
           "showland": true,
           "subunitcolor": "white"
          },
          "hoverlabel": {
           "align": "left"
          },
          "hovermode": "closest",
          "mapbox": {
           "style": "light"
          },
          "paper_bgcolor": "white",
          "plot_bgcolor": "#E5ECF6",
          "polar": {
           "angularaxis": {
            "gridcolor": "white",
            "linecolor": "white",
            "ticks": ""
           },
           "bgcolor": "#E5ECF6",
           "radialaxis": {
            "gridcolor": "white",
            "linecolor": "white",
            "ticks": ""
           }
          },
          "scene": {
           "xaxis": {
            "backgroundcolor": "#E5ECF6",
            "gridcolor": "white",
            "gridwidth": 2,
            "linecolor": "white",
            "showbackground": true,
            "ticks": "",
            "zerolinecolor": "white"
           },
           "yaxis": {
            "backgroundcolor": "#E5ECF6",
            "gridcolor": "white",
            "gridwidth": 2,
            "linecolor": "white",
            "showbackground": true,
            "ticks": "",
            "zerolinecolor": "white"
           },
           "zaxis": {
            "backgroundcolor": "#E5ECF6",
            "gridcolor": "white",
            "gridwidth": 2,
            "linecolor": "white",
            "showbackground": true,
            "ticks": "",
            "zerolinecolor": "white"
           }
          },
          "shapedefaults": {
           "line": {
            "color": "#2a3f5f"
           }
          },
          "ternary": {
           "aaxis": {
            "gridcolor": "white",
            "linecolor": "white",
            "ticks": ""
           },
           "baxis": {
            "gridcolor": "white",
            "linecolor": "white",
            "ticks": ""
           },
           "bgcolor": "#E5ECF6",
           "caxis": {
            "gridcolor": "white",
            "linecolor": "white",
            "ticks": ""
           }
          },
          "title": {
           "x": 0.05
          },
          "xaxis": {
           "automargin": true,
           "gridcolor": "white",
           "linecolor": "white",
           "ticks": "",
           "title": {
            "standoff": 15
           },
           "zerolinecolor": "white",
           "zerolinewidth": 2
          },
          "yaxis": {
           "automargin": true,
           "gridcolor": "white",
           "linecolor": "white",
           "ticks": "",
           "title": {
            "standoff": 15
           },
           "zerolinecolor": "white",
           "zerolinewidth": 2
          }
         }
        },
        "title": {
         "text": "Best objective found vs. # of iterations"
        },
        "xaxis": {
         "title": {
          "text": "Iteration"
         }
        },
        "yaxis": {
         "title": {
          "text": "Rmse"
         }
        }
       }
      },
      "text/html": [
       "<div>                            <div id=\"401d0753-20a5-4326-b748-d7cf9795a41d\" class=\"plotly-graph-div\" style=\"height:525px; width:100%;\"></div>            <script type=\"text/javascript\">                require([\"plotly\"], function(Plotly) {                    window.PLOTLYENV=window.PLOTLYENV || {};                                    if (document.getElementById(\"401d0753-20a5-4326-b748-d7cf9795a41d\")) {                    Plotly.newPlot(                        \"401d0753-20a5-4326-b748-d7cf9795a41d\",                        [{\"hoverinfo\":\"none\",\"legendgroup\":\"\",\"line\":{\"width\":0},\"mode\":\"lines\",\"showlegend\":false,\"x\":[1,2,3,4,5,6,7,8,9,10,11,12,13,14,15,16,17,18,19,20,21,22,23,24,25,26],\"y\":[1.9941480159759521,1.9941480159759521,1.9941480159759521,1.9941480159759521,1.9941480159759521,1.9941480159759521,1.9941480159759521,1.9941480159759521,1.9941480159759521,1.9941480159759521,1.8684684038162231,1.7946385145187378,1.7946385145187378,1.7946385145187378,1.7946385145187378,1.7946385145187378,1.7946385145187378,1.7946385145187378,1.7946385145187378,1.7946385145187378,1.7946385145187378,1.7946385145187378,1.7946385145187378,1.7946385145187378,1.7946385145187378,1.7946385145187378],\"type\":\"scatter\"},{\"fill\":\"tonexty\",\"fillcolor\":\"rgba(128,177,211,0.3)\",\"legendgroup\":\"objective value\",\"line\":{\"color\":\"rgba(128,177,211,1)\"},\"mode\":\"lines\",\"name\":\"objective value\",\"text\":[\"\\u003cbr\\u003e\\u003cem\\u003eParameterization:\\u003c\\u002fem\\u003e\\u003cbr\\u003elr: 0.01\\u003cbr\\u003epatience: 10\\u003cbr\\u003edropout_rate: 0.2\",\"\\u003cbr\\u003e\\u003cem\\u003eParameterization:\\u003c\\u002fem\\u003e\\u003cbr\\u003elr: 0.125509454814287\\u003cbr\\u003epatience: 17\\u003cbr\\u003edropout_rate: 0.29430653631687165\",\"\\u003cbr\\u003e\\u003cem\\u003eParameterization:\\u003c\\u002fem\\u003e\\u003cbr\\u003elr: 0.0028349137660267096\\u003cbr\\u003epatience: 6\\u003cbr\\u003edropout_rate: 0.023437865516170858\",\"\\u003cbr\\u003e\\u003cem\\u003eParameterization:\\u003c\\u002fem\\u003e\\u003cbr\\u003elr: 1.820659742472154e-05\\u003cbr\\u003epatience: 16\\u003cbr\\u003edropout_rate: 0.4695834680087864\",\"\\u003cbr\\u003e\\u003cem\\u003eParameterization:\\u003c\\u002fem\\u003e\\u003cbr\\u003elr: 0.014010277532224474\\u003cbr\\u003epatience: 11\\u003cbr\\u003edropout_rate: 0.20062506426125765\",\"\\u003cbr\\u003e\\u003cem\\u003eParameterization:\\u003c\\u002fem\\u003e\\u003cbr\\u003elr: 0.00460177638051502\\u003cbr\\u003epatience: 14\\u003cbr\\u003edropout_rate: 0.11949109390377997\",\"\\u003cbr\\u003e\\u003cem\\u003eParameterization:\\u003c\\u002fem\\u003e\\u003cbr\\u003elr: 5.073608382150976e-05\\u003cbr\\u003epatience: 9\\u003cbr\\u003edropout_rate: 0.3367699890397489\",\"\\u003cbr\\u003e\\u003cem\\u003eParameterization:\\u003c\\u002fem\\u003e\\u003cbr\\u003elr: 0.01709057632258156\\u003cbr\\u003epatience: 20\\u003cbr\\u003edropout_rate: 0.01\",\"\\u003cbr\\u003e\\u003cem\\u003eParameterization:\\u003c\\u002fem\\u003e\\u003cbr\\u003elr: 0.012174093529520723\\u003cbr\\u003epatience: 20\\u003cbr\\u003edropout_rate: 0.5\",\"\\u003cbr\\u003e\\u003cem\\u003eParameterization:\\u003c\\u002fem\\u003e\\u003cbr\\u003elr: 0.007773550570352637\\u003cbr\\u003epatience: 15\\u003cbr\\u003edropout_rate: 0.29374371252904624\",\"\\u003cbr\\u003e\\u003cem\\u003eParameterization:\\u003c\\u002fem\\u003e\\u003cbr\\u003elr: 0.10507513521711269\\u003cbr\\u003epatience: 10\\u003cbr\\u003edropout_rate: 0.1476320100345095\",\"\\u003cbr\\u003e\\u003cem\\u003eParameterization:\\u003c\\u002fem\\u003e\\u003cbr\\u003elr: 1.0\\u003cbr\\u003epatience: 20\\u003cbr\\u003edropout_rate: 0.11090707972760985\",\"\\u003cbr\\u003e\\u003cem\\u003eParameterization:\\u003c\\u002fem\\u003e\\u003cbr\\u003elr: 1.0\\u003cbr\\u003epatience: 5\\u003cbr\\u003edropout_rate: 0.08987839552230444\",\"\\u003cbr\\u003e\\u003cem\\u003eParameterization:\\u003c\\u002fem\\u003e\\u003cbr\\u003elr: 0.21133051603679814\\u003cbr\\u003epatience: 16\\u003cbr\\u003edropout_rate: 0.11432710687815022\",\"\\u003cbr\\u003e\\u003cem\\u003eParameterization:\\u003c\\u002fem\\u003e\\u003cbr\\u003elr: 0.04827019629491918\\u003cbr\\u003epatience: 11\\u003cbr\\u003edropout_rate: 0.029168444980038087\",\"\\u003cbr\\u003e\\u003cem\\u003eParameterization:\\u003c\\u002fem\\u003e\\u003cbr\\u003elr: 0.15000463499583722\\u003cbr\\u003epatience: 20\\u003cbr\\u003edropout_rate: 0.14603275317808387\",\"\\u003cbr\\u003e\\u003cem\\u003eParameterization:\\u003c\\u002fem\\u003e\\u003cbr\\u003elr: 1.0\\u003cbr\\u003epatience: 20\\u003cbr\\u003edropout_rate: 0.07219747003552322\",\"\\u003cbr\\u003e\\u003cem\\u003eParameterization:\\u003c\\u002fem\\u003e\\u003cbr\\u003elr: 1.0\\u003cbr\\u003epatience: 11\\u003cbr\\u003edropout_rate: 0.19018063423182255\",\"\\u003cbr\\u003e\\u003cem\\u003eParameterization:\\u003c\\u002fem\\u003e\\u003cbr\\u003elr: 0.05536456924906378\\u003cbr\\u003epatience: 6\\u003cbr\\u003edropout_rate: 0.20676079225466243\",\"\\u003cbr\\u003e\\u003cem\\u003eParameterization:\\u003c\\u002fem\\u003e\\u003cbr\\u003elr: 0.12438175272954682\\u003cbr\\u003epatience: 14\\u003cbr\\u003edropout_rate: 0.01\",\"\\u003cbr\\u003e\\u003cem\\u003eParameterization:\\u003c\\u002fem\\u003e\\u003cbr\\u003elr: 0.008827096665125841\\u003cbr\\u003epatience: 12\\u003cbr\\u003edropout_rate: 0.014333914862230833\",\"\\u003cbr\\u003e\\u003cem\\u003eParameterization:\\u003c\\u002fem\\u003e\\u003cbr\\u003elr: 0.011208090608178135\\u003cbr\\u003epatience: 12\\u003cbr\\u003edropout_rate: 0.15905293155205422\",\"\\u003cbr\\u003e\\u003cem\\u003eParameterization:\\u003c\\u002fem\\u003e\\u003cbr\\u003elr: 0.0007197832224611624\\u003cbr\\u003epatience: 11\\u003cbr\\u003edropout_rate: 0.01\",\"\\u003cbr\\u003e\\u003cem\\u003eParameterization:\\u003c\\u002fem\\u003e\\u003cbr\\u003elr: 0.015551634803797626\\u003cbr\\u003epatience: 8\\u003cbr\\u003edropout_rate: 0.23434807802171176\",\"\\u003cbr\\u003e\\u003cem\\u003eParameterization:\\u003c\\u002fem\\u003e\\u003cbr\\u003elr: 0.4251229240310686\\u003cbr\\u003epatience: 20\\u003cbr\\u003edropout_rate: 0.04517291727824863\",\"\\u003cbr\\u003e\\u003cem\\u003eParameterization:\\u003c\\u002fem\\u003e\\u003cbr\\u003elr: 1.0\\u003cbr\\u003epatience: 20\\u003cbr\\u003edropout_rate: 0.3997368370808694\"],\"x\":[1,2,3,4,5,6,7,8,9,10,11,12,13,14,15,16,17,18,19,20,21,22,23,24,25,26],\"y\":[1.9941480159759521,1.9941480159759521,1.9941480159759521,1.9941480159759521,1.9941480159759521,1.9941480159759521,1.9941480159759521,1.9941480159759521,1.9941480159759521,1.9941480159759521,1.8684684038162231,1.7946385145187378,1.7946385145187378,1.7946385145187378,1.7946385145187378,1.7946385145187378,1.7946385145187378,1.7946385145187378,1.7946385145187378,1.7946385145187378,1.7946385145187378,1.7946385145187378,1.7946385145187378,1.7946385145187378,1.7946385145187378,1.7946385145187378],\"type\":\"scatter\"},{\"fill\":\"tonexty\",\"fillcolor\":\"rgba(128,177,211,0.3)\",\"hoverinfo\":\"none\",\"legendgroup\":\"\",\"line\":{\"width\":0},\"mode\":\"lines\",\"showlegend\":false,\"x\":[1,2,3,4,5,6,7,8,9,10,11,12,13,14,15,16,17,18,19,20,21,22,23,24,25,26],\"y\":[1.9941480159759521,1.9941480159759521,1.9941480159759521,1.9941480159759521,1.9941480159759521,1.9941480159759521,1.9941480159759521,1.9941480159759521,1.9941480159759521,1.9941480159759521,1.8684684038162231,1.7946385145187378,1.7946385145187378,1.7946385145187378,1.7946385145187378,1.7946385145187378,1.7946385145187378,1.7946385145187378,1.7946385145187378,1.7946385145187378,1.7946385145187378,1.7946385145187378,1.7946385145187378,1.7946385145187378,1.7946385145187378,1.7946385145187378],\"type\":\"scatter\"}],                        {\"showlegend\":true,\"template\":{\"data\":{\"barpolar\":[{\"marker\":{\"line\":{\"color\":\"#E5ECF6\",\"width\":0.5},\"pattern\":{\"fillmode\":\"overlay\",\"size\":10,\"solidity\":0.2}},\"type\":\"barpolar\"}],\"bar\":[{\"error_x\":{\"color\":\"#2a3f5f\"},\"error_y\":{\"color\":\"#2a3f5f\"},\"marker\":{\"line\":{\"color\":\"#E5ECF6\",\"width\":0.5},\"pattern\":{\"fillmode\":\"overlay\",\"size\":10,\"solidity\":0.2}},\"type\":\"bar\"}],\"carpet\":[{\"aaxis\":{\"endlinecolor\":\"#2a3f5f\",\"gridcolor\":\"white\",\"linecolor\":\"white\",\"minorgridcolor\":\"white\",\"startlinecolor\":\"#2a3f5f\"},\"baxis\":{\"endlinecolor\":\"#2a3f5f\",\"gridcolor\":\"white\",\"linecolor\":\"white\",\"minorgridcolor\":\"white\",\"startlinecolor\":\"#2a3f5f\"},\"type\":\"carpet\"}],\"choropleth\":[{\"colorbar\":{\"outlinewidth\":0,\"ticks\":\"\"},\"type\":\"choropleth\"}],\"contourcarpet\":[{\"colorbar\":{\"outlinewidth\":0,\"ticks\":\"\"},\"type\":\"contourcarpet\"}],\"contour\":[{\"colorbar\":{\"outlinewidth\":0,\"ticks\":\"\"},\"colorscale\":[[0.0,\"#0d0887\"],[0.1111111111111111,\"#46039f\"],[0.2222222222222222,\"#7201a8\"],[0.3333333333333333,\"#9c179e\"],[0.4444444444444444,\"#bd3786\"],[0.5555555555555556,\"#d8576b\"],[0.6666666666666666,\"#ed7953\"],[0.7777777777777778,\"#fb9f3a\"],[0.8888888888888888,\"#fdca26\"],[1.0,\"#f0f921\"]],\"type\":\"contour\"}],\"heatmapgl\":[{\"colorbar\":{\"outlinewidth\":0,\"ticks\":\"\"},\"colorscale\":[[0.0,\"#0d0887\"],[0.1111111111111111,\"#46039f\"],[0.2222222222222222,\"#7201a8\"],[0.3333333333333333,\"#9c179e\"],[0.4444444444444444,\"#bd3786\"],[0.5555555555555556,\"#d8576b\"],[0.6666666666666666,\"#ed7953\"],[0.7777777777777778,\"#fb9f3a\"],[0.8888888888888888,\"#fdca26\"],[1.0,\"#f0f921\"]],\"type\":\"heatmapgl\"}],\"heatmap\":[{\"colorbar\":{\"outlinewidth\":0,\"ticks\":\"\"},\"colorscale\":[[0.0,\"#0d0887\"],[0.1111111111111111,\"#46039f\"],[0.2222222222222222,\"#7201a8\"],[0.3333333333333333,\"#9c179e\"],[0.4444444444444444,\"#bd3786\"],[0.5555555555555556,\"#d8576b\"],[0.6666666666666666,\"#ed7953\"],[0.7777777777777778,\"#fb9f3a\"],[0.8888888888888888,\"#fdca26\"],[1.0,\"#f0f921\"]],\"type\":\"heatmap\"}],\"histogram2dcontour\":[{\"colorbar\":{\"outlinewidth\":0,\"ticks\":\"\"},\"colorscale\":[[0.0,\"#0d0887\"],[0.1111111111111111,\"#46039f\"],[0.2222222222222222,\"#7201a8\"],[0.3333333333333333,\"#9c179e\"],[0.4444444444444444,\"#bd3786\"],[0.5555555555555556,\"#d8576b\"],[0.6666666666666666,\"#ed7953\"],[0.7777777777777778,\"#fb9f3a\"],[0.8888888888888888,\"#fdca26\"],[1.0,\"#f0f921\"]],\"type\":\"histogram2dcontour\"}],\"histogram2d\":[{\"colorbar\":{\"outlinewidth\":0,\"ticks\":\"\"},\"colorscale\":[[0.0,\"#0d0887\"],[0.1111111111111111,\"#46039f\"],[0.2222222222222222,\"#7201a8\"],[0.3333333333333333,\"#9c179e\"],[0.4444444444444444,\"#bd3786\"],[0.5555555555555556,\"#d8576b\"],[0.6666666666666666,\"#ed7953\"],[0.7777777777777778,\"#fb9f3a\"],[0.8888888888888888,\"#fdca26\"],[1.0,\"#f0f921\"]],\"type\":\"histogram2d\"}],\"histogram\":[{\"marker\":{\"pattern\":{\"fillmode\":\"overlay\",\"size\":10,\"solidity\":0.2}},\"type\":\"histogram\"}],\"mesh3d\":[{\"colorbar\":{\"outlinewidth\":0,\"ticks\":\"\"},\"type\":\"mesh3d\"}],\"parcoords\":[{\"line\":{\"colorbar\":{\"outlinewidth\":0,\"ticks\":\"\"}},\"type\":\"parcoords\"}],\"pie\":[{\"automargin\":true,\"type\":\"pie\"}],\"scatter3d\":[{\"line\":{\"colorbar\":{\"outlinewidth\":0,\"ticks\":\"\"}},\"marker\":{\"colorbar\":{\"outlinewidth\":0,\"ticks\":\"\"}},\"type\":\"scatter3d\"}],\"scattercarpet\":[{\"marker\":{\"colorbar\":{\"outlinewidth\":0,\"ticks\":\"\"}},\"type\":\"scattercarpet\"}],\"scattergeo\":[{\"marker\":{\"colorbar\":{\"outlinewidth\":0,\"ticks\":\"\"}},\"type\":\"scattergeo\"}],\"scattergl\":[{\"marker\":{\"colorbar\":{\"outlinewidth\":0,\"ticks\":\"\"}},\"type\":\"scattergl\"}],\"scattermapbox\":[{\"marker\":{\"colorbar\":{\"outlinewidth\":0,\"ticks\":\"\"}},\"type\":\"scattermapbox\"}],\"scatterpolargl\":[{\"marker\":{\"colorbar\":{\"outlinewidth\":0,\"ticks\":\"\"}},\"type\":\"scatterpolargl\"}],\"scatterpolar\":[{\"marker\":{\"colorbar\":{\"outlinewidth\":0,\"ticks\":\"\"}},\"type\":\"scatterpolar\"}],\"scatter\":[{\"fillpattern\":{\"fillmode\":\"overlay\",\"size\":10,\"solidity\":0.2},\"type\":\"scatter\"}],\"scatterternary\":[{\"marker\":{\"colorbar\":{\"outlinewidth\":0,\"ticks\":\"\"}},\"type\":\"scatterternary\"}],\"surface\":[{\"colorbar\":{\"outlinewidth\":0,\"ticks\":\"\"},\"colorscale\":[[0.0,\"#0d0887\"],[0.1111111111111111,\"#46039f\"],[0.2222222222222222,\"#7201a8\"],[0.3333333333333333,\"#9c179e\"],[0.4444444444444444,\"#bd3786\"],[0.5555555555555556,\"#d8576b\"],[0.6666666666666666,\"#ed7953\"],[0.7777777777777778,\"#fb9f3a\"],[0.8888888888888888,\"#fdca26\"],[1.0,\"#f0f921\"]],\"type\":\"surface\"}],\"table\":[{\"cells\":{\"fill\":{\"color\":\"#EBF0F8\"},\"line\":{\"color\":\"white\"}},\"header\":{\"fill\":{\"color\":\"#C8D4E3\"},\"line\":{\"color\":\"white\"}},\"type\":\"table\"}]},\"layout\":{\"annotationdefaults\":{\"arrowcolor\":\"#2a3f5f\",\"arrowhead\":0,\"arrowwidth\":1},\"autotypenumbers\":\"strict\",\"coloraxis\":{\"colorbar\":{\"outlinewidth\":0,\"ticks\":\"\"}},\"colorscale\":{\"diverging\":[[0,\"#8e0152\"],[0.1,\"#c51b7d\"],[0.2,\"#de77ae\"],[0.3,\"#f1b6da\"],[0.4,\"#fde0ef\"],[0.5,\"#f7f7f7\"],[0.6,\"#e6f5d0\"],[0.7,\"#b8e186\"],[0.8,\"#7fbc41\"],[0.9,\"#4d9221\"],[1,\"#276419\"]],\"sequential\":[[0.0,\"#0d0887\"],[0.1111111111111111,\"#46039f\"],[0.2222222222222222,\"#7201a8\"],[0.3333333333333333,\"#9c179e\"],[0.4444444444444444,\"#bd3786\"],[0.5555555555555556,\"#d8576b\"],[0.6666666666666666,\"#ed7953\"],[0.7777777777777778,\"#fb9f3a\"],[0.8888888888888888,\"#fdca26\"],[1.0,\"#f0f921\"]],\"sequentialminus\":[[0.0,\"#0d0887\"],[0.1111111111111111,\"#46039f\"],[0.2222222222222222,\"#7201a8\"],[0.3333333333333333,\"#9c179e\"],[0.4444444444444444,\"#bd3786\"],[0.5555555555555556,\"#d8576b\"],[0.6666666666666666,\"#ed7953\"],[0.7777777777777778,\"#fb9f3a\"],[0.8888888888888888,\"#fdca26\"],[1.0,\"#f0f921\"]]},\"colorway\":[\"#636efa\",\"#EF553B\",\"#00cc96\",\"#ab63fa\",\"#FFA15A\",\"#19d3f3\",\"#FF6692\",\"#B6E880\",\"#FF97FF\",\"#FECB52\"],\"font\":{\"color\":\"#2a3f5f\"},\"geo\":{\"bgcolor\":\"white\",\"lakecolor\":\"white\",\"landcolor\":\"#E5ECF6\",\"showlakes\":true,\"showland\":true,\"subunitcolor\":\"white\"},\"hoverlabel\":{\"align\":\"left\"},\"hovermode\":\"closest\",\"mapbox\":{\"style\":\"light\"},\"paper_bgcolor\":\"white\",\"plot_bgcolor\":\"#E5ECF6\",\"polar\":{\"angularaxis\":{\"gridcolor\":\"white\",\"linecolor\":\"white\",\"ticks\":\"\"},\"bgcolor\":\"#E5ECF6\",\"radialaxis\":{\"gridcolor\":\"white\",\"linecolor\":\"white\",\"ticks\":\"\"}},\"scene\":{\"xaxis\":{\"backgroundcolor\":\"#E5ECF6\",\"gridcolor\":\"white\",\"gridwidth\":2,\"linecolor\":\"white\",\"showbackground\":true,\"ticks\":\"\",\"zerolinecolor\":\"white\"},\"yaxis\":{\"backgroundcolor\":\"#E5ECF6\",\"gridcolor\":\"white\",\"gridwidth\":2,\"linecolor\":\"white\",\"showbackground\":true,\"ticks\":\"\",\"zerolinecolor\":\"white\"},\"zaxis\":{\"backgroundcolor\":\"#E5ECF6\",\"gridcolor\":\"white\",\"gridwidth\":2,\"linecolor\":\"white\",\"showbackground\":true,\"ticks\":\"\",\"zerolinecolor\":\"white\"}},\"shapedefaults\":{\"line\":{\"color\":\"#2a3f5f\"}},\"ternary\":{\"aaxis\":{\"gridcolor\":\"white\",\"linecolor\":\"white\",\"ticks\":\"\"},\"baxis\":{\"gridcolor\":\"white\",\"linecolor\":\"white\",\"ticks\":\"\"},\"bgcolor\":\"#E5ECF6\",\"caxis\":{\"gridcolor\":\"white\",\"linecolor\":\"white\",\"ticks\":\"\"}},\"title\":{\"x\":0.05},\"xaxis\":{\"automargin\":true,\"gridcolor\":\"white\",\"linecolor\":\"white\",\"ticks\":\"\",\"title\":{\"standoff\":15},\"zerolinecolor\":\"white\",\"zerolinewidth\":2},\"yaxis\":{\"automargin\":true,\"gridcolor\":\"white\",\"linecolor\":\"white\",\"ticks\":\"\",\"title\":{\"standoff\":15},\"zerolinecolor\":\"white\",\"zerolinewidth\":2}}},\"title\":{\"text\":\"Best objective found vs. # of iterations\"},\"xaxis\":{\"title\":{\"text\":\"Iteration\"}},\"yaxis\":{\"title\":{\"text\":\"Rmse\"}}},                        {\"responsive\": true}                    ).then(function(){\n",
       "                            \n",
       "var gd = document.getElementById('401d0753-20a5-4326-b748-d7cf9795a41d');\n",
       "var x = new MutationObserver(function (mutations, observer) {{\n",
       "        var display = window.getComputedStyle(gd).display;\n",
       "        if (!display || display === 'none') {{\n",
       "            console.log([gd, 'removed!']);\n",
       "            Plotly.purge(gd);\n",
       "            observer.disconnect();\n",
       "        }}\n",
       "}});\n",
       "\n",
       "// Listen for the removal of the full notebook cells\n",
       "var notebookContainer = gd.closest('#notebook-container');\n",
       "if (notebookContainer) {{\n",
       "    x.observe(notebookContainer, {childList: true});\n",
       "}}\n",
       "\n",
       "// Listen for the clearing of the current output cell\n",
       "var outputEl = gd.closest('.output');\n",
       "if (outputEl) {{\n",
       "    x.observe(outputEl, {childList: true});\n",
       "}}\n",
       "\n",
       "                        })                };                });            </script>        </div>"
      ]
     },
     "metadata": {},
     "output_type": "display_data"
    }
   ],
   "source": [
    "render(\n",
    "    ax_client.get_optimization_trace()\n",
    ")  "
   ]
  },
  {
   "cell_type": "code",
   "execution_count": 81,
   "metadata": {},
   "outputs": [
    {
     "name": "stderr",
     "output_type": "stream",
     "text": [
      "[WARNING 11-01 18:24:45] ax.service.utils.report_utils: Column reason missing for all trials. Not appending column.\n"
     ]
    }
   ],
   "source": [
    "ax_client.get_trials_data_frame().to_csv(\"../data/optimization_results/FFNN_optimization.csv\")"
   ]
  },
  {
   "cell_type": "code",
   "execution_count": null,
   "metadata": {},
   "outputs": [],
   "source": []
  }
 ],
 "metadata": {
  "kernelspec": {
   "display_name": ".venv",
   "language": "python",
   "name": "python3"
  },
  "language_info": {
   "codemirror_mode": {
    "name": "ipython",
    "version": 3
   },
   "file_extension": ".py",
   "mimetype": "text/x-python",
   "name": "python",
   "nbconvert_exporter": "python",
   "pygments_lexer": "ipython3",
   "version": "3.11.2"
  }
 },
 "nbformat": 4,
 "nbformat_minor": 2
}
