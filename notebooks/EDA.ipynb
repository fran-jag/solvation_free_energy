{
 "cells": [
  {
   "cell_type": "code",
   "execution_count": 11,
   "metadata": {},
   "outputs": [],
   "source": [
    "import pandas as pd\n",
    "from rdkit import Chem\n"
   ]
  },
  {
   "cell_type": "code",
   "execution_count": 12,
   "metadata": {},
   "outputs": [],
   "source": [
    "data = pd.read_csv('../data/SAMPL.csv')"
   ]
  },
  {
   "cell_type": "code",
   "execution_count": 13,
   "metadata": {},
   "outputs": [
    {
     "data": {
      "text/html": [
       "<div>\n",
       "<style scoped>\n",
       "    .dataframe tbody tr th:only-of-type {\n",
       "        vertical-align: middle;\n",
       "    }\n",
       "\n",
       "    .dataframe tbody tr th {\n",
       "        vertical-align: top;\n",
       "    }\n",
       "\n",
       "    .dataframe thead th {\n",
       "        text-align: right;\n",
       "    }\n",
       "</style>\n",
       "<table border=\"1\" class=\"dataframe\">\n",
       "  <thead>\n",
       "    <tr style=\"text-align: right;\">\n",
       "      <th></th>\n",
       "      <th>iupac</th>\n",
       "      <th>smiles</th>\n",
       "      <th>expt</th>\n",
       "      <th>calc</th>\n",
       "      <th>rdkit_mol</th>\n",
       "    </tr>\n",
       "  </thead>\n",
       "  <tbody>\n",
       "    <tr>\n",
       "      <th>0</th>\n",
       "      <td>4-methoxy-N,N-dimethyl-benzamide</td>\n",
       "      <td>CN(C)C(=O)c1ccc(cc1)OC</td>\n",
       "      <td>-11.01</td>\n",
       "      <td>-9.625</td>\n",
       "      <td>&lt;rdkit.Chem.rdchem.Mol object at 0x7f0856b41850&gt;</td>\n",
       "    </tr>\n",
       "    <tr>\n",
       "      <th>1</th>\n",
       "      <td>methanesulfonyl chloride</td>\n",
       "      <td>CS(=O)(=O)Cl</td>\n",
       "      <td>-4.87</td>\n",
       "      <td>-6.219</td>\n",
       "      <td>&lt;rdkit.Chem.rdchem.Mol object at 0x7f0856b418c0&gt;</td>\n",
       "    </tr>\n",
       "    <tr>\n",
       "      <th>2</th>\n",
       "      <td>3-methylbut-1-ene</td>\n",
       "      <td>CC(C)C=C</td>\n",
       "      <td>1.83</td>\n",
       "      <td>2.452</td>\n",
       "      <td>&lt;rdkit.Chem.rdchem.Mol object at 0x7f0856b41930&gt;</td>\n",
       "    </tr>\n",
       "    <tr>\n",
       "      <th>3</th>\n",
       "      <td>2-ethylpyrazine</td>\n",
       "      <td>CCc1cnccn1</td>\n",
       "      <td>-5.45</td>\n",
       "      <td>-5.809</td>\n",
       "      <td>&lt;rdkit.Chem.rdchem.Mol object at 0x7f0856b419a0&gt;</td>\n",
       "    </tr>\n",
       "    <tr>\n",
       "      <th>4</th>\n",
       "      <td>heptan-1-ol</td>\n",
       "      <td>CCCCCCCO</td>\n",
       "      <td>-4.21</td>\n",
       "      <td>-2.917</td>\n",
       "      <td>&lt;rdkit.Chem.rdchem.Mol object at 0x7f0856b41a10&gt;</td>\n",
       "    </tr>\n",
       "  </tbody>\n",
       "</table>\n",
       "</div>"
      ],
      "text/plain": [
       "                              iupac                  smiles   expt   calc  \\\n",
       "0  4-methoxy-N,N-dimethyl-benzamide  CN(C)C(=O)c1ccc(cc1)OC -11.01 -9.625   \n",
       "1          methanesulfonyl chloride            CS(=O)(=O)Cl  -4.87 -6.219   \n",
       "2                 3-methylbut-1-ene                CC(C)C=C   1.83  2.452   \n",
       "3                   2-ethylpyrazine              CCc1cnccn1  -5.45 -5.809   \n",
       "4                       heptan-1-ol                CCCCCCCO  -4.21 -2.917   \n",
       "\n",
       "                                          rdkit_mol  \n",
       "0  <rdkit.Chem.rdchem.Mol object at 0x7f0856b41850>  \n",
       "1  <rdkit.Chem.rdchem.Mol object at 0x7f0856b418c0>  \n",
       "2  <rdkit.Chem.rdchem.Mol object at 0x7f0856b41930>  \n",
       "3  <rdkit.Chem.rdchem.Mol object at 0x7f0856b419a0>  \n",
       "4  <rdkit.Chem.rdchem.Mol object at 0x7f0856b41a10>  "
      ]
     },
     "execution_count": 13,
     "metadata": {},
     "output_type": "execute_result"
    }
   ],
   "source": [
    "data['rdkit_mol'] = data['smiles'].apply(lambda x: Chem.MolFromSmiles(x))\n",
    "data.head()"
   ]
  },
  {
   "cell_type": "code",
   "execution_count": 14,
   "metadata": {},
   "outputs": [
    {
     "data": {
      "text/html": [
       "<div>\n",
       "<style scoped>\n",
       "    .dataframe tbody tr th:only-of-type {\n",
       "        vertical-align: middle;\n",
       "    }\n",
       "\n",
       "    .dataframe tbody tr th {\n",
       "        vertical-align: top;\n",
       "    }\n",
       "\n",
       "    .dataframe thead th {\n",
       "        text-align: right;\n",
       "    }\n",
       "</style>\n",
       "<table border=\"1\" class=\"dataframe\">\n",
       "  <thead>\n",
       "    <tr style=\"text-align: right;\">\n",
       "      <th></th>\n",
       "      <th>iupac</th>\n",
       "      <th>smiles</th>\n",
       "      <th>expt</th>\n",
       "      <th>calc</th>\n",
       "      <th>rdkit_mol</th>\n",
       "      <th>no_atoms</th>\n",
       "    </tr>\n",
       "  </thead>\n",
       "  <tbody>\n",
       "    <tr>\n",
       "      <th>0</th>\n",
       "      <td>4-methoxy-N,N-dimethyl-benzamide</td>\n",
       "      <td>CN(C)C(=O)c1ccc(cc1)OC</td>\n",
       "      <td>-11.01</td>\n",
       "      <td>-9.625</td>\n",
       "      <td>&lt;rdkit.Chem.rdchem.Mol object at 0x7f0856b41850&gt;</td>\n",
       "      <td>26</td>\n",
       "    </tr>\n",
       "    <tr>\n",
       "      <th>1</th>\n",
       "      <td>methanesulfonyl chloride</td>\n",
       "      <td>CS(=O)(=O)Cl</td>\n",
       "      <td>-4.87</td>\n",
       "      <td>-6.219</td>\n",
       "      <td>&lt;rdkit.Chem.rdchem.Mol object at 0x7f0856b418c0&gt;</td>\n",
       "      <td>8</td>\n",
       "    </tr>\n",
       "    <tr>\n",
       "      <th>2</th>\n",
       "      <td>3-methylbut-1-ene</td>\n",
       "      <td>CC(C)C=C</td>\n",
       "      <td>1.83</td>\n",
       "      <td>2.452</td>\n",
       "      <td>&lt;rdkit.Chem.rdchem.Mol object at 0x7f0856b41930&gt;</td>\n",
       "      <td>15</td>\n",
       "    </tr>\n",
       "    <tr>\n",
       "      <th>3</th>\n",
       "      <td>2-ethylpyrazine</td>\n",
       "      <td>CCc1cnccn1</td>\n",
       "      <td>-5.45</td>\n",
       "      <td>-5.809</td>\n",
       "      <td>&lt;rdkit.Chem.rdchem.Mol object at 0x7f0856b419a0&gt;</td>\n",
       "      <td>16</td>\n",
       "    </tr>\n",
       "    <tr>\n",
       "      <th>4</th>\n",
       "      <td>heptan-1-ol</td>\n",
       "      <td>CCCCCCCO</td>\n",
       "      <td>-4.21</td>\n",
       "      <td>-2.917</td>\n",
       "      <td>&lt;rdkit.Chem.rdchem.Mol object at 0x7f0856b41a10&gt;</td>\n",
       "      <td>24</td>\n",
       "    </tr>\n",
       "  </tbody>\n",
       "</table>\n",
       "</div>"
      ],
      "text/plain": [
       "                              iupac                  smiles   expt   calc  \\\n",
       "0  4-methoxy-N,N-dimethyl-benzamide  CN(C)C(=O)c1ccc(cc1)OC -11.01 -9.625   \n",
       "1          methanesulfonyl chloride            CS(=O)(=O)Cl  -4.87 -6.219   \n",
       "2                 3-methylbut-1-ene                CC(C)C=C   1.83  2.452   \n",
       "3                   2-ethylpyrazine              CCc1cnccn1  -5.45 -5.809   \n",
       "4                       heptan-1-ol                CCCCCCCO  -4.21 -2.917   \n",
       "\n",
       "                                          rdkit_mol  no_atoms  \n",
       "0  <rdkit.Chem.rdchem.Mol object at 0x7f0856b41850>        26  \n",
       "1  <rdkit.Chem.rdchem.Mol object at 0x7f0856b418c0>         8  \n",
       "2  <rdkit.Chem.rdchem.Mol object at 0x7f0856b41930>        15  \n",
       "3  <rdkit.Chem.rdchem.Mol object at 0x7f0856b419a0>        16  \n",
       "4  <rdkit.Chem.rdchem.Mol object at 0x7f0856b41a10>        24  "
      ]
     },
     "execution_count": 14,
     "metadata": {},
     "output_type": "execute_result"
    }
   ],
   "source": [
    "data['no_atoms'] = data['rdkit_mol'].apply(lambda x: len(Chem.AddHs(x).GetAtoms()))\n",
    "data.head()"
   ]
  },
  {
   "cell_type": "code",
   "execution_count": 15,
   "metadata": {},
   "outputs": [
    {
     "data": {
      "text/plain": [
       "<Axes: ylabel='Frequency'>"
      ]
     },
     "execution_count": 15,
     "metadata": {},
     "output_type": "execute_result"
    },
    {
     "data": {
      "image/png": "[encoded data removed]",
      "text/plain": [
       "<Figure size 640x480 with 1 Axes>"
      ]
     },
     "metadata": {},
     "output_type": "display_data"
    }
   ],
   "source": [
    "data['no_atoms'].plot(kind='hist')"
   ]
  },
  {
   "cell_type": "code",
   "execution_count": 16,
   "metadata": {},
   "outputs": [
    {
     "data": {
      "text/plain": [
       "count    642.000000\n",
       "mean      18.088785\n",
       "std        7.129944\n",
       "min        3.000000\n",
       "25%       13.000000\n",
       "50%       17.000000\n",
       "75%       22.000000\n",
       "max       44.000000\n",
       "Name: no_atoms, dtype: float64"
      ]
     },
     "execution_count": 16,
     "metadata": {},
     "output_type": "execute_result"
    }
   ],
   "source": [
    "data['no_atoms'].describe()"
   ]
  },
  {
   "cell_type": "code",
   "execution_count": 17,
   "metadata": {},
   "outputs": [
    {
     "data": {
      "text/plain": [
       "<Axes: xlabel='calc', ylabel='expt'>"
      ]
     },
     "execution_count": 17,
     "metadata": {},
     "output_type": "execute_result"
    },
    {
     "data": {
      "image/png": "[encoded data removed]",
      "text/plain": [
       "<Figure size 640x480 with 1 Axes>"
      ]
     },
     "metadata": {},
     "output_type": "display_data"
    }
   ],
   "source": [
    "import seaborn as sns\n",
    "\n",
    "sns.scatterplot(x='calc', y='expt', data=data)"
   ]
  },
  {
   "cell_type": "code",
   "execution_count": 18,
   "metadata": {},
   "outputs": [
    {
     "name": "stdout",
     "output_type": "stream",
     "text": [
      "MAE: 1.11\n",
      "RMSE: 1.54\n",
      "R²: 0.84\n"
     ]
    }
   ],
   "source": [
    "from sklearn.metrics import r2_score, root_mean_squared_error, mean_absolute_error\n",
    "\n",
    "calc_mae = mean_absolute_error(data['expt'], data['calc'])\n",
    "calc_rmse = root_mean_squared_error(data['expt'], data['calc'])\n",
    "calc_r2score = r2_score(data['expt'], data['calc'])\n",
    "\n",
    "print(f'MAE: {calc_mae:.2f}')\n",
    "print(f'RMSE: {calc_rmse:.2f}')\n",
    "print(f'R²: {calc_r2score:.2f}')\n"
   ]
  },
  {
   "cell_type": "code",
   "execution_count": 19,
   "metadata": {},
   "outputs": [
    {
     "name": "stdout",
     "output_type": "stream",
     "text": [
      "MAE: 1.10\n",
      "RMSE: 1.50\n",
      "R²: 0.85\n"
     ]
    }
   ],
   "source": [
    "train_df = pd.read_csv('../data/train.csv')\n",
    "\n",
    "train_mae = mean_absolute_error(train_df['expt'], train_df['calc'])\n",
    "train_rmse = root_mean_squared_error(train_df['expt'], train_df['calc'])\n",
    "train_r2score = r2_score(train_df['expt'], train_df['calc'])\n",
    "\n",
    "print(f'MAE: {train_mae:.2f}')\n",
    "print(f'RMSE: {train_rmse:.2f}')\n",
    "print(f'R²: {train_r2score:.2f}')"
   ]
  },
  {
   "cell_type": "code",
   "execution_count": 21,
   "metadata": {},
   "outputs": [
    {
     "data": {
      "text/plain": [
       "<Axes: ylabel='Frequency'>"
      ]
     },
     "execution_count": 21,
     "metadata": {},
     "output_type": "execute_result"
    },
    {
     "data": {
      "image/png": "[encoded data removed]",
      "text/plain": [
       "<Figure size 640x480 with 1 Axes>"
      ]
     },
     "metadata": {},
     "output_type": "display_data"
    }
   ],
   "source": [
    "train_df['calc'].plot(kind='hist')"
   ]
  },
  {
   "cell_type": "code",
   "execution_count": 20,
   "metadata": {},
   "outputs": [
    {
     "name": "stdout",
     "output_type": "stream",
     "text": [
      "MAE: 1.18\n",
      "RMSE: 1.71\n",
      "R²: 0.79\n"
     ]
    }
   ],
   "source": [
    "test_df = pd.read_csv('../data/test.csv')\n",
    "\n",
    "test_mae = mean_absolute_error(test_df['expt'], test_df['calc'])\n",
    "test_rmse = root_mean_squared_error(test_df['expt'], test_df['calc'])\n",
    "test_r2score = r2_score(test_df['expt'], test_df['calc'])\n",
    "\n",
    "print(f'MAE: {test_mae:.2f}')\n",
    "print(f'RMSE: {test_rmse:.2f}')\n",
    "print(f'R²: {test_r2score:.2f}')"
   ]
  },
  {
   "cell_type": "code",
   "execution_count": 22,
   "metadata": {},
   "outputs": [
    {
     "data": {
      "text/plain": [
       "<Axes: ylabel='Frequency'>"
      ]
     },
     "execution_count": 22,
     "metadata": {},
     "output_type": "execute_result"
    },
    {
     "data": {
      "image/png": "[encoded data removed]",
      "text/plain": [
       "<Figure size 640x480 with 1 Axes>"
      ]
     },
     "metadata": {},
     "output_type": "display_data"
    }
   ],
   "source": [
    "test_df['calc'].plot(kind='hist')"
   ]
  }
 ],
 "metadata": {
  "kernelspec": {
   "display_name": ".venv",
   "language": "python",
   "name": "python3"
  },
  "language_info": {
   "codemirror_mode": {
    "name": "ipython",
    "version": 3
   },
   "file_extension": ".py",
   "mimetype": "text/x-python",
   "name": "python",
   "nbconvert_exporter": "python",
   "pygments_lexer": "ipython3",
   "version": "3.11.2"
  }
 },
 "nbformat": 4,
 "nbformat_minor": 2
}
